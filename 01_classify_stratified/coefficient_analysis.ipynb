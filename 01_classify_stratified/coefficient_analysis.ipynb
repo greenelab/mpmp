{
 "cells": [
  {
   "cell_type": "markdown",
   "metadata": {},
   "source": [
    "## Analysis of model coefficients"
   ]
  },
  {
   "cell_type": "code",
   "execution_count": 7,
   "metadata": {},
   "outputs": [],
   "source": [
    "import os\n",
    "\n",
    "import numpy as np\n",
    "import pandas as pd\n",
    "import matplotlib.pyplot as plt\n",
    "import seaborn as sns\n",
    "\n",
    "import mpmp.config as cfg\n",
    "import mpmp.utilities.analysis_utilities as au"
   ]
  },
  {
   "cell_type": "code",
   "execution_count": 8,
   "metadata": {},
   "outputs": [],
   "source": [
    "results_dir = os.path.join(cfg.results_dir, 'gene')"
   ]
  },
  {
   "cell_type": "code",
   "execution_count": 9,
   "metadata": {},
   "outputs": [
    {
     "data": {
      "text/html": [
       "<div>\n",
       "<style scoped>\n",
       "    .dataframe tbody tr th:only-of-type {\n",
       "        vertical-align: middle;\n",
       "    }\n",
       "\n",
       "    .dataframe tbody tr th {\n",
       "        vertical-align: top;\n",
       "    }\n",
       "\n",
       "    .dataframe thead th {\n",
       "        text-align: right;\n",
       "    }\n",
       "</style>\n",
       "<table border=\"1\" class=\"dataframe\">\n",
       "  <thead>\n",
       "    <tr style=\"text-align: right;\">\n",
       "      <th></th>\n",
       "      <th>gene</th>\n",
       "      <th>training_data</th>\n",
       "      <th>fold</th>\n",
       "      <th>nz_coefs</th>\n",
       "    </tr>\n",
       "  </thead>\n",
       "  <tbody>\n",
       "    <tr>\n",
       "      <th>2</th>\n",
       "      <td>GNAQ</td>\n",
       "      <td>expression</td>\n",
       "      <td>2</td>\n",
       "      <td>1174</td>\n",
       "    </tr>\n",
       "    <tr>\n",
       "      <th>2</th>\n",
       "      <td>GNAQ</td>\n",
       "      <td>expression</td>\n",
       "      <td>2</td>\n",
       "      <td>730</td>\n",
       "    </tr>\n",
       "    <tr>\n",
       "      <th>2</th>\n",
       "      <td>CBL</td>\n",
       "      <td>expression</td>\n",
       "      <td>2</td>\n",
       "      <td>592</td>\n",
       "    </tr>\n",
       "    <tr>\n",
       "      <th>3</th>\n",
       "      <td>MLH1</td>\n",
       "      <td>expression</td>\n",
       "      <td>3</td>\n",
       "      <td>523</td>\n",
       "    </tr>\n",
       "    <tr>\n",
       "      <th>1</th>\n",
       "      <td>TSHR</td>\n",
       "      <td>methylation</td>\n",
       "      <td>1</td>\n",
       "      <td>521</td>\n",
       "    </tr>\n",
       "    <tr>\n",
       "      <th>1</th>\n",
       "      <td>GATA3</td>\n",
       "      <td>expression</td>\n",
       "      <td>1</td>\n",
       "      <td>486</td>\n",
       "    </tr>\n",
       "    <tr>\n",
       "      <th>3</th>\n",
       "      <td>CBL</td>\n",
       "      <td>expression</td>\n",
       "      <td>3</td>\n",
       "      <td>478</td>\n",
       "    </tr>\n",
       "    <tr>\n",
       "      <th>3</th>\n",
       "      <td>JAK1</td>\n",
       "      <td>expression</td>\n",
       "      <td>3</td>\n",
       "      <td>452</td>\n",
       "    </tr>\n",
       "    <tr>\n",
       "      <th>3</th>\n",
       "      <td>DNMT3A</td>\n",
       "      <td>expression</td>\n",
       "      <td>3</td>\n",
       "      <td>447</td>\n",
       "    </tr>\n",
       "    <tr>\n",
       "      <th>2</th>\n",
       "      <td>GATA3</td>\n",
       "      <td>expression</td>\n",
       "      <td>2</td>\n",
       "      <td>436</td>\n",
       "    </tr>\n",
       "  </tbody>\n",
       "</table>\n",
       "</div>"
      ],
      "text/plain": [
       "     gene training_data  fold  nz_coefs\n",
       "2    GNAQ    expression     2      1174\n",
       "2    GNAQ    expression     2       730\n",
       "2     CBL    expression     2       592\n",
       "3    MLH1    expression     3       523\n",
       "1    TSHR   methylation     1       521\n",
       "1   GATA3    expression     1       486\n",
       "3     CBL    expression     3       478\n",
       "3    JAK1    expression     3       452\n",
       "3  DNMT3A    expression     3       447\n",
       "2   GATA3    expression     2       436"
      ]
     },
     "execution_count": 9,
     "metadata": {},
     "output_type": "execute_result"
    }
   ],
   "source": [
    "coefs_df = pd.DataFrame()\n",
    "for identifier, coefs_list in au.generate_nonzero_coefficients(results_dir):\n",
    "    coefs_list_df = pd.DataFrame({\n",
    "        'gene': identifier.split('_')[0],\n",
    "        'training_data': identifier.split('_')[1],\n",
    "        'fold': list(range(len(coefs_list))),\n",
    "        'nz_coefs': [len(l) for l in coefs_list]\n",
    "    })\n",
    "    coefs_df = pd.concat((coefs_df, coefs_list_df))\n",
    "    \n",
    "coefs_df.sort_values(by='nz_coefs', ascending=False).head(10)"
   ]
  },
  {
   "cell_type": "code",
   "execution_count": 10,
   "metadata": {},
   "outputs": [
    {
     "data": {
      "text/plain": [
       "Text(0.5, 0, 'Number of nonzero coefficients')"
      ]
     },
     "execution_count": 10,
     "metadata": {},
     "output_type": "execute_result"
    },
    {
     "data": {
      "image/png": "[encoded data removed]",
      "text/plain": [
       "<Figure size 432x288 with 1 Axes>"
      ]
     },
     "metadata": {},
     "output_type": "display_data"
    }
   ],
   "source": [
    "sns.set()\n",
    "sns.histplot(data=coefs_df, x='nz_coefs', hue='training_data', element='step')\n",
    "plt.xlabel('Number of nonzero coefficients')"
   ]
  },
  {
   "cell_type": "code",
   "execution_count": 11,
   "metadata": {},
   "outputs": [
    {
     "name": "stderr",
     "output_type": "stream",
     "text": [
      "shapes unequal for CBL, skipping\n",
      "shapes unequal for CDC73, skipping\n",
      "shapes unequal for HNF1A, skipping\n",
      "shapes unequal for MLH1, skipping\n",
      "shapes unequal for PTPN11, skipping\n"
     ]
    },
    {
     "data": {
      "text/html": [
       "<div>\n",
       "<style scoped>\n",
       "    .dataframe tbody tr th:only-of-type {\n",
       "        vertical-align: middle;\n",
       "    }\n",
       "\n",
       "    .dataframe tbody tr th {\n",
       "        vertical-align: top;\n",
       "    }\n",
       "\n",
       "    .dataframe thead th {\n",
       "        text-align: right;\n",
       "    }\n",
       "</style>\n",
       "<table border=\"1\" class=\"dataframe\">\n",
       "  <thead>\n",
       "    <tr style=\"text-align: right;\">\n",
       "      <th></th>\n",
       "      <th>gene</th>\n",
       "      <th>delta_mean</th>\n",
       "      <th>p_value</th>\n",
       "      <th>corr_pval</th>\n",
       "      <th>reject_null</th>\n",
       "    </tr>\n",
       "  </thead>\n",
       "  <tbody>\n",
       "    <tr>\n",
       "      <th>15</th>\n",
       "      <td>BRAF</td>\n",
       "      <td>0.617245</td>\n",
       "      <td>1.121428e-19</td>\n",
       "      <td>1.087785e-17</td>\n",
       "      <td>True</td>\n",
       "    </tr>\n",
       "    <tr>\n",
       "      <th>25</th>\n",
       "      <td>CTNNB1</td>\n",
       "      <td>0.593111</td>\n",
       "      <td>3.305822e-18</td>\n",
       "      <td>1.301609e-16</td>\n",
       "      <td>True</td>\n",
       "    </tr>\n",
       "    <tr>\n",
       "      <th>28</th>\n",
       "      <td>EGFR</td>\n",
       "      <td>0.584966</td>\n",
       "      <td>4.025594e-18</td>\n",
       "      <td>1.301609e-16</td>\n",
       "      <td>True</td>\n",
       "    </tr>\n",
       "    <tr>\n",
       "      <th>72</th>\n",
       "      <td>PIK3CA</td>\n",
       "      <td>0.345058</td>\n",
       "      <td>5.853374e-18</td>\n",
       "      <td>1.419443e-16</td>\n",
       "      <td>True</td>\n",
       "    </tr>\n",
       "    <tr>\n",
       "      <th>5</th>\n",
       "      <td>ARID1A</td>\n",
       "      <td>0.424040</td>\n",
       "      <td>1.412938e-16</td>\n",
       "      <td>2.741100e-15</td>\n",
       "      <td>True</td>\n",
       "    </tr>\n",
       "    <tr>\n",
       "      <th>93</th>\n",
       "      <td>TP53</td>\n",
       "      <td>0.404853</td>\n",
       "      <td>3.483038e-16</td>\n",
       "      <td>5.630911e-15</td>\n",
       "      <td>True</td>\n",
       "    </tr>\n",
       "    <tr>\n",
       "      <th>3</th>\n",
       "      <td>APC</td>\n",
       "      <td>0.582659</td>\n",
       "      <td>8.595405e-16</td>\n",
       "      <td>1.191078e-14</td>\n",
       "      <td>True</td>\n",
       "    </tr>\n",
       "    <tr>\n",
       "      <th>54</th>\n",
       "      <td>KRAS</td>\n",
       "      <td>0.474406</td>\n",
       "      <td>1.442342e-15</td>\n",
       "      <td>1.748840e-14</td>\n",
       "      <td>True</td>\n",
       "    </tr>\n",
       "    <tr>\n",
       "      <th>22</th>\n",
       "      <td>CIC</td>\n",
       "      <td>0.545687</td>\n",
       "      <td>7.647812e-15</td>\n",
       "      <td>8.242642e-14</td>\n",
       "      <td>True</td>\n",
       "    </tr>\n",
       "    <tr>\n",
       "      <th>30</th>\n",
       "      <td>ERBB2</td>\n",
       "      <td>0.571202</td>\n",
       "      <td>1.846692e-14</td>\n",
       "      <td>1.791291e-13</td>\n",
       "      <td>True</td>\n",
       "    </tr>\n",
       "  </tbody>\n",
       "</table>\n",
       "</div>"
      ],
      "text/plain": [
       "      gene  delta_mean       p_value     corr_pval  reject_null\n",
       "15    BRAF    0.617245  1.121428e-19  1.087785e-17         True\n",
       "25  CTNNB1    0.593111  3.305822e-18  1.301609e-16         True\n",
       "28    EGFR    0.584966  4.025594e-18  1.301609e-16         True\n",
       "72  PIK3CA    0.345058  5.853374e-18  1.419443e-16         True\n",
       "5   ARID1A    0.424040  1.412938e-16  2.741100e-15         True\n",
       "93    TP53    0.404853  3.483038e-16  5.630911e-15         True\n",
       "3      APC    0.582659  8.595405e-16  1.191078e-14         True\n",
       "54    KRAS    0.474406  1.442342e-15  1.748840e-14         True\n",
       "22     CIC    0.545687  7.647812e-15  8.242642e-14         True\n",
       "30   ERBB2    0.571202  1.846692e-14  1.791291e-13         True"
      ]
     },
     "execution_count": 11,
     "metadata": {},
     "output_type": "execute_result"
    }
   ],
   "source": [
    "# get gene -> significant predictor info\n",
    "SIG_ALPHA = 0.001 # TODO: store in config?\n",
    "\n",
    "results_df = au.load_stratified_prediction_results(results_dir, 'gene')\n",
    "expression_df = (\n",
    "    results_df[results_df.training_data == 'expression']\n",
    "        .drop(columns=['training_data'])\n",
    ")\n",
    "expression_results_df = au.compare_results(expression_df,\n",
    "                                           identifier='identifier',\n",
    "                                           metric='aupr',\n",
    "                                           correction=True,\n",
    "                                           correction_method='fdr_bh',\n",
    "                                           correction_alpha=SIG_ALPHA,\n",
    "                                           verbose=True)\n",
    "expression_results_df.rename(columns={'identifier': 'gene'}, inplace=True)\n",
    "expression_results_df.sort_values(by='p_value').head(n=10)"
   ]
  },
  {
   "cell_type": "code",
   "execution_count": 12,
   "metadata": {},
   "outputs": [
    {
     "name": "stdout",
     "output_type": "stream",
     "text": [
      "(97, 5)\n"
     ]
    }
   ],
   "source": [
    "print(expression_results_df.shape)"
   ]
  },
  {
   "cell_type": "code",
   "execution_count": 13,
   "metadata": {},
   "outputs": [
    {
     "name": "stdout",
     "output_type": "stream",
     "text": [
      "102\n"
     ]
    }
   ],
   "source": [
    "print(len(coefs_df.gene.unique()))"
   ]
  },
  {
   "cell_type": "code",
   "execution_count": 15,
   "metadata": {},
   "outputs": [
    {
     "name": "stdout",
     "output_type": "stream",
     "text": [
      "(1584, 4)\n",
      "(1536, 8)\n"
     ]
    },
    {
     "data": {
      "text/html": [
       "<div>\n",
       "<style scoped>\n",
       "    .dataframe tbody tr th:only-of-type {\n",
       "        vertical-align: middle;\n",
       "    }\n",
       "\n",
       "    .dataframe tbody tr th {\n",
       "        vertical-align: top;\n",
       "    }\n",
       "\n",
       "    .dataframe thead th {\n",
       "        text-align: right;\n",
       "    }\n",
       "</style>\n",
       "<table border=\"1\" class=\"dataframe\">\n",
       "  <thead>\n",
       "    <tr style=\"text-align: right;\">\n",
       "      <th></th>\n",
       "      <th>gene</th>\n",
       "      <th>training_data</th>\n",
       "      <th>fold</th>\n",
       "      <th>nz_coefs</th>\n",
       "      <th>delta_mean</th>\n",
       "      <th>p_value</th>\n",
       "      <th>corr_pval</th>\n",
       "      <th>reject_null</th>\n",
       "    </tr>\n",
       "  </thead>\n",
       "  <tbody>\n",
       "    <tr>\n",
       "      <th>0</th>\n",
       "      <td>MAP3K1</td>\n",
       "      <td>expression</td>\n",
       "      <td>0</td>\n",
       "      <td>377</td>\n",
       "      <td>0.250817</td>\n",
       "      <td>7.362098e-11</td>\n",
       "      <td>3.400588e-10</td>\n",
       "      <td>True</td>\n",
       "    </tr>\n",
       "    <tr>\n",
       "      <th>1</th>\n",
       "      <td>MAP3K1</td>\n",
       "      <td>expression</td>\n",
       "      <td>1</td>\n",
       "      <td>416</td>\n",
       "      <td>0.250817</td>\n",
       "      <td>7.362098e-11</td>\n",
       "      <td>3.400588e-10</td>\n",
       "      <td>True</td>\n",
       "    </tr>\n",
       "    <tr>\n",
       "      <th>2</th>\n",
       "      <td>MAP3K1</td>\n",
       "      <td>expression</td>\n",
       "      <td>2</td>\n",
       "      <td>165</td>\n",
       "      <td>0.250817</td>\n",
       "      <td>7.362098e-11</td>\n",
       "      <td>3.400588e-10</td>\n",
       "      <td>True</td>\n",
       "    </tr>\n",
       "    <tr>\n",
       "      <th>3</th>\n",
       "      <td>MAP3K1</td>\n",
       "      <td>expression</td>\n",
       "      <td>3</td>\n",
       "      <td>300</td>\n",
       "      <td>0.250817</td>\n",
       "      <td>7.362098e-11</td>\n",
       "      <td>3.400588e-10</td>\n",
       "      <td>True</td>\n",
       "    </tr>\n",
       "    <tr>\n",
       "      <th>4</th>\n",
       "      <td>MAP3K1</td>\n",
       "      <td>methylation</td>\n",
       "      <td>0</td>\n",
       "      <td>37</td>\n",
       "      <td>0.250817</td>\n",
       "      <td>7.362098e-11</td>\n",
       "      <td>3.400588e-10</td>\n",
       "      <td>True</td>\n",
       "    </tr>\n",
       "  </tbody>\n",
       "</table>\n",
       "</div>"
      ],
      "text/plain": [
       "     gene training_data  fold  nz_coefs  delta_mean       p_value  \\\n",
       "0  MAP3K1    expression     0       377    0.250817  7.362098e-11   \n",
       "1  MAP3K1    expression     1       416    0.250817  7.362098e-11   \n",
       "2  MAP3K1    expression     2       165    0.250817  7.362098e-11   \n",
       "3  MAP3K1    expression     3       300    0.250817  7.362098e-11   \n",
       "4  MAP3K1   methylation     0        37    0.250817  7.362098e-11   \n",
       "\n",
       "      corr_pval  reject_null  \n",
       "0  3.400588e-10         True  \n",
       "1  3.400588e-10         True  \n",
       "2  3.400588e-10         True  \n",
       "3  3.400588e-10         True  \n",
       "4  3.400588e-10         True  "
      ]
     },
     "execution_count": 15,
     "metadata": {},
     "output_type": "execute_result"
    }
   ],
   "source": [
    "coefs_sig_df = coefs_df.merge(expression_results_df, how='inner', on='gene')\n",
    "print(coefs_df.shape)\n",
    "print(coefs_sig_df.shape)\n",
    "coefs_sig_df.head()"
   ]
  },
  {
   "cell_type": "code",
   "execution_count": 20,
   "metadata": {},
   "outputs": [
    {
     "data": {
      "text/plain": [
       "Text(0.5, 1.0, 'methylation')"
      ]
     },
     "execution_count": 20,
     "metadata": {},
     "output_type": "execute_result"
    },
    {
     "data": {
      "image/png": "[encoded data removed]",
      "text/plain": [
       "<Figure size 864x288 with 2 Axes>"
      ]
     },
     "metadata": {},
     "output_type": "display_data"
    }
   ],
   "source": [
    "sns.set({'figure.figsize': (12, 4)})\n",
    "fig, axarr = plt.subplots(1, 2)\n",
    "\n",
    "x_max = max(coefs_sig_df.nz_coefs)\n",
    "\n",
    "sns.histplot(data=coefs_sig_df[coefs_sig_df.training_data == 'expression'], \n",
    "             x='nz_coefs', hue='reject_null', element='step', ax=axarr[0])\n",
    "axarr[0].set_xlabel('Number of nonzero coefficients')\n",
    "axarr[0].set_xlim(0, x_max)\n",
    "axarr[0].set_title('expression')\n",
    "sns.histplot(data=coefs_sig_df[coefs_sig_df.training_data == 'methylation'], \n",
    "             x='nz_coefs', hue='reject_null', element='step', ax=axarr[1])\n",
    "axarr[1].set_xlabel('Number of nonzero coefficients')\n",
    "axarr[1].set_xlim(0, x_max)\n",
    "axarr[1].set_title('methylation')"
   ]
  }
 ],
 "metadata": {
  "kernelspec": {
   "display_name": "Python [conda env:mpmp]",
   "language": "python",
   "name": "conda-env-mpmp-py"
  },
  "language_info": {
   "codemirror_mode": {
    "name": "ipython",
    "version": 3
   },
   "file_extension": ".py",
   "mimetype": "text/x-python",
   "name": "python",
   "nbconvert_exporter": "python",
   "pygments_lexer": "ipython3",
   "version": "3.7.9"
  }
 },
 "nbformat": 4,
 "nbformat_minor": 4
}
