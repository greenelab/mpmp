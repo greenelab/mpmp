{
 "cells": [
  {
   "cell_type": "markdown",
   "metadata": {},
   "source": [
    "## Plot cancer type prediction results"
   ]
  },
  {
   "cell_type": "code",
   "execution_count": 1,
   "metadata": {},
   "outputs": [],
   "source": [
    "from pathlib import Path\n",
    "\n",
    "import pandas as pd\n",
    "import matplotlib.pyplot as plt\n",
    "import seaborn as sns\n",
    "\n",
    "import mpmp.config as cfg\n",
    "import mpmp.utilities.analysis_utilities as au"
   ]
  },
  {
   "cell_type": "code",
   "execution_count": 2,
   "metadata": {},
   "outputs": [],
   "source": [
    "results_dir = Path(cfg.results_dir, 'cancer_type').resolve()"
   ]
  },
  {
   "cell_type": "code",
   "execution_count": 4,
   "metadata": {},
   "outputs": [
    {
     "name": "stdout",
     "output_type": "stream",
     "text": [
      "(1584, 9)\n"
     ]
    },
    {
     "data": {
      "text/html": [
       "<div>\n",
       "<style scoped>\n",
       "    .dataframe tbody tr th:only-of-type {\n",
       "        vertical-align: middle;\n",
       "    }\n",
       "\n",
       "    .dataframe tbody tr th {\n",
       "        vertical-align: top;\n",
       "    }\n",
       "\n",
       "    .dataframe thead th {\n",
       "        text-align: right;\n",
       "    }\n",
       "</style>\n",
       "<table border=\"1\" class=\"dataframe\">\n",
       "  <thead>\n",
       "    <tr style=\"text-align: right;\">\n",
       "      <th></th>\n",
       "      <th>auroc</th>\n",
       "      <th>aupr</th>\n",
       "      <th>cancer_type</th>\n",
       "      <th>training_data</th>\n",
       "      <th>signal</th>\n",
       "      <th>seed</th>\n",
       "      <th>data_type</th>\n",
       "      <th>fold</th>\n",
       "      <th>experiment</th>\n",
       "    </tr>\n",
       "  </thead>\n",
       "  <tbody>\n",
       "    <tr>\n",
       "      <th>0</th>\n",
       "      <td>0.98013</td>\n",
       "      <td>0.69226</td>\n",
       "      <td>HNSC</td>\n",
       "      <td>methylation</td>\n",
       "      <td>signal</td>\n",
       "      <td>42</td>\n",
       "      <td>train</td>\n",
       "      <td>0</td>\n",
       "      <td>cancer_type</td>\n",
       "    </tr>\n",
       "    <tr>\n",
       "      <th>1</th>\n",
       "      <td>0.97116</td>\n",
       "      <td>0.56608</td>\n",
       "      <td>HNSC</td>\n",
       "      <td>methylation</td>\n",
       "      <td>signal</td>\n",
       "      <td>42</td>\n",
       "      <td>test</td>\n",
       "      <td>0</td>\n",
       "      <td>cancer_type</td>\n",
       "    </tr>\n",
       "    <tr>\n",
       "      <th>2</th>\n",
       "      <td>0.96767</td>\n",
       "      <td>0.49104</td>\n",
       "      <td>HNSC</td>\n",
       "      <td>methylation</td>\n",
       "      <td>signal</td>\n",
       "      <td>42</td>\n",
       "      <td>cv</td>\n",
       "      <td>0</td>\n",
       "      <td>cancer_type</td>\n",
       "    </tr>\n",
       "    <tr>\n",
       "      <th>3</th>\n",
       "      <td>0.97838</td>\n",
       "      <td>0.63986</td>\n",
       "      <td>HNSC</td>\n",
       "      <td>methylation</td>\n",
       "      <td>signal</td>\n",
       "      <td>42</td>\n",
       "      <td>train</td>\n",
       "      <td>1</td>\n",
       "      <td>cancer_type</td>\n",
       "    </tr>\n",
       "    <tr>\n",
       "      <th>4</th>\n",
       "      <td>0.98098</td>\n",
       "      <td>0.73787</td>\n",
       "      <td>HNSC</td>\n",
       "      <td>methylation</td>\n",
       "      <td>signal</td>\n",
       "      <td>42</td>\n",
       "      <td>test</td>\n",
       "      <td>1</td>\n",
       "      <td>cancer_type</td>\n",
       "    </tr>\n",
       "  </tbody>\n",
       "</table>\n",
       "</div>"
      ],
      "text/plain": [
       "     auroc     aupr cancer_type training_data  signal  seed data_type  fold  \\\n",
       "0  0.98013  0.69226        HNSC   methylation  signal    42     train     0   \n",
       "1  0.97116  0.56608        HNSC   methylation  signal    42      test     0   \n",
       "2  0.96767  0.49104        HNSC   methylation  signal    42        cv     0   \n",
       "3  0.97838  0.63986        HNSC   methylation  signal    42     train     1   \n",
       "4  0.98098  0.73787        HNSC   methylation  signal    42      test     1   \n",
       "\n",
       "    experiment  \n",
       "0  cancer_type  \n",
       "1  cancer_type  \n",
       "2  cancer_type  \n",
       "3  cancer_type  \n",
       "4  cancer_type  "
      ]
     },
     "execution_count": 4,
     "metadata": {},
     "output_type": "execute_result"
    }
   ],
   "source": [
    "results_df = au.load_cancer_type_prediction_results(results_dir, 'cancer_type')\n",
    "print(results_df.shape)\n",
    "results_df.head()"
   ]
  }
 ],
 "metadata": {
  "kernelspec": {
   "display_name": "Python [conda env:mpmp]",
   "language": "python",
   "name": "conda-env-mpmp-py"
  },
  "language_info": {
   "codemirror_mode": {
    "name": "ipython",
    "version": 3
   },
   "file_extension": ".py",
   "mimetype": "text/x-python",
   "name": "python",
   "nbconvert_exporter": "python",
   "pygments_lexer": "ipython3",
   "version": "3.7.9"
  }
 },
 "nbformat": 4,
 "nbformat_minor": 4
}
