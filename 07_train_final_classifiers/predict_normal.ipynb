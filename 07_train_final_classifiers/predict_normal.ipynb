{
 "cells": [
  {
   "cell_type": "markdown",
   "metadata": {},
   "source": [
    "## Use pre-trained models to make predictions on normal tissue samples\n",
    "\n",
    "For some cancer types, TCGA provides samples from normal tissue in addition to the tumor samples (see `01_explore_data/normal_tissue_samples.ipynb`).\n",
    "\n",
    "In this analysis, we want to make predictions on those samples and compare them to our tumor sample predictions.\n",
    "\n",
    "Our assumption is that our models will predict that the normal tissue samples have a low probability of mutation (since they almost certainly do not have somatic mutations in any of the genes of interest)."
   ]
  },
  {
   "cell_type": "code",
   "execution_count": 1,
   "metadata": {},
   "outputs": [],
   "source": [
    "from pathlib import Path\n",
    "import pickle as pkl\n",
    "\n",
    "import numpy as np\n",
    "import pandas as pd\n",
    "import matplotlib.pyplot as plt\n",
    "import seaborn as sns\n",
    "\n",
    "import mpmp.config as cfg\n",
    "import mpmp.utilities.analysis_utilities as au\n",
    "import mpmp.utilities.data_utilities as du\n",
    "import mpmp.utilities.plot_utilities as plu\n",
    "import mpmp.utilities.tcga_utilities as tu\n",
    "\n",
    "%load_ext autoreload\n",
    "%autoreload 2"
   ]
  },
  {
   "cell_type": "code",
   "execution_count": 2,
   "metadata": {},
   "outputs": [
    {
     "name": "stdout",
     "output_type": "stream",
     "text": [
      "['TP53', 'EGFR', 'IDH1', 'PIK3CA', 'SETD2', 'KRAS']\n"
     ]
    }
   ],
   "source": [
    "results_dir = Path(cfg.results_dirs['final'],\n",
    "                   'pilot_genes',\n",
    "                   'gene').resolve()\n",
    "\n",
    "genes = [g.stem for g in results_dir.iterdir() if not g.is_file()]\n",
    "print(genes)"
   ]
  },
  {
   "cell_type": "markdown",
   "metadata": {},
   "source": [
    "### Load pre-trained model"
   ]
  },
  {
   "cell_type": "code",
   "execution_count": 3,
   "metadata": {},
   "outputs": [
    {
     "name": "stdout",
     "output_type": "stream",
     "text": [
      "SGDClassifier(alpha=1.0, class_weight='balanced', l1_ratio=0.05, loss='log',\n",
      "              penalty='elasticnet', random_state=42)\n",
      "(15374,)\n"
     ]
    }
   ],
   "source": [
    "gene = 'SETD2'\n",
    "training_data = 'expression'\n",
    "\n",
    "model_filename = '{}_{}_elasticnet_classify_s42_model.pkl'.format(gene, training_data)\n",
    "\n",
    "with open(str(results_dir / gene / model_filename), 'rb') as f:\n",
    "    model_fit = pkl.load(f)\n",
    "\n",
    "print(model_fit)\n",
    "print(model_fit.feature_names_in_.shape)"
   ]
  },
  {
   "cell_type": "markdown",
   "metadata": {},
   "source": [
    "### Load expression data and sample info"
   ]
  },
  {
   "cell_type": "code",
   "execution_count": 4,
   "metadata": {},
   "outputs": [
    {
     "name": "stdout",
     "output_type": "stream",
     "text": [
      "['Primary Solid Tumor' 'Recurrent Solid Tumor' 'Solid Tissue Normal'\n",
      " 'Additional - New Primary' 'Metastatic'\n",
      " 'Primary Blood Derived Cancer - Peripheral Blood' 'Additional Metastatic']\n"
     ]
    },
    {
     "data": {
      "text/html": [
       "<div>\n",
       "<style scoped>\n",
       "    .dataframe tbody tr th:only-of-type {\n",
       "        vertical-align: middle;\n",
       "    }\n",
       "\n",
       "    .dataframe tbody tr th {\n",
       "        vertical-align: top;\n",
       "    }\n",
       "\n",
       "    .dataframe thead th {\n",
       "        text-align: right;\n",
       "    }\n",
       "</style>\n",
       "<table border=\"1\" class=\"dataframe\">\n",
       "  <thead>\n",
       "    <tr style=\"text-align: right;\">\n",
       "      <th></th>\n",
       "      <th>sample_type</th>\n",
       "      <th>cancer_type</th>\n",
       "      <th>id_for_stratification</th>\n",
       "    </tr>\n",
       "    <tr>\n",
       "      <th>sample_id</th>\n",
       "      <th></th>\n",
       "      <th></th>\n",
       "      <th></th>\n",
       "    </tr>\n",
       "  </thead>\n",
       "  <tbody>\n",
       "    <tr>\n",
       "      <th>TCGA-02-0047-01</th>\n",
       "      <td>Primary Solid Tumor</td>\n",
       "      <td>GBM</td>\n",
       "      <td>GBMPrimary Solid Tumor</td>\n",
       "    </tr>\n",
       "    <tr>\n",
       "      <th>TCGA-02-0055-01</th>\n",
       "      <td>Primary Solid Tumor</td>\n",
       "      <td>GBM</td>\n",
       "      <td>GBMPrimary Solid Tumor</td>\n",
       "    </tr>\n",
       "    <tr>\n",
       "      <th>TCGA-02-2483-01</th>\n",
       "      <td>Primary Solid Tumor</td>\n",
       "      <td>GBM</td>\n",
       "      <td>GBMPrimary Solid Tumor</td>\n",
       "    </tr>\n",
       "    <tr>\n",
       "      <th>TCGA-02-2485-01</th>\n",
       "      <td>Primary Solid Tumor</td>\n",
       "      <td>GBM</td>\n",
       "      <td>GBMPrimary Solid Tumor</td>\n",
       "    </tr>\n",
       "    <tr>\n",
       "      <th>TCGA-02-2486-01</th>\n",
       "      <td>Primary Solid Tumor</td>\n",
       "      <td>GBM</td>\n",
       "      <td>GBMPrimary Solid Tumor</td>\n",
       "    </tr>\n",
       "  </tbody>\n",
       "</table>\n",
       "</div>"
      ],
      "text/plain": [
       "                         sample_type cancer_type   id_for_stratification\n",
       "sample_id                                                               \n",
       "TCGA-02-0047-01  Primary Solid Tumor         GBM  GBMPrimary Solid Tumor\n",
       "TCGA-02-0055-01  Primary Solid Tumor         GBM  GBMPrimary Solid Tumor\n",
       "TCGA-02-2483-01  Primary Solid Tumor         GBM  GBMPrimary Solid Tumor\n",
       "TCGA-02-2485-01  Primary Solid Tumor         GBM  GBMPrimary Solid Tumor\n",
       "TCGA-02-2486-01  Primary Solid Tumor         GBM  GBMPrimary Solid Tumor"
      ]
     },
     "execution_count": 4,
     "metadata": {},
     "output_type": "execute_result"
    }
   ],
   "source": [
    "# load expression sample info, this has tumor/normal labels\n",
    "sample_info_df = du.load_sample_info(training_data)\n",
    "print(sample_info_df.sample_type.unique())\n",
    "sample_info_df.head()"
   ]
  },
  {
   "cell_type": "code",
   "execution_count": 5,
   "metadata": {},
   "outputs": [
    {
     "name": "stderr",
     "output_type": "stream",
     "text": [
      "Loading expression data...\n"
     ]
    },
    {
     "name": "stdout",
     "output_type": "stream",
     "text": [
      "(11060, 15369)\n"
     ]
    },
    {
     "data": {
      "text/html": [
       "<div>\n",
       "<style scoped>\n",
       "    .dataframe tbody tr th:only-of-type {\n",
       "        vertical-align: middle;\n",
       "    }\n",
       "\n",
       "    .dataframe tbody tr th {\n",
       "        vertical-align: top;\n",
       "    }\n",
       "\n",
       "    .dataframe thead th {\n",
       "        text-align: right;\n",
       "    }\n",
       "</style>\n",
       "<table border=\"1\" class=\"dataframe\">\n",
       "  <thead>\n",
       "    <tr style=\"text-align: right;\">\n",
       "      <th></th>\n",
       "      <th>1</th>\n",
       "      <th>100</th>\n",
       "      <th>1000</th>\n",
       "      <th>10000</th>\n",
       "      <th>10001</th>\n",
       "    </tr>\n",
       "    <tr>\n",
       "      <th>sample_id</th>\n",
       "      <th></th>\n",
       "      <th></th>\n",
       "      <th></th>\n",
       "      <th></th>\n",
       "      <th></th>\n",
       "    </tr>\n",
       "  </thead>\n",
       "  <tbody>\n",
       "    <tr>\n",
       "      <th>TCGA-02-0047-01</th>\n",
       "      <td>125.0</td>\n",
       "      <td>136.0</td>\n",
       "      <td>2300.0</td>\n",
       "      <td>1300.0</td>\n",
       "      <td>272.0</td>\n",
       "    </tr>\n",
       "    <tr>\n",
       "      <th>TCGA-02-0055-01</th>\n",
       "      <td>392.0</td>\n",
       "      <td>222.0</td>\n",
       "      <td>1820.0</td>\n",
       "      <td>903.0</td>\n",
       "      <td>321.0</td>\n",
       "    </tr>\n",
       "    <tr>\n",
       "      <th>TCGA-02-2483-01</th>\n",
       "      <td>272.0</td>\n",
       "      <td>256.0</td>\n",
       "      <td>2890.0</td>\n",
       "      <td>1320.0</td>\n",
       "      <td>458.0</td>\n",
       "    </tr>\n",
       "    <tr>\n",
       "      <th>TCGA-02-2485-01</th>\n",
       "      <td>83.9</td>\n",
       "      <td>129.0</td>\n",
       "      <td>6970.0</td>\n",
       "      <td>10100.0</td>\n",
       "      <td>419.0</td>\n",
       "    </tr>\n",
       "    <tr>\n",
       "      <th>TCGA-02-2486-01</th>\n",
       "      <td>108.0</td>\n",
       "      <td>205.0</td>\n",
       "      <td>2250.0</td>\n",
       "      <td>873.0</td>\n",
       "      <td>441.0</td>\n",
       "    </tr>\n",
       "  </tbody>\n",
       "</table>\n",
       "</div>"
      ],
      "text/plain": [
       "                     1    100    1000    10000  10001\n",
       "sample_id                                            \n",
       "TCGA-02-0047-01  125.0  136.0  2300.0   1300.0  272.0\n",
       "TCGA-02-0055-01  392.0  222.0  1820.0    903.0  321.0\n",
       "TCGA-02-2483-01  272.0  256.0  2890.0   1320.0  458.0\n",
       "TCGA-02-2485-01   83.9  129.0  6970.0  10100.0  419.0\n",
       "TCGA-02-2486-01  108.0  205.0  2250.0    873.0  441.0"
      ]
     },
     "execution_count": 5,
     "metadata": {},
     "output_type": "execute_result"
    }
   ],
   "source": [
    "# load expression data\n",
    "data_df = du.load_raw_data('expression', verbose=True)\n",
    "print(data_df.shape)\n",
    "data_df.iloc[:5, :5]"
   ]
  },
  {
   "cell_type": "code",
   "execution_count": 6,
   "metadata": {},
   "outputs": [],
   "source": [
    "# load mutation data\n",
    "pancancer_data = du.load_pancancer_data()\n",
    "(sample_freeze_df,\n",
    " mutation_df,\n",
    " copy_loss_df,\n",
    " copy_gain_df,\n",
    " mut_burden_df) = pancancer_data"
   ]
  },
  {
   "cell_type": "markdown",
   "metadata": {},
   "source": [
    "### Subset expression data to get train and control samples\n",
    "\n",
    "We want to compare predictions made using the trained model on the control samples to predictions on the (tumor-derived) data used to train the model, so we'll load both expression datasets here."
   ]
  },
  {
   "cell_type": "code",
   "execution_count": 7,
   "metadata": {},
   "outputs": [
    {
     "name": "stdout",
     "output_type": "stream",
     "text": [
      "['BLCA', 'KIRC', 'KIRP', 'LUAD']\n"
     ]
    }
   ],
   "source": [
    "# get cancer types that were used to train the model\n",
    "valid_cancer_types = sample_info_df.cancer_type.unique()\n",
    "train_cancer_types = [\n",
    "    f for f in model_fit.feature_names_in_ if f in valid_cancer_types\n",
    "]\n",
    "print(train_cancer_types)"
   ]
  },
  {
   "cell_type": "code",
   "execution_count": 8,
   "metadata": {},
   "outputs": [
    {
     "name": "stdout",
     "output_type": "stream",
     "text": [
      "(1523, 15369)\n"
     ]
    },
    {
     "data": {
      "text/html": [
       "<div>\n",
       "<style scoped>\n",
       "    .dataframe tbody tr th:only-of-type {\n",
       "        vertical-align: middle;\n",
       "    }\n",
       "\n",
       "    .dataframe tbody tr th {\n",
       "        vertical-align: top;\n",
       "    }\n",
       "\n",
       "    .dataframe thead th {\n",
       "        text-align: right;\n",
       "    }\n",
       "</style>\n",
       "<table border=\"1\" class=\"dataframe\">\n",
       "  <thead>\n",
       "    <tr style=\"text-align: right;\">\n",
       "      <th></th>\n",
       "      <th>1</th>\n",
       "      <th>100</th>\n",
       "      <th>1000</th>\n",
       "      <th>10000</th>\n",
       "      <th>10001</th>\n",
       "    </tr>\n",
       "  </thead>\n",
       "  <tbody>\n",
       "    <tr>\n",
       "      <th>TCGA-05-4244-01</th>\n",
       "      <td>26.0</td>\n",
       "      <td>150.0</td>\n",
       "      <td>4.19</td>\n",
       "      <td>948.0</td>\n",
       "      <td>412.0</td>\n",
       "    </tr>\n",
       "    <tr>\n",
       "      <th>TCGA-05-4249-01</th>\n",
       "      <td>120.0</td>\n",
       "      <td>73.1</td>\n",
       "      <td>7.73</td>\n",
       "      <td>174.0</td>\n",
       "      <td>349.0</td>\n",
       "    </tr>\n",
       "    <tr>\n",
       "      <th>TCGA-05-4250-01</th>\n",
       "      <td>50.9</td>\n",
       "      <td>266.0</td>\n",
       "      <td>79.90</td>\n",
       "      <td>760.0</td>\n",
       "      <td>651.0</td>\n",
       "    </tr>\n",
       "    <tr>\n",
       "      <th>TCGA-05-4382-01</th>\n",
       "      <td>146.0</td>\n",
       "      <td>288.0</td>\n",
       "      <td>82.60</td>\n",
       "      <td>477.0</td>\n",
       "      <td>475.0</td>\n",
       "    </tr>\n",
       "    <tr>\n",
       "      <th>TCGA-05-4384-01</th>\n",
       "      <td>127.0</td>\n",
       "      <td>75.1</td>\n",
       "      <td>11.00</td>\n",
       "      <td>305.0</td>\n",
       "      <td>411.0</td>\n",
       "    </tr>\n",
       "  </tbody>\n",
       "</table>\n",
       "</div>"
      ],
      "text/plain": [
       "                     1    100   1000  10000  10001\n",
       "TCGA-05-4244-01   26.0  150.0   4.19  948.0  412.0\n",
       "TCGA-05-4249-01  120.0   73.1   7.73  174.0  349.0\n",
       "TCGA-05-4250-01   50.9  266.0  79.90  760.0  651.0\n",
       "TCGA-05-4382-01  146.0  288.0  82.60  477.0  475.0\n",
       "TCGA-05-4384-01  127.0   75.1  11.00  305.0  411.0"
      ]
     },
     "execution_count": 8,
     "metadata": {},
     "output_type": "execute_result"
    }
   ],
   "source": [
    "# get samples that were used to train the model\n",
    "train_samples = (\n",
    "    sample_info_df[sample_info_df.cancer_type.isin(train_cancer_types)]\n",
    "      .index\n",
    "      .intersection(data_df.index)\n",
    "      .intersection(mut_burden_df.index)\n",
    ")\n",
    "train_data_df = data_df.loc[train_samples, :]\n",
    "print(train_data_df.shape)\n",
    "train_data_df.iloc[:5, :5]"
   ]
  },
  {
   "cell_type": "code",
   "execution_count": 9,
   "metadata": {},
   "outputs": [
    {
     "name": "stdout",
     "output_type": "stream",
     "text": [
      "737\n",
      "Index(['TCGA-06-0675-11', 'TCGA-06-0678-11', 'TCGA-06-0680-11',\n",
      "       'TCGA-06-0681-11', 'TCGA-06-AABW-11'],\n",
      "      dtype='object', name='sample_id')\n"
     ]
    }
   ],
   "source": [
    "# get normal samples that we have expression data for\n",
    "normal_ids = (\n",
    "    sample_info_df[sample_info_df.sample_type.str.contains('Normal')]\n",
    "      .index\n",
    "      .intersection(data_df.index)\n",
    ")\n",
    "print(len(normal_ids))\n",
    "print(normal_ids[:5])"
   ]
  },
  {
   "cell_type": "code",
   "execution_count": 10,
   "metadata": {},
   "outputs": [
    {
     "name": "stdout",
     "output_type": "stream",
     "text": [
      "(737, 15369)\n"
     ]
    },
    {
     "data": {
      "text/html": [
       "<div>\n",
       "<style scoped>\n",
       "    .dataframe tbody tr th:only-of-type {\n",
       "        vertical-align: middle;\n",
       "    }\n",
       "\n",
       "    .dataframe tbody tr th {\n",
       "        vertical-align: top;\n",
       "    }\n",
       "\n",
       "    .dataframe thead th {\n",
       "        text-align: right;\n",
       "    }\n",
       "</style>\n",
       "<table border=\"1\" class=\"dataframe\">\n",
       "  <thead>\n",
       "    <tr style=\"text-align: right;\">\n",
       "      <th></th>\n",
       "      <th>1</th>\n",
       "      <th>100</th>\n",
       "      <th>1000</th>\n",
       "      <th>10000</th>\n",
       "      <th>10001</th>\n",
       "    </tr>\n",
       "    <tr>\n",
       "      <th>sample_id</th>\n",
       "      <th></th>\n",
       "      <th></th>\n",
       "      <th></th>\n",
       "      <th></th>\n",
       "      <th></th>\n",
       "    </tr>\n",
       "  </thead>\n",
       "  <tbody>\n",
       "    <tr>\n",
       "      <th>TCGA-06-0675-11</th>\n",
       "      <td>88.5</td>\n",
       "      <td>43.6</td>\n",
       "      <td>2090.0</td>\n",
       "      <td>3250.0</td>\n",
       "      <td>312.0</td>\n",
       "    </tr>\n",
       "    <tr>\n",
       "      <th>TCGA-06-0678-11</th>\n",
       "      <td>58.5</td>\n",
       "      <td>101.0</td>\n",
       "      <td>2060.0</td>\n",
       "      <td>2490.0</td>\n",
       "      <td>317.0</td>\n",
       "    </tr>\n",
       "    <tr>\n",
       "      <th>TCGA-06-0680-11</th>\n",
       "      <td>80.8</td>\n",
       "      <td>53.7</td>\n",
       "      <td>2170.0</td>\n",
       "      <td>3090.0</td>\n",
       "      <td>291.0</td>\n",
       "    </tr>\n",
       "    <tr>\n",
       "      <th>TCGA-06-0681-11</th>\n",
       "      <td>141.0</td>\n",
       "      <td>148.0</td>\n",
       "      <td>1910.0</td>\n",
       "      <td>2210.0</td>\n",
       "      <td>311.0</td>\n",
       "    </tr>\n",
       "    <tr>\n",
       "      <th>TCGA-06-AABW-11</th>\n",
       "      <td>258.0</td>\n",
       "      <td>208.0</td>\n",
       "      <td>1560.0</td>\n",
       "      <td>786.0</td>\n",
       "      <td>251.0</td>\n",
       "    </tr>\n",
       "  </tbody>\n",
       "</table>\n",
       "</div>"
      ],
      "text/plain": [
       "                     1    100    1000   10000  10001\n",
       "sample_id                                           \n",
       "TCGA-06-0675-11   88.5   43.6  2090.0  3250.0  312.0\n",
       "TCGA-06-0678-11   58.5  101.0  2060.0  2490.0  317.0\n",
       "TCGA-06-0680-11   80.8   53.7  2170.0  3090.0  291.0\n",
       "TCGA-06-0681-11  141.0  148.0  1910.0  2210.0  311.0\n",
       "TCGA-06-AABW-11  258.0  208.0  1560.0   786.0  251.0"
      ]
     },
     "execution_count": 10,
     "metadata": {},
     "output_type": "execute_result"
    }
   ],
   "source": [
    "# get normal expression data\n",
    "normal_data_df = data_df.loc[normal_ids, :]\n",
    "print(normal_data_df.shape)\n",
    "normal_data_df.iloc[:5, :5]"
   ]
  },
  {
   "cell_type": "markdown",
   "metadata": {},
   "source": [
    "### Add covariates for train/normal samples\n",
    "\n",
    "This is a bit nuanced since we don't have mutation calling information for the normal samples, so we can't generate a log(mutation burden) covariate.\n",
    "\n",
    "For now we'll just take the mean mutation burden from the tumor dataset and apply it to all the normal samples."
   ]
  },
  {
   "cell_type": "code",
   "execution_count": 11,
   "metadata": {},
   "outputs": [
    {
     "name": "stdout",
     "output_type": "stream",
     "text": [
      "(9074, 1)\n"
     ]
    },
    {
     "data": {
      "text/html": [
       "<div>\n",
       "<style scoped>\n",
       "    .dataframe tbody tr th:only-of-type {\n",
       "        vertical-align: middle;\n",
       "    }\n",
       "\n",
       "    .dataframe tbody tr th {\n",
       "        vertical-align: top;\n",
       "    }\n",
       "\n",
       "    .dataframe thead th {\n",
       "        text-align: right;\n",
       "    }\n",
       "</style>\n",
       "<table border=\"1\" class=\"dataframe\">\n",
       "  <thead>\n",
       "    <tr style=\"text-align: right;\">\n",
       "      <th></th>\n",
       "      <th>log10_mut</th>\n",
       "    </tr>\n",
       "    <tr>\n",
       "      <th>SAMPLE_BARCODE</th>\n",
       "      <th></th>\n",
       "    </tr>\n",
       "  </thead>\n",
       "  <tbody>\n",
       "    <tr>\n",
       "      <th>TCGA-02-0047-01</th>\n",
       "      <td>1.812913</td>\n",
       "    </tr>\n",
       "    <tr>\n",
       "      <th>TCGA-02-0055-01</th>\n",
       "      <td>1.707570</td>\n",
       "    </tr>\n",
       "    <tr>\n",
       "      <th>TCGA-02-2483-01</th>\n",
       "      <td>1.662758</td>\n",
       "    </tr>\n",
       "    <tr>\n",
       "      <th>TCGA-02-2485-01</th>\n",
       "      <td>1.748188</td>\n",
       "    </tr>\n",
       "    <tr>\n",
       "      <th>TCGA-02-2486-01</th>\n",
       "      <td>1.755875</td>\n",
       "    </tr>\n",
       "  </tbody>\n",
       "</table>\n",
       "</div>"
      ],
      "text/plain": [
       "                 log10_mut\n",
       "SAMPLE_BARCODE            \n",
       "TCGA-02-0047-01   1.812913\n",
       "TCGA-02-0055-01   1.707570\n",
       "TCGA-02-2483-01   1.662758\n",
       "TCGA-02-2485-01   1.748188\n",
       "TCGA-02-2486-01   1.755875"
      ]
     },
     "execution_count": 11,
     "metadata": {},
     "output_type": "execute_result"
    }
   ],
   "source": [
    "print(mut_burden_df.shape)\n",
    "mut_burden_df.head()"
   ]
  },
  {
   "cell_type": "code",
   "execution_count": 12,
   "metadata": {},
   "outputs": [
    {
     "name": "stdout",
     "output_type": "stream",
     "text": [
      "(1523, 3)\n"
     ]
    },
    {
     "data": {
      "text/html": [
       "<div>\n",
       "<style scoped>\n",
       "    .dataframe tbody tr th:only-of-type {\n",
       "        vertical-align: middle;\n",
       "    }\n",
       "\n",
       "    .dataframe tbody tr th {\n",
       "        vertical-align: top;\n",
       "    }\n",
       "\n",
       "    .dataframe thead th {\n",
       "        text-align: right;\n",
       "    }\n",
       "</style>\n",
       "<table border=\"1\" class=\"dataframe\">\n",
       "  <thead>\n",
       "    <tr style=\"text-align: right;\">\n",
       "      <th></th>\n",
       "      <th>log10_mut</th>\n",
       "      <th>sample_type</th>\n",
       "      <th>DISEASE</th>\n",
       "    </tr>\n",
       "  </thead>\n",
       "  <tbody>\n",
       "    <tr>\n",
       "      <th>TCGA-05-4244-01</th>\n",
       "      <td>2.285557</td>\n",
       "      <td>Primary Solid Tumor</td>\n",
       "      <td>LUAD</td>\n",
       "    </tr>\n",
       "    <tr>\n",
       "      <th>TCGA-05-4249-01</th>\n",
       "      <td>2.488551</td>\n",
       "      <td>Primary Solid Tumor</td>\n",
       "      <td>LUAD</td>\n",
       "    </tr>\n",
       "    <tr>\n",
       "      <th>TCGA-05-4250-01</th>\n",
       "      <td>2.502427</td>\n",
       "      <td>Primary Solid Tumor</td>\n",
       "      <td>LUAD</td>\n",
       "    </tr>\n",
       "    <tr>\n",
       "      <th>TCGA-05-4382-01</th>\n",
       "      <td>3.193125</td>\n",
       "      <td>Primary Solid Tumor</td>\n",
       "      <td>LUAD</td>\n",
       "    </tr>\n",
       "    <tr>\n",
       "      <th>TCGA-05-4384-01</th>\n",
       "      <td>2.089905</td>\n",
       "      <td>Primary Solid Tumor</td>\n",
       "      <td>LUAD</td>\n",
       "    </tr>\n",
       "  </tbody>\n",
       "</table>\n",
       "</div>"
      ],
      "text/plain": [
       "                 log10_mut          sample_type DISEASE\n",
       "TCGA-05-4244-01   2.285557  Primary Solid Tumor    LUAD\n",
       "TCGA-05-4249-01   2.488551  Primary Solid Tumor    LUAD\n",
       "TCGA-05-4250-01   2.502427  Primary Solid Tumor    LUAD\n",
       "TCGA-05-4382-01   3.193125  Primary Solid Tumor    LUAD\n",
       "TCGA-05-4384-01   2.089905  Primary Solid Tumor    LUAD"
      ]
     },
     "execution_count": 12,
     "metadata": {},
     "output_type": "execute_result"
    }
   ],
   "source": [
    "# construct covariate matrix for train samples\n",
    "train_info_df = (\n",
    "    mut_burden_df.loc[train_samples, :]\n",
    "      .merge(sample_info_df, left_index=True, right_index=True)    \n",
    "      .drop(columns={'id_for_stratification'})\n",
    "      .rename(columns={'cancer_type': 'DISEASE'})\n",
    ")\n",
    "print(train_info_df.shape)\n",
    "train_info_df.head()"
   ]
  },
  {
   "cell_type": "code",
   "execution_count": 13,
   "metadata": {},
   "outputs": [
    {
     "name": "stdout",
     "output_type": "stream",
     "text": [
      "log10_mut    1.834867\n",
      "dtype: float64\n"
     ]
    }
   ],
   "source": [
    "mean_mutation_burden = mut_burden_df.sum() / mut_burden_df.shape[0]\n",
    "print(mean_mutation_burden)"
   ]
  },
  {
   "cell_type": "code",
   "execution_count": 14,
   "metadata": {},
   "outputs": [
    {
     "name": "stdout",
     "output_type": "stream",
     "text": [
      "(737, 3)\n"
     ]
    },
    {
     "data": {
      "text/html": [
       "<div>\n",
       "<style scoped>\n",
       "    .dataframe tbody tr th:only-of-type {\n",
       "        vertical-align: middle;\n",
       "    }\n",
       "\n",
       "    .dataframe tbody tr th {\n",
       "        vertical-align: top;\n",
       "    }\n",
       "\n",
       "    .dataframe thead th {\n",
       "        text-align: right;\n",
       "    }\n",
       "</style>\n",
       "<table border=\"1\" class=\"dataframe\">\n",
       "  <thead>\n",
       "    <tr style=\"text-align: right;\">\n",
       "      <th></th>\n",
       "      <th>log10_mut</th>\n",
       "      <th>sample_type</th>\n",
       "      <th>DISEASE</th>\n",
       "    </tr>\n",
       "    <tr>\n",
       "      <th>sample_id</th>\n",
       "      <th></th>\n",
       "      <th></th>\n",
       "      <th></th>\n",
       "    </tr>\n",
       "  </thead>\n",
       "  <tbody>\n",
       "    <tr>\n",
       "      <th>TCGA-06-0675-11</th>\n",
       "      <td>1.834867</td>\n",
       "      <td>Solid Tissue Normal</td>\n",
       "      <td>GBM</td>\n",
       "    </tr>\n",
       "    <tr>\n",
       "      <th>TCGA-06-0678-11</th>\n",
       "      <td>1.834867</td>\n",
       "      <td>Solid Tissue Normal</td>\n",
       "      <td>GBM</td>\n",
       "    </tr>\n",
       "    <tr>\n",
       "      <th>TCGA-06-0680-11</th>\n",
       "      <td>1.834867</td>\n",
       "      <td>Solid Tissue Normal</td>\n",
       "      <td>GBM</td>\n",
       "    </tr>\n",
       "    <tr>\n",
       "      <th>TCGA-06-0681-11</th>\n",
       "      <td>1.834867</td>\n",
       "      <td>Solid Tissue Normal</td>\n",
       "      <td>GBM</td>\n",
       "    </tr>\n",
       "    <tr>\n",
       "      <th>TCGA-06-AABW-11</th>\n",
       "      <td>1.834867</td>\n",
       "      <td>Solid Tissue Normal</td>\n",
       "      <td>GBM</td>\n",
       "    </tr>\n",
       "  </tbody>\n",
       "</table>\n",
       "</div>"
      ],
      "text/plain": [
       "                 log10_mut          sample_type DISEASE\n",
       "sample_id                                              \n",
       "TCGA-06-0675-11   1.834867  Solid Tissue Normal     GBM\n",
       "TCGA-06-0678-11   1.834867  Solid Tissue Normal     GBM\n",
       "TCGA-06-0680-11   1.834867  Solid Tissue Normal     GBM\n",
       "TCGA-06-0681-11   1.834867  Solid Tissue Normal     GBM\n",
       "TCGA-06-AABW-11   1.834867  Solid Tissue Normal     GBM"
      ]
     },
     "execution_count": 14,
     "metadata": {},
     "output_type": "execute_result"
    }
   ],
   "source": [
    "# construct covariate matrix for normal samples\n",
    "normal_info_df = pd.DataFrame(\n",
    "    {'log10_mut': mean_mutation_burden.values[0]},\n",
    "    index=normal_ids\n",
    ")\n",
    "# add cancer type info for normal samples\n",
    "normal_info_df = (normal_info_df\n",
    "    .merge(sample_info_df, left_index=True, right_index=True)    \n",
    "    .drop(columns={'id_for_stratification'})\n",
    "    .rename(columns={'cancer_type': 'DISEASE'})\n",
    ")\n",
    "print(normal_info_df.shape)\n",
    "normal_info_df.head()"
   ]
  },
  {
   "cell_type": "code",
   "execution_count": 15,
   "metadata": {},
   "outputs": [],
   "source": [
    "def add_dummies_from_model(data_df, info_df, model):\n",
    "    \"\"\"TODO: document what info_df looks like, etc\"\"\"\n",
    "    # get cancer type covariates used in original model,\n",
    "    # in the correct order\n",
    "    cov_matrix = np.zeros((info_df.shape[0], len(train_cancer_types)))\n",
    "    for sample_ix, (_, row) in enumerate(info_df.iterrows()):\n",
    "        try:\n",
    "            row_cancer_type = row.DISEASE\n",
    "            cov_ix = train_cancer_types.index(row_cancer_type)\n",
    "            cov_matrix[sample_ix, cov_ix] = 1\n",
    "        except ValueError:\n",
    "            # if cancer type is not in train set (e.g. for a normal sample),\n",
    "            # just leave it an all-zeros row\n",
    "            continue\n",
    "    mut_burden = info_df.log10_mut.values.reshape(-1, 1)\n",
    "    feature_matrix = np.concatenate(\n",
    "        (data_df, mut_burden, cov_matrix),\n",
    "        axis=1\n",
    "    )\n",
    "    X_df = pd.DataFrame(\n",
    "        feature_matrix,\n",
    "        index=data_df.index.copy(),\n",
    "        columns=model.feature_names_in_[:]\n",
    "    )\n",
    "    return X_df"
   ]
  },
  {
   "cell_type": "code",
   "execution_count": 16,
   "metadata": {},
   "outputs": [],
   "source": [
    "X_train_df = add_dummies_from_model(train_data_df,\n",
    "                                    train_info_df,\n",
    "                                    model_fit)"
   ]
  },
  {
   "cell_type": "code",
   "execution_count": 17,
   "metadata": {},
   "outputs": [
    {
     "name": "stdout",
     "output_type": "stream",
     "text": [
      "(737, 15374)\n"
     ]
    },
    {
     "data": {
      "text/html": [
       "<div>\n",
       "<style scoped>\n",
       "    .dataframe tbody tr th:only-of-type {\n",
       "        vertical-align: middle;\n",
       "    }\n",
       "\n",
       "    .dataframe tbody tr th {\n",
       "        vertical-align: top;\n",
       "    }\n",
       "\n",
       "    .dataframe thead th {\n",
       "        text-align: right;\n",
       "    }\n",
       "</style>\n",
       "<table border=\"1\" class=\"dataframe\">\n",
       "  <thead>\n",
       "    <tr style=\"text-align: right;\">\n",
       "      <th></th>\n",
       "      <th>998</th>\n",
       "      <th>9980</th>\n",
       "      <th>9984</th>\n",
       "      <th>9985</th>\n",
       "      <th>9986</th>\n",
       "      <th>9987</th>\n",
       "      <th>9988</th>\n",
       "      <th>9989</th>\n",
       "      <th>999</th>\n",
       "      <th>9990</th>\n",
       "      <th>9991</th>\n",
       "      <th>9992</th>\n",
       "      <th>9993</th>\n",
       "      <th>9994</th>\n",
       "      <th>9997</th>\n",
       "      <th>log10_mut</th>\n",
       "      <th>BLCA</th>\n",
       "      <th>KIRC</th>\n",
       "      <th>KIRP</th>\n",
       "      <th>LUAD</th>\n",
       "    </tr>\n",
       "    <tr>\n",
       "      <th>sample_id</th>\n",
       "      <th></th>\n",
       "      <th></th>\n",
       "      <th></th>\n",
       "      <th></th>\n",
       "      <th></th>\n",
       "      <th></th>\n",
       "      <th></th>\n",
       "      <th></th>\n",
       "      <th></th>\n",
       "      <th></th>\n",
       "      <th></th>\n",
       "      <th></th>\n",
       "      <th></th>\n",
       "      <th></th>\n",
       "      <th></th>\n",
       "      <th></th>\n",
       "      <th></th>\n",
       "      <th></th>\n",
       "      <th></th>\n",
       "      <th></th>\n",
       "    </tr>\n",
       "  </thead>\n",
       "  <tbody>\n",
       "    <tr>\n",
       "      <th>TCGA-06-0675-11</th>\n",
       "      <td>3650.0</td>\n",
       "      <td>829.0</td>\n",
       "      <td>175.0</td>\n",
       "      <td>386.0</td>\n",
       "      <td>120.0</td>\n",
       "      <td>4990.0</td>\n",
       "      <td>769.0</td>\n",
       "      <td>653.0</td>\n",
       "      <td>51.7</td>\n",
       "      <td>1150.0</td>\n",
       "      <td>623.0</td>\n",
       "      <td>13.90</td>\n",
       "      <td>5230.0</td>\n",
       "      <td>288.0</td>\n",
       "      <td>393.0</td>\n",
       "      <td>1.834867</td>\n",
       "      <td>0.0</td>\n",
       "      <td>0.0</td>\n",
       "      <td>0.0</td>\n",
       "      <td>0.0</td>\n",
       "    </tr>\n",
       "    <tr>\n",
       "      <th>TCGA-06-0678-11</th>\n",
       "      <td>4120.0</td>\n",
       "      <td>778.0</td>\n",
       "      <td>226.0</td>\n",
       "      <td>183.0</td>\n",
       "      <td>141.0</td>\n",
       "      <td>5040.0</td>\n",
       "      <td>854.0</td>\n",
       "      <td>728.0</td>\n",
       "      <td>104.0</td>\n",
       "      <td>1100.0</td>\n",
       "      <td>626.0</td>\n",
       "      <td>7.46</td>\n",
       "      <td>3530.0</td>\n",
       "      <td>257.0</td>\n",
       "      <td>410.0</td>\n",
       "      <td>1.834867</td>\n",
       "      <td>0.0</td>\n",
       "      <td>0.0</td>\n",
       "      <td>0.0</td>\n",
       "      <td>0.0</td>\n",
       "    </tr>\n",
       "    <tr>\n",
       "      <th>TCGA-06-0680-11</th>\n",
       "      <td>3590.0</td>\n",
       "      <td>898.0</td>\n",
       "      <td>229.0</td>\n",
       "      <td>333.0</td>\n",
       "      <td>118.0</td>\n",
       "      <td>4770.0</td>\n",
       "      <td>901.0</td>\n",
       "      <td>616.0</td>\n",
       "      <td>50.5</td>\n",
       "      <td>1290.0</td>\n",
       "      <td>584.0</td>\n",
       "      <td>13.40</td>\n",
       "      <td>4520.0</td>\n",
       "      <td>284.0</td>\n",
       "      <td>389.0</td>\n",
       "      <td>1.834867</td>\n",
       "      <td>0.0</td>\n",
       "      <td>0.0</td>\n",
       "      <td>0.0</td>\n",
       "      <td>0.0</td>\n",
       "    </tr>\n",
       "    <tr>\n",
       "      <th>TCGA-06-0681-11</th>\n",
       "      <td>3850.0</td>\n",
       "      <td>632.0</td>\n",
       "      <td>294.0</td>\n",
       "      <td>374.0</td>\n",
       "      <td>174.0</td>\n",
       "      <td>5150.0</td>\n",
       "      <td>838.0</td>\n",
       "      <td>646.0</td>\n",
       "      <td>97.9</td>\n",
       "      <td>1070.0</td>\n",
       "      <td>551.0</td>\n",
       "      <td>12.00</td>\n",
       "      <td>5300.0</td>\n",
       "      <td>223.0</td>\n",
       "      <td>526.0</td>\n",
       "      <td>1.834867</td>\n",
       "      <td>0.0</td>\n",
       "      <td>0.0</td>\n",
       "      <td>0.0</td>\n",
       "      <td>0.0</td>\n",
       "    </tr>\n",
       "    <tr>\n",
       "      <th>TCGA-06-AABW-11</th>\n",
       "      <td>5230.0</td>\n",
       "      <td>366.0</td>\n",
       "      <td>441.0</td>\n",
       "      <td>425.0</td>\n",
       "      <td>184.0</td>\n",
       "      <td>6640.0</td>\n",
       "      <td>1200.0</td>\n",
       "      <td>857.0</td>\n",
       "      <td>607.0</td>\n",
       "      <td>1400.0</td>\n",
       "      <td>338.0</td>\n",
       "      <td>9.05</td>\n",
       "      <td>4570.0</td>\n",
       "      <td>320.0</td>\n",
       "      <td>285.0</td>\n",
       "      <td>1.834867</td>\n",
       "      <td>0.0</td>\n",
       "      <td>0.0</td>\n",
       "      <td>0.0</td>\n",
       "      <td>0.0</td>\n",
       "    </tr>\n",
       "  </tbody>\n",
       "</table>\n",
       "</div>"
      ],
      "text/plain": [
       "                    998   9980   9984   9985   9986    9987    9988   9989  \\\n",
       "sample_id                                                                    \n",
       "TCGA-06-0675-11  3650.0  829.0  175.0  386.0  120.0  4990.0   769.0  653.0   \n",
       "TCGA-06-0678-11  4120.0  778.0  226.0  183.0  141.0  5040.0   854.0  728.0   \n",
       "TCGA-06-0680-11  3590.0  898.0  229.0  333.0  118.0  4770.0   901.0  616.0   \n",
       "TCGA-06-0681-11  3850.0  632.0  294.0  374.0  174.0  5150.0   838.0  646.0   \n",
       "TCGA-06-AABW-11  5230.0  366.0  441.0  425.0  184.0  6640.0  1200.0  857.0   \n",
       "\n",
       "                   999    9990   9991   9992    9993   9994   9997  log10_mut  \\\n",
       "sample_id                                                                       \n",
       "TCGA-06-0675-11   51.7  1150.0  623.0  13.90  5230.0  288.0  393.0   1.834867   \n",
       "TCGA-06-0678-11  104.0  1100.0  626.0   7.46  3530.0  257.0  410.0   1.834867   \n",
       "TCGA-06-0680-11   50.5  1290.0  584.0  13.40  4520.0  284.0  389.0   1.834867   \n",
       "TCGA-06-0681-11   97.9  1070.0  551.0  12.00  5300.0  223.0  526.0   1.834867   \n",
       "TCGA-06-AABW-11  607.0  1400.0  338.0   9.05  4570.0  320.0  285.0   1.834867   \n",
       "\n",
       "                 BLCA  KIRC  KIRP  LUAD  \n",
       "sample_id                                \n",
       "TCGA-06-0675-11   0.0   0.0   0.0   0.0  \n",
       "TCGA-06-0678-11   0.0   0.0   0.0   0.0  \n",
       "TCGA-06-0680-11   0.0   0.0   0.0   0.0  \n",
       "TCGA-06-0681-11   0.0   0.0   0.0   0.0  \n",
       "TCGA-06-AABW-11   0.0   0.0   0.0   0.0  "
      ]
     },
     "execution_count": 17,
     "metadata": {},
     "output_type": "execute_result"
    }
   ],
   "source": [
    "X_normal_df = add_dummies_from_model(normal_data_df,\n",
    "                                     normal_info_df,\n",
    "                                     model_fit)\n",
    "print(X_normal_df.shape)\n",
    "X_normal_df.iloc[:5, -20:]"
   ]
  },
  {
   "cell_type": "markdown",
   "metadata": {},
   "source": [
    "### Preprocessing for train/normal samples\n",
    "\n",
    "We want to do the following for preprocessing:\n",
    "\n",
    "* Make sure we're using the same set of gene features that the model was trained on (or subset to those gene features if not)\n",
    "* Standardize the train/normal samples (we'll do this for each dataset independently, for now)"
   ]
  },
  {
   "cell_type": "code",
   "execution_count": 18,
   "metadata": {},
   "outputs": [
    {
     "name": "stdout",
     "output_type": "stream",
     "text": [
      "['1', '100', '1000', '10000', '10001']\n",
      "['9991', '9992', '9993', '9994', '9997']\n"
     ]
    }
   ],
   "source": [
    "non_gene_features = list(valid_cancer_types) + ['log10_mut']\n",
    "train_gene_features = [\n",
    "    f for f in model_fit.feature_names_in_ if f not in non_gene_features\n",
    "]\n",
    "print(train_gene_features[:5])\n",
    "print(train_gene_features[-5:])"
   ]
  },
  {
   "cell_type": "code",
   "execution_count": 19,
   "metadata": {},
   "outputs": [
    {
     "name": "stdout",
     "output_type": "stream",
     "text": [
      "[ True  True  True  True  True]\n",
      "[False False False False False]\n",
      "15369\n"
     ]
    }
   ],
   "source": [
    "# we don't want to standardize the non-gene features\n",
    "is_gene_feature = np.array(\n",
    "    [(f in train_gene_features) for f in model_fit.feature_names_in_]\n",
    ")\n",
    "print(is_gene_feature[:5])\n",
    "print(is_gene_feature[-5:])\n",
    "print(sum(is_gene_feature))"
   ]
  },
  {
   "cell_type": "code",
   "execution_count": 20,
   "metadata": {},
   "outputs": [
    {
     "data": {
      "text/html": [
       "<div>\n",
       "<style scoped>\n",
       "    .dataframe tbody tr th:only-of-type {\n",
       "        vertical-align: middle;\n",
       "    }\n",
       "\n",
       "    .dataframe tbody tr th {\n",
       "        vertical-align: top;\n",
       "    }\n",
       "\n",
       "    .dataframe thead th {\n",
       "        text-align: right;\n",
       "    }\n",
       "</style>\n",
       "<table border=\"1\" class=\"dataframe\">\n",
       "  <thead>\n",
       "    <tr style=\"text-align: right;\">\n",
       "      <th></th>\n",
       "      <th>1</th>\n",
       "      <th>100</th>\n",
       "      <th>1000</th>\n",
       "      <th>10000</th>\n",
       "      <th>10001</th>\n",
       "    </tr>\n",
       "  </thead>\n",
       "  <tbody>\n",
       "    <tr>\n",
       "      <th>TCGA-05-4244-01</th>\n",
       "      <td>-0.282278</td>\n",
       "      <td>-0.321493</td>\n",
       "      <td>-0.761408</td>\n",
       "      <td>0.390861</td>\n",
       "      <td>0.364897</td>\n",
       "    </tr>\n",
       "    <tr>\n",
       "      <th>TCGA-05-4249-01</th>\n",
       "      <td>0.057032</td>\n",
       "      <td>-0.593912</td>\n",
       "      <td>-0.758731</td>\n",
       "      <td>-0.812048</td>\n",
       "      <td>-0.051142</td>\n",
       "    </tr>\n",
       "    <tr>\n",
       "      <th>TCGA-05-4250-01</th>\n",
       "      <td>-0.192397</td>\n",
       "      <td>0.089439</td>\n",
       "      <td>-0.704154</td>\n",
       "      <td>0.098681</td>\n",
       "      <td>1.943205</td>\n",
       "    </tr>\n",
       "    <tr>\n",
       "      <th>TCGA-05-4382-01</th>\n",
       "      <td>0.150884</td>\n",
       "      <td>0.167374</td>\n",
       "      <td>-0.702113</td>\n",
       "      <td>-0.341142</td>\n",
       "      <td>0.780936</td>\n",
       "    </tr>\n",
       "    <tr>\n",
       "      <th>TCGA-05-4384-01</th>\n",
       "      <td>0.082300</td>\n",
       "      <td>-0.586827</td>\n",
       "      <td>-0.756258</td>\n",
       "      <td>-0.608455</td>\n",
       "      <td>0.358293</td>\n",
       "    </tr>\n",
       "  </tbody>\n",
       "</table>\n",
       "</div>"
      ],
      "text/plain": [
       "                        1       100      1000     10000     10001\n",
       "TCGA-05-4244-01 -0.282278 -0.321493 -0.761408  0.390861  0.364897\n",
       "TCGA-05-4249-01  0.057032 -0.593912 -0.758731 -0.812048 -0.051142\n",
       "TCGA-05-4250-01 -0.192397  0.089439 -0.704154  0.098681  1.943205\n",
       "TCGA-05-4382-01  0.150884  0.167374 -0.702113 -0.341142  0.780936\n",
       "TCGA-05-4384-01  0.082300 -0.586827 -0.756258 -0.608455  0.358293"
      ]
     },
     "execution_count": 20,
     "metadata": {},
     "output_type": "execute_result"
    }
   ],
   "source": [
    "X_train_std_df = tu.standardize_features(X_train_df, is_gene_feature)\n",
    "X_train_std_df.iloc[:5, :5]"
   ]
  },
  {
   "cell_type": "code",
   "execution_count": 21,
   "metadata": {},
   "outputs": [
    {
     "data": {
      "text/html": [
       "<div>\n",
       "<style scoped>\n",
       "    .dataframe tbody tr th:only-of-type {\n",
       "        vertical-align: middle;\n",
       "    }\n",
       "\n",
       "    .dataframe tbody tr th {\n",
       "        vertical-align: top;\n",
       "    }\n",
       "\n",
       "    .dataframe thead th {\n",
       "        text-align: right;\n",
       "    }\n",
       "</style>\n",
       "<table border=\"1\" class=\"dataframe\">\n",
       "  <thead>\n",
       "    <tr style=\"text-align: right;\">\n",
       "      <th></th>\n",
       "      <th>1</th>\n",
       "      <th>100</th>\n",
       "      <th>1000</th>\n",
       "      <th>10000</th>\n",
       "      <th>10001</th>\n",
       "    </tr>\n",
       "    <tr>\n",
       "      <th>sample_id</th>\n",
       "      <th></th>\n",
       "      <th></th>\n",
       "      <th></th>\n",
       "      <th></th>\n",
       "      <th></th>\n",
       "    </tr>\n",
       "  </thead>\n",
       "  <tbody>\n",
       "    <tr>\n",
       "      <th>TCGA-06-0675-11</th>\n",
       "      <td>-0.282489</td>\n",
       "      <td>-0.225114</td>\n",
       "      <td>1.746405</td>\n",
       "      <td>3.626160</td>\n",
       "      <td>-0.019419</td>\n",
       "    </tr>\n",
       "    <tr>\n",
       "      <th>TCGA-06-0678-11</th>\n",
       "      <td>-0.283591</td>\n",
       "      <td>-0.124853</td>\n",
       "      <td>1.712948</td>\n",
       "      <td>2.419237</td>\n",
       "      <td>0.040312</td>\n",
       "    </tr>\n",
       "    <tr>\n",
       "      <th>TCGA-06-0680-11</th>\n",
       "      <td>-0.282772</td>\n",
       "      <td>-0.207472</td>\n",
       "      <td>1.835622</td>\n",
       "      <td>3.372071</td>\n",
       "      <td>-0.270289</td>\n",
       "    </tr>\n",
       "    <tr>\n",
       "      <th>TCGA-06-0681-11</th>\n",
       "      <td>-0.280561</td>\n",
       "      <td>-0.042758</td>\n",
       "      <td>1.545664</td>\n",
       "      <td>1.974581</td>\n",
       "      <td>-0.031365</td>\n",
       "    </tr>\n",
       "    <tr>\n",
       "      <th>TCGA-06-AABW-11</th>\n",
       "      <td>-0.276264</td>\n",
       "      <td>0.062043</td>\n",
       "      <td>1.155336</td>\n",
       "      <td>-0.286811</td>\n",
       "      <td>-0.748137</td>\n",
       "    </tr>\n",
       "  </tbody>\n",
       "</table>\n",
       "</div>"
      ],
      "text/plain": [
       "                        1       100      1000     10000     10001\n",
       "sample_id                                                        \n",
       "TCGA-06-0675-11 -0.282489 -0.225114  1.746405  3.626160 -0.019419\n",
       "TCGA-06-0678-11 -0.283591 -0.124853  1.712948  2.419237  0.040312\n",
       "TCGA-06-0680-11 -0.282772 -0.207472  1.835622  3.372071 -0.270289\n",
       "TCGA-06-0681-11 -0.280561 -0.042758  1.545664  1.974581 -0.031365\n",
       "TCGA-06-AABW-11 -0.276264  0.062043  1.155336 -0.286811 -0.748137"
      ]
     },
     "execution_count": 21,
     "metadata": {},
     "output_type": "execute_result"
    }
   ],
   "source": [
    "X_normal_std_df = tu.standardize_features(X_normal_df, is_gene_feature)\n",
    "X_normal_std_df.iloc[:5, :5]"
   ]
  },
  {
   "cell_type": "markdown",
   "metadata": {},
   "source": [
    "### Make predictions and visualize results"
   ]
  },
  {
   "cell_type": "code",
   "execution_count": 22,
   "metadata": {},
   "outputs": [
    {
     "name": "stdout",
     "output_type": "stream",
     "text": [
      "(1523,)\n",
      "(737,)\n"
     ]
    }
   ],
   "source": [
    "y_train_preds = model_fit.predict_proba(X_train_std_df)[:, 1]\n",
    "y_normal_preds = model_fit.predict_proba(X_normal_std_df)[:, 1]\n",
    "\n",
    "print(y_train_preds.shape)\n",
    "print(y_normal_preds.shape)"
   ]
  },
  {
   "cell_type": "code",
   "execution_count": 23,
   "metadata": {},
   "outputs": [
    {
     "name": "stdout",
     "output_type": "stream",
     "text": [
      "SETD2 TSG\n"
     ]
    },
    {
     "data": {
      "text/plain": [
       "TCGA-05-4244-01    0\n",
       "TCGA-05-4249-01    0\n",
       "TCGA-05-4250-01    0\n",
       "TCGA-05-4382-01    0\n",
       "TCGA-05-4384-01    0\n",
       "Name: SETD2, dtype: int64"
      ]
     },
     "execution_count": 23,
     "metadata": {},
     "output_type": "execute_result"
    }
   ],
   "source": [
    "def get_mutations_for_gene(gene, classification, samples):\n",
    "    # get classification\n",
    "    # build labels\n",
    "    classification = du.get_classification(gene)\n",
    "    print(gene, classification)\n",
    "    gene_mutation_df = mutation_df.loc[:, gene]\n",
    "    if classification == \"Oncogene\":\n",
    "        copy_number_df = copy_gain_df.loc[:, gene]\n",
    "    elif classification == \"TSG\":\n",
    "        copy_number_df = copy_loss_df.loc[:, gene]\n",
    "    elif classification == \"Oncogene, TSG\":\n",
    "        # some genes may act as both (i.e. in a cancer type-specific\n",
    "        # or tissue-specific manner), in this case we'll just use the\n",
    "        # union of the gain/loss dfs to define positive labeled samples\n",
    "        copy_number_df = (\n",
    "            copy_gain_df.loc[:, gene] | copy_loss_df.loc[:, gene]\n",
    "        )\n",
    "    else:\n",
    "        copy_number_df = pd.DataFrame()\n",
    "        include_copy = False\n",
    "    # subset and return\n",
    "    y_df = copy_number_df + gene_mutation_df\n",
    "    return y_df.reindex(samples)\n",
    "    \n",
    "y_train_labels = get_mutations_for_gene(gene, 'Oncogene', X_train_std_df.index)\n",
    "y_train_labels.head()"
   ]
  },
  {
   "cell_type": "code",
   "execution_count": 24,
   "metadata": {},
   "outputs": [
    {
     "data": {
      "text/html": [
       "<div>\n",
       "<style scoped>\n",
       "    .dataframe tbody tr th:only-of-type {\n",
       "        vertical-align: middle;\n",
       "    }\n",
       "\n",
       "    .dataframe tbody tr th {\n",
       "        vertical-align: top;\n",
       "    }\n",
       "\n",
       "    .dataframe thead th {\n",
       "        text-align: right;\n",
       "    }\n",
       "</style>\n",
       "<table border=\"1\" class=\"dataframe\">\n",
       "  <thead>\n",
       "    <tr style=\"text-align: right;\">\n",
       "      <th></th>\n",
       "      <th>pred</th>\n",
       "      <th>dataset</th>\n",
       "    </tr>\n",
       "  </thead>\n",
       "  <tbody>\n",
       "    <tr>\n",
       "      <th>0</th>\n",
       "      <td>0.371177</td>\n",
       "      <td>tumor, not mutated</td>\n",
       "    </tr>\n",
       "    <tr>\n",
       "      <th>1</th>\n",
       "      <td>0.268242</td>\n",
       "      <td>tumor, not mutated</td>\n",
       "    </tr>\n",
       "    <tr>\n",
       "      <th>2</th>\n",
       "      <td>0.387161</td>\n",
       "      <td>tumor, not mutated</td>\n",
       "    </tr>\n",
       "    <tr>\n",
       "      <th>3</th>\n",
       "      <td>0.334640</td>\n",
       "      <td>tumor, not mutated</td>\n",
       "    </tr>\n",
       "    <tr>\n",
       "      <th>4</th>\n",
       "      <td>0.208178</td>\n",
       "      <td>tumor, not mutated</td>\n",
       "    </tr>\n",
       "  </tbody>\n",
       "</table>\n",
       "</div>"
      ],
      "text/plain": [
       "       pred             dataset\n",
       "0  0.371177  tumor, not mutated\n",
       "1  0.268242  tumor, not mutated\n",
       "2  0.387161  tumor, not mutated\n",
       "3  0.334640  tumor, not mutated\n",
       "4  0.208178  tumor, not mutated"
      ]
     },
     "execution_count": 24,
     "metadata": {},
     "output_type": "execute_result"
    }
   ],
   "source": [
    "def get_name(ix):\n",
    "    if y_train_labels[ix] == 1:\n",
    "        return 'tumor, mutated'\n",
    "    else:\n",
    "        return 'tumor, not mutated'\n",
    "    \n",
    "train_names = [get_name(ix) for ix in X_train_std_df.index]\n",
    "plot_df = pd.DataFrame(\n",
    "    {'pred': np.concatenate((y_train_preds, y_normal_preds)),\n",
    "     'dataset': (train_names) + (['normal'] * y_normal_preds.shape[0])}\n",
    ")\n",
    "plot_df.head()"
   ]
  },
  {
   "cell_type": "code",
   "execution_count": 25,
   "metadata": {},
   "outputs": [
    {
     "data": {
      "text/plain": [
       "Text(0, 0.5, 'Predicted mutation probability')"
      ]
     },
     "execution_count": 25,
     "metadata": {},
     "output_type": "execute_result"
    },
    {
     "data": {
      "image/png": "[encoded data removed]",
      "text/plain": [
       "<Figure size 576x432 with 1 Axes>"
      ]
     },
     "metadata": {},
     "output_type": "display_data"
    }
   ],
   "source": [
    "sns.set({'figure.figsize': (8, 6)})\n",
    "\n",
    "sns.violinplot(data=plot_df, x='dataset', y='pred', cut=0)\n",
    "plt.title('Tumor vs. normal predictions, {}'.format(gene))\n",
    "plt.ylim((-0.1, 1.1))\n",
    "plt.xlabel('')\n",
    "plt.ylabel('Predicted mutation probability')"
   ]
  }
 ],
 "metadata": {
  "kernelspec": {
   "display_name": "Python [conda env:mpmp]",
   "language": "python",
   "name": "conda-env-mpmp-py"
  },
  "language_info": {
   "codemirror_mode": {
    "name": "ipython",
    "version": 3
   },
   "file_extension": ".py",
   "mimetype": "text/x-python",
   "name": "python",
   "nbconvert_exporter": "python",
   "pygments_lexer": "ipython3",
   "version": "3.7.12"
  }
 },
 "nbformat": 4,
 "nbformat_minor": 4
}
