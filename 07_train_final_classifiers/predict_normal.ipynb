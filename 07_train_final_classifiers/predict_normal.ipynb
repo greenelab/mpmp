{
 "cells": [
  {
   "cell_type": "markdown",
   "metadata": {},
   "source": [
    "## Use pre-trained models to make predictions on normal tissue samples\n",
    "\n",
    "For some cancer types, TCGA provides samples from normal tissue in addition to the tumor samples (see `01_explore_data/normal_tissue_samples.ipynb`).\n",
    "\n",
    "In this analysis, we want to make predictions on those samples and compare them to our tumor sample predictions.\n",
    "\n",
    "Our assumption is that our models will predict that the normal tissue samples have a low probability of mutation (since they almost certainly do not have somatic mutations in any of the genes of interest)."
   ]
  },
  {
   "cell_type": "code",
   "execution_count": 6,
   "metadata": {},
   "outputs": [
    {
     "name": "stdout",
     "output_type": "stream",
     "text": [
      "The autoreload extension is already loaded. To reload it, use:\n",
      "  %reload_ext autoreload\n"
     ]
    }
   ],
   "source": [
    "from pathlib import Path\n",
    "\n",
    "import numpy as np\n",
    "import pandas as pd\n",
    "import matplotlib.pyplot as plt\n",
    "import seaborn as sns\n",
    "\n",
    "import mpmp.config as cfg\n",
    "import mpmp.utilities.analysis_utilities as au\n",
    "import mpmp.utilities.data_utilities as du\n",
    "import mpmp.utilities.plot_utilities as plu\n",
    "\n",
    "%load_ext autoreload\n",
    "%autoreload 2"
   ]
  },
  {
   "cell_type": "code",
   "execution_count": 7,
   "metadata": {},
   "outputs": [
    {
     "name": "stdout",
     "output_type": "stream",
     "text": [
      "['TP53', 'EGFR', 'IDH1', 'PIK3CA', 'SETD2', 'KRAS']\n"
     ]
    }
   ],
   "source": [
    "results_dir = Path(cfg.results_dirs['final'],\n",
    "                   'pilot_genes',\n",
    "                   'gene').resolve()\n",
    "\n",
    "genes = [g.stem for g in results_dir.iterdir() if not g.is_file()]\n",
    "print(genes)"
   ]
  },
  {
   "cell_type": "code",
   "execution_count": 8,
   "metadata": {},
   "outputs": [
    {
     "name": "stdout",
     "output_type": "stream",
     "text": [
      "['Primary Solid Tumor' 'Recurrent Solid Tumor' 'Solid Tissue Normal'\n",
      " 'Additional - New Primary' 'Metastatic'\n",
      " 'Primary Blood Derived Cancer - Peripheral Blood' 'Additional Metastatic']\n"
     ]
    },
    {
     "data": {
      "text/html": [
       "<div>\n",
       "<style scoped>\n",
       "    .dataframe tbody tr th:only-of-type {\n",
       "        vertical-align: middle;\n",
       "    }\n",
       "\n",
       "    .dataframe tbody tr th {\n",
       "        vertical-align: top;\n",
       "    }\n",
       "\n",
       "    .dataframe thead th {\n",
       "        text-align: right;\n",
       "    }\n",
       "</style>\n",
       "<table border=\"1\" class=\"dataframe\">\n",
       "  <thead>\n",
       "    <tr style=\"text-align: right;\">\n",
       "      <th></th>\n",
       "      <th>sample_type</th>\n",
       "      <th>cancer_type</th>\n",
       "      <th>id_for_stratification</th>\n",
       "    </tr>\n",
       "    <tr>\n",
       "      <th>sample_id</th>\n",
       "      <th></th>\n",
       "      <th></th>\n",
       "      <th></th>\n",
       "    </tr>\n",
       "  </thead>\n",
       "  <tbody>\n",
       "    <tr>\n",
       "      <th>TCGA-02-0047-01</th>\n",
       "      <td>Primary Solid Tumor</td>\n",
       "      <td>GBM</td>\n",
       "      <td>GBMPrimary Solid Tumor</td>\n",
       "    </tr>\n",
       "    <tr>\n",
       "      <th>TCGA-02-0055-01</th>\n",
       "      <td>Primary Solid Tumor</td>\n",
       "      <td>GBM</td>\n",
       "      <td>GBMPrimary Solid Tumor</td>\n",
       "    </tr>\n",
       "    <tr>\n",
       "      <th>TCGA-02-2483-01</th>\n",
       "      <td>Primary Solid Tumor</td>\n",
       "      <td>GBM</td>\n",
       "      <td>GBMPrimary Solid Tumor</td>\n",
       "    </tr>\n",
       "    <tr>\n",
       "      <th>TCGA-02-2485-01</th>\n",
       "      <td>Primary Solid Tumor</td>\n",
       "      <td>GBM</td>\n",
       "      <td>GBMPrimary Solid Tumor</td>\n",
       "    </tr>\n",
       "    <tr>\n",
       "      <th>TCGA-02-2486-01</th>\n",
       "      <td>Primary Solid Tumor</td>\n",
       "      <td>GBM</td>\n",
       "      <td>GBMPrimary Solid Tumor</td>\n",
       "    </tr>\n",
       "  </tbody>\n",
       "</table>\n",
       "</div>"
      ],
      "text/plain": [
       "                         sample_type cancer_type   id_for_stratification\n",
       "sample_id                                                               \n",
       "TCGA-02-0047-01  Primary Solid Tumor         GBM  GBMPrimary Solid Tumor\n",
       "TCGA-02-0055-01  Primary Solid Tumor         GBM  GBMPrimary Solid Tumor\n",
       "TCGA-02-2483-01  Primary Solid Tumor         GBM  GBMPrimary Solid Tumor\n",
       "TCGA-02-2485-01  Primary Solid Tumor         GBM  GBMPrimary Solid Tumor\n",
       "TCGA-02-2486-01  Primary Solid Tumor         GBM  GBMPrimary Solid Tumor"
      ]
     },
     "execution_count": 8,
     "metadata": {},
     "output_type": "execute_result"
    }
   ],
   "source": [
    "# load expression sample info, this has tumor/normal labels\n",
    "sample_info_df = du.load_sample_info('expression')\n",
    "print(sample_info_df.sample_type.unique())\n",
    "sample_info_df.head()"
   ]
  },
  {
   "cell_type": "code",
   "execution_count": 9,
   "metadata": {},
   "outputs": [
    {
     "name": "stderr",
     "output_type": "stream",
     "text": [
      "Loading expression data...\n"
     ]
    },
    {
     "name": "stdout",
     "output_type": "stream",
     "text": [
      "(11060, 15369)\n"
     ]
    },
    {
     "data": {
      "text/html": [
       "<div>\n",
       "<style scoped>\n",
       "    .dataframe tbody tr th:only-of-type {\n",
       "        vertical-align: middle;\n",
       "    }\n",
       "\n",
       "    .dataframe tbody tr th {\n",
       "        vertical-align: top;\n",
       "    }\n",
       "\n",
       "    .dataframe thead th {\n",
       "        text-align: right;\n",
       "    }\n",
       "</style>\n",
       "<table border=\"1\" class=\"dataframe\">\n",
       "  <thead>\n",
       "    <tr style=\"text-align: right;\">\n",
       "      <th></th>\n",
       "      <th>1</th>\n",
       "      <th>100</th>\n",
       "      <th>1000</th>\n",
       "      <th>10000</th>\n",
       "      <th>10001</th>\n",
       "    </tr>\n",
       "    <tr>\n",
       "      <th>sample_id</th>\n",
       "      <th></th>\n",
       "      <th></th>\n",
       "      <th></th>\n",
       "      <th></th>\n",
       "      <th></th>\n",
       "    </tr>\n",
       "  </thead>\n",
       "  <tbody>\n",
       "    <tr>\n",
       "      <th>TCGA-02-0047-01</th>\n",
       "      <td>125.0</td>\n",
       "      <td>136.0</td>\n",
       "      <td>2300.0</td>\n",
       "      <td>1300.0</td>\n",
       "      <td>272.0</td>\n",
       "    </tr>\n",
       "    <tr>\n",
       "      <th>TCGA-02-0055-01</th>\n",
       "      <td>392.0</td>\n",
       "      <td>222.0</td>\n",
       "      <td>1820.0</td>\n",
       "      <td>903.0</td>\n",
       "      <td>321.0</td>\n",
       "    </tr>\n",
       "    <tr>\n",
       "      <th>TCGA-02-2483-01</th>\n",
       "      <td>272.0</td>\n",
       "      <td>256.0</td>\n",
       "      <td>2890.0</td>\n",
       "      <td>1320.0</td>\n",
       "      <td>458.0</td>\n",
       "    </tr>\n",
       "    <tr>\n",
       "      <th>TCGA-02-2485-01</th>\n",
       "      <td>83.9</td>\n",
       "      <td>129.0</td>\n",
       "      <td>6970.0</td>\n",
       "      <td>10100.0</td>\n",
       "      <td>419.0</td>\n",
       "    </tr>\n",
       "    <tr>\n",
       "      <th>TCGA-02-2486-01</th>\n",
       "      <td>108.0</td>\n",
       "      <td>205.0</td>\n",
       "      <td>2250.0</td>\n",
       "      <td>873.0</td>\n",
       "      <td>441.0</td>\n",
       "    </tr>\n",
       "  </tbody>\n",
       "</table>\n",
       "</div>"
      ],
      "text/plain": [
       "                     1    100    1000    10000  10001\n",
       "sample_id                                            \n",
       "TCGA-02-0047-01  125.0  136.0  2300.0   1300.0  272.0\n",
       "TCGA-02-0055-01  392.0  222.0  1820.0    903.0  321.0\n",
       "TCGA-02-2483-01  272.0  256.0  2890.0   1320.0  458.0\n",
       "TCGA-02-2485-01   83.9  129.0  6970.0  10100.0  419.0\n",
       "TCGA-02-2486-01  108.0  205.0  2250.0    873.0  441.0"
      ]
     },
     "execution_count": 9,
     "metadata": {},
     "output_type": "execute_result"
    }
   ],
   "source": [
    "# load expression data\n",
    "data_df = du.load_raw_data('expression', verbose=True)\n",
    "print(data_df.shape)\n",
    "data_df.iloc[:5, :5]"
   ]
  },
  {
   "cell_type": "code",
   "execution_count": 11,
   "metadata": {},
   "outputs": [
    {
     "name": "stdout",
     "output_type": "stream",
     "text": [
      "737\n",
      "Index(['TCGA-06-0675-11', 'TCGA-06-0678-11', 'TCGA-06-0680-11',\n",
      "       'TCGA-06-0681-11', 'TCGA-06-AABW-11'],\n",
      "      dtype='object', name='sample_id')\n"
     ]
    }
   ],
   "source": [
    "normal_ids = (\n",
    "    sample_info_df[sample_info_df.sample_type.str.contains('Normal')]\n",
    "      .index\n",
    "      .intersection(data_df.index)\n",
    ")\n",
    "print(len(normal_ids))\n",
    "print(normal_ids[:5])"
   ]
  }
 ],
 "metadata": {
  "kernelspec": {
   "display_name": "Python [conda env:mpmp]",
   "language": "python",
   "name": "conda-env-mpmp-py"
  },
  "language_info": {
   "codemirror_mode": {
    "name": "ipython",
    "version": 3
   },
   "file_extension": ".py",
   "mimetype": "text/x-python",
   "name": "python",
   "nbconvert_exporter": "python",
   "pygments_lexer": "ipython3",
   "version": "3.7.12"
  }
 },
 "nbformat": 4,
 "nbformat_minor": 4
}
