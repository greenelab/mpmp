{
 "cells": [
  {
   "cell_type": "markdown",
   "metadata": {},
   "source": [
    "## Use pre-trained models to make predictions on normal tissue samples\n",
    "\n",
    "For some cancer types, TCGA provides samples from normal tissue in addition to the tumor samples (see `01_explore_data/normal_tissue_samples.ipynb`).\n",
    "\n",
    "In this analysis, we want to make predictions on those samples and compare them to our tumor sample predictions.\n",
    "\n",
    "Our assumption is that our models will predict that the normal tissue samples have a low probability of mutation (since they almost certainly do not have somatic mutations in any of the genes of interest)."
   ]
  },
  {
   "cell_type": "code",
   "execution_count": 18,
   "metadata": {},
   "outputs": [
    {
     "name": "stdout",
     "output_type": "stream",
     "text": [
      "The autoreload extension is already loaded. To reload it, use:\n",
      "  %reload_ext autoreload\n"
     ]
    }
   ],
   "source": [
    "from pathlib import Path\n",
    "import pickle as pkl\n",
    "\n",
    "import numpy as np\n",
    "import pandas as pd\n",
    "import matplotlib.pyplot as plt\n",
    "import seaborn as sns\n",
    "\n",
    "import mpmp.config as cfg\n",
    "import mpmp.utilities.analysis_utilities as au\n",
    "import mpmp.utilities.data_utilities as du\n",
    "import mpmp.utilities.plot_utilities as plu\n",
    "import mpmp.utilities.tcga_utilities as tu\n",
    "\n",
    "%load_ext autoreload\n",
    "%autoreload 2"
   ]
  },
  {
   "cell_type": "code",
   "execution_count": 19,
   "metadata": {},
   "outputs": [
    {
     "name": "stdout",
     "output_type": "stream",
     "text": [
      "['TP53', 'EGFR', 'IDH1', 'PIK3CA', 'SETD2', 'KRAS']\n"
     ]
    }
   ],
   "source": [
    "results_dir = Path(cfg.results_dirs['final'],\n",
    "                   'pilot_genes',\n",
    "                   'gene').resolve()\n",
    "\n",
    "genes = [g.stem for g in results_dir.iterdir() if not g.is_file()]\n",
    "print(genes)"
   ]
  },
  {
   "cell_type": "markdown",
   "metadata": {},
   "source": [
    "### Load pre-trained model"
   ]
  },
  {
   "cell_type": "code",
   "execution_count": 23,
   "metadata": {},
   "outputs": [
    {
     "name": "stdout",
     "output_type": "stream",
     "text": [
      "SGDClassifier(alpha=0.1, class_weight='balanced', l1_ratio=0.1, loss='log',\n",
      "              penalty='elasticnet', random_state=42)\n",
      "(15389,)\n"
     ]
    }
   ],
   "source": [
    "gene = 'TP53'\n",
    "training_data = 'expression'\n",
    "\n",
    "model_filename = '{}_{}_elasticnet_classify_s42_model.pkl'.format(gene, training_data)\n",
    "\n",
    "with open(str(results_dir / gene / model_filename), 'rb') as f:\n",
    "    model_fit = pkl.load(f)\n",
    "\n",
    "print(model_fit)\n",
    "print(model_fit.feature_names_in_.shape)"
   ]
  },
  {
   "cell_type": "markdown",
   "metadata": {},
   "source": [
    "### Load expression data and sample info"
   ]
  },
  {
   "cell_type": "code",
   "execution_count": 3,
   "metadata": {},
   "outputs": [
    {
     "name": "stdout",
     "output_type": "stream",
     "text": [
      "['Primary Solid Tumor' 'Recurrent Solid Tumor' 'Solid Tissue Normal'\n",
      " 'Additional - New Primary' 'Metastatic'\n",
      " 'Primary Blood Derived Cancer - Peripheral Blood' 'Additional Metastatic']\n"
     ]
    },
    {
     "data": {
      "text/html": [
       "<div>\n",
       "<style scoped>\n",
       "    .dataframe tbody tr th:only-of-type {\n",
       "        vertical-align: middle;\n",
       "    }\n",
       "\n",
       "    .dataframe tbody tr th {\n",
       "        vertical-align: top;\n",
       "    }\n",
       "\n",
       "    .dataframe thead th {\n",
       "        text-align: right;\n",
       "    }\n",
       "</style>\n",
       "<table border=\"1\" class=\"dataframe\">\n",
       "  <thead>\n",
       "    <tr style=\"text-align: right;\">\n",
       "      <th></th>\n",
       "      <th>sample_type</th>\n",
       "      <th>cancer_type</th>\n",
       "      <th>id_for_stratification</th>\n",
       "    </tr>\n",
       "    <tr>\n",
       "      <th>sample_id</th>\n",
       "      <th></th>\n",
       "      <th></th>\n",
       "      <th></th>\n",
       "    </tr>\n",
       "  </thead>\n",
       "  <tbody>\n",
       "    <tr>\n",
       "      <th>TCGA-02-0047-01</th>\n",
       "      <td>Primary Solid Tumor</td>\n",
       "      <td>GBM</td>\n",
       "      <td>GBMPrimary Solid Tumor</td>\n",
       "    </tr>\n",
       "    <tr>\n",
       "      <th>TCGA-02-0055-01</th>\n",
       "      <td>Primary Solid Tumor</td>\n",
       "      <td>GBM</td>\n",
       "      <td>GBMPrimary Solid Tumor</td>\n",
       "    </tr>\n",
       "    <tr>\n",
       "      <th>TCGA-02-2483-01</th>\n",
       "      <td>Primary Solid Tumor</td>\n",
       "      <td>GBM</td>\n",
       "      <td>GBMPrimary Solid Tumor</td>\n",
       "    </tr>\n",
       "    <tr>\n",
       "      <th>TCGA-02-2485-01</th>\n",
       "      <td>Primary Solid Tumor</td>\n",
       "      <td>GBM</td>\n",
       "      <td>GBMPrimary Solid Tumor</td>\n",
       "    </tr>\n",
       "    <tr>\n",
       "      <th>TCGA-02-2486-01</th>\n",
       "      <td>Primary Solid Tumor</td>\n",
       "      <td>GBM</td>\n",
       "      <td>GBMPrimary Solid Tumor</td>\n",
       "    </tr>\n",
       "  </tbody>\n",
       "</table>\n",
       "</div>"
      ],
      "text/plain": [
       "                         sample_type cancer_type   id_for_stratification\n",
       "sample_id                                                               \n",
       "TCGA-02-0047-01  Primary Solid Tumor         GBM  GBMPrimary Solid Tumor\n",
       "TCGA-02-0055-01  Primary Solid Tumor         GBM  GBMPrimary Solid Tumor\n",
       "TCGA-02-2483-01  Primary Solid Tumor         GBM  GBMPrimary Solid Tumor\n",
       "TCGA-02-2485-01  Primary Solid Tumor         GBM  GBMPrimary Solid Tumor\n",
       "TCGA-02-2486-01  Primary Solid Tumor         GBM  GBMPrimary Solid Tumor"
      ]
     },
     "execution_count": 3,
     "metadata": {},
     "output_type": "execute_result"
    }
   ],
   "source": [
    "# load expression sample info, this has tumor/normal labels\n",
    "sample_info_df = du.load_sample_info(training_data)\n",
    "print(sample_info_df.sample_type.unique())\n",
    "sample_info_df.head()"
   ]
  },
  {
   "cell_type": "code",
   "execution_count": 4,
   "metadata": {},
   "outputs": [
    {
     "name": "stderr",
     "output_type": "stream",
     "text": [
      "Loading expression data...\n"
     ]
    },
    {
     "name": "stdout",
     "output_type": "stream",
     "text": [
      "(11060, 15369)\n"
     ]
    },
    {
     "data": {
      "text/html": [
       "<div>\n",
       "<style scoped>\n",
       "    .dataframe tbody tr th:only-of-type {\n",
       "        vertical-align: middle;\n",
       "    }\n",
       "\n",
       "    .dataframe tbody tr th {\n",
       "        vertical-align: top;\n",
       "    }\n",
       "\n",
       "    .dataframe thead th {\n",
       "        text-align: right;\n",
       "    }\n",
       "</style>\n",
       "<table border=\"1\" class=\"dataframe\">\n",
       "  <thead>\n",
       "    <tr style=\"text-align: right;\">\n",
       "      <th></th>\n",
       "      <th>1</th>\n",
       "      <th>100</th>\n",
       "      <th>1000</th>\n",
       "      <th>10000</th>\n",
       "      <th>10001</th>\n",
       "    </tr>\n",
       "    <tr>\n",
       "      <th>sample_id</th>\n",
       "      <th></th>\n",
       "      <th></th>\n",
       "      <th></th>\n",
       "      <th></th>\n",
       "      <th></th>\n",
       "    </tr>\n",
       "  </thead>\n",
       "  <tbody>\n",
       "    <tr>\n",
       "      <th>TCGA-02-0047-01</th>\n",
       "      <td>125.0</td>\n",
       "      <td>136.0</td>\n",
       "      <td>2300.0</td>\n",
       "      <td>1300.0</td>\n",
       "      <td>272.0</td>\n",
       "    </tr>\n",
       "    <tr>\n",
       "      <th>TCGA-02-0055-01</th>\n",
       "      <td>392.0</td>\n",
       "      <td>222.0</td>\n",
       "      <td>1820.0</td>\n",
       "      <td>903.0</td>\n",
       "      <td>321.0</td>\n",
       "    </tr>\n",
       "    <tr>\n",
       "      <th>TCGA-02-2483-01</th>\n",
       "      <td>272.0</td>\n",
       "      <td>256.0</td>\n",
       "      <td>2890.0</td>\n",
       "      <td>1320.0</td>\n",
       "      <td>458.0</td>\n",
       "    </tr>\n",
       "    <tr>\n",
       "      <th>TCGA-02-2485-01</th>\n",
       "      <td>83.9</td>\n",
       "      <td>129.0</td>\n",
       "      <td>6970.0</td>\n",
       "      <td>10100.0</td>\n",
       "      <td>419.0</td>\n",
       "    </tr>\n",
       "    <tr>\n",
       "      <th>TCGA-02-2486-01</th>\n",
       "      <td>108.0</td>\n",
       "      <td>205.0</td>\n",
       "      <td>2250.0</td>\n",
       "      <td>873.0</td>\n",
       "      <td>441.0</td>\n",
       "    </tr>\n",
       "  </tbody>\n",
       "</table>\n",
       "</div>"
      ],
      "text/plain": [
       "                     1    100    1000    10000  10001\n",
       "sample_id                                            \n",
       "TCGA-02-0047-01  125.0  136.0  2300.0   1300.0  272.0\n",
       "TCGA-02-0055-01  392.0  222.0  1820.0    903.0  321.0\n",
       "TCGA-02-2483-01  272.0  256.0  2890.0   1320.0  458.0\n",
       "TCGA-02-2485-01   83.9  129.0  6970.0  10100.0  419.0\n",
       "TCGA-02-2486-01  108.0  205.0  2250.0    873.0  441.0"
      ]
     },
     "execution_count": 4,
     "metadata": {},
     "output_type": "execute_result"
    }
   ],
   "source": [
    "# load expression data\n",
    "data_df = du.load_raw_data('expression', verbose=True)\n",
    "print(data_df.shape)\n",
    "data_df.iloc[:5, :5]"
   ]
  },
  {
   "cell_type": "code",
   "execution_count": 5,
   "metadata": {},
   "outputs": [
    {
     "name": "stdout",
     "output_type": "stream",
     "text": [
      "737\n",
      "Index(['TCGA-06-0675-11', 'TCGA-06-0678-11', 'TCGA-06-0680-11',\n",
      "       'TCGA-06-0681-11', 'TCGA-06-AABW-11'],\n",
      "      dtype='object', name='sample_id')\n"
     ]
    }
   ],
   "source": [
    "normal_ids = (\n",
    "    sample_info_df[sample_info_df.sample_type.str.contains('Normal')]\n",
    "      .index\n",
    "      .intersection(data_df.index)\n",
    ")\n",
    "print(len(normal_ids))\n",
    "print(normal_ids[:5])"
   ]
  },
  {
   "cell_type": "code",
   "execution_count": 6,
   "metadata": {},
   "outputs": [
    {
     "name": "stdout",
     "output_type": "stream",
     "text": [
      "(737, 15369)\n"
     ]
    },
    {
     "data": {
      "text/html": [
       "<div>\n",
       "<style scoped>\n",
       "    .dataframe tbody tr th:only-of-type {\n",
       "        vertical-align: middle;\n",
       "    }\n",
       "\n",
       "    .dataframe tbody tr th {\n",
       "        vertical-align: top;\n",
       "    }\n",
       "\n",
       "    .dataframe thead th {\n",
       "        text-align: right;\n",
       "    }\n",
       "</style>\n",
       "<table border=\"1\" class=\"dataframe\">\n",
       "  <thead>\n",
       "    <tr style=\"text-align: right;\">\n",
       "      <th></th>\n",
       "      <th>1</th>\n",
       "      <th>100</th>\n",
       "      <th>1000</th>\n",
       "      <th>10000</th>\n",
       "      <th>10001</th>\n",
       "    </tr>\n",
       "    <tr>\n",
       "      <th>sample_id</th>\n",
       "      <th></th>\n",
       "      <th></th>\n",
       "      <th></th>\n",
       "      <th></th>\n",
       "      <th></th>\n",
       "    </tr>\n",
       "  </thead>\n",
       "  <tbody>\n",
       "    <tr>\n",
       "      <th>TCGA-06-0675-11</th>\n",
       "      <td>88.5</td>\n",
       "      <td>43.6</td>\n",
       "      <td>2090.0</td>\n",
       "      <td>3250.0</td>\n",
       "      <td>312.0</td>\n",
       "    </tr>\n",
       "    <tr>\n",
       "      <th>TCGA-06-0678-11</th>\n",
       "      <td>58.5</td>\n",
       "      <td>101.0</td>\n",
       "      <td>2060.0</td>\n",
       "      <td>2490.0</td>\n",
       "      <td>317.0</td>\n",
       "    </tr>\n",
       "    <tr>\n",
       "      <th>TCGA-06-0680-11</th>\n",
       "      <td>80.8</td>\n",
       "      <td>53.7</td>\n",
       "      <td>2170.0</td>\n",
       "      <td>3090.0</td>\n",
       "      <td>291.0</td>\n",
       "    </tr>\n",
       "    <tr>\n",
       "      <th>TCGA-06-0681-11</th>\n",
       "      <td>141.0</td>\n",
       "      <td>148.0</td>\n",
       "      <td>1910.0</td>\n",
       "      <td>2210.0</td>\n",
       "      <td>311.0</td>\n",
       "    </tr>\n",
       "    <tr>\n",
       "      <th>TCGA-06-AABW-11</th>\n",
       "      <td>258.0</td>\n",
       "      <td>208.0</td>\n",
       "      <td>1560.0</td>\n",
       "      <td>786.0</td>\n",
       "      <td>251.0</td>\n",
       "    </tr>\n",
       "  </tbody>\n",
       "</table>\n",
       "</div>"
      ],
      "text/plain": [
       "                     1    100    1000   10000  10001\n",
       "sample_id                                           \n",
       "TCGA-06-0675-11   88.5   43.6  2090.0  3250.0  312.0\n",
       "TCGA-06-0678-11   58.5  101.0  2060.0  2490.0  317.0\n",
       "TCGA-06-0680-11   80.8   53.7  2170.0  3090.0  291.0\n",
       "TCGA-06-0681-11  141.0  148.0  1910.0  2210.0  311.0\n",
       "TCGA-06-AABW-11  258.0  208.0  1560.0   786.0  251.0"
      ]
     },
     "execution_count": 6,
     "metadata": {},
     "output_type": "execute_result"
    }
   ],
   "source": [
    "normal_data_df = data_df.loc[normal_ids, :]\n",
    "print(normal_data_df.shape)\n",
    "normal_data_df.iloc[:5, :5]"
   ]
  },
  {
   "cell_type": "markdown",
   "metadata": {},
   "source": [
    "### Preprocessing for normal samples\n",
    "\n",
    "This is a bit nuanced since we don't have mutation calling information for the normal samples, so we can't generate a log(mutation burden) covariate.\n",
    "\n",
    "For now we'll just take the mean mutation burden from the tumor dataset and apply it to all the normal samples."
   ]
  },
  {
   "cell_type": "code",
   "execution_count": 9,
   "metadata": {},
   "outputs": [],
   "source": [
    "# load mutation data\n",
    "pancancer_data = du.load_pancancer_data()\n",
    "(sample_freeze_df,\n",
    " mutation_df,\n",
    " copy_loss_df,\n",
    " copy_gain_df,\n",
    " mut_burden_df) = pancancer_data"
   ]
  },
  {
   "cell_type": "code",
   "execution_count": 12,
   "metadata": {},
   "outputs": [
    {
     "name": "stdout",
     "output_type": "stream",
     "text": [
      "(9074, 1)\n"
     ]
    },
    {
     "data": {
      "text/html": [
       "<div>\n",
       "<style scoped>\n",
       "    .dataframe tbody tr th:only-of-type {\n",
       "        vertical-align: middle;\n",
       "    }\n",
       "\n",
       "    .dataframe tbody tr th {\n",
       "        vertical-align: top;\n",
       "    }\n",
       "\n",
       "    .dataframe thead th {\n",
       "        text-align: right;\n",
       "    }\n",
       "</style>\n",
       "<table border=\"1\" class=\"dataframe\">\n",
       "  <thead>\n",
       "    <tr style=\"text-align: right;\">\n",
       "      <th></th>\n",
       "      <th>log10_mut</th>\n",
       "    </tr>\n",
       "    <tr>\n",
       "      <th>SAMPLE_BARCODE</th>\n",
       "      <th></th>\n",
       "    </tr>\n",
       "  </thead>\n",
       "  <tbody>\n",
       "    <tr>\n",
       "      <th>TCGA-02-0047-01</th>\n",
       "      <td>1.812913</td>\n",
       "    </tr>\n",
       "    <tr>\n",
       "      <th>TCGA-02-0055-01</th>\n",
       "      <td>1.707570</td>\n",
       "    </tr>\n",
       "    <tr>\n",
       "      <th>TCGA-02-2483-01</th>\n",
       "      <td>1.662758</td>\n",
       "    </tr>\n",
       "    <tr>\n",
       "      <th>TCGA-02-2485-01</th>\n",
       "      <td>1.748188</td>\n",
       "    </tr>\n",
       "    <tr>\n",
       "      <th>TCGA-02-2486-01</th>\n",
       "      <td>1.755875</td>\n",
       "    </tr>\n",
       "  </tbody>\n",
       "</table>\n",
       "</div>"
      ],
      "text/plain": [
       "                 log10_mut\n",
       "SAMPLE_BARCODE            \n",
       "TCGA-02-0047-01   1.812913\n",
       "TCGA-02-0055-01   1.707570\n",
       "TCGA-02-2483-01   1.662758\n",
       "TCGA-02-2485-01   1.748188\n",
       "TCGA-02-2486-01   1.755875"
      ]
     },
     "execution_count": 12,
     "metadata": {},
     "output_type": "execute_result"
    }
   ],
   "source": [
    "print(mut_burden_df.shape)\n",
    "mut_burden_df.head()"
   ]
  },
  {
   "cell_type": "code",
   "execution_count": 13,
   "metadata": {},
   "outputs": [
    {
     "name": "stdout",
     "output_type": "stream",
     "text": [
      "log10_mut    1.834867\n",
      "dtype: float64\n"
     ]
    }
   ],
   "source": [
    "mean_mutation_burden = mut_burden_df.sum() / mut_burden_df.shape[0]\n",
    "print(mean_mutation_burden)"
   ]
  },
  {
   "cell_type": "code",
   "execution_count": 17,
   "metadata": {},
   "outputs": [
    {
     "name": "stdout",
     "output_type": "stream",
     "text": [
      "(737, 3)\n"
     ]
    },
    {
     "data": {
      "text/html": [
       "<div>\n",
       "<style scoped>\n",
       "    .dataframe tbody tr th:only-of-type {\n",
       "        vertical-align: middle;\n",
       "    }\n",
       "\n",
       "    .dataframe tbody tr th {\n",
       "        vertical-align: top;\n",
       "    }\n",
       "\n",
       "    .dataframe thead th {\n",
       "        text-align: right;\n",
       "    }\n",
       "</style>\n",
       "<table border=\"1\" class=\"dataframe\">\n",
       "  <thead>\n",
       "    <tr style=\"text-align: right;\">\n",
       "      <th></th>\n",
       "      <th>log10_mut</th>\n",
       "      <th>sample_type</th>\n",
       "      <th>DISEASE</th>\n",
       "    </tr>\n",
       "    <tr>\n",
       "      <th>sample_id</th>\n",
       "      <th></th>\n",
       "      <th></th>\n",
       "      <th></th>\n",
       "    </tr>\n",
       "  </thead>\n",
       "  <tbody>\n",
       "    <tr>\n",
       "      <th>TCGA-06-0675-11</th>\n",
       "      <td>1.834867</td>\n",
       "      <td>Solid Tissue Normal</td>\n",
       "      <td>GBM</td>\n",
       "    </tr>\n",
       "    <tr>\n",
       "      <th>TCGA-06-0678-11</th>\n",
       "      <td>1.834867</td>\n",
       "      <td>Solid Tissue Normal</td>\n",
       "      <td>GBM</td>\n",
       "    </tr>\n",
       "    <tr>\n",
       "      <th>TCGA-06-0680-11</th>\n",
       "      <td>1.834867</td>\n",
       "      <td>Solid Tissue Normal</td>\n",
       "      <td>GBM</td>\n",
       "    </tr>\n",
       "    <tr>\n",
       "      <th>TCGA-06-0681-11</th>\n",
       "      <td>1.834867</td>\n",
       "      <td>Solid Tissue Normal</td>\n",
       "      <td>GBM</td>\n",
       "    </tr>\n",
       "    <tr>\n",
       "      <th>TCGA-06-AABW-11</th>\n",
       "      <td>1.834867</td>\n",
       "      <td>Solid Tissue Normal</td>\n",
       "      <td>GBM</td>\n",
       "    </tr>\n",
       "  </tbody>\n",
       "</table>\n",
       "</div>"
      ],
      "text/plain": [
       "                 log10_mut          sample_type DISEASE\n",
       "sample_id                                              \n",
       "TCGA-06-0675-11   1.834867  Solid Tissue Normal     GBM\n",
       "TCGA-06-0678-11   1.834867  Solid Tissue Normal     GBM\n",
       "TCGA-06-0680-11   1.834867  Solid Tissue Normal     GBM\n",
       "TCGA-06-0681-11   1.834867  Solid Tissue Normal     GBM\n",
       "TCGA-06-AABW-11   1.834867  Solid Tissue Normal     GBM"
      ]
     },
     "execution_count": 17,
     "metadata": {},
     "output_type": "execute_result"
    }
   ],
   "source": [
    "# construct covariate matrix for normal samples\n",
    "y_normal_df = pd.DataFrame(\n",
    "    {'log10_mut': mean_mutation_burden.values[0]},\n",
    "    index=normal_ids\n",
    ")\n",
    "# add cancer type\n",
    "# TODO: this needs to use the same dummies as the training data,\n",
    "# how to do that?\n",
    "# 1) if normal samples are not in the set of cancer types the model\n",
    "#    was trained on, drop them\n",
    "# 2) if normal samples are in the set of cancer types the model\n",
    "#    was trained on, set the dummies *the same way*\n",
    "y_normal_df = (y_normal_df\n",
    "    .merge(sample_info_df, left_index=True, right_index=True)    \n",
    "    .drop(columns={'id_for_stratification'})\n",
    "    .rename(columns={'cancer_type': 'DISEASE'})\n",
    ")\n",
    "print(y_normal_df.shape)\n",
    "y_normal_df.head()"
   ]
  },
  {
   "cell_type": "code",
   "execution_count": 8,
   "metadata": {},
   "outputs": [
    {
     "ename": "AttributeError",
     "evalue": "'NoneType' object has no attribute 'DISEASE'",
     "output_type": "error",
     "traceback": [
      "\u001b[0;31m---------------------------------------------------------------------------\u001b[0m",
      "\u001b[0;31mAttributeError\u001b[0m                            Traceback (most recent call last)",
      "\u001b[0;32m/tmp/ipykernel_6728/1238880586.py\u001b[0m in \u001b[0;36m<module>\u001b[0;34m\u001b[0m\n\u001b[1;32m      4\u001b[0m normal_data_cov_df = tu.align_matrices(\n\u001b[1;32m      5\u001b[0m     \u001b[0mnormal_data_df\u001b[0m\u001b[0;34m,\u001b[0m\u001b[0;34m\u001b[0m\u001b[0;34m\u001b[0m\u001b[0m\n\u001b[0;32m----> 6\u001b[0;31m     \u001b[0;32mNone\u001b[0m\u001b[0;34m,\u001b[0m\u001b[0;34m\u001b[0m\u001b[0;34m\u001b[0m\u001b[0m\n\u001b[0m\u001b[1;32m      7\u001b[0m )\n\u001b[1;32m      8\u001b[0m \u001b[0mprint\u001b[0m\u001b[0;34m(\u001b[0m\u001b[0mnormal_data_cov_df\u001b[0m\u001b[0;34m.\u001b[0m\u001b[0mshape\u001b[0m\u001b[0;34m)\u001b[0m\u001b[0;34m\u001b[0m\u001b[0;34m\u001b[0m\u001b[0m\n",
      "\u001b[0;32m~/research/mpmp/mpmp/utilities/tcga_utilities.py\u001b[0m in \u001b[0;36malign_matrices\u001b[0;34m(x_file_or_df, y, add_cancertype_covariate, add_mutation_covariate, add_age_covariate)\u001b[0m\n\u001b[1;32m    188\u001b[0m     \u001b[0;32mif\u001b[0m \u001b[0madd_cancertype_covariate\u001b[0m\u001b[0;34m:\u001b[0m\u001b[0;34m\u001b[0m\u001b[0;34m\u001b[0m\u001b[0m\n\u001b[1;32m    189\u001b[0m         \u001b[0;31m# add one-hot covariate for cancer type\u001b[0m\u001b[0;34m\u001b[0m\u001b[0;34m\u001b[0m\u001b[0;34m\u001b[0m\u001b[0m\n\u001b[0;32m--> 190\u001b[0;31m         \u001b[0mcovariate_df\u001b[0m \u001b[0;34m=\u001b[0m \u001b[0mpd\u001b[0m\u001b[0;34m.\u001b[0m\u001b[0mget_dummies\u001b[0m\u001b[0;34m(\u001b[0m\u001b[0my\u001b[0m\u001b[0;34m.\u001b[0m\u001b[0mDISEASE\u001b[0m\u001b[0;34m)\u001b[0m\u001b[0;34m\u001b[0m\u001b[0;34m\u001b[0m\u001b[0m\n\u001b[0m\u001b[1;32m    191\u001b[0m         \u001b[0mx_df\u001b[0m \u001b[0;34m=\u001b[0m \u001b[0mx_df\u001b[0m\u001b[0;34m.\u001b[0m\u001b[0mmerge\u001b[0m\u001b[0;34m(\u001b[0m\u001b[0mcovariate_df\u001b[0m\u001b[0;34m,\u001b[0m \u001b[0mleft_index\u001b[0m\u001b[0;34m=\u001b[0m\u001b[0;32mTrue\u001b[0m\u001b[0;34m,\u001b[0m \u001b[0mright_index\u001b[0m\u001b[0;34m=\u001b[0m\u001b[0;32mTrue\u001b[0m\u001b[0;34m)\u001b[0m\u001b[0;34m\u001b[0m\u001b[0;34m\u001b[0m\u001b[0m\n\u001b[1;32m    192\u001b[0m \u001b[0;34m\u001b[0m\u001b[0m\n",
      "\u001b[0;31mAttributeError\u001b[0m: 'NoneType' object has no attribute 'DISEASE'"
     ]
    }
   ],
   "source": [
    "# add covariates\n",
    "normal_data_cov_df = tu.align_matrices(\n",
    "    normal_data_df,\n",
    "    None,\n",
    ")\n",
    "print(normal_data_cov_df.shape)\n",
    "normal_data_cov_df.iloc[:5, -5:]"
   ]
  }
 ],
 "metadata": {
  "kernelspec": {
   "display_name": "Python [conda env:mpmp]",
   "language": "python",
   "name": "conda-env-mpmp-py"
  },
  "language_info": {
   "codemirror_mode": {
    "name": "ipython",
    "version": 3
   },
   "file_extension": ".py",
   "mimetype": "text/x-python",
   "name": "python",
   "nbconvert_exporter": "python",
   "pygments_lexer": "ipython3",
   "version": "3.7.12"
  }
 },
 "nbformat": 4,
 "nbformat_minor": 4
}
