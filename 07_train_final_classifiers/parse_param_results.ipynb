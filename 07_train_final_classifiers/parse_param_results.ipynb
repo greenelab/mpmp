{
 "cells": [
  {
   "cell_type": "code",
   "execution_count": 2,
   "metadata": {},
   "outputs": [
    {
     "name": "stdout",
     "output_type": "stream",
     "text": [
      "The autoreload extension is already loaded. To reload it, use:\n",
      "  %reload_ext autoreload\n"
     ]
    }
   ],
   "source": [
    "from pathlib import Path\n",
    "\n",
    "import numpy as np\n",
    "import pandas as pd\n",
    "\n",
    "import mpmp.config as cfg\n",
    "\n",
    "%load_ext autoreload\n",
    "%autoreload 2"
   ]
  },
  {
   "cell_type": "code",
   "execution_count": 3,
   "metadata": {},
   "outputs": [],
   "source": [
    "# experiment results directory containing parameter lists\n",
    "results_dir = Path(\n",
    "    cfg.results_dirs['mutation'],\n",
    "    'merged_filter_all',\n",
    "    'gene'\n",
    ").resolve()"
   ]
  },
  {
   "cell_type": "code",
   "execution_count": 28,
   "metadata": {},
   "outputs": [
    {
     "name": "stdout",
     "output_type": "stream",
     "text": [
      "{'expression': [(1, ['alpha', 'l1_ratio'], [[0.1, 0.1], [0.1, 0.0], [0.1, 0.3], [0.01, 0.1]], [0.7120513539393372, 0.7116361946883956, 0.7038219155803235, 0.6992334768335081]), (42, ['alpha', 'l1_ratio'], [[0.1, 0.5], [0.1, 0.05], [0.1, 0.05], [0.1, 0.5]], [0.6792590253597396, 0.6911751860210665, 0.714987458608035, 0.7079669494188131])], 'me_27k': [(1, ['alpha', 'l1_ratio'], [[10.0, 0.0], [1.0, 0.0], [0.0001, 0.05], [1.0, 0.0]], [0.5327086993414906, 0.618589490618603, 0.5086426464402402, 0.5973311973212266]), (42, ['alpha', 'l1_ratio'], [[0.1, 0.05], [0.001, 0.05], [1.0, 0.0], [0.1, 0.0]], [0.6200148184064672, 0.4816945808877452, 0.5807149771877952, 0.6232418893656088])], 'me_450k': [(1, ['alpha', 'l1_ratio'], [[0.1, 0.3], [0.1, 0.5], [0.1, 0.5], [0.1, 0.7]], [0.5599281568017717, 0.5494091814106175, 0.5359667026058296, 0.5388965091203498]), (42, ['alpha', 'l1_ratio'], [[0.1, 0.7], [0.1, 0.5], [10.0, 0.1], [1.0, 0.05]], [0.5391368451503175, 0.5394900943173556, 0.530249239344938, 0.59172588648981])], 'rppa': [(1, ['alpha', 'l1_ratio'], [[0.1, 0.0], [0.1, 0.0], [0.1, 0.0], [0.1, 0.05]], [0.5662712742745578, 0.5825980641827188, 0.5669594368802052, 0.5732335357302272]), (42, ['alpha', 'l1_ratio'], [[0.1, 0.0], [0.1, 0.0], [0.1, 0.0], [0.1, 0.0]], [0.5623221029805001, 0.5518982347440727, 0.6010539942427844, 0.5584439815656098])], 'mirna': [(1, ['alpha', 'l1_ratio'], [[0.1, 0.1], [0.1, 0.1], [0.01, 0.7], [0.1, 0.1]], [0.6167053671682818, 0.6476406344252362, 0.6161517023304517, 0.6277191920414812]), (42, ['alpha', 'l1_ratio'], [[0.1, 0.05], [0.1, 0.1], [0.1, 0.05], [0.1, 0.1]], [0.6244328797589164, 0.6149716293014048, 0.6604817307877213, 0.6092674625632716])], 'mut_sigs': [(1, ['alpha', 'l1_ratio'], [[0.01, 0.3], [0.1, 0.7], [0.01, 0.3], [0.01, 0.5]], [0.4444350068566924, 0.4662210283711096, 0.4475871633856056, 0.4600664612830074]), (42, ['alpha', 'l1_ratio'], [[0.01, 0.9], [0.01, 0.7], [0.001, 0.7], [0.01, 0.7]], [0.4882961817503057, 0.4416465885683878, 0.5127684159843146, 0.4587347679688476])]}\n"
     ]
    }
   ],
   "source": [
    "data_type_options = [\n",
    "    'expression',\n",
    "    'me_27k',\n",
    "    'me_450k',\n",
    "    'rppa',\n",
    "    'mirna',\n",
    "    'mut_sigs'\n",
    "]\n",
    "\n",
    "def get_data_type(results_filename):\n",
    "    # this is a bit messy but it works\n",
    "    for data_type in data_type_options:\n",
    "        if data_type in results_filename:\n",
    "            return data_type\n",
    "    return None\n",
    "\n",
    "def get_best_params(results_file):\n",
    "    results_df = pd.read_csv(results_file, sep='\\t', index_col=0)\n",
    "    param_names = None \n",
    "    params, metrics = [], []\n",
    "    for fold_no in results_df.fold.unique():\n",
    "        fold_results_df = (\n",
    "            results_df[results_df.fold == fold_no]\n",
    "              .sort_values(by='mean_test_score', ascending=False)\n",
    "        )\n",
    "        if param_names is None:\n",
    "            non_param_cols = ['fold', 'mean_train_score', 'mean_test_score']\n",
    "            param_names = [\n",
    "                c for c in fold_results_df.columns\n",
    "                  if c not in non_param_cols\n",
    "            ]\n",
    "        params.append(\n",
    "            fold_results_df.head(1).loc[:, param_names].values[0].tolist()\n",
    "        )\n",
    "        metrics.append(\n",
    "            fold_results_df.head(1).loc[:, 'mean_test_score'].values[0]\n",
    "        )\n",
    "    return param_names, params, metrics\n",
    "\n",
    "def get_best_params_folds(results_dir, gene):\n",
    "    all_best_params = {dt: [] for dt in data_type_options}\n",
    "    gene_results_dir = results_dir / gene\n",
    "    for results_file in gene_results_dir.iterdir():\n",
    "        if not results_file.is_file():\n",
    "            continue\n",
    "        results_filename = str(results_file.stem)\n",
    "        if ('param_grid' not in results_filename or\n",
    "            'signal'not in results_filename):\n",
    "            continue\n",
    "        # parse filename\n",
    "        data_type = get_data_type(results_filename)\n",
    "        if '_n5000' in results_filename:\n",
    "            seed = int(results_filename\n",
    "                .split('_')[-4]\n",
    "                .replace('s', '')\n",
    "            )\n",
    "        else:\n",
    "            seed = int(results_filename\n",
    "                .split('_')[-3]\n",
    "                .replace('s', '')\n",
    "            )\n",
    "        # fold = ...\n",
    "        param_names, params, metrics = get_best_params(results_file)\n",
    "        all_best_params[data_type].append(\n",
    "            (seed, param_names, params, metrics)\n",
    "        )\n",
    "    return all_best_params\n",
    "\n",
    "print(\n",
    "    get_best_params_folds(results_dir, 'BRAF')\n",
    ")"
   ]
  }
 ],
 "metadata": {
  "kernelspec": {
   "display_name": "Python [conda env:mpmp]",
   "language": "python",
   "name": "conda-env-mpmp-py"
  },
  "language_info": {
   "codemirror_mode": {
    "name": "ipython",
    "version": 3
   },
   "file_extension": ".py",
   "mimetype": "text/x-python",
   "name": "python",
   "nbconvert_exporter": "python",
   "pygments_lexer": "ipython3",
   "version": "3.7.12"
  }
 },
 "nbformat": 4,
 "nbformat_minor": 4
}
