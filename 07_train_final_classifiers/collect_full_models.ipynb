{
 "cells": [
  {
   "cell_type": "markdown",
   "metadata": {},
   "source": [
    "## Collect full models and save into tsv files\n",
    "\n",
    "As a resource to provide with our paper, we want to provide the fit models (coefficients/effect sizes, and parameter choices) as a data file.\n",
    "\n",
    "This notebook collects the results of the bash script at `07_train_final_classifiers/scripts/run_all_genes.sh` and assembles them into dataframes/`.tsv` files."
   ]
  },
  {
   "cell_type": "code",
   "execution_count": 1,
   "metadata": {},
   "outputs": [],
   "source": [
    "from pathlib import Path\n",
    "import pickle as pkl\n",
    "\n",
    "import numpy as np\n",
    "import pandas as pd\n",
    "\n",
    "import mpmp.config as cfg\n",
    "import mpmp.utilities.data_utilities as du\n",
    "\n",
    "%load_ext autoreload\n",
    "%autoreload 2"
   ]
  },
  {
   "cell_type": "code",
   "execution_count": 2,
   "metadata": {},
   "outputs": [],
   "source": [
    "results_dir = Path(cfg.results_dirs['final'],\n",
    "                   'merged_all_params',\n",
    "                   'gene').resolve()"
   ]
  },
  {
   "cell_type": "markdown",
   "metadata": {},
   "source": [
    "### Get all possible gene expression features\n",
    "\n",
    "This will be the index for our coefficient dataframe. We'll use `NA` to denote features that weren't used in that particular model (either a gene expression feature that wasn't in the top 8000 by MAD, or a cancer type indicator that wasn't included for that gene)."
   ]
  },
  {
   "cell_type": "code",
   "execution_count": 3,
   "metadata": {},
   "outputs": [
    {
     "name": "stdout",
     "output_type": "stream",
     "text": [
      "(33,)\n",
      "['ACC' 'BLCA' 'BRCA' 'CESC' 'CHOL' 'COAD' 'DLBC' 'ESCA' 'GBM' 'HNSC'\n",
      " 'KICH' 'KIRC' 'KIRP' 'LAML' 'LGG' 'LIHC' 'LUAD' 'LUSC' 'MESO' 'OV' 'PAAD'\n",
      " 'PCPG' 'PRAD' 'READ' 'SARC' 'SKCM' 'STAD' 'TGCT' 'THCA' 'THYM' 'UCEC'\n",
      " 'UCS' 'UVM']\n"
     ]
    }
   ],
   "source": [
    "# get all cancer types\n",
    "sample_info_df = du.load_sample_info('expression')\n",
    "cancer_types = np.sort(sample_info_df.cancer_type.unique())\n",
    "print(cancer_types.shape)\n",
    "print(cancer_types)"
   ]
  },
  {
   "cell_type": "code",
   "execution_count": 4,
   "metadata": {},
   "outputs": [
    {
     "name": "stdout",
     "output_type": "stream",
     "text": [
      "(15369,)\n"
     ]
    },
    {
     "data": {
      "text/plain": [
       "array(['1', '100', '1000', '10000', '10001'], dtype=object)"
      ]
     },
     "execution_count": 4,
     "metadata": {},
     "output_type": "execute_result"
    }
   ],
   "source": [
    "# the columns will include the sample id, so use all but the first one\n",
    "gene_features = pd.read_csv(\n",
    "    cfg.data_types['expression'], sep='\\t', nrows=0\n",
    ").columns[1:].values\n",
    "\n",
    "print(gene_features.shape)\n",
    "gene_features[:5]"
   ]
  },
  {
   "cell_type": "code",
   "execution_count": 5,
   "metadata": {},
   "outputs": [
    {
     "name": "stdout",
     "output_type": "stream",
     "text": [
      "(15403,)\n"
     ]
    }
   ],
   "source": [
    "all_feats = np.concatenate((\n",
    "    gene_features,\n",
    "    cancer_types,\n",
    "    np.array(['log10_mut'])\n",
    "))\n",
    "print(all_feats.shape)"
   ]
  },
  {
   "cell_type": "markdown",
   "metadata": {},
   "source": [
    "### Load coefficients and assemble into dataframe"
   ]
  },
  {
   "cell_type": "code",
   "execution_count": 6,
   "metadata": {},
   "outputs": [
    {
     "name": "stdout",
     "output_type": "stream",
     "text": [
      "['MAP3K1', 'ZFHX3', 'TP53', 'FAS', 'ABL2']\n",
      "217\n"
     ]
    }
   ],
   "source": [
    "coefs = {}\n",
    "genes = []\n",
    "\n",
    "# load coefficient vectors from output files, into dict\n",
    "for gene_dir in results_dir.iterdir():\n",
    "    gene_name = gene_dir.stem\n",
    "    gene_dir = Path(results_dir, gene_dir)\n",
    "    if gene_dir.is_file(): continue\n",
    "    genes.append(gene_name)\n",
    "    for results_file in gene_dir.iterdir():\n",
    "        if not results_file.is_file(): continue\n",
    "        results_filename = str(results_file.stem)\n",
    "        if 'coefficients' not in results_filename: continue\n",
    "        coefs_df = pd.read_csv(results_file, sep='\\t')\n",
    "        coefs[gene_name] = (coefs_df\n",
    "            .loc[:, ['feature', 'weight']]\n",
    "            .set_index('feature')\n",
    "            .reindex(all_feats)\n",
    "            .rename(columns={'weight': gene_name})\n",
    "        )\n",
    "                    \n",
    "print(genes[:5])\n",
    "print(len(genes))"
   ]
  },
  {
   "cell_type": "code",
   "execution_count": 7,
   "metadata": {},
   "outputs": [
    {
     "name": "stdout",
     "output_type": "stream",
     "text": [
      "0\n",
      "set()\n"
     ]
    }
   ],
   "source": [
    "# make sure all genes with parameters have classifiers\n",
    "# the set difference should be empty\n",
    "print(len(set(genes) - set(coefs.keys())))\n",
    "print(set(genes) - set(coefs.keys()))"
   ]
  },
  {
   "cell_type": "code",
   "execution_count": 8,
   "metadata": {},
   "outputs": [
    {
     "name": "stdout",
     "output_type": "stream",
     "text": [
      "PIK3CA    7390\n",
      "dtype: int64\n"
     ]
    },
    {
     "data": {
      "text/html": [
       "<div>\n",
       "<style scoped>\n",
       "    .dataframe tbody tr th:only-of-type {\n",
       "        vertical-align: middle;\n",
       "    }\n",
       "\n",
       "    .dataframe tbody tr th {\n",
       "        vertical-align: top;\n",
       "    }\n",
       "\n",
       "    .dataframe thead th {\n",
       "        text-align: right;\n",
       "    }\n",
       "</style>\n",
       "<table border=\"1\" class=\"dataframe\">\n",
       "  <thead>\n",
       "    <tr style=\"text-align: right;\">\n",
       "      <th></th>\n",
       "      <th>PIK3CA</th>\n",
       "    </tr>\n",
       "    <tr>\n",
       "      <th>feature</th>\n",
       "      <th></th>\n",
       "    </tr>\n",
       "  </thead>\n",
       "  <tbody>\n",
       "    <tr>\n",
       "      <th>1</th>\n",
       "      <td>NaN</td>\n",
       "    </tr>\n",
       "    <tr>\n",
       "      <th>100</th>\n",
       "      <td>NaN</td>\n",
       "    </tr>\n",
       "    <tr>\n",
       "      <th>1000</th>\n",
       "      <td>0.0</td>\n",
       "    </tr>\n",
       "    <tr>\n",
       "      <th>10000</th>\n",
       "      <td>0.0</td>\n",
       "    </tr>\n",
       "    <tr>\n",
       "      <th>10001</th>\n",
       "      <td>NaN</td>\n",
       "    </tr>\n",
       "  </tbody>\n",
       "</table>\n",
       "</div>"
      ],
      "text/plain": [
       "         PIK3CA\n",
       "feature        \n",
       "1           NaN\n",
       "100         NaN\n",
       "1000        0.0\n",
       "10000       0.0\n",
       "10001       NaN"
      ]
     },
     "execution_count": 8,
     "metadata": {},
     "output_type": "execute_result"
    }
   ],
   "source": [
    "gene = 'PIK3CA'\n",
    "print(coefs[gene].isna().sum())\n",
    "coefs[gene].head()"
   ]
  },
  {
   "cell_type": "code",
   "execution_count": 9,
   "metadata": {},
   "outputs": [
    {
     "data": {
      "text/html": [
       "<div>\n",
       "<style scoped>\n",
       "    .dataframe tbody tr th:only-of-type {\n",
       "        vertical-align: middle;\n",
       "    }\n",
       "\n",
       "    .dataframe tbody tr th {\n",
       "        vertical-align: top;\n",
       "    }\n",
       "\n",
       "    .dataframe thead th {\n",
       "        text-align: right;\n",
       "    }\n",
       "</style>\n",
       "<table border=\"1\" class=\"dataframe\">\n",
       "  <thead>\n",
       "    <tr style=\"text-align: right;\">\n",
       "      <th></th>\n",
       "      <th>PIK3CA</th>\n",
       "    </tr>\n",
       "    <tr>\n",
       "      <th>feature</th>\n",
       "      <th></th>\n",
       "    </tr>\n",
       "  </thead>\n",
       "  <tbody>\n",
       "    <tr>\n",
       "      <th>1</th>\n",
       "      <td>NaN</td>\n",
       "    </tr>\n",
       "    <tr>\n",
       "      <th>100</th>\n",
       "      <td>NaN</td>\n",
       "    </tr>\n",
       "    <tr>\n",
       "      <th>10001</th>\n",
       "      <td>NaN</td>\n",
       "    </tr>\n",
       "    <tr>\n",
       "      <th>10002</th>\n",
       "      <td>NaN</td>\n",
       "    </tr>\n",
       "    <tr>\n",
       "      <th>10003</th>\n",
       "      <td>NaN</td>\n",
       "    </tr>\n",
       "  </tbody>\n",
       "</table>\n",
       "</div>"
      ],
      "text/plain": [
       "         PIK3CA\n",
       "feature        \n",
       "1           NaN\n",
       "100         NaN\n",
       "10001       NaN\n",
       "10002       NaN\n",
       "10003       NaN"
      ]
     },
     "execution_count": 9,
     "metadata": {},
     "output_type": "execute_result"
    }
   ],
   "source": [
    "coefs[gene][coefs[gene][gene].isna()].head()"
   ]
  },
  {
   "cell_type": "code",
   "execution_count": 10,
   "metadata": {},
   "outputs": [
    {
     "name": "stdout",
     "output_type": "stream",
     "text": [
      "(15403, 217)\n"
     ]
    },
    {
     "data": {
      "text/html": [
       "<div>\n",
       "<style scoped>\n",
       "    .dataframe tbody tr th:only-of-type {\n",
       "        vertical-align: middle;\n",
       "    }\n",
       "\n",
       "    .dataframe tbody tr th {\n",
       "        vertical-align: top;\n",
       "    }\n",
       "\n",
       "    .dataframe thead th {\n",
       "        text-align: right;\n",
       "    }\n",
       "</style>\n",
       "<table border=\"1\" class=\"dataframe\">\n",
       "  <thead>\n",
       "    <tr style=\"text-align: right;\">\n",
       "      <th></th>\n",
       "      <th>ABL2</th>\n",
       "      <th>ACVR2A</th>\n",
       "      <th>AFF3</th>\n",
       "      <th>ALK</th>\n",
       "      <th>AMER1</th>\n",
       "    </tr>\n",
       "  </thead>\n",
       "  <tbody>\n",
       "    <tr>\n",
       "      <th>1</th>\n",
       "      <td>NaN</td>\n",
       "      <td>NaN</td>\n",
       "      <td>NaN</td>\n",
       "      <td>NaN</td>\n",
       "      <td>NaN</td>\n",
       "    </tr>\n",
       "    <tr>\n",
       "      <th>100</th>\n",
       "      <td>0.0</td>\n",
       "      <td>NaN</td>\n",
       "      <td>0.0</td>\n",
       "      <td>NaN</td>\n",
       "      <td>NaN</td>\n",
       "    </tr>\n",
       "    <tr>\n",
       "      <th>1000</th>\n",
       "      <td>0.0</td>\n",
       "      <td>0.0</td>\n",
       "      <td>0.0</td>\n",
       "      <td>0.0000</td>\n",
       "      <td>NaN</td>\n",
       "    </tr>\n",
       "    <tr>\n",
       "      <th>10000</th>\n",
       "      <td>0.0</td>\n",
       "      <td>0.0</td>\n",
       "      <td>0.0</td>\n",
       "      <td>2.5468</td>\n",
       "      <td>5.1894</td>\n",
       "    </tr>\n",
       "    <tr>\n",
       "      <th>10001</th>\n",
       "      <td>NaN</td>\n",
       "      <td>NaN</td>\n",
       "      <td>NaN</td>\n",
       "      <td>NaN</td>\n",
       "      <td>NaN</td>\n",
       "    </tr>\n",
       "  </tbody>\n",
       "</table>\n",
       "</div>"
      ],
      "text/plain": [
       "       ABL2  ACVR2A  AFF3     ALK   AMER1\n",
       "1       NaN     NaN   NaN     NaN     NaN\n",
       "100     0.0     NaN   0.0     NaN     NaN\n",
       "1000    0.0     0.0   0.0  0.0000     NaN\n",
       "10000   0.0     0.0   0.0  2.5468  5.1894\n",
       "10001   NaN     NaN   NaN     NaN     NaN"
      ]
     },
     "execution_count": 10,
     "metadata": {},
     "output_type": "execute_result"
    }
   ],
   "source": [
    "# concatenate coefficient vectors into a single dataframe\n",
    "coefs_df = (\n",
    "    pd.concat(coefs.values(), axis='columns')\n",
    "      .sort_index(axis='columns')\n",
    ")\n",
    "coefs_df.index.name = None\n",
    "\n",
    "print(coefs_df.shape)\n",
    "coefs_df.iloc[:5, :5]"
   ]
  },
  {
   "cell_type": "code",
   "execution_count": 11,
   "metadata": {},
   "outputs": [],
   "source": [
    "(cfg.data_dir / 'final_models').mkdir(exist_ok=True)\n",
    "coefs_df.to_csv(cfg.final_coefs_df, sep='\\t')"
   ]
  },
  {
   "cell_type": "markdown",
   "metadata": {},
   "source": [
    "### Load parameters and assemble into dataframe"
   ]
  },
  {
   "cell_type": "code",
   "execution_count": 12,
   "metadata": {},
   "outputs": [
    {
     "name": "stdout",
     "output_type": "stream",
     "text": [
      "['MAP3K1', 'ZFHX3', 'TP53', 'FAS', 'ABL2']\n",
      "217\n"
     ]
    }
   ],
   "source": [
    "params = {}\n",
    "\n",
    "# load coefficient vectors from output files, into dict\n",
    "for gene_dir in results_dir.iterdir():\n",
    "    gene_name = gene_dir.stem\n",
    "    gene_dir = Path(results_dir, gene_dir)\n",
    "    if gene_dir.is_file(): continue\n",
    "    for results_file in gene_dir.iterdir():\n",
    "        if not results_file.is_file(): continue\n",
    "        results_filename = str(results_file.stem)\n",
    "        if 'params' not in results_filename: continue\n",
    "        with open(results_file, 'rb') as f:\n",
    "            gene_params = pkl.load(f)\n",
    "        params[gene_name] = pd.DataFrame(\n",
    "            gene_params, index=[gene_name]\n",
    "        )\n",
    "        \n",
    "print(list(params.keys())[:5])\n",
    "print(len(params.keys()))"
   ]
  },
  {
   "cell_type": "code",
   "execution_count": 13,
   "metadata": {},
   "outputs": [
    {
     "data": {
      "text/html": [
       "<div>\n",
       "<style scoped>\n",
       "    .dataframe tbody tr th:only-of-type {\n",
       "        vertical-align: middle;\n",
       "    }\n",
       "\n",
       "    .dataframe tbody tr th {\n",
       "        vertical-align: top;\n",
       "    }\n",
       "\n",
       "    .dataframe thead th {\n",
       "        text-align: right;\n",
       "    }\n",
       "</style>\n",
       "<table border=\"1\" class=\"dataframe\">\n",
       "  <thead>\n",
       "    <tr style=\"text-align: right;\">\n",
       "      <th></th>\n",
       "      <th>alpha</th>\n",
       "      <th>l1_ratio</th>\n",
       "    </tr>\n",
       "  </thead>\n",
       "  <tbody>\n",
       "    <tr>\n",
       "      <th>PIK3CA</th>\n",
       "      <td>0.1</td>\n",
       "      <td>0.1</td>\n",
       "    </tr>\n",
       "  </tbody>\n",
       "</table>\n",
       "</div>"
      ],
      "text/plain": [
       "        alpha  l1_ratio\n",
       "PIK3CA    0.1       0.1"
      ]
     },
     "execution_count": 13,
     "metadata": {},
     "output_type": "execute_result"
    }
   ],
   "source": [
    "params[gene].head()"
   ]
  },
  {
   "cell_type": "code",
   "execution_count": 14,
   "metadata": {},
   "outputs": [
    {
     "name": "stdout",
     "output_type": "stream",
     "text": [
      "(217, 2)\n"
     ]
    },
    {
     "data": {
      "text/html": [
       "<div>\n",
       "<style scoped>\n",
       "    .dataframe tbody tr th:only-of-type {\n",
       "        vertical-align: middle;\n",
       "    }\n",
       "\n",
       "    .dataframe tbody tr th {\n",
       "        vertical-align: top;\n",
       "    }\n",
       "\n",
       "    .dataframe thead th {\n",
       "        text-align: right;\n",
       "    }\n",
       "</style>\n",
       "<table border=\"1\" class=\"dataframe\">\n",
       "  <thead>\n",
       "    <tr style=\"text-align: right;\">\n",
       "      <th></th>\n",
       "      <th>alpha</th>\n",
       "      <th>l1_ratio</th>\n",
       "    </tr>\n",
       "  </thead>\n",
       "  <tbody>\n",
       "    <tr>\n",
       "      <th>ABL2</th>\n",
       "      <td>1.000</td>\n",
       "      <td>0.10</td>\n",
       "    </tr>\n",
       "    <tr>\n",
       "      <th>ACVR2A</th>\n",
       "      <td>0.100</td>\n",
       "      <td>0.50</td>\n",
       "    </tr>\n",
       "    <tr>\n",
       "      <th>AFF3</th>\n",
       "      <td>1.000</td>\n",
       "      <td>0.05</td>\n",
       "    </tr>\n",
       "    <tr>\n",
       "      <th>ALK</th>\n",
       "      <td>0.010</td>\n",
       "      <td>0.90</td>\n",
       "    </tr>\n",
       "    <tr>\n",
       "      <th>AMER1</th>\n",
       "      <td>0.001</td>\n",
       "      <td>0.90</td>\n",
       "    </tr>\n",
       "  </tbody>\n",
       "</table>\n",
       "</div>"
      ],
      "text/plain": [
       "        alpha  l1_ratio\n",
       "ABL2    1.000      0.10\n",
       "ACVR2A  0.100      0.50\n",
       "AFF3    1.000      0.05\n",
       "ALK     0.010      0.90\n",
       "AMER1   0.001      0.90"
      ]
     },
     "execution_count": 14,
     "metadata": {},
     "output_type": "execute_result"
    }
   ],
   "source": [
    "# concatenate coefficient vectors into a single dataframe\n",
    "params_df = (\n",
    "    pd.concat(params.values(), axis='rows')\n",
    "      .sort_index(axis='rows')\n",
    ")\n",
    "\n",
    "print(params_df.shape)\n",
    "params_df.iloc[:5, :5]"
   ]
  },
  {
   "cell_type": "code",
   "execution_count": 15,
   "metadata": {},
   "outputs": [],
   "source": [
    "params_df.to_csv(cfg.final_params_df, sep='\\t')"
   ]
  }
 ],
 "metadata": {
  "kernelspec": {
   "display_name": "Python [conda env:mpmp]",
   "language": "python",
   "name": "conda-env-mpmp-py"
  },
  "language_info": {
   "codemirror_mode": {
    "name": "ipython",
    "version": 3
   },
   "file_extension": ".py",
   "mimetype": "text/x-python",
   "name": "python",
   "nbconvert_exporter": "python",
   "pygments_lexer": "ipython3",
   "version": "3.7.12"
  }
 },
 "nbformat": 4,
 "nbformat_minor": 4
}
