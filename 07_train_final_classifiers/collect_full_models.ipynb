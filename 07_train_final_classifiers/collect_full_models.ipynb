{
 "cells": [
  {
   "cell_type": "markdown",
   "metadata": {},
   "source": [
    "## Collect full models and save into tsv files\n",
    "\n",
    "As a resource to provide with our paper, we want to provide the fit models (coefficients/effect sizes, and parameter choices) as a data file.\n",
    "\n",
    "This notebook collects the results of the bash script at `07_train_final_classifiers/scripts/run_all_genes.sh` and assembles them into dataframes/`.tsv` files."
   ]
  },
  {
   "cell_type": "code",
   "execution_count": 1,
   "metadata": {},
   "outputs": [],
   "source": [
    "from pathlib import Path\n",
    "import pickle as pkl\n",
    "\n",
    "import numpy as np\n",
    "import pandas as pd\n",
    "\n",
    "import mpmp.config as cfg\n",
    "import mpmp.utilities.data_utilities as du\n",
    "\n",
    "%load_ext autoreload\n",
    "%autoreload 2"
   ]
  },
  {
   "cell_type": "code",
   "execution_count": 2,
   "metadata": {},
   "outputs": [],
   "source": [
    "results_dir = Path(cfg.results_dirs['final'],\n",
    "                   'merged_all_params',\n",
    "                   'gene').resolve()\n",
    "\n",
    "raw_data_types = [\n",
    "    'expression',\n",
    "    'rppa',\n",
    "    'mirna',\n",
    "    'mut_sigs'\n",
    "]\n",
    "\n",
    "compressed_data_types = [\n",
    "    'me_27k',\n",
    "    'me_450k'\n",
    "]"
   ]
  },
  {
   "cell_type": "markdown",
   "metadata": {},
   "source": [
    "### Get all possible -omics features\n",
    "\n",
    "This will be the index for our coefficient dataframe. We'll use `NA` to denote features that weren't used in that particular model (e.g. a gene expression feature that wasn't in the top 8000 by MAD, or a cancer type indicator that wasn't included for that gene)."
   ]
  },
  {
   "cell_type": "code",
   "execution_count": 3,
   "metadata": {},
   "outputs": [
    {
     "name": "stdout",
     "output_type": "stream",
     "text": [
      "(15403,)\n",
      "['1' '100' '1000' '10000' '10001'] ['THYM' 'UCEC' 'UCS' 'UVM' 'log10_mut']\n"
     ]
    }
   ],
   "source": [
    "def load_features(training_data, compressed=False, n_dim=5000):\n",
    "    # get all cancer types\n",
    "    sample_info_df = du.load_sample_info('expression')\n",
    "    cancer_types = np.sort(sample_info_df.cancer_type.unique())\n",
    "    \n",
    "    # the columns will include the sample id, so use all but the first one\n",
    "    if compressed:\n",
    "        output_prefix = du.get_compress_output_prefix(\n",
    "            training_data,\n",
    "            n_dim,\n",
    "            cfg.default_seed,\n",
    "            standardize_input=True\n",
    "        )\n",
    "        omics_features = pd.read_csv(\n",
    "            cfg.compressed_data_dir / '{}.tsv.gz'.format(output_prefix),\n",
    "            sep='\\t', nrows=0\n",
    "        ).columns[1:].to_numpy()\n",
    "    else:\n",
    "        omics_features = pd.read_csv(\n",
    "            cfg.data_types[training_data], sep='\\t', nrows=0\n",
    "        ).columns[1:].to_numpy()\n",
    "    \n",
    "    all_feats = np.concatenate((\n",
    "        omics_features,\n",
    "        cancer_types,\n",
    "        np.array(['log10_mut'])\n",
    "    ))\n",
    "    return all_feats\n",
    "\n",
    "exp_feats = load_features('expression')\n",
    "print(exp_feats.shape)\n",
    "print(exp_feats[:5], exp_feats[-5:])"
   ]
  },
  {
   "cell_type": "code",
   "execution_count": 4,
   "metadata": {},
   "outputs": [
    {
     "name": "stdout",
     "output_type": "stream",
     "text": [
      "['X1433EPSILON' 'X4EBP1' 'X4EBP1_pS65' 'X4EBP1_pT37T46' 'X53BP1'] ['THYM' 'UCEC' 'UCS' 'UVM' 'log10_mut']\n"
     ]
    }
   ],
   "source": [
    "rppa_feats = load_features('rppa')\n",
    "print(rppa_feats[:5], rppa_feats[-5:])"
   ]
  },
  {
   "cell_type": "code",
   "execution_count": 5,
   "metadata": {},
   "outputs": [
    {
     "name": "stdout",
     "output_type": "stream",
     "text": [
      "['PC0' 'PC1' 'PC2' 'PC3' 'PC4'] ['THYM' 'UCEC' 'UCS' 'UVM' 'log10_mut']\n"
     ]
    }
   ],
   "source": [
    "me_27k_feats = load_features('me_27k', compressed=True)\n",
    "print(me_27k_feats[:5], me_27k_feats[-5:])"
   ]
  },
  {
   "cell_type": "markdown",
   "metadata": {},
   "source": [
    "### Load coefficients and assemble into dataframe"
   ]
  },
  {
   "cell_type": "code",
   "execution_count": 6,
   "metadata": {},
   "outputs": [
    {
     "name": "stdout",
     "output_type": "stream",
     "text": [
      "['MAP3K1', 'ZFHX3', 'TP53', 'FAS', 'ABL2']\n",
      "217\n"
     ]
    }
   ],
   "source": [
    "def load_coefs(training_data, compressed=False):\n",
    "    coefs = {}\n",
    "    genes = []\n",
    "    \n",
    "    all_feats = load_features(training_data, compressed=compressed)\n",
    "\n",
    "    # load coefficient vectors from output files, into dict\n",
    "    for gene_dir in results_dir.iterdir():\n",
    "        gene_name = gene_dir.stem\n",
    "        gene_dir = Path(results_dir, gene_dir)\n",
    "        if gene_dir.is_file(): continue\n",
    "        genes.append(gene_name)\n",
    "        for results_file in gene_dir.iterdir():\n",
    "            if not results_file.is_file(): continue\n",
    "            results_filename = str(results_file.stem)\n",
    "            if training_data not in results_filename: continue\n",
    "            if 'coefficients' not in results_filename: continue\n",
    "            coefs_df = pd.read_csv(results_file, sep='\\t')\n",
    "            coefs[gene_name] = (coefs_df\n",
    "                .loc[:, ['feature', 'weight']]\n",
    "                .set_index('feature')\n",
    "                # reindex will add NaN rows for features that weren't used,\n",
    "                # this is what we want here\n",
    "                .reindex(all_feats)\n",
    "                .rename(columns={'weight': gene_name})\n",
    "            )\n",
    "            \n",
    "    return coefs, genes\n",
    "                    \n",
    "coefs, genes = load_coefs('rppa')\n",
    "print(genes[:5])\n",
    "print(len(genes))"
   ]
  },
  {
   "cell_type": "code",
   "execution_count": 7,
   "metadata": {},
   "outputs": [
    {
     "name": "stdout",
     "output_type": "stream",
     "text": [
      "0\n",
      "set()\n"
     ]
    }
   ],
   "source": [
    "# make sure all genes with parameters have classifiers\n",
    "# the set difference should be empty\n",
    "print(len(set(genes) - set(coefs.keys())))\n",
    "print(set(genes) - set(coefs.keys()))"
   ]
  },
  {
   "cell_type": "code",
   "execution_count": 8,
   "metadata": {},
   "outputs": [],
   "source": [
    "assert len(set(genes) - set(coefs.keys())) == 0"
   ]
  },
  {
   "cell_type": "code",
   "execution_count": 9,
   "metadata": {},
   "outputs": [
    {
     "name": "stdout",
     "output_type": "stream",
     "text": [
      "PIK3CA    21\n",
      "dtype: int64\n"
     ]
    },
    {
     "data": {
      "text/html": [
       "<div>\n",
       "<style scoped>\n",
       "    .dataframe tbody tr th:only-of-type {\n",
       "        vertical-align: middle;\n",
       "    }\n",
       "\n",
       "    .dataframe tbody tr th {\n",
       "        vertical-align: top;\n",
       "    }\n",
       "\n",
       "    .dataframe thead th {\n",
       "        text-align: right;\n",
       "    }\n",
       "</style>\n",
       "<table border=\"1\" class=\"dataframe\">\n",
       "  <thead>\n",
       "    <tr style=\"text-align: right;\">\n",
       "      <th></th>\n",
       "      <th>PIK3CA</th>\n",
       "    </tr>\n",
       "    <tr>\n",
       "      <th>feature</th>\n",
       "      <th></th>\n",
       "    </tr>\n",
       "  </thead>\n",
       "  <tbody>\n",
       "    <tr>\n",
       "      <th>X1433EPSILON</th>\n",
       "      <td>-0.014047</td>\n",
       "    </tr>\n",
       "    <tr>\n",
       "      <th>X4EBP1</th>\n",
       "      <td>0.000000</td>\n",
       "    </tr>\n",
       "    <tr>\n",
       "      <th>X4EBP1_pS65</th>\n",
       "      <td>-0.006059</td>\n",
       "    </tr>\n",
       "    <tr>\n",
       "      <th>X4EBP1_pT37T46</th>\n",
       "      <td>0.000000</td>\n",
       "    </tr>\n",
       "    <tr>\n",
       "      <th>X53BP1</th>\n",
       "      <td>0.051805</td>\n",
       "    </tr>\n",
       "  </tbody>\n",
       "</table>\n",
       "</div>"
      ],
      "text/plain": [
       "                  PIK3CA\n",
       "feature                 \n",
       "X1433EPSILON   -0.014047\n",
       "X4EBP1          0.000000\n",
       "X4EBP1_pS65    -0.006059\n",
       "X4EBP1_pT37T46  0.000000\n",
       "X53BP1          0.051805"
      ]
     },
     "execution_count": 9,
     "metadata": {},
     "output_type": "execute_result"
    }
   ],
   "source": [
    "gene = 'PIK3CA'\n",
    "print(coefs[gene].isna().sum())\n",
    "coefs[gene].head()"
   ]
  },
  {
   "cell_type": "code",
   "execution_count": 10,
   "metadata": {},
   "outputs": [
    {
     "data": {
      "text/html": [
       "<div>\n",
       "<style scoped>\n",
       "    .dataframe tbody tr th:only-of-type {\n",
       "        vertical-align: middle;\n",
       "    }\n",
       "\n",
       "    .dataframe tbody tr th {\n",
       "        vertical-align: top;\n",
       "    }\n",
       "\n",
       "    .dataframe thead th {\n",
       "        text-align: right;\n",
       "    }\n",
       "</style>\n",
       "<table border=\"1\" class=\"dataframe\">\n",
       "  <thead>\n",
       "    <tr style=\"text-align: right;\">\n",
       "      <th></th>\n",
       "      <th>PIK3CA</th>\n",
       "    </tr>\n",
       "    <tr>\n",
       "      <th>feature</th>\n",
       "      <th></th>\n",
       "    </tr>\n",
       "  </thead>\n",
       "  <tbody>\n",
       "    <tr>\n",
       "      <th>ACC</th>\n",
       "      <td>NaN</td>\n",
       "    </tr>\n",
       "    <tr>\n",
       "      <th>CHOL</th>\n",
       "      <td>NaN</td>\n",
       "    </tr>\n",
       "    <tr>\n",
       "      <th>DLBC</th>\n",
       "      <td>NaN</td>\n",
       "    </tr>\n",
       "    <tr>\n",
       "      <th>GBM</th>\n",
       "      <td>NaN</td>\n",
       "    </tr>\n",
       "    <tr>\n",
       "      <th>KICH</th>\n",
       "      <td>NaN</td>\n",
       "    </tr>\n",
       "  </tbody>\n",
       "</table>\n",
       "</div>"
      ],
      "text/plain": [
       "         PIK3CA\n",
       "feature        \n",
       "ACC         NaN\n",
       "CHOL        NaN\n",
       "DLBC        NaN\n",
       "GBM         NaN\n",
       "KICH        NaN"
      ]
     },
     "execution_count": 10,
     "metadata": {},
     "output_type": "execute_result"
    }
   ],
   "source": [
    "coefs[gene][coefs[gene][gene].isna()].head()"
   ]
  },
  {
   "cell_type": "code",
   "execution_count": 11,
   "metadata": {},
   "outputs": [
    {
     "name": "stdout",
     "output_type": "stream",
     "text": [
      "21 223\n"
     ]
    }
   ],
   "source": [
    "na_feats = coefs[gene][coefs[gene][gene].isna()].index\n",
    "print(len(na_feats), len(coefs[gene].index))\n",
    "assert len(na_feats) < len(coefs[gene].index)"
   ]
  },
  {
   "cell_type": "code",
   "execution_count": 12,
   "metadata": {},
   "outputs": [
    {
     "name": "stdout",
     "output_type": "stream",
     "text": [
      "/home/jake/research/mpmp/data/final_models/final_expression_all_merged_coefs.tsv\n",
      "/home/jake/research/mpmp/data/final_models/final_rppa_all_merged_coefs.tsv\n",
      "/home/jake/research/mpmp/data/final_models/final_mirna_all_merged_coefs.tsv\n",
      "/home/jake/research/mpmp/data/final_models/final_mut_sigs_all_merged_coefs.tsv\n"
     ]
    }
   ],
   "source": [
    "# concatenate coefficient vectors into a single dataframe and save\n",
    "(cfg.data_dir / 'final_models').mkdir(exist_ok=True)\n",
    "\n",
    "# first do this for data types that use raw features\n",
    "for data_type in raw_data_types:\n",
    "    coefs, genes = load_coefs(data_type)\n",
    "    coefs_df = (\n",
    "        pd.concat(coefs.values(), axis='columns')\n",
    "          .sort_index(axis='columns')\n",
    "    )\n",
    "    coefs_df.index.name = None\n",
    "    # cfg.final_coefs_df should be a Path object, set in config.py\n",
    "    output_fname = cfg.final_coefs_df.format(data_type)\n",
    "    coefs_df.to_csv(output_fname, sep='\\t')\n",
    "    print(output_fname)"
   ]
  },
  {
   "cell_type": "code",
   "execution_count": 13,
   "metadata": {},
   "outputs": [
    {
     "name": "stdout",
     "output_type": "stream",
     "text": [
      "/home/jake/research/mpmp/data/final_models/final_me_27k_all_merged_coefs.tsv\n",
      "/home/jake/research/mpmp/data/final_models/final_me_450k_all_merged_coefs.tsv\n"
     ]
    }
   ],
   "source": [
    "# now handle data types that use compressed PCA features\n",
    "for data_type in compressed_data_types:\n",
    "    coefs, genes = load_coefs(data_type, compressed=True)\n",
    "    coefs_df = (\n",
    "        pd.concat(coefs.values(), axis='columns')\n",
    "          .sort_index(axis='columns')\n",
    "    )\n",
    "    coefs_df.index.name = None\n",
    "    # cfg.final_coefs_df should be a Path object, set in config.py\n",
    "    output_fname = cfg.final_coefs_df.format(data_type)\n",
    "    coefs_df.to_csv(output_fname, sep='\\t')\n",
    "    print(output_fname)"
   ]
  },
  {
   "cell_type": "markdown",
   "metadata": {},
   "source": [
    "### Load parameters and assemble into dataframe"
   ]
  },
  {
   "cell_type": "code",
   "execution_count": 14,
   "metadata": {},
   "outputs": [
    {
     "name": "stdout",
     "output_type": "stream",
     "text": [
      "['MAP3K1', 'ZFHX3', 'TP53', 'FAS', 'ABL2']\n",
      "217\n"
     ]
    }
   ],
   "source": [
    "params = {}\n",
    "\n",
    "# load parameter lists from output files, into dict\n",
    "for gene_dir in results_dir.iterdir():\n",
    "    gene_name = gene_dir.stem\n",
    "    gene_dir = Path(results_dir, gene_dir)\n",
    "    if gene_dir.is_file(): continue\n",
    "    for results_file in gene_dir.iterdir():\n",
    "        if not results_file.is_file(): continue\n",
    "        results_filename = str(results_file.stem)\n",
    "        if 'params' not in results_filename: continue\n",
    "        with open(results_file, 'rb') as f:\n",
    "            gene_params = pkl.load(f)\n",
    "        params[gene_name] = pd.DataFrame(\n",
    "            gene_params, index=[gene_name]\n",
    "        )\n",
    "        \n",
    "print(list(params.keys())[:5])\n",
    "print(len(params.keys()))"
   ]
  },
  {
   "cell_type": "code",
   "execution_count": 15,
   "metadata": {},
   "outputs": [
    {
     "data": {
      "text/html": [
       "<div>\n",
       "<style scoped>\n",
       "    .dataframe tbody tr th:only-of-type {\n",
       "        vertical-align: middle;\n",
       "    }\n",
       "\n",
       "    .dataframe tbody tr th {\n",
       "        vertical-align: top;\n",
       "    }\n",
       "\n",
       "    .dataframe thead th {\n",
       "        text-align: right;\n",
       "    }\n",
       "</style>\n",
       "<table border=\"1\" class=\"dataframe\">\n",
       "  <thead>\n",
       "    <tr style=\"text-align: right;\">\n",
       "      <th></th>\n",
       "      <th>alpha</th>\n",
       "      <th>l1_ratio</th>\n",
       "    </tr>\n",
       "  </thead>\n",
       "  <tbody>\n",
       "    <tr>\n",
       "      <th>PIK3CA</th>\n",
       "      <td>0.1</td>\n",
       "      <td>0.1</td>\n",
       "    </tr>\n",
       "  </tbody>\n",
       "</table>\n",
       "</div>"
      ],
      "text/plain": [
       "        alpha  l1_ratio\n",
       "PIK3CA    0.1       0.1"
      ]
     },
     "execution_count": 15,
     "metadata": {},
     "output_type": "execute_result"
    }
   ],
   "source": [
    "params[gene].head()"
   ]
  },
  {
   "cell_type": "code",
   "execution_count": 16,
   "metadata": {},
   "outputs": [
    {
     "name": "stdout",
     "output_type": "stream",
     "text": [
      "(217, 2)\n"
     ]
    },
    {
     "data": {
      "text/html": [
       "<div>\n",
       "<style scoped>\n",
       "    .dataframe tbody tr th:only-of-type {\n",
       "        vertical-align: middle;\n",
       "    }\n",
       "\n",
       "    .dataframe tbody tr th {\n",
       "        vertical-align: top;\n",
       "    }\n",
       "\n",
       "    .dataframe thead th {\n",
       "        text-align: right;\n",
       "    }\n",
       "</style>\n",
       "<table border=\"1\" class=\"dataframe\">\n",
       "  <thead>\n",
       "    <tr style=\"text-align: right;\">\n",
       "      <th></th>\n",
       "      <th>alpha</th>\n",
       "      <th>l1_ratio</th>\n",
       "    </tr>\n",
       "  </thead>\n",
       "  <tbody>\n",
       "    <tr>\n",
       "      <th>ABL2</th>\n",
       "      <td>0.1</td>\n",
       "      <td>0.30</td>\n",
       "    </tr>\n",
       "    <tr>\n",
       "      <th>ACVR2A</th>\n",
       "      <td>0.1</td>\n",
       "      <td>0.50</td>\n",
       "    </tr>\n",
       "    <tr>\n",
       "      <th>AFF3</th>\n",
       "      <td>1.0</td>\n",
       "      <td>0.05</td>\n",
       "    </tr>\n",
       "    <tr>\n",
       "      <th>ALK</th>\n",
       "      <td>1.0</td>\n",
       "      <td>0.50</td>\n",
       "    </tr>\n",
       "    <tr>\n",
       "      <th>AMER1</th>\n",
       "      <td>0.1</td>\n",
       "      <td>0.90</td>\n",
       "    </tr>\n",
       "  </tbody>\n",
       "</table>\n",
       "</div>"
      ],
      "text/plain": [
       "        alpha  l1_ratio\n",
       "ABL2      0.1      0.30\n",
       "ACVR2A    0.1      0.50\n",
       "AFF3      1.0      0.05\n",
       "ALK       1.0      0.50\n",
       "AMER1     0.1      0.90"
      ]
     },
     "execution_count": 16,
     "metadata": {},
     "output_type": "execute_result"
    }
   ],
   "source": [
    "# concatenate lists of selected parameters into a single dataframe\n",
    "params_df = (\n",
    "    pd.concat(params.values(), axis='rows')\n",
    "      .sort_index(axis='rows')\n",
    ")\n",
    "\n",
    "print(params_df.shape)\n",
    "params_df.iloc[:5, :5]"
   ]
  },
  {
   "cell_type": "code",
   "execution_count": 17,
   "metadata": {},
   "outputs": [
    {
     "name": "stdout",
     "output_type": "stream",
     "text": [
      "/home/jake/research/mpmp/data/final_models/final_{}_all_merged_params.tsv\n"
     ]
    }
   ],
   "source": [
    "# cfg.final_params_df should be a Path object, set in config.py\n",
    "params_df.to_csv(cfg.final_params_df, sep='\\t')\n",
    "print(cfg.final_params_df)"
   ]
  }
 ],
 "metadata": {
  "kernelspec": {
   "display_name": "Python [conda env:mpmp]",
   "language": "python",
   "name": "conda-env-mpmp-py"
  },
  "language_info": {
   "codemirror_mode": {
    "name": "ipython",
    "version": 3
   },
   "file_extension": ".py",
   "mimetype": "text/x-python",
   "name": "python",
   "nbconvert_exporter": "python",
   "pygments_lexer": "ipython3",
   "version": "3.7.12"
  }
 },
 "nbformat": 4,
 "nbformat_minor": 4
}
