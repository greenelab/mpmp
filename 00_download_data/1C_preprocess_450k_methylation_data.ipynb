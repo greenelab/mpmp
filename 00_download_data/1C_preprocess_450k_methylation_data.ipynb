{
 "cells": [
  {
   "cell_type": "markdown",
   "metadata": {},
   "source": [
    "## Preprocess pan-cancer 450K methylation data"
   ]
  },
  {
   "cell_type": "markdown",
   "metadata": {},
   "source": [
    "Load the downloaded data and curate sample IDs.\n",
    "\n",
    "TODO: look at cancer type composition of represented samples (are any missing?)"
   ]
  },
  {
   "cell_type": "code",
   "execution_count": 1,
   "metadata": {},
   "outputs": [],
   "source": [
    "import os\n",
    "\n",
    "import numpy as np\n",
    "import pandas as pd\n",
    "import matplotlib.pyplot as plt\n",
    "import seaborn as sns\n",
    "\n",
    "import mpmp.config as cfg"
   ]
  },
  {
   "cell_type": "markdown",
   "metadata": {},
   "source": [
    "### Load and process methylation data"
   ]
  },
  {
   "cell_type": "code",
   "execution_count": 2,
   "metadata": {},
   "outputs": [
    {
     "data": {
      "text/html": [
       "<div>\n",
       "<style scoped>\n",
       "    .dataframe tbody tr th:only-of-type {\n",
       "        vertical-align: middle;\n",
       "    }\n",
       "\n",
       "    .dataframe tbody tr th {\n",
       "        vertical-align: top;\n",
       "    }\n",
       "\n",
       "    .dataframe thead th {\n",
       "        text-align: right;\n",
       "    }\n",
       "</style>\n",
       "<table border=\"1\" class=\"dataframe\">\n",
       "  <thead>\n",
       "    <tr style=\"text-align: right;\">\n",
       "      <th></th>\n",
       "      <th>id</th>\n",
       "      <th>filename</th>\n",
       "      <th>md5</th>\n",
       "      <th>size</th>\n",
       "    </tr>\n",
       "    <tr>\n",
       "      <th>name</th>\n",
       "      <th></th>\n",
       "      <th></th>\n",
       "      <th></th>\n",
       "      <th></th>\n",
       "    </tr>\n",
       "  </thead>\n",
       "  <tbody>\n",
       "    <tr>\n",
       "      <th>mirna_sample</th>\n",
       "      <td>55d9bf6f-0712-4315-b588-e6f8e295018e</td>\n",
       "      <td>PanCanAtlas_miRNA_sample_information_list.txt</td>\n",
       "      <td>02bb56712be34bcd58c50d90387aebde</td>\n",
       "      <td>553408</td>\n",
       "    </tr>\n",
       "    <tr>\n",
       "      <th>methylation_27k</th>\n",
       "      <td>d82e2c44-89eb-43d9-b6d3-712732bf6a53</td>\n",
       "      <td>jhu-usc.edu_PANCAN_merged_HumanMethylation27_H...</td>\n",
       "      <td>5cec086f0b002d17befef76a3241e73b</td>\n",
       "      <td>5022150019</td>\n",
       "    </tr>\n",
       "    <tr>\n",
       "      <th>methylation_450k</th>\n",
       "      <td>99b0c493-9e94-4d99-af9f-151e46bab989</td>\n",
       "      <td>jhu-usc.edu_PANCAN_HumanMethylation450.betaVal...</td>\n",
       "      <td>a92f50490cf4eca98b0d19e10927de9d</td>\n",
       "      <td>41541692788</td>\n",
       "    </tr>\n",
       "  </tbody>\n",
       "</table>\n",
       "</div>"
      ],
      "text/plain": [
       "                                                    id  \\\n",
       "name                                                     \n",
       "mirna_sample      55d9bf6f-0712-4315-b588-e6f8e295018e   \n",
       "methylation_27k   d82e2c44-89eb-43d9-b6d3-712732bf6a53   \n",
       "methylation_450k  99b0c493-9e94-4d99-af9f-151e46bab989   \n",
       "\n",
       "                                                           filename  \\\n",
       "name                                                                  \n",
       "mirna_sample          PanCanAtlas_miRNA_sample_information_list.txt   \n",
       "methylation_27k   jhu-usc.edu_PANCAN_merged_HumanMethylation27_H...   \n",
       "methylation_450k  jhu-usc.edu_PANCAN_HumanMethylation450.betaVal...   \n",
       "\n",
       "                                               md5         size  \n",
       "name                                                             \n",
       "mirna_sample      02bb56712be34bcd58c50d90387aebde       553408  \n",
       "methylation_27k   5cec086f0b002d17befef76a3241e73b   5022150019  \n",
       "methylation_450k  a92f50490cf4eca98b0d19e10927de9d  41541692788  "
      ]
     },
     "execution_count": 2,
     "metadata": {},
     "output_type": "execute_result"
    }
   ],
   "source": [
    "# first load manifest file, this tells us the filenames of the raw data files\n",
    "manifest_df = pd.read_csv(os.path.join(cfg.data_dir, 'manifest.tsv'),\n",
    "                          sep='\\t', index_col=0)\n",
    "manifest_df.head(3)"
   ]
  },
  {
   "cell_type": "code",
   "execution_count": 3,
   "metadata": {},
   "outputs": [
    {
     "name": "stderr",
     "output_type": "stream",
     "text": [
      "/home/jake/anaconda3/envs/mpmp/lib/python3.7/site-packages/ipykernel_launcher.py:7: ParserWarning: Both a converter and dtype were specified for column Unnamed: 0 - only the converter will be used\n",
      "  import sys\n"
     ]
    },
    {
     "name": "stdout",
     "output_type": "stream",
     "text": [
      "(9664, 396065)\n"
     ]
    },
    {
     "data": {
      "text/html": [
       "<div>\n",
       "<style scoped>\n",
       "    .dataframe tbody tr th:only-of-type {\n",
       "        vertical-align: middle;\n",
       "    }\n",
       "\n",
       "    .dataframe tbody tr th {\n",
       "        vertical-align: top;\n",
       "    }\n",
       "\n",
       "    .dataframe thead th {\n",
       "        text-align: right;\n",
       "    }\n",
       "</style>\n",
       "<table border=\"1\" class=\"dataframe\">\n",
       "  <thead>\n",
       "    <tr style=\"text-align: right;\">\n",
       "      <th></th>\n",
       "      <th>cg00000029</th>\n",
       "      <th>cg00000165</th>\n",
       "      <th>cg00000236</th>\n",
       "      <th>cg00000289</th>\n",
       "      <th>cg00000292</th>\n",
       "    </tr>\n",
       "    <tr>\n",
       "      <th>sample_id</th>\n",
       "      <th></th>\n",
       "      <th></th>\n",
       "      <th></th>\n",
       "      <th></th>\n",
       "      <th></th>\n",
       "    </tr>\n",
       "  </thead>\n",
       "  <tbody>\n",
       "    <tr>\n",
       "      <th>TCGA-OR-A5J1-01A-11D-A29J-05</th>\n",
       "      <td>0.119877</td>\n",
       "      <td>0.903200</td>\n",
       "      <td>0.879704</td>\n",
       "      <td>0.766316</td>\n",
       "      <td>0.409997</td>\n",
       "    </tr>\n",
       "    <tr>\n",
       "      <th>TCGA-OR-A5J2-01A-11D-A29J-05</th>\n",
       "      <td>0.107120</td>\n",
       "      <td>0.818523</td>\n",
       "      <td>0.256479</td>\n",
       "      <td>0.674323</td>\n",
       "      <td>0.552000</td>\n",
       "    </tr>\n",
       "    <tr>\n",
       "      <th>TCGA-OR-A5J3-01A-11D-A29J-05</th>\n",
       "      <td>0.060752</td>\n",
       "      <td>0.093014</td>\n",
       "      <td>0.253639</td>\n",
       "      <td>0.750682</td>\n",
       "      <td>0.851327</td>\n",
       "    </tr>\n",
       "    <tr>\n",
       "      <th>TCGA-OR-A5J4-01A-11D-A29J-05</th>\n",
       "      <td>0.157005</td>\n",
       "      <td>0.856304</td>\n",
       "      <td>0.940341</td>\n",
       "      <td>0.842987</td>\n",
       "      <td>0.847317</td>\n",
       "    </tr>\n",
       "    <tr>\n",
       "      <th>TCGA-OR-A5J5-01A-11D-A29J-05</th>\n",
       "      <td>0.534426</td>\n",
       "      <td>0.928812</td>\n",
       "      <td>0.931214</td>\n",
       "      <td>0.766848</td>\n",
       "      <td>0.761502</td>\n",
       "    </tr>\n",
       "  </tbody>\n",
       "</table>\n",
       "</div>"
      ],
      "text/plain": [
       "                              cg00000029  cg00000165  cg00000236  cg00000289  \\\n",
       "sample_id                                                                      \n",
       "TCGA-OR-A5J1-01A-11D-A29J-05    0.119877    0.903200    0.879704    0.766316   \n",
       "TCGA-OR-A5J2-01A-11D-A29J-05    0.107120    0.818523    0.256479    0.674323   \n",
       "TCGA-OR-A5J3-01A-11D-A29J-05    0.060752    0.093014    0.253639    0.750682   \n",
       "TCGA-OR-A5J4-01A-11D-A29J-05    0.157005    0.856304    0.940341    0.842987   \n",
       "TCGA-OR-A5J5-01A-11D-A29J-05    0.534426    0.928812    0.931214    0.766848   \n",
       "\n",
       "                              cg00000292  \n",
       "sample_id                                 \n",
       "TCGA-OR-A5J1-01A-11D-A29J-05    0.409997  \n",
       "TCGA-OR-A5J2-01A-11D-A29J-05    0.552000  \n",
       "TCGA-OR-A5J3-01A-11D-A29J-05    0.851327  \n",
       "TCGA-OR-A5J4-01A-11D-A29J-05    0.847317  \n",
       "TCGA-OR-A5J5-01A-11D-A29J-05    0.761502  "
      ]
     },
     "execution_count": 3,
     "metadata": {},
     "output_type": "execute_result"
    }
   ],
   "source": [
    "tcga_methylation_df = (\n",
    "    pd.read_csv(os.path.join(cfg.raw_data_dir,\n",
    "                             manifest_df.loc['methylation_450k'].filename),\n",
    "                index_col=0,\n",
    "                sep='\\t',\n",
    "                dtype='float32', # float64 won't fit in 64GB RAM\n",
    "                converters={0: str}) # don't convert the col names to float\n",
    "       .transpose()\n",
    ")\n",
    "# tcga_methylation_df = (\n",
    "#     pd.read_csv(os.path.join(cfg.raw_data_dir,\n",
    "#                              manifest_df.loc['methylation_450k'].filename),\n",
    "#                 index_col=0,\n",
    "#                 sep='\\t',\n",
    "#                 dtype='float32', # float64 won't fit in 64GB RAM\n",
    "#                 converters={0: str}, # don't convert the col names to float\n",
    "#                 nrows=200000) # testing smaller data\n",
    "#       .transpose()\n",
    "# )\n",
    "\n",
    "tcga_methylation_df.index.rename('sample_id', inplace=True)\n",
    "print(tcga_methylation_df.shape)\n",
    "tcga_methylation_df.iloc[:5, :5]"
   ]
  },
  {
   "cell_type": "code",
   "execution_count": 4,
   "metadata": {},
   "outputs": [
    {
     "name": "stdout",
     "output_type": "stream",
     "text": [
      "(9639, 396065)\n"
     ]
    }
   ],
   "source": [
    "# update sample IDs to remove multiple samples measured on the same tumor\n",
    "# and to map with the clinical information\n",
    "tcga_methylation_df.index = tcga_methylation_df.index.str.slice(start=0, stop=15)\n",
    "tcga_methylation_df = tcga_methylation_df.loc[~tcga_methylation_df.index.duplicated(), :]\n",
    "print(tcga_methylation_df.shape)"
   ]
  },
  {
   "cell_type": "code",
   "execution_count": 5,
   "metadata": {},
   "outputs": [],
   "source": [
    "# as a simple approach, get rid of all NA columns\n",
    "# really we should do something more nuanced here like filter/impute\n",
    "# tcga_methylation_df.dropna(axis='columns', inplace=True)"
   ]
  },
  {
   "cell_type": "code",
   "execution_count": 6,
   "metadata": {},
   "outputs": [
    {
     "name": "stdout",
     "output_type": "stream",
     "text": [
      "(9639,)\n"
     ]
    },
    {
     "data": {
      "text/plain": [
       "sample_id\n",
       "TCGA-FG-5962-01    10500\n",
       "TCGA-67-4679-01    10043\n",
       "TCGA-EL-A4JX-01     7675\n",
       "TCGA-2J-AABR-01     7562\n",
       "TCGA-W5-AA2Q-01     7505\n",
       "dtype: int64"
      ]
     },
     "execution_count": 6,
     "metadata": {},
     "output_type": "execute_result"
    }
   ],
   "source": [
    "# how many missing values does each probe (column) have?\n",
    "sample_na = tcga_methylation_df.transpose().isna().sum()\n",
    "print(sample_na.shape)\n",
    "sample_na.sort_values(ascending=False).head()"
   ]
  },
  {
   "cell_type": "code",
   "execution_count": 7,
   "metadata": {},
   "outputs": [
    {
     "name": "stdout",
     "output_type": "stream",
     "text": [
      "(9639, 396065)\n",
      "(9629, 396065)\n",
      "(9629, 370961)\n"
     ]
    }
   ],
   "source": [
    "# remove 10 samples, then impute for probes with 1 or 2 NA values\n",
    "n_filter = 10\n",
    "n_impute = 5\n",
    "\n",
    "samples_sorted = sample_na.sort_values(ascending=False)\n",
    "output_dir = os.path.join(cfg.data_dir, 'methylation_preprocessed')\n",
    "os.makedirs(output_dir, exist_ok=True)\n",
    "\n",
    "def filter_na_samples(methylation_df, bad_samples):\n",
    "    # don't drop NA columns, we'll do that after imputation\n",
    "    return (\n",
    "        methylation_df.loc[~methylation_df.index.isin(bad_samples)]\n",
    "    )\n",
    "\n",
    "def impute_leq(methylation_df, n_na):\n",
    "    if n_na == 0:\n",
    "        return methylation_df\n",
    "    else:\n",
    "        return methylation_df.fillna(methylation_df.mean(), limit=n_na)\n",
    "\n",
    "# filter, impute, drop NA columns\n",
    "print(tcga_methylation_df.shape)\n",
    "samples_for_count = samples_sorted.iloc[:n_filter].index.values\n",
    "tcga_methylation_df = filter_na_samples(tcga_methylation_df,\n",
    "                                        samples_for_count)\n",
    "print(tcga_methylation_df.shape)\n",
    "tcga_methylation_df = impute_leq(tcga_methylation_df, n_impute)\n",
    "tcga_methylation_df.dropna(axis='columns', inplace=True)\n",
    "print(tcga_methylation_df.shape)\n",
    "\n",
    "# filtered_file = os.path.join(output_dir,\n",
    "#                              'methylation_processed_n{}_i{}.tsv.gz'.format(n_filter, n_impute))\n",
    "# print(filtered_file)\n",
    "# methylation_processed_df.to_csv(filtered_file, sep='\\t', float_format='%.3g')"
   ]
  },
  {
   "cell_type": "code",
   "execution_count": 11,
   "metadata": {},
   "outputs": [
    {
     "ename": "ValueError",
     "evalue": "n_components=10000 must be between 0 and min(n_samples, n_features)=9629 with svd_solver='full'",
     "output_type": "error",
     "traceback": [
      "\u001b[0;31m---------------------------------------------------------------------------\u001b[0m",
      "\u001b[0;31mValueError\u001b[0m                                Traceback (most recent call last)",
      "\u001b[0;32m<ipython-input-11-74c09ba59b48>\u001b[0m in \u001b[0;36m<module>\u001b[0;34m\u001b[0m\n\u001b[1;32m      4\u001b[0m \u001b[0;32mfor\u001b[0m \u001b[0mn_pcs\u001b[0m \u001b[0;32min\u001b[0m \u001b[0mn_pcs_list\u001b[0m\u001b[0;34m:\u001b[0m\u001b[0;34m\u001b[0m\u001b[0;34m\u001b[0m\u001b[0m\n\u001b[1;32m      5\u001b[0m     \u001b[0mpca\u001b[0m \u001b[0;34m=\u001b[0m \u001b[0mPCA\u001b[0m\u001b[0;34m(\u001b[0m\u001b[0mn_components\u001b[0m\u001b[0;34m=\u001b[0m\u001b[0mn_pcs\u001b[0m\u001b[0;34m)\u001b[0m\u001b[0;34m\u001b[0m\u001b[0;34m\u001b[0m\u001b[0m\n\u001b[0;32m----> 6\u001b[0;31m     \u001b[0mme_pca\u001b[0m \u001b[0;34m=\u001b[0m \u001b[0mpca\u001b[0m\u001b[0;34m.\u001b[0m\u001b[0mfit_transform\u001b[0m\u001b[0;34m(\u001b[0m\u001b[0mtcga_methylation_df\u001b[0m\u001b[0;34m)\u001b[0m\u001b[0;34m\u001b[0m\u001b[0;34m\u001b[0m\u001b[0m\n\u001b[0m\u001b[1;32m      7\u001b[0m     \u001b[0mprint\u001b[0m\u001b[0;34m(\u001b[0m\u001b[0mme_pca\u001b[0m\u001b[0;34m.\u001b[0m\u001b[0mshape\u001b[0m\u001b[0;34m)\u001b[0m\u001b[0;34m\u001b[0m\u001b[0;34m\u001b[0m\u001b[0m\n\u001b[1;32m      8\u001b[0m     \u001b[0mme_pca\u001b[0m \u001b[0;34m=\u001b[0m \u001b[0mpd\u001b[0m\u001b[0;34m.\u001b[0m\u001b[0mDataFrame\u001b[0m\u001b[0;34m(\u001b[0m\u001b[0mme_pca\u001b[0m\u001b[0;34m,\u001b[0m \u001b[0mindex\u001b[0m\u001b[0;34m=\u001b[0m\u001b[0mtcga_methylation_df\u001b[0m\u001b[0;34m.\u001b[0m\u001b[0mindex\u001b[0m\u001b[0;34m)\u001b[0m\u001b[0;34m\u001b[0m\u001b[0;34m\u001b[0m\u001b[0m\n",
      "\u001b[0;32m~/anaconda3/envs/mpmp/lib/python3.7/site-packages/sklearn/decomposition/_pca.py\u001b[0m in \u001b[0;36mfit_transform\u001b[0;34m(self, X, y)\u001b[0m\n\u001b[1;32m    374\u001b[0m         \u001b[0mC\u001b[0m\u001b[0;34m-\u001b[0m\u001b[0mordered\u001b[0m \u001b[0marray\u001b[0m\u001b[0;34m,\u001b[0m \u001b[0muse\u001b[0m \u001b[0;34m'np.ascontiguousarray'\u001b[0m\u001b[0;34m.\u001b[0m\u001b[0;34m\u001b[0m\u001b[0;34m\u001b[0m\u001b[0m\n\u001b[1;32m    375\u001b[0m         \"\"\"\n\u001b[0;32m--> 376\u001b[0;31m         \u001b[0mU\u001b[0m\u001b[0;34m,\u001b[0m \u001b[0mS\u001b[0m\u001b[0;34m,\u001b[0m \u001b[0mV\u001b[0m \u001b[0;34m=\u001b[0m \u001b[0mself\u001b[0m\u001b[0;34m.\u001b[0m\u001b[0m_fit\u001b[0m\u001b[0;34m(\u001b[0m\u001b[0mX\u001b[0m\u001b[0;34m)\u001b[0m\u001b[0;34m\u001b[0m\u001b[0;34m\u001b[0m\u001b[0m\n\u001b[0m\u001b[1;32m    377\u001b[0m         \u001b[0mU\u001b[0m \u001b[0;34m=\u001b[0m \u001b[0mU\u001b[0m\u001b[0;34m[\u001b[0m\u001b[0;34m:\u001b[0m\u001b[0;34m,\u001b[0m \u001b[0;34m:\u001b[0m\u001b[0mself\u001b[0m\u001b[0;34m.\u001b[0m\u001b[0mn_components_\u001b[0m\u001b[0;34m]\u001b[0m\u001b[0;34m\u001b[0m\u001b[0;34m\u001b[0m\u001b[0m\n\u001b[1;32m    378\u001b[0m \u001b[0;34m\u001b[0m\u001b[0m\n",
      "\u001b[0;32m~/anaconda3/envs/mpmp/lib/python3.7/site-packages/sklearn/decomposition/_pca.py\u001b[0m in \u001b[0;36m_fit\u001b[0;34m(self, X)\u001b[0m\n\u001b[1;32m    421\u001b[0m         \u001b[0;31m# Call different fits for either full or truncated SVD\u001b[0m\u001b[0;34m\u001b[0m\u001b[0;34m\u001b[0m\u001b[0;34m\u001b[0m\u001b[0m\n\u001b[1;32m    422\u001b[0m         \u001b[0;32mif\u001b[0m \u001b[0mself\u001b[0m\u001b[0;34m.\u001b[0m\u001b[0m_fit_svd_solver\u001b[0m \u001b[0;34m==\u001b[0m \u001b[0;34m'full'\u001b[0m\u001b[0;34m:\u001b[0m\u001b[0;34m\u001b[0m\u001b[0;34m\u001b[0m\u001b[0m\n\u001b[0;32m--> 423\u001b[0;31m             \u001b[0;32mreturn\u001b[0m \u001b[0mself\u001b[0m\u001b[0;34m.\u001b[0m\u001b[0m_fit_full\u001b[0m\u001b[0;34m(\u001b[0m\u001b[0mX\u001b[0m\u001b[0;34m,\u001b[0m \u001b[0mn_components\u001b[0m\u001b[0;34m)\u001b[0m\u001b[0;34m\u001b[0m\u001b[0;34m\u001b[0m\u001b[0m\n\u001b[0m\u001b[1;32m    424\u001b[0m         \u001b[0;32melif\u001b[0m \u001b[0mself\u001b[0m\u001b[0;34m.\u001b[0m\u001b[0m_fit_svd_solver\u001b[0m \u001b[0;32min\u001b[0m \u001b[0;34m[\u001b[0m\u001b[0;34m'arpack'\u001b[0m\u001b[0;34m,\u001b[0m \u001b[0;34m'randomized'\u001b[0m\u001b[0;34m]\u001b[0m\u001b[0;34m:\u001b[0m\u001b[0;34m\u001b[0m\u001b[0;34m\u001b[0m\u001b[0m\n\u001b[1;32m    425\u001b[0m             \u001b[0;32mreturn\u001b[0m \u001b[0mself\u001b[0m\u001b[0;34m.\u001b[0m\u001b[0m_fit_truncated\u001b[0m\u001b[0;34m(\u001b[0m\u001b[0mX\u001b[0m\u001b[0;34m,\u001b[0m \u001b[0mn_components\u001b[0m\u001b[0;34m,\u001b[0m \u001b[0mself\u001b[0m\u001b[0;34m.\u001b[0m\u001b[0m_fit_svd_solver\u001b[0m\u001b[0;34m)\u001b[0m\u001b[0;34m\u001b[0m\u001b[0;34m\u001b[0m\u001b[0m\n",
      "\u001b[0;32m~/anaconda3/envs/mpmp/lib/python3.7/site-packages/sklearn/decomposition/_pca.py\u001b[0m in \u001b[0;36m_fit_full\u001b[0;34m(self, X, n_components)\u001b[0m\n\u001b[1;32m    440\u001b[0m                              \u001b[0;34m\"min(n_samples, n_features)=%r with \"\u001b[0m\u001b[0;34m\u001b[0m\u001b[0;34m\u001b[0m\u001b[0m\n\u001b[1;32m    441\u001b[0m                              \u001b[0;34m\"svd_solver='full'\"\u001b[0m\u001b[0;34m\u001b[0m\u001b[0;34m\u001b[0m\u001b[0m\n\u001b[0;32m--> 442\u001b[0;31m                              % (n_components, min(n_samples, n_features)))\n\u001b[0m\u001b[1;32m    443\u001b[0m         \u001b[0;32melif\u001b[0m \u001b[0mn_components\u001b[0m \u001b[0;34m>=\u001b[0m \u001b[0;36m1\u001b[0m\u001b[0;34m:\u001b[0m\u001b[0;34m\u001b[0m\u001b[0;34m\u001b[0m\u001b[0m\n\u001b[1;32m    444\u001b[0m             \u001b[0;32mif\u001b[0m \u001b[0;32mnot\u001b[0m \u001b[0misinstance\u001b[0m\u001b[0;34m(\u001b[0m\u001b[0mn_components\u001b[0m\u001b[0;34m,\u001b[0m \u001b[0mnumbers\u001b[0m\u001b[0;34m.\u001b[0m\u001b[0mIntegral\u001b[0m\u001b[0;34m)\u001b[0m\u001b[0;34m:\u001b[0m\u001b[0;34m\u001b[0m\u001b[0;34m\u001b[0m\u001b[0m\n",
      "\u001b[0;31mValueError\u001b[0m: n_components=10000 must be between 0 and min(n_samples, n_features)=9629 with svd_solver='full'"
     ]
    }
   ],
   "source": [
    "from sklearn.decomposition import PCA\n",
    "\n",
    "pca_dir = os.path.join(cfg.data_dir, 'me_compressed')\n",
    "os.makedirs(pca_dir, exist_ok=True)\n",
    "\n",
    "n_pcs_list = [100, 1000, 5000]\n",
    "for n_pcs in n_pcs_list:\n",
    "    # could just calculate this once and truncate it\n",
    "    pca = PCA(n_components=n_pcs)\n",
    "    me_pca = pca.fit_transform(tcga_methylation_df)\n",
    "    print(me_pca.shape)\n",
    "    me_pca = pd.DataFrame(me_pca, index=tcga_methylation_df.index)\n",
    "    me_pca.to_csv(os.path.join(cfg.data_dir,\n",
    "                               'me_450k_f{}_i{}_pc{}.tsv.gz'.format(\n",
    "                                   n_filter, n_impute, n_pcs)),\n",
    "                  sep='\\t',\n",
    "                  float_format='%.3g')"
   ]
  }
 ],
 "metadata": {
  "kernelspec": {
   "display_name": "Python [conda env:mpmp]",
   "language": "python",
   "name": "conda-env-mpmp-py"
  },
  "language_info": {
   "codemirror_mode": {
    "name": "ipython",
    "version": 3
   },
   "file_extension": ".py",
   "mimetype": "text/x-python",
   "name": "python",
   "nbconvert_exporter": "python",
   "pygments_lexer": "ipython3",
   "version": "3.7.9"
  }
 },
 "nbformat": 4,
 "nbformat_minor": 4
}
