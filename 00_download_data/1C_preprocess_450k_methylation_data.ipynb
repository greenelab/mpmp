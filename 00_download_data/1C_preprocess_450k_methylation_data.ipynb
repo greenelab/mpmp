{
 "cells": [
  {
   "cell_type": "markdown",
   "metadata": {},
   "source": [
    "## Preprocess pan-cancer 450K methylation data"
   ]
  },
  {
   "cell_type": "markdown",
   "metadata": {},
   "source": [
    "Load the downloaded data and curate sample IDs."
   ]
  },
  {
   "cell_type": "code",
   "execution_count": 1,
   "metadata": {},
   "outputs": [],
   "source": [
    "import os\n",
    "\n",
    "import numpy as np\n",
    "import pandas as pd\n",
    "import matplotlib.pyplot as plt\n",
    "import seaborn as sns\n",
    "\n",
    "import mpmp.config as cfg"
   ]
  },
  {
   "cell_type": "markdown",
   "metadata": {},
   "source": [
    "### Load and process methylation data"
   ]
  },
  {
   "cell_type": "code",
   "execution_count": 2,
   "metadata": {},
   "outputs": [
    {
     "data": {
      "text/html": [
       "<div>\n",
       "<style scoped>\n",
       "    .dataframe tbody tr th:only-of-type {\n",
       "        vertical-align: middle;\n",
       "    }\n",
       "\n",
       "    .dataframe tbody tr th {\n",
       "        vertical-align: top;\n",
       "    }\n",
       "\n",
       "    .dataframe thead th {\n",
       "        text-align: right;\n",
       "    }\n",
       "</style>\n",
       "<table border=\"1\" class=\"dataframe\">\n",
       "  <thead>\n",
       "    <tr style=\"text-align: right;\">\n",
       "      <th></th>\n",
       "      <th>id</th>\n",
       "      <th>filename</th>\n",
       "      <th>md5</th>\n",
       "      <th>size</th>\n",
       "    </tr>\n",
       "    <tr>\n",
       "      <th>name</th>\n",
       "      <th></th>\n",
       "      <th></th>\n",
       "      <th></th>\n",
       "      <th></th>\n",
       "    </tr>\n",
       "  </thead>\n",
       "  <tbody>\n",
       "    <tr>\n",
       "      <th>mirna_sample</th>\n",
       "      <td>55d9bf6f-0712-4315-b588-e6f8e295018e</td>\n",
       "      <td>PanCanAtlas_miRNA_sample_information_list.txt</td>\n",
       "      <td>02bb56712be34bcd58c50d90387aebde</td>\n",
       "      <td>553408</td>\n",
       "    </tr>\n",
       "    <tr>\n",
       "      <th>methylation_27k</th>\n",
       "      <td>d82e2c44-89eb-43d9-b6d3-712732bf6a53</td>\n",
       "      <td>jhu-usc.edu_PANCAN_merged_HumanMethylation27_H...</td>\n",
       "      <td>5cec086f0b002d17befef76a3241e73b</td>\n",
       "      <td>5022150019</td>\n",
       "    </tr>\n",
       "    <tr>\n",
       "      <th>methylation_450k</th>\n",
       "      <td>99b0c493-9e94-4d99-af9f-151e46bab989</td>\n",
       "      <td>jhu-usc.edu_PANCAN_HumanMethylation450.betaVal...</td>\n",
       "      <td>a92f50490cf4eca98b0d19e10927de9d</td>\n",
       "      <td>41541692788</td>\n",
       "    </tr>\n",
       "  </tbody>\n",
       "</table>\n",
       "</div>"
      ],
      "text/plain": [
       "                                                    id  \\\n",
       "name                                                     \n",
       "mirna_sample      55d9bf6f-0712-4315-b588-e6f8e295018e   \n",
       "methylation_27k   d82e2c44-89eb-43d9-b6d3-712732bf6a53   \n",
       "methylation_450k  99b0c493-9e94-4d99-af9f-151e46bab989   \n",
       "\n",
       "                                                           filename  \\\n",
       "name                                                                  \n",
       "mirna_sample          PanCanAtlas_miRNA_sample_information_list.txt   \n",
       "methylation_27k   jhu-usc.edu_PANCAN_merged_HumanMethylation27_H...   \n",
       "methylation_450k  jhu-usc.edu_PANCAN_HumanMethylation450.betaVal...   \n",
       "\n",
       "                                               md5         size  \n",
       "name                                                             \n",
       "mirna_sample      02bb56712be34bcd58c50d90387aebde       553408  \n",
       "methylation_27k   5cec086f0b002d17befef76a3241e73b   5022150019  \n",
       "methylation_450k  a92f50490cf4eca98b0d19e10927de9d  41541692788  "
      ]
     },
     "execution_count": 2,
     "metadata": {},
     "output_type": "execute_result"
    }
   ],
   "source": [
    "# first load manifest file, this tells us the filenames of the raw data files\n",
    "manifest_df = pd.read_csv(os.path.join(cfg.data_dir, 'manifest.tsv'),\n",
    "                          sep='\\t', index_col=0)\n",
    "manifest_df.head(3)"
   ]
  },
  {
   "cell_type": "code",
   "execution_count": 3,
   "metadata": {},
   "outputs": [
    {
     "name": "stdout",
     "output_type": "stream",
     "text": [
      "loading from pickle\n",
      "(9664, 396065)\n"
     ]
    },
    {
     "data": {
      "text/html": [
       "<div>\n",
       "<style scoped>\n",
       "    .dataframe tbody tr th:only-of-type {\n",
       "        vertical-align: middle;\n",
       "    }\n",
       "\n",
       "    .dataframe tbody tr th {\n",
       "        vertical-align: top;\n",
       "    }\n",
       "\n",
       "    .dataframe thead th {\n",
       "        text-align: right;\n",
       "    }\n",
       "</style>\n",
       "<table border=\"1\" class=\"dataframe\">\n",
       "  <thead>\n",
       "    <tr style=\"text-align: right;\">\n",
       "      <th></th>\n",
       "      <th>cg00000029</th>\n",
       "      <th>cg00000165</th>\n",
       "      <th>cg00000236</th>\n",
       "      <th>cg00000289</th>\n",
       "      <th>cg00000292</th>\n",
       "    </tr>\n",
       "    <tr>\n",
       "      <th>sample_id</th>\n",
       "      <th></th>\n",
       "      <th></th>\n",
       "      <th></th>\n",
       "      <th></th>\n",
       "      <th></th>\n",
       "    </tr>\n",
       "  </thead>\n",
       "  <tbody>\n",
       "    <tr>\n",
       "      <th>TCGA-OR-A5J1-01A-11D-A29J-05</th>\n",
       "      <td>0.119877</td>\n",
       "      <td>0.903200</td>\n",
       "      <td>0.879704</td>\n",
       "      <td>0.766316</td>\n",
       "      <td>0.409997</td>\n",
       "    </tr>\n",
       "    <tr>\n",
       "      <th>TCGA-OR-A5J2-01A-11D-A29J-05</th>\n",
       "      <td>0.107120</td>\n",
       "      <td>0.818523</td>\n",
       "      <td>0.256479</td>\n",
       "      <td>0.674323</td>\n",
       "      <td>0.552000</td>\n",
       "    </tr>\n",
       "    <tr>\n",
       "      <th>TCGA-OR-A5J3-01A-11D-A29J-05</th>\n",
       "      <td>0.060752</td>\n",
       "      <td>0.093014</td>\n",
       "      <td>0.253639</td>\n",
       "      <td>0.750682</td>\n",
       "      <td>0.851327</td>\n",
       "    </tr>\n",
       "    <tr>\n",
       "      <th>TCGA-OR-A5J4-01A-11D-A29J-05</th>\n",
       "      <td>0.157005</td>\n",
       "      <td>0.856304</td>\n",
       "      <td>0.940341</td>\n",
       "      <td>0.842987</td>\n",
       "      <td>0.847317</td>\n",
       "    </tr>\n",
       "    <tr>\n",
       "      <th>TCGA-OR-A5J5-01A-11D-A29J-05</th>\n",
       "      <td>0.534426</td>\n",
       "      <td>0.928812</td>\n",
       "      <td>0.931214</td>\n",
       "      <td>0.766848</td>\n",
       "      <td>0.761502</td>\n",
       "    </tr>\n",
       "  </tbody>\n",
       "</table>\n",
       "</div>"
      ],
      "text/plain": [
       "                              cg00000029  cg00000165  cg00000236  cg00000289  \\\n",
       "sample_id                                                                      \n",
       "TCGA-OR-A5J1-01A-11D-A29J-05    0.119877    0.903200    0.879704    0.766316   \n",
       "TCGA-OR-A5J2-01A-11D-A29J-05    0.107120    0.818523    0.256479    0.674323   \n",
       "TCGA-OR-A5J3-01A-11D-A29J-05    0.060752    0.093014    0.253639    0.750682   \n",
       "TCGA-OR-A5J4-01A-11D-A29J-05    0.157005    0.856304    0.940341    0.842987   \n",
       "TCGA-OR-A5J5-01A-11D-A29J-05    0.534426    0.928812    0.931214    0.766848   \n",
       "\n",
       "                              cg00000292  \n",
       "sample_id                                 \n",
       "TCGA-OR-A5J1-01A-11D-A29J-05    0.409997  \n",
       "TCGA-OR-A5J2-01A-11D-A29J-05    0.552000  \n",
       "TCGA-OR-A5J3-01A-11D-A29J-05    0.851327  \n",
       "TCGA-OR-A5J4-01A-11D-A29J-05    0.847317  \n",
       "TCGA-OR-A5J5-01A-11D-A29J-05    0.761502  "
      ]
     },
     "execution_count": 3,
     "metadata": {},
     "output_type": "execute_result"
    }
   ],
   "source": [
    "# this is much faster than loading directly from .tsv\n",
    "# useful if you need to run this preprocessing script multiple times\n",
    "methylation_pickle = os.path.join(cfg.data_dir, 'methylation_450k.pkl')\n",
    "\n",
    "if os.path.isfile(methylation_pickle):\n",
    "    print('loading from pickle')\n",
    "    tcga_methylation_df = pd.read_pickle(methylation_pickle)\n",
    "else:\n",
    "    tcga_methylation_df = (\n",
    "        pd.read_csv(os.path.join(cfg.raw_data_dir,\n",
    "                                 manifest_df.loc['methylation_450k'].filename),\n",
    "                    index_col=0,\n",
    "                    sep='\\t',\n",
    "                    dtype='float32', # float64 won't fit in 64GB RAM\n",
    "                    converters={0: str}) # don't convert the col names to float\n",
    "           .transpose()\n",
    "    )\n",
    "\n",
    "tcga_methylation_df.index.rename('sample_id', inplace=True)\n",
    "\n",
    "print(tcga_methylation_df.shape)\n",
    "tcga_methylation_df.iloc[:5, :5]"
   ]
  },
  {
   "cell_type": "code",
   "execution_count": 4,
   "metadata": {},
   "outputs": [
    {
     "name": "stdout",
     "output_type": "stream",
     "text": [
      "pickle already exists\n"
     ]
    }
   ],
   "source": [
    "if os.path.isfile(methylation_pickle):\n",
    "    print('pickle already exists')\n",
    "else:\n",
    "    print('saving df to pickle')\n",
    "    tcga_methylation_df.to_pickle(methylation_pickle)"
   ]
  },
  {
   "cell_type": "code",
   "execution_count": 5,
   "metadata": {},
   "outputs": [
    {
     "name": "stdout",
     "output_type": "stream",
     "text": [
      "(9639, 396065)\n"
     ]
    }
   ],
   "source": [
    "# update sample IDs to remove multiple samples measured on the same tumor\n",
    "# and to map with the clinical information\n",
    "tcga_methylation_df.index = tcga_methylation_df.index.str.slice(start=0, stop=15)\n",
    "tcga_methylation_df = tcga_methylation_df.loc[~tcga_methylation_df.index.duplicated(), :]\n",
    "print(tcga_methylation_df.shape)"
   ]
  },
  {
   "cell_type": "code",
   "execution_count": 6,
   "metadata": {},
   "outputs": [
    {
     "name": "stdout",
     "output_type": "stream",
     "text": [
      "(9639,)\n"
     ]
    },
    {
     "data": {
      "text/plain": [
       "sample_id\n",
       "TCGA-FG-5962-01    10500\n",
       "TCGA-67-4679-01    10043\n",
       "TCGA-EL-A4JX-01     7675\n",
       "TCGA-2J-AABR-01     7562\n",
       "TCGA-W5-AA2Q-01     7505\n",
       "dtype: int64"
      ]
     },
     "execution_count": 6,
     "metadata": {},
     "output_type": "execute_result"
    }
   ],
   "source": [
    "# how many missing values does each probe (column) have?\n",
    "sample_na = tcga_methylation_df.transpose().isna().sum()\n",
    "print(sample_na.shape)\n",
    "sample_na.sort_values(ascending=False).head()"
   ]
  },
  {
   "cell_type": "code",
   "execution_count": 7,
   "metadata": {},
   "outputs": [],
   "source": [
    "# remove 10 samples with most NAs, then impute for probes with 1 or 2 NA values\n",
    "n_filter = 10\n",
    "n_impute = 5\n",
    "\n",
    "samples_sorted = sample_na.sort_values(ascending=False)\n",
    "output_dir = os.path.join(cfg.data_dir, 'methylation_preprocessed')\n",
    "os.makedirs(output_dir, exist_ok=True)\n",
    "\n",
    "def filter_na_samples(methylation_df, bad_samples):\n",
    "    # don't drop NA columns, we'll do that after imputation\n",
    "    return (\n",
    "        methylation_df.loc[~methylation_df.index.isin(bad_samples)]\n",
    "    )\n",
    "\n",
    "def impute_leq(methylation_df, n_na):\n",
    "    if n_na == 0:\n",
    "        return methylation_df\n",
    "    else:\n",
    "        return methylation_df.fillna(methylation_df.mean(), limit=n_na)\n",
    "\n",
    "# filter, impute, drop NA columns\n",
    "print(tcga_methylation_df.shape)\n",
    "samples_for_count = samples_sorted.iloc[:n_filter].index.values\n",
    "tcga_methylation_df = filter_na_samples(tcga_methylation_df,\n",
    "                                        samples_for_count)\n",
    "print(tcga_methylation_df.shape)\n",
    "tcga_methylation_df = impute_leq(tcga_methylation_df, n_impute)\n",
    "tcga_methylation_df.dropna(axis='columns', inplace=True)\n",
    "print(tcga_methylation_df.shape)"
   ]
  },
  {
   "cell_type": "markdown",
   "metadata": {},
   "source": [
    "### Dimension reduction\n",
    "\n",
    "Since we can't realistically fit a logistic regression model to 300K features, compress the data using PCA with various dimensions, and save the results to tsv files.\n",
    "\n",
    "Note that it's much faster to calculate this once for the largest dimensionality, then truncate it, than to recalculate the PCA for each number of PCs. However, using the sklearn PCA implementation, the results are actually slightly different for these two approaches (particularly for smaller PCs), since it uses a randomized thin SVD algorithm by default rather than calculating the exact SVD. \n",
    "\n",
    "I created [this issue](https://github.com/greenelab/mpmp/issues/15) to investigate/remind myself of this instability in the future, but I don't think it'll matter that much in practice."
   ]
  },
  {
   "cell_type": "code",
   "execution_count": 9,
   "metadata": {},
   "outputs": [
    {
     "name": "stdout",
     "output_type": "stream",
     "text": [
      "(9629, 5000)\n",
      "(9629, 100)\n",
      "(9629, 1000)\n",
      "(9629, 5000)\n"
     ]
    }
   ],
   "source": [
    "from sklearn.decomposition import PCA\n",
    "\n",
    "pca_dir = os.path.join(cfg.data_dir, 'me_compressed')\n",
    "os.makedirs(pca_dir, exist_ok=True)\n",
    "\n",
    "n_pcs_list = [100, 1000, 5000]\n",
    "\n",
    "# it's much faster to just calculate this once for max n_pcs, and truncate it,\n",
    "# than to recalculated it for each number of PCs we want\n",
    "pca = PCA(n_components=max(n_pcs_list))\n",
    "me_pca = pca.fit_transform(tcga_methylation_df)\n",
    "print(me_pca.shape)\n",
    "\n",
    "for n_pcs in n_pcs_list:\n",
    "    me_pca_truncated = pd.DataFrame(me_pca[:, :n_pcs], index=tcga_methylation_df.index)\n",
    "    print(me_pca_truncated.shape)\n",
    "    me_pca_truncated.to_csv(\n",
    "        os.path.join(pca_dir, 'me_450k_f{}_i{}_pc{}.tsv.gz'.format(\n",
    "                         n_filter, n_impute, n_pcs)),\n",
    "        sep='\\t',\n",
    "        float_format='%.3g')"
   ]
  }
 ],
 "metadata": {
  "kernelspec": {
   "display_name": "Python [conda env:mpmp]",
   "language": "python",
   "name": "conda-env-mpmp-py"
  },
  "language_info": {
   "codemirror_mode": {
    "name": "ipython",
    "version": 3
   },
   "file_extension": ".py",
   "mimetype": "text/x-python",
   "name": "python",
   "nbconvert_exporter": "python",
   "pygments_lexer": "ipython3",
   "version": "3.7.9"
  }
 },
 "nbformat": 4,
 "nbformat_minor": 4
}
