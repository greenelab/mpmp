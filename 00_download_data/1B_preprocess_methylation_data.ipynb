{
 "cells": [
  {
   "cell_type": "markdown",
   "metadata": {},
   "source": [
    "## Preprocess pan-cancer methylation data"
   ]
  },
  {
   "cell_type": "markdown",
   "metadata": {},
   "source": [
    "Load the downloaded data and curate sample IDs."
   ]
  },
  {
   "cell_type": "code",
   "execution_count": 1,
   "metadata": {},
   "outputs": [],
   "source": [
    "import os\n",
    "import pandas as pd\n",
    "\n",
    "import mpmp.config as cfg"
   ]
  },
  {
   "cell_type": "markdown",
   "metadata": {},
   "source": [
    "### Load and process methylation data"
   ]
  },
  {
   "cell_type": "code",
   "execution_count": 4,
   "metadata": {},
   "outputs": [
    {
     "data": {
      "text/html": [
       "<div>\n",
       "<style scoped>\n",
       "    .dataframe tbody tr th:only-of-type {\n",
       "        vertical-align: middle;\n",
       "    }\n",
       "\n",
       "    .dataframe tbody tr th {\n",
       "        vertical-align: top;\n",
       "    }\n",
       "\n",
       "    .dataframe thead th {\n",
       "        text-align: right;\n",
       "    }\n",
       "</style>\n",
       "<table border=\"1\" class=\"dataframe\">\n",
       "  <thead>\n",
       "    <tr style=\"text-align: right;\">\n",
       "      <th></th>\n",
       "      <th>id</th>\n",
       "      <th>filename</th>\n",
       "      <th>md5</th>\n",
       "      <th>size</th>\n",
       "    </tr>\n",
       "    <tr>\n",
       "      <th>name</th>\n",
       "      <th></th>\n",
       "      <th></th>\n",
       "      <th></th>\n",
       "      <th></th>\n",
       "    </tr>\n",
       "  </thead>\n",
       "  <tbody>\n",
       "    <tr>\n",
       "      <th>mirna_sample</th>\n",
       "      <td>55d9bf6f-0712-4315-b588-e6f8e295018e</td>\n",
       "      <td>PanCanAtlas_miRNA_sample_information_list.txt</td>\n",
       "      <td>02bb56712be34bcd58c50d90387aebde</td>\n",
       "      <td>553408</td>\n",
       "    </tr>\n",
       "  </tbody>\n",
       "</table>\n",
       "</div>"
      ],
      "text/plain": [
       "                                                id  \\\n",
       "name                                                 \n",
       "mirna_sample  55d9bf6f-0712-4315-b588-e6f8e295018e   \n",
       "\n",
       "                                                   filename  \\\n",
       "name                                                          \n",
       "mirna_sample  PanCanAtlas_miRNA_sample_information_list.txt   \n",
       "\n",
       "                                           md5    size  \n",
       "name                                                    \n",
       "mirna_sample  02bb56712be34bcd58c50d90387aebde  553408  "
      ]
     },
     "execution_count": 4,
     "metadata": {},
     "output_type": "execute_result"
    }
   ],
   "source": [
    "# first load manifest file, this tells us the filenames of the raw data files\n",
    "manifest_df = pd.read_csv(os.path.join(cfg.data_dir, 'manifest.tsv'),\n",
    "                          sep='\\t', index_col=0)\n",
    "manifest_df.head(1)"
   ]
  },
  {
   "cell_type": "code",
   "execution_count": 5,
   "metadata": {},
   "outputs": [
    {
     "name": "stdout",
     "output_type": "stream",
     "text": [
      "(22601, 12039)\n"
     ]
    },
    {
     "data": {
      "text/html": [
       "<div>\n",
       "<style scoped>\n",
       "    .dataframe tbody tr th:only-of-type {\n",
       "        vertical-align: middle;\n",
       "    }\n",
       "\n",
       "    .dataframe tbody tr th {\n",
       "        vertical-align: top;\n",
       "    }\n",
       "\n",
       "    .dataframe thead th {\n",
       "        text-align: right;\n",
       "    }\n",
       "</style>\n",
       "<table border=\"1\" class=\"dataframe\">\n",
       "  <thead>\n",
       "    <tr style=\"text-align: right;\">\n",
       "      <th></th>\n",
       "      <th>TCGA-02-0001-01C-01D-0186-05</th>\n",
       "      <th>TCGA-02-0003-01A-01D-0186-05</th>\n",
       "      <th>TCGA-02-0006-01B-01D-0186-05</th>\n",
       "      <th>TCGA-02-0007-01A-01D-0186-05</th>\n",
       "      <th>TCGA-02-0009-01A-01D-0186-05</th>\n",
       "    </tr>\n",
       "    <tr>\n",
       "      <th>Composite Element REF</th>\n",
       "      <th></th>\n",
       "      <th></th>\n",
       "      <th></th>\n",
       "      <th></th>\n",
       "      <th></th>\n",
       "    </tr>\n",
       "  </thead>\n",
       "  <tbody>\n",
       "    <tr>\n",
       "      <th>cg00000292</th>\n",
       "      <td>0.846378</td>\n",
       "      <td>0.732044</td>\n",
       "      <td>0.678917</td>\n",
       "      <td>0.846951</td>\n",
       "      <td>0.855192</td>\n",
       "    </tr>\n",
       "    <tr>\n",
       "      <th>cg00003994</th>\n",
       "      <td>0.066406</td>\n",
       "      <td>0.131451</td>\n",
       "      <td>0.089675</td>\n",
       "      <td>0.040882</td>\n",
       "      <td>0.066100</td>\n",
       "    </tr>\n",
       "    <tr>\n",
       "      <th>cg00005847</th>\n",
       "      <td>0.330927</td>\n",
       "      <td>0.839389</td>\n",
       "      <td>0.469196</td>\n",
       "      <td>0.355053</td>\n",
       "      <td>0.605179</td>\n",
       "    </tr>\n",
       "    <tr>\n",
       "      <th>cg00007981</th>\n",
       "      <td>0.026121</td>\n",
       "      <td>0.039102</td>\n",
       "      <td>0.021105</td>\n",
       "      <td>0.039487</td>\n",
       "      <td>0.025252</td>\n",
       "    </tr>\n",
       "    <tr>\n",
       "      <th>cg00008493</th>\n",
       "      <td>0.925941</td>\n",
       "      <td>0.934192</td>\n",
       "      <td>0.924509</td>\n",
       "      <td>0.930292</td>\n",
       "      <td>0.926921</td>\n",
       "    </tr>\n",
       "  </tbody>\n",
       "</table>\n",
       "</div>"
      ],
      "text/plain": [
       "                       TCGA-02-0001-01C-01D-0186-05  \\\n",
       "Composite Element REF                                 \n",
       "cg00000292                                 0.846378   \n",
       "cg00003994                                 0.066406   \n",
       "cg00005847                                 0.330927   \n",
       "cg00007981                                 0.026121   \n",
       "cg00008493                                 0.925941   \n",
       "\n",
       "                       TCGA-02-0003-01A-01D-0186-05  \\\n",
       "Composite Element REF                                 \n",
       "cg00000292                                 0.732044   \n",
       "cg00003994                                 0.131451   \n",
       "cg00005847                                 0.839389   \n",
       "cg00007981                                 0.039102   \n",
       "cg00008493                                 0.934192   \n",
       "\n",
       "                       TCGA-02-0006-01B-01D-0186-05  \\\n",
       "Composite Element REF                                 \n",
       "cg00000292                                 0.678917   \n",
       "cg00003994                                 0.089675   \n",
       "cg00005847                                 0.469196   \n",
       "cg00007981                                 0.021105   \n",
       "cg00008493                                 0.924509   \n",
       "\n",
       "                       TCGA-02-0007-01A-01D-0186-05  \\\n",
       "Composite Element REF                                 \n",
       "cg00000292                                 0.846951   \n",
       "cg00003994                                 0.040882   \n",
       "cg00005847                                 0.355053   \n",
       "cg00007981                                 0.039487   \n",
       "cg00008493                                 0.930292   \n",
       "\n",
       "                       TCGA-02-0009-01A-01D-0186-05  \n",
       "Composite Element REF                                \n",
       "cg00000292                                 0.855192  \n",
       "cg00003994                                 0.066100  \n",
       "cg00005847                                 0.605179  \n",
       "cg00007981                                 0.025252  \n",
       "cg00008493                                 0.926921  "
      ]
     },
     "execution_count": 5,
     "metadata": {},
     "output_type": "execute_result"
    }
   ],
   "source": [
    "tcga_methylation_df = pd.read_csv(\n",
    "    os.path.join(cfg.raw_data_dir, manifest_df.loc['methylation'].filename),\n",
    "    index_col=0, sep='\\t')\n",
    "\n",
    "print(tcga_methylation_df.shape)\n",
    "tcga_methylation_df.iloc[:5, :5]"
   ]
  },
  {
   "cell_type": "code",
   "execution_count": 6,
   "metadata": {},
   "outputs": [],
   "source": [
    "# remove probes with missing values, and transpose to be a\n",
    "# samples x probes matrix\n",
    "tcga_methylation_df = (tcga_methylation_df\n",
    "    .dropna(axis='rows')\n",
    "    .transpose()\n",
    "    .sort_index(axis='rows')\n",
    "    .sort_index(axis='columns')\n",
    ")\n",
    "\n",
    "tcga_methylation_df.index.rename('sample_id', inplace=True)"
   ]
  },
  {
   "cell_type": "code",
   "execution_count": 7,
   "metadata": {},
   "outputs": [],
   "source": [
    "# update sample IDs to remove multiple samples measured on the same tumor\n",
    "# and to map with the clinical information\n",
    "tcga_methylation_df.index = tcga_methylation_df.index.str.slice(start=0, stop=15)\n",
    "tcga_methylation_df = tcga_methylation_df.loc[~tcga_methylation_df.index.duplicated(), :]"
   ]
  },
  {
   "cell_type": "code",
   "execution_count": 8,
   "metadata": {},
   "outputs": [
    {
     "name": "stdout",
     "output_type": "stream",
     "text": [
      "(11985, 11882)\n"
     ]
    },
    {
     "data": {
      "text/html": [
       "<div>\n",
       "<style scoped>\n",
       "    .dataframe tbody tr th:only-of-type {\n",
       "        vertical-align: middle;\n",
       "    }\n",
       "\n",
       "    .dataframe tbody tr th {\n",
       "        vertical-align: top;\n",
       "    }\n",
       "\n",
       "    .dataframe thead th {\n",
       "        text-align: right;\n",
       "    }\n",
       "</style>\n",
       "<table border=\"1\" class=\"dataframe\">\n",
       "  <thead>\n",
       "    <tr style=\"text-align: right;\">\n",
       "      <th>Composite Element REF</th>\n",
       "      <th>cg00005847</th>\n",
       "      <th>cg00008493</th>\n",
       "      <th>cg00012199</th>\n",
       "      <th>cg00012386</th>\n",
       "      <th>cg00012792</th>\n",
       "    </tr>\n",
       "    <tr>\n",
       "      <th>sample_id</th>\n",
       "      <th></th>\n",
       "      <th></th>\n",
       "      <th></th>\n",
       "      <th></th>\n",
       "      <th></th>\n",
       "    </tr>\n",
       "  </thead>\n",
       "  <tbody>\n",
       "    <tr>\n",
       "      <th>TCGA-01-0628-11</th>\n",
       "      <td>0.568261</td>\n",
       "      <td>0.953532</td>\n",
       "      <td>0.035959</td>\n",
       "      <td>0.021465</td>\n",
       "      <td>0.024005</td>\n",
       "    </tr>\n",
       "    <tr>\n",
       "      <th>TCGA-01-0630-11</th>\n",
       "      <td>0.620646</td>\n",
       "      <td>0.959144</td>\n",
       "      <td>0.037645</td>\n",
       "      <td>0.016915</td>\n",
       "      <td>0.028272</td>\n",
       "    </tr>\n",
       "    <tr>\n",
       "      <th>TCGA-01-0631-11</th>\n",
       "      <td>0.430550</td>\n",
       "      <td>0.963075</td>\n",
       "      <td>0.036071</td>\n",
       "      <td>0.017380</td>\n",
       "      <td>0.023571</td>\n",
       "    </tr>\n",
       "    <tr>\n",
       "      <th>TCGA-01-0633-11</th>\n",
       "      <td>0.416541</td>\n",
       "      <td>0.959544</td>\n",
       "      <td>0.038710</td>\n",
       "      <td>0.025398</td>\n",
       "      <td>0.021352</td>\n",
       "    </tr>\n",
       "    <tr>\n",
       "      <th>TCGA-01-0636-11</th>\n",
       "      <td>0.695484</td>\n",
       "      <td>0.961997</td>\n",
       "      <td>0.038338</td>\n",
       "      <td>0.019061</td>\n",
       "      <td>0.017349</td>\n",
       "    </tr>\n",
       "  </tbody>\n",
       "</table>\n",
       "</div>"
      ],
      "text/plain": [
       "Composite Element REF  cg00005847  cg00008493  cg00012199  cg00012386  \\\n",
       "sample_id                                                               \n",
       "TCGA-01-0628-11          0.568261    0.953532    0.035959    0.021465   \n",
       "TCGA-01-0630-11          0.620646    0.959144    0.037645    0.016915   \n",
       "TCGA-01-0631-11          0.430550    0.963075    0.036071    0.017380   \n",
       "TCGA-01-0633-11          0.416541    0.959544    0.038710    0.025398   \n",
       "TCGA-01-0636-11          0.695484    0.961997    0.038338    0.019061   \n",
       "\n",
       "Composite Element REF  cg00012792  \n",
       "sample_id                          \n",
       "TCGA-01-0628-11          0.024005  \n",
       "TCGA-01-0630-11          0.028272  \n",
       "TCGA-01-0631-11          0.023571  \n",
       "TCGA-01-0633-11          0.021352  \n",
       "TCGA-01-0636-11          0.017349  "
      ]
     },
     "execution_count": 8,
     "metadata": {},
     "output_type": "execute_result"
    }
   ],
   "source": [
    "print(tcga_methylation_df.shape)\n",
    "tcga_methylation_df.iloc[:5, :5]"
   ]
  },
  {
   "cell_type": "code",
   "execution_count": 9,
   "metadata": {},
   "outputs": [],
   "source": [
    "tcga_methylation_df.to_csv(cfg.methylation_data, sep='\\t', compression='gzip', float_format='%.3g')"
   ]
  }
 ],
 "metadata": {
  "kernelspec": {
   "display_name": "Python [conda env:mpmp]",
   "language": "python",
   "name": "conda-env-mpmp-py"
  },
  "language_info": {
   "codemirror_mode": {
    "name": "ipython",
    "version": 3
   },
   "file_extension": ".py",
   "mimetype": "text/x-python",
   "name": "python",
   "nbconvert_exporter": "python",
   "pygments_lexer": "ipython3",
   "version": "3.7.9"
  }
 },
 "nbformat": 4,
 "nbformat_minor": 4
}
