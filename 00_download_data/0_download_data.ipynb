{
 "cells": [
  {
   "cell_type": "markdown",
   "metadata": {},
   "source": [
    "## Download multiple modalities of pan-cancer data from TCGA\n",
    "\n",
    "The data is accessed directly from the [Genome Data Commons](https://gdc.cancer.gov/about-data/publications/pancanatlas)."
   ]
  },
  {
   "cell_type": "code",
   "execution_count": 1,
   "metadata": {},
   "outputs": [],
   "source": [
    "import os\n",
    "import pandas as pd\n",
    "from urllib.request import urlretrieve\n",
    "\n",
    "import mpmp.config as cfg"
   ]
  },
  {
   "cell_type": "markdown",
   "metadata": {},
   "source": [
    "First, we load a manifest file containing the GDC API ID and filename for each relevant file, as well as the md5 checksum to make sure the whole/uncorrupted file was downloaded.\n",
    "\n",
    "The manifest included in this GitHub repo was downloaded from https://gdc.cancer.gov/node/971 on December 1, 2020."
   ]
  },
  {
   "cell_type": "code",
   "execution_count": 2,
   "metadata": {},
   "outputs": [
    {
     "data": {
      "text/html": [
       "<div>\n",
       "<style scoped>\n",
       "    .dataframe tbody tr th:only-of-type {\n",
       "        vertical-align: middle;\n",
       "    }\n",
       "\n",
       "    .dataframe tbody tr th {\n",
       "        vertical-align: top;\n",
       "    }\n",
       "\n",
       "    .dataframe thead th {\n",
       "        text-align: right;\n",
       "    }\n",
       "</style>\n",
       "<table border=\"1\" class=\"dataframe\">\n",
       "  <thead>\n",
       "    <tr style=\"text-align: right;\">\n",
       "      <th></th>\n",
       "      <th>id</th>\n",
       "      <th>filename</th>\n",
       "      <th>md5</th>\n",
       "      <th>size</th>\n",
       "    </tr>\n",
       "    <tr>\n",
       "      <th>name</th>\n",
       "      <th></th>\n",
       "      <th></th>\n",
       "      <th></th>\n",
       "      <th></th>\n",
       "    </tr>\n",
       "  </thead>\n",
       "  <tbody>\n",
       "    <tr>\n",
       "      <th>mirna_sample</th>\n",
       "      <td>55d9bf6f-0712-4315-b588-e6f8e295018e</td>\n",
       "      <td>PanCanAtlas_miRNA_sample_information_list.txt</td>\n",
       "      <td>02bb56712be34bcd58c50d90387aebde</td>\n",
       "      <td>553408</td>\n",
       "    </tr>\n",
       "    <tr>\n",
       "      <th>methylation</th>\n",
       "      <td>d82e2c44-89eb-43d9-b6d3-712732bf6a53</td>\n",
       "      <td>jhu-usc.edu_PANCAN_merged_HumanMethylation27_H...</td>\n",
       "      <td>5cec086f0b002d17befef76a3241e73b</td>\n",
       "      <td>5022150019</td>\n",
       "    </tr>\n",
       "    <tr>\n",
       "      <th>rppa</th>\n",
       "      <td>fcbb373e-28d4-4818-92f3-601ede3da5e1</td>\n",
       "      <td>TCGA-RPPA-pancan-clean.txt</td>\n",
       "      <td>e2b914c7ecd369589275d546d9555b05</td>\n",
       "      <td>18901234</td>\n",
       "    </tr>\n",
       "    <tr>\n",
       "      <th>rna_seq</th>\n",
       "      <td>3586c0da-64d0-4b74-a449-5ff4d9136611</td>\n",
       "      <td>EBPlusPlusAdjustPANCAN_IlluminaHiSeq_RNASeqV2....</td>\n",
       "      <td>02e72c33071307ff6570621480d3c90b</td>\n",
       "      <td>1882540959</td>\n",
       "    </tr>\n",
       "    <tr>\n",
       "      <th>mirna</th>\n",
       "      <td>1c6174d9-8ffb-466e-b5ee-07b204c15cf8</td>\n",
       "      <td>pancanMiRs_EBadjOnProtocolPlatformWithoutRepsW...</td>\n",
       "      <td>c7501dc3c505ca172a6a05b611bd11c3</td>\n",
       "      <td>67167640</td>\n",
       "    </tr>\n",
       "  </tbody>\n",
       "</table>\n",
       "</div>"
      ],
      "text/plain": [
       "                                                id  \\\n",
       "name                                                 \n",
       "mirna_sample  55d9bf6f-0712-4315-b588-e6f8e295018e   \n",
       "methylation   d82e2c44-89eb-43d9-b6d3-712732bf6a53   \n",
       "rppa          fcbb373e-28d4-4818-92f3-601ede3da5e1   \n",
       "rna_seq       3586c0da-64d0-4b74-a449-5ff4d9136611   \n",
       "mirna         1c6174d9-8ffb-466e-b5ee-07b204c15cf8   \n",
       "\n",
       "                                                       filename  \\\n",
       "name                                                              \n",
       "mirna_sample      PanCanAtlas_miRNA_sample_information_list.txt   \n",
       "methylation   jhu-usc.edu_PANCAN_merged_HumanMethylation27_H...   \n",
       "rppa                                 TCGA-RPPA-pancan-clean.txt   \n",
       "rna_seq       EBPlusPlusAdjustPANCAN_IlluminaHiSeq_RNASeqV2....   \n",
       "mirna         pancanMiRs_EBadjOnProtocolPlatformWithoutRepsW...   \n",
       "\n",
       "                                           md5        size  \n",
       "name                                                        \n",
       "mirna_sample  02bb56712be34bcd58c50d90387aebde      553408  \n",
       "methylation   5cec086f0b002d17befef76a3241e73b  5022150019  \n",
       "rppa          e2b914c7ecd369589275d546d9555b05    18901234  \n",
       "rna_seq       02e72c33071307ff6570621480d3c90b  1882540959  \n",
       "mirna         c7501dc3c505ca172a6a05b611bd11c3    67167640  "
      ]
     },
     "execution_count": 2,
     "metadata": {},
     "output_type": "execute_result"
    }
   ],
   "source": [
    "manifest_df = pd.read_csv(os.path.join(cfg.data_dir, 'manifest.tsv'),\n",
    "                          sep='\\t', index_col=0)\n",
    "manifest_df.head()"
   ]
  },
  {
   "cell_type": "markdown",
   "metadata": {},
   "source": [
    "### Download gene expression data"
   ]
  },
  {
   "cell_type": "code",
   "execution_count": 3,
   "metadata": {},
   "outputs": [
    {
     "name": "stdout",
     "output_type": "stream",
     "text": [
      "Downloaded data file already exists, skipping download\n"
     ]
    }
   ],
   "source": [
    "if not os.path.exists(cfg.raw_data_dir):\n",
    "    os.makedirs(cfg.raw_data_dir)\n",
    "    \n",
    "rnaseq_id, rnaseq_filename = manifest_df.loc['rna_seq'].id, manifest_df.loc['rna_seq'].filename\n",
    "url = 'http://api.gdc.cancer.gov/data/{}'.format(rnaseq_id)\n",
    "exp_filepath = os.path.join(cfg.raw_data_dir, rnaseq_filename)\n",
    "\n",
    "if not os.path.exists(exp_filepath):\n",
    "    urlretrieve(url, exp_filepath)\n",
    "else:\n",
    "    print('Downloaded data file already exists, skipping download')"
   ]
  },
  {
   "cell_type": "code",
   "execution_count": 4,
   "metadata": {},
   "outputs": [
    {
     "name": "stdout",
     "output_type": "stream",
     "text": [
      "02e72c33071307ff6570621480d3c90b  /home/jake/research/mpmp/data/raw/EBPlusPlusAdjustPANCAN_IlluminaHiSeq_RNASeqV2.geneExp.tsv\n"
     ]
    }
   ],
   "source": [
    "md5_sum = !md5sum $exp_filepath\n",
    "print(md5_sum[0])\n",
    "assert md5_sum[0].split(' ')[0] == manifest_df.loc['rna_seq'].md5"
   ]
  },
  {
   "cell_type": "markdown",
   "metadata": {},
   "source": [
    "### Download DNA methylation data"
   ]
  },
  {
   "cell_type": "code",
   "execution_count": 5,
   "metadata": {},
   "outputs": [
    {
     "name": "stdout",
     "output_type": "stream",
     "text": [
      "Downloaded data file already exists, skipping download\n"
     ]
    }
   ],
   "source": [
    "me_id, me_filename = manifest_df.loc['methylation'].id, manifest_df.loc['methylation'].filename\n",
    "url = 'http://api.gdc.cancer.gov/data/{}'.format(me_id)\n",
    "me_filepath = os.path.join(cfg.raw_data_dir, me_filename)\n",
    "\n",
    "if not os.path.exists(me_filepath):\n",
    "    urlretrieve(url, me_filepath)\n",
    "else:\n",
    "    print('Downloaded data file already exists, skipping download')"
   ]
  },
  {
   "cell_type": "code",
   "execution_count": 6,
   "metadata": {},
   "outputs": [
    {
     "name": "stdout",
     "output_type": "stream",
     "text": [
      "5cec086f0b002d17befef76a3241e73b  /home/jake/research/mpmp/data/raw/jhu-usc.edu_PANCAN_merged_HumanMethylation27_HumanMethylation450.betaValue_whitelisted.tsv\n"
     ]
    }
   ],
   "source": [
    "md5_sum = !md5sum $me_filepath\n",
    "print(md5_sum[0])\n",
    "assert md5_sum[0].split(' ')[0] == manifest_df.loc['methylation'].md5"
   ]
  },
  {
   "cell_type": "markdown",
   "metadata": {},
   "source": [
    "### Download RPPA data"
   ]
  },
  {
   "cell_type": "code",
   "execution_count": 7,
   "metadata": {},
   "outputs": [
    {
     "name": "stdout",
     "output_type": "stream",
     "text": [
      "Downloaded data file already exists, skipping download\n"
     ]
    }
   ],
   "source": [
    "rppa_id, rppa_filename = manifest_df.loc['rppa'].id, manifest_df.loc['rppa'].filename\n",
    "url = 'http://api.gdc.cancer.gov/data/{}'.format(rppa_id)\n",
    "rppa_filepath = os.path.join(cfg.raw_data_dir, rppa_filename)\n",
    "\n",
    "if not os.path.exists(rppa_filepath):\n",
    "    urlretrieve(url, rppa_filepath)\n",
    "else:\n",
    "    print('Downloaded data file already exists, skipping download')"
   ]
  },
  {
   "cell_type": "code",
   "execution_count": 8,
   "metadata": {},
   "outputs": [
    {
     "name": "stdout",
     "output_type": "stream",
     "text": [
      "e2b914c7ecd369589275d546d9555b05  /home/jake/research/mpmp/data/raw/TCGA-RPPA-pancan-clean.txt\n"
     ]
    }
   ],
   "source": [
    "md5_sum = !md5sum $rppa_filepath\n",
    "print(md5_sum[0])\n",
    "assert md5_sum[0].split(' ')[0] == manifest_df.loc['rppa'].md5"
   ]
  },
  {
   "cell_type": "markdown",
   "metadata": {},
   "source": [
    "### Download miRNA data"
   ]
  },
  {
   "cell_type": "code",
   "execution_count": 9,
   "metadata": {},
   "outputs": [
    {
     "name": "stdout",
     "output_type": "stream",
     "text": [
      "Downloaded data file already exists, skipping download\n"
     ]
    }
   ],
   "source": [
    "mirna_id, mirna_filename = manifest_df.loc['mirna'].id, manifest_df.loc['mirna'].filename\n",
    "url = 'http://api.gdc.cancer.gov/data/{}'.format(mirna_id)\n",
    "mirna_filepath = os.path.join(cfg.raw_data_dir, mirna_filename)\n",
    "\n",
    "if not os.path.exists(mirna_filepath):\n",
    "    urlretrieve(url, mirna_filepath)\n",
    "else:\n",
    "    print('Downloaded data file already exists, skipping download')"
   ]
  },
  {
   "cell_type": "code",
   "execution_count": 10,
   "metadata": {},
   "outputs": [
    {
     "name": "stdout",
     "output_type": "stream",
     "text": [
      "c7501dc3c505ca172a6a05b611bd11c3  /home/jake/research/mpmp/data/raw/pancanMiRs_EBadjOnProtocolPlatformWithoutRepsWithUnCorrectMiRs_08_04_16.csv\n"
     ]
    }
   ],
   "source": [
    "md5_sum = !md5sum $mirna_filepath\n",
    "print(md5_sum[0])\n",
    "assert md5_sum[0].split(' ')[0] == manifest_df.loc['mirna'].md5"
   ]
  }
 ],
 "metadata": {
  "kernelspec": {
   "display_name": "Python [conda env:mpmp]",
   "language": "python",
   "name": "conda-env-mpmp-py"
  },
  "language_info": {
   "codemirror_mode": {
    "name": "ipython",
    "version": 3
   },
   "file_extension": ".py",
   "mimetype": "text/x-python",
   "name": "python",
   "nbconvert_exporter": "python",
   "pygments_lexer": "ipython3",
   "version": "3.7.9"
  }
 },
 "nbformat": 4,
 "nbformat_minor": 4
}
