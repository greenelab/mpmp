{
 "cells": [
  {
   "cell_type": "markdown",
   "metadata": {},
   "source": [
    "## Gene sampling for expression data comparisons\n",
    "\n",
    "For mutation prediction from gene expression data, we want to compare the Vogelstein et al. 2013 gene set [located here](https://github.com/greenelab/pancancer/blob/master/data/vogelstein_cancergenes.tsv) with a set of random genes of equal length, and with a set of the most frequently mutated genes in TCGA of equal length.\n",
    "\n",
    "This script will sample the random genes and identify the most frequently mutated genes, and generate files containing those genes and their classification information (oncogene/TSG/neither)."
   ]
  },
  {
   "cell_type": "code",
   "execution_count": 1,
   "metadata": {},
   "outputs": [],
   "source": [
    "import os\n",
    "\n",
    "import numpy as np\n",
    "import pandas as pd\n",
    "\n",
    "import mpmp.config as cfg\n",
    "import mpmp.utilities.data_utilities as du"
   ]
  },
  {
   "cell_type": "code",
   "execution_count": 2,
   "metadata": {},
   "outputs": [],
   "source": [
    "# this is the number of valid genes in the Vogelstein gene set\n",
    "NUM_GENES = 107\n",
    "\n",
    "# sample random genes from set of genes with every gene with >= NUM_CANCERS\n",
    "# valid cancer types\n",
    "#\n",
    "# if we sampled them randomly from all genes, it's likely that many of them\n",
    "# would end up with no valid cancer types (i.e. not enough mutations to train\n",
    "# a classifier), so we add this criterion to make sure they're reasonably\n",
    "# frequently mutated\n",
    "NUM_CANCERS = 2"
   ]
  },
  {
   "cell_type": "markdown",
   "metadata": {},
   "source": [
    "### Load mutation and sample/cancer type info"
   ]
  },
  {
   "cell_type": "code",
   "execution_count": 3,
   "metadata": {},
   "outputs": [
    {
     "name": "stderr",
     "output_type": "stream",
     "text": [
      "Loading sample info...\n",
      "Loading pan-cancer data from cached pickle file...\n"
     ]
    },
    {
     "name": "stdout",
     "output_type": "stream",
     "text": [
      "(11060, 3)\n",
      "(9074, 20938)\n"
     ]
    }
   ],
   "source": [
    "sample_info_df = du.load_sample_info('expression', verbose=True)\n",
    "mutation_df = du.load_pancancer_data(verbose=True)[1]\n",
    "print(sample_info_df.shape)\n",
    "print(mutation_df.shape)"
   ]
  },
  {
   "cell_type": "code",
   "execution_count": 4,
   "metadata": {},
   "outputs": [],
   "source": [
    "mutations_df = (mutation_df\n",
    "    .merge(sample_info_df, how='inner', left_index=True, right_index=True)\n",
    "    .drop(columns=['sample_type', 'id_for_stratification'])\n",
    ")\n",
    "print(mutations_df.shape)"
   ]
  },
  {
   "cell_type": "markdown",
   "metadata": {},
   "source": [
    "### Get number of mutations per gene, per cancer type"
   ]
  },
  {
   "cell_type": "code",
   "execution_count": 5,
   "metadata": {},
   "outputs": [
    {
     "data": {
      "text/html": [
       "<div>\n",
       "<style scoped>\n",
       "    .dataframe tbody tr th:only-of-type {\n",
       "        vertical-align: middle;\n",
       "    }\n",
       "\n",
       "    .dataframe tbody tr th {\n",
       "        vertical-align: top;\n",
       "    }\n",
       "\n",
       "    .dataframe thead th {\n",
       "        text-align: right;\n",
       "    }\n",
       "</style>\n",
       "<table border=\"1\" class=\"dataframe\">\n",
       "  <thead>\n",
       "    <tr style=\"text-align: right;\">\n",
       "      <th></th>\n",
       "      <th>5S_rRNA</th>\n",
       "      <th>A1BG</th>\n",
       "      <th>A1CF</th>\n",
       "      <th>A2M</th>\n",
       "      <th>A2ML1</th>\n",
       "    </tr>\n",
       "    <tr>\n",
       "      <th>cancer_type</th>\n",
       "      <th></th>\n",
       "      <th></th>\n",
       "      <th></th>\n",
       "      <th></th>\n",
       "      <th></th>\n",
       "    </tr>\n",
       "  </thead>\n",
       "  <tbody>\n",
       "    <tr>\n",
       "      <th>ACC</th>\n",
       "      <td>0</td>\n",
       "      <td>0</td>\n",
       "      <td>0</td>\n",
       "      <td>0</td>\n",
       "      <td>0</td>\n",
       "    </tr>\n",
       "    <tr>\n",
       "      <th>BLCA</th>\n",
       "      <td>0</td>\n",
       "      <td>4</td>\n",
       "      <td>3</td>\n",
       "      <td>15</td>\n",
       "      <td>12</td>\n",
       "    </tr>\n",
       "    <tr>\n",
       "      <th>BRCA</th>\n",
       "      <td>0</td>\n",
       "      <td>3</td>\n",
       "      <td>8</td>\n",
       "      <td>12</td>\n",
       "      <td>10</td>\n",
       "    </tr>\n",
       "    <tr>\n",
       "      <th>CESC</th>\n",
       "      <td>0</td>\n",
       "      <td>1</td>\n",
       "      <td>4</td>\n",
       "      <td>5</td>\n",
       "      <td>6</td>\n",
       "    </tr>\n",
       "    <tr>\n",
       "      <th>CHOL</th>\n",
       "      <td>0</td>\n",
       "      <td>0</td>\n",
       "      <td>1</td>\n",
       "      <td>1</td>\n",
       "      <td>0</td>\n",
       "    </tr>\n",
       "  </tbody>\n",
       "</table>\n",
       "</div>"
      ],
      "text/plain": [
       "             5S_rRNA  A1BG  A1CF  A2M  A2ML1\n",
       "cancer_type                                 \n",
       "ACC                0     0     0    0      0\n",
       "BLCA               0     4     3   15     12\n",
       "BRCA               0     3     8   12     10\n",
       "CESC               0     1     4    5      6\n",
       "CHOL               0     0     1    1      0"
      ]
     },
     "execution_count": 5,
     "metadata": {},
     "output_type": "execute_result"
    }
   ],
   "source": [
    "sum_df = mutations_df.groupby('cancer_type').agg('sum')\n",
    "count_df = mutations_df.groupby('cancer_type').agg('count')\n",
    "ratio_df = sum_df / count_df\n",
    "sum_df.iloc[:5, :5]"
   ]
  },
  {
   "cell_type": "code",
   "execution_count": 6,
   "metadata": {},
   "outputs": [
    {
     "name": "stdout",
     "output_type": "stream",
     "text": [
      "40436\n",
      "2798\n"
     ]
    },
    {
     "data": {
      "text/html": [
       "<div>\n",
       "<style scoped>\n",
       "    .dataframe tbody tr th:only-of-type {\n",
       "        vertical-align: middle;\n",
       "    }\n",
       "\n",
       "    .dataframe tbody tr th {\n",
       "        vertical-align: top;\n",
       "    }\n",
       "\n",
       "    .dataframe thead th {\n",
       "        text-align: right;\n",
       "    }\n",
       "</style>\n",
       "<table border=\"1\" class=\"dataframe\">\n",
       "  <thead>\n",
       "    <tr style=\"text-align: right;\">\n",
       "      <th></th>\n",
       "      <th>5S_rRNA</th>\n",
       "      <th>A1BG</th>\n",
       "      <th>A1CF</th>\n",
       "      <th>A2M</th>\n",
       "      <th>A2ML1</th>\n",
       "    </tr>\n",
       "    <tr>\n",
       "      <th>cancer_type</th>\n",
       "      <th></th>\n",
       "      <th></th>\n",
       "      <th></th>\n",
       "      <th></th>\n",
       "      <th></th>\n",
       "    </tr>\n",
       "  </thead>\n",
       "  <tbody>\n",
       "    <tr>\n",
       "      <th>ACC</th>\n",
       "      <td>False</td>\n",
       "      <td>False</td>\n",
       "      <td>False</td>\n",
       "      <td>False</td>\n",
       "      <td>False</td>\n",
       "    </tr>\n",
       "    <tr>\n",
       "      <th>BLCA</th>\n",
       "      <td>False</td>\n",
       "      <td>False</td>\n",
       "      <td>False</td>\n",
       "      <td>False</td>\n",
       "      <td>False</td>\n",
       "    </tr>\n",
       "    <tr>\n",
       "      <th>BRCA</th>\n",
       "      <td>False</td>\n",
       "      <td>False</td>\n",
       "      <td>False</td>\n",
       "      <td>False</td>\n",
       "      <td>False</td>\n",
       "    </tr>\n",
       "    <tr>\n",
       "      <th>CESC</th>\n",
       "      <td>False</td>\n",
       "      <td>False</td>\n",
       "      <td>False</td>\n",
       "      <td>False</td>\n",
       "      <td>False</td>\n",
       "    </tr>\n",
       "    <tr>\n",
       "      <th>CHOL</th>\n",
       "      <td>False</td>\n",
       "      <td>False</td>\n",
       "      <td>False</td>\n",
       "      <td>False</td>\n",
       "      <td>False</td>\n",
       "    </tr>\n",
       "  </tbody>\n",
       "</table>\n",
       "</div>"
      ],
      "text/plain": [
       "             5S_rRNA   A1BG   A1CF    A2M  A2ML1\n",
       "cancer_type                                     \n",
       "ACC            False  False  False  False  False\n",
       "BLCA           False  False  False  False  False\n",
       "BRCA           False  False  False  False  False\n",
       "CESC           False  False  False  False  False\n",
       "CHOL           False  False  False  False  False"
      ]
     },
     "execution_count": 6,
     "metadata": {},
     "output_type": "execute_result"
    }
   ],
   "source": [
    "SUM_THRESHOLD = 10\n",
    "PROP_THRESHOLD = 0.1\n",
    "\n",
    "sum_df = (sum_df > SUM_THRESHOLD)\n",
    "ratio_df = (ratio_df > PROP_THRESHOLD)\n",
    "valid_df = sum_df & ratio_df\n",
    "\n",
    "print(sum_df.sum().sum())\n",
    "print(ratio_df.sum().sum())\n",
    "valid_df.iloc[:5, :5]"
   ]
  },
  {
   "cell_type": "markdown",
   "metadata": {},
   "source": [
    "### Sample randomly from set of all valid genes"
   ]
  },
  {
   "cell_type": "code",
   "execution_count": 8,
   "metadata": {},
   "outputs": [
    {
     "name": "stdout",
     "output_type": "stream",
     "text": [
      "ABCA12    3\n",
      "ABCA13    8\n",
      "ABCA4     2\n",
      "ABCA8     2\n",
      "ABCB1     2\n",
      "ABCB5     2\n",
      "ABCC12    2\n",
      "ABCC9     2\n",
      "ACACA     2\n",
      "ACACB     2\n",
      "dtype: int64\n",
      "555\n"
     ]
    }
   ],
   "source": [
    "valid_genes = valid_df.sum()[valid_df.sum() >= NUM_CANCERS]\n",
    "print(valid_genes.head(10))\n",
    "print(len(valid_genes))"
   ]
  },
  {
   "cell_type": "code",
   "execution_count": 9,
   "metadata": {},
   "outputs": [
    {
     "name": "stdout",
     "output_type": "stream",
     "text": [
      "HECTD4     3\n",
      "PDE4DIP    5\n",
      "BRAF       3\n",
      "PKD1L1     2\n",
      "CACNA1G    2\n",
      "dtype: int64\n"
     ]
    }
   ],
   "source": [
    "# sample randomly from valid genes and write to dataframe\n",
    "sampled_genes = valid_genes.sample(n=NUM_GENES, random_state=cfg.default_seed)\n",
    "print(sampled_genes.head())"
   ]
  },
  {
   "cell_type": "code",
   "execution_count": 11,
   "metadata": {},
   "outputs": [
    {
     "data": {
      "text/html": [
       "<div>\n",
       "<style scoped>\n",
       "    .dataframe tbody tr th:only-of-type {\n",
       "        vertical-align: middle;\n",
       "    }\n",
       "\n",
       "    .dataframe tbody tr th {\n",
       "        vertical-align: top;\n",
       "    }\n",
       "\n",
       "    .dataframe thead th {\n",
       "        text-align: right;\n",
       "    }\n",
       "</style>\n",
       "<table border=\"1\" class=\"dataframe\">\n",
       "  <thead>\n",
       "    <tr style=\"text-align: right;\">\n",
       "      <th></th>\n",
       "      <th>classification</th>\n",
       "    </tr>\n",
       "    <tr>\n",
       "      <th>gene</th>\n",
       "      <th></th>\n",
       "    </tr>\n",
       "  </thead>\n",
       "  <tbody>\n",
       "    <tr>\n",
       "      <th>HECTD4</th>\n",
       "      <td>neither</td>\n",
       "    </tr>\n",
       "    <tr>\n",
       "      <th>PDE4DIP</th>\n",
       "      <td>neither</td>\n",
       "    </tr>\n",
       "    <tr>\n",
       "      <th>BRAF</th>\n",
       "      <td>Oncogene</td>\n",
       "    </tr>\n",
       "    <tr>\n",
       "      <th>PKD1L1</th>\n",
       "      <td>neither</td>\n",
       "    </tr>\n",
       "    <tr>\n",
       "      <th>CACNA1G</th>\n",
       "      <td>neither</td>\n",
       "    </tr>\n",
       "  </tbody>\n",
       "</table>\n",
       "</div>"
      ],
      "text/plain": [
       "        classification\n",
       "gene                  \n",
       "HECTD4         neither\n",
       "PDE4DIP        neither\n",
       "BRAF          Oncogene\n",
       "PKD1L1         neither\n",
       "CACNA1G        neither"
      ]
     },
     "execution_count": 11,
     "metadata": {},
     "output_type": "execute_result"
    }
   ],
   "source": [
    "# get oncogene/TSG status from Vogelstein gene list\n",
    "# this is just used to decide whether to add copy number gains/losses in mutation labeling\n",
    "vogelstein_df = du.load_vogelstein()\n",
    "gene_to_class_map = dict(zip(vogelstein_df.gene, vogelstein_df.classification))\n",
    "\n",
    "def get_class(gene):\n",
    "    # if genes aren't in other gene lists, mark as 'neither'\n",
    "    try:\n",
    "        return gene_to_class_map[gene]\n",
    "    except KeyError:\n",
    "        return 'neither'\n",
    "    \n",
    "random_classes = [get_class(gene) for gene in sampled_genes.index.values]\n",
    "\n",
    "random_df = pd.DataFrame({\n",
    "    'gene': sampled_genes.index.values,\n",
    "    'classification': random_classes\n",
    "}).set_index('gene')\n",
    "\n",
    "random_df.head()"
   ]
  },
  {
   "cell_type": "code",
   "execution_count": 12,
   "metadata": {},
   "outputs": [],
   "source": [
    "random_df.to_csv(cfg.random_genes, sep='\\t')"
   ]
  },
  {
   "cell_type": "markdown",
   "metadata": {},
   "source": [
    "### Get top mutated genes\n",
    "\n",
    "Same methods as in https://github.com/greenelab/BioBombe/blob/master/9.tcga-classify/top-50-pancanatlas-mutations.ipynb (but we want more than 50 genes, since we want a gene set of the same size as Vogelstein)"
   ]
  },
  {
   "cell_type": "code",
   "execution_count": 13,
   "metadata": {},
   "outputs": [
    {
     "data": {
      "text/plain": [
       "TP53      3375\n",
       "TTN       2841\n",
       "MUC16     1815\n",
       "PIK3CA    1290\n",
       "CSMD3     1238\n",
       "dtype: int64"
      ]
     },
     "execution_count": 13,
     "metadata": {},
     "output_type": "execute_result"
    }
   ],
   "source": [
    "mutation_count_df = mutation_df.sum().sort_values(ascending=False)\n",
    "mutation_count_df.head()"
   ]
  },
  {
   "cell_type": "code",
   "execution_count": 14,
   "metadata": {},
   "outputs": [
    {
     "data": {
      "text/html": [
       "<div>\n",
       "<style scoped>\n",
       "    .dataframe tbody tr th:only-of-type {\n",
       "        vertical-align: middle;\n",
       "    }\n",
       "\n",
       "    .dataframe tbody tr th {\n",
       "        vertical-align: top;\n",
       "    }\n",
       "\n",
       "    .dataframe thead th {\n",
       "        text-align: right;\n",
       "    }\n",
       "</style>\n",
       "<table border=\"1\" class=\"dataframe\">\n",
       "  <thead>\n",
       "    <tr style=\"text-align: right;\">\n",
       "      <th></th>\n",
       "      <th>classification</th>\n",
       "    </tr>\n",
       "    <tr>\n",
       "      <th>gene</th>\n",
       "      <th></th>\n",
       "    </tr>\n",
       "  </thead>\n",
       "  <tbody>\n",
       "    <tr>\n",
       "      <th>TP53</th>\n",
       "      <td>TSG</td>\n",
       "    </tr>\n",
       "    <tr>\n",
       "      <th>TTN</th>\n",
       "      <td>neither</td>\n",
       "    </tr>\n",
       "    <tr>\n",
       "      <th>MUC16</th>\n",
       "      <td>neither</td>\n",
       "    </tr>\n",
       "    <tr>\n",
       "      <th>PIK3CA</th>\n",
       "      <td>Oncogene</td>\n",
       "    </tr>\n",
       "    <tr>\n",
       "      <th>CSMD3</th>\n",
       "      <td>neither</td>\n",
       "    </tr>\n",
       "  </tbody>\n",
       "</table>\n",
       "</div>"
      ],
      "text/plain": [
       "       classification\n",
       "gene                 \n",
       "TP53              TSG\n",
       "TTN           neither\n",
       "MUC16         neither\n",
       "PIK3CA       Oncogene\n",
       "CSMD3         neither"
      ]
     },
     "execution_count": 14,
     "metadata": {},
     "output_type": "execute_result"
    }
   ],
   "source": [
    "top_genes = mutation_count_df[:NUM_GENES]\n",
    "top_classes = [get_class(gene) for gene in top_genes.index.values]\n",
    "top_df = pd.DataFrame({\n",
    "    'gene': top_genes.index.values,\n",
    "    'classification': top_classes\n",
    "}).set_index('gene')\n",
    "top_df.head()"
   ]
  },
  {
   "cell_type": "code",
   "execution_count": 15,
   "metadata": {},
   "outputs": [],
   "source": [
    "top_df.to_csv(cfg.top_genes, sep='\\t')"
   ]
  }
 ],
 "metadata": {
  "kernelspec": {
   "display_name": "Python [conda env:mpmp]",
   "language": "python",
   "name": "conda-env-mpmp-py"
  },
  "language_info": {
   "codemirror_mode": {
    "name": "ipython",
    "version": 3
   },
   "file_extension": ".py",
   "mimetype": "text/x-python",
   "name": "python",
   "nbconvert_exporter": "python",
   "pygments_lexer": "ipython3",
   "version": "3.7.9"
  }
 },
 "nbformat": 4,
 "nbformat_minor": 4
}
