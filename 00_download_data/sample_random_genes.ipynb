{
 "cells": [
  {
   "cell_type": "markdown",
   "metadata": {},
   "source": [
    "## Random gene sampling"
   ]
  },
  {
   "cell_type": "code",
   "execution_count": 1,
   "metadata": {},
   "outputs": [],
   "source": [
    "import os\n",
    "\n",
    "import numpy as np\n",
    "import pandas as pd\n",
    "\n",
    "import mpmp.config as cfg\n",
    "import mpmp.utilities.data_utilities as du"
   ]
  },
  {
   "cell_type": "code",
   "execution_count": 2,
   "metadata": {},
   "outputs": [
    {
     "name": "stderr",
     "output_type": "stream",
     "text": [
      "Loading sample info...\n",
      "Loading pan-cancer data from cached pickle file...\n"
     ]
    },
    {
     "name": "stdout",
     "output_type": "stream",
     "text": [
      "(11060, 3)\n",
      "(9074, 20938)\n"
     ]
    }
   ],
   "source": [
    "sample_info_df = du.load_sample_info('expression', verbose=True)\n",
    "mutation_df = du.load_pancancer_data(verbose=True)[1]\n",
    "print(sample_info_df.shape)\n",
    "print(mutation_df.shape)"
   ]
  },
  {
   "cell_type": "code",
   "execution_count": 3,
   "metadata": {},
   "outputs": [
    {
     "name": "stdout",
     "output_type": "stream",
     "text": [
      "(9074, 20939)\n"
     ]
    }
   ],
   "source": [
    "mutations_df = (mutation_df\n",
    "    .merge(sample_info_df, how='inner', left_index=True, right_index=True)\n",
    "    .drop(columns=['sample_type', 'id_for_stratification'])\n",
    ")\n",
    "print(mutations_df.shape)"
   ]
  },
  {
   "cell_type": "code",
   "execution_count": 4,
   "metadata": {},
   "outputs": [
    {
     "data": {
      "text/html": [
       "<div>\n",
       "<style scoped>\n",
       "    .dataframe tbody tr th:only-of-type {\n",
       "        vertical-align: middle;\n",
       "    }\n",
       "\n",
       "    .dataframe tbody tr th {\n",
       "        vertical-align: top;\n",
       "    }\n",
       "\n",
       "    .dataframe thead th {\n",
       "        text-align: right;\n",
       "    }\n",
       "</style>\n",
       "<table border=\"1\" class=\"dataframe\">\n",
       "  <thead>\n",
       "    <tr style=\"text-align: right;\">\n",
       "      <th></th>\n",
       "      <th>5S_rRNA</th>\n",
       "      <th>A1BG</th>\n",
       "      <th>A1CF</th>\n",
       "      <th>A2M</th>\n",
       "      <th>A2ML1</th>\n",
       "    </tr>\n",
       "    <tr>\n",
       "      <th>cancer_type</th>\n",
       "      <th></th>\n",
       "      <th></th>\n",
       "      <th></th>\n",
       "      <th></th>\n",
       "      <th></th>\n",
       "    </tr>\n",
       "  </thead>\n",
       "  <tbody>\n",
       "    <tr>\n",
       "      <th>ACC</th>\n",
       "      <td>0</td>\n",
       "      <td>0</td>\n",
       "      <td>0</td>\n",
       "      <td>0</td>\n",
       "      <td>0</td>\n",
       "    </tr>\n",
       "    <tr>\n",
       "      <th>BLCA</th>\n",
       "      <td>0</td>\n",
       "      <td>4</td>\n",
       "      <td>3</td>\n",
       "      <td>15</td>\n",
       "      <td>12</td>\n",
       "    </tr>\n",
       "    <tr>\n",
       "      <th>BRCA</th>\n",
       "      <td>0</td>\n",
       "      <td>3</td>\n",
       "      <td>8</td>\n",
       "      <td>12</td>\n",
       "      <td>10</td>\n",
       "    </tr>\n",
       "    <tr>\n",
       "      <th>CESC</th>\n",
       "      <td>0</td>\n",
       "      <td>1</td>\n",
       "      <td>4</td>\n",
       "      <td>5</td>\n",
       "      <td>6</td>\n",
       "    </tr>\n",
       "    <tr>\n",
       "      <th>CHOL</th>\n",
       "      <td>0</td>\n",
       "      <td>0</td>\n",
       "      <td>1</td>\n",
       "      <td>1</td>\n",
       "      <td>0</td>\n",
       "    </tr>\n",
       "  </tbody>\n",
       "</table>\n",
       "</div>"
      ],
      "text/plain": [
       "             5S_rRNA  A1BG  A1CF  A2M  A2ML1\n",
       "cancer_type                                 \n",
       "ACC                0     0     0    0      0\n",
       "BLCA               0     4     3   15     12\n",
       "BRCA               0     3     8   12     10\n",
       "CESC               0     1     4    5      6\n",
       "CHOL               0     0     1    1      0"
      ]
     },
     "execution_count": 4,
     "metadata": {},
     "output_type": "execute_result"
    }
   ],
   "source": [
    "sum_df = mutations_df.groupby('cancer_type').agg('sum')\n",
    "count_df = mutations_df.groupby('cancer_type').agg('count')\n",
    "ratio_df = sum_df / count_df\n",
    "sum_df.iloc[:5, :5]"
   ]
  },
  {
   "cell_type": "code",
   "execution_count": 5,
   "metadata": {},
   "outputs": [
    {
     "name": "stdout",
     "output_type": "stream",
     "text": [
      "40436\n",
      "2798\n"
     ]
    },
    {
     "data": {
      "text/html": [
       "<div>\n",
       "<style scoped>\n",
       "    .dataframe tbody tr th:only-of-type {\n",
       "        vertical-align: middle;\n",
       "    }\n",
       "\n",
       "    .dataframe tbody tr th {\n",
       "        vertical-align: top;\n",
       "    }\n",
       "\n",
       "    .dataframe thead th {\n",
       "        text-align: right;\n",
       "    }\n",
       "</style>\n",
       "<table border=\"1\" class=\"dataframe\">\n",
       "  <thead>\n",
       "    <tr style=\"text-align: right;\">\n",
       "      <th></th>\n",
       "      <th>5S_rRNA</th>\n",
       "      <th>A1BG</th>\n",
       "      <th>A1CF</th>\n",
       "      <th>A2M</th>\n",
       "      <th>A2ML1</th>\n",
       "    </tr>\n",
       "    <tr>\n",
       "      <th>cancer_type</th>\n",
       "      <th></th>\n",
       "      <th></th>\n",
       "      <th></th>\n",
       "      <th></th>\n",
       "      <th></th>\n",
       "    </tr>\n",
       "  </thead>\n",
       "  <tbody>\n",
       "    <tr>\n",
       "      <th>ACC</th>\n",
       "      <td>False</td>\n",
       "      <td>False</td>\n",
       "      <td>False</td>\n",
       "      <td>False</td>\n",
       "      <td>False</td>\n",
       "    </tr>\n",
       "    <tr>\n",
       "      <th>BLCA</th>\n",
       "      <td>False</td>\n",
       "      <td>False</td>\n",
       "      <td>False</td>\n",
       "      <td>False</td>\n",
       "      <td>False</td>\n",
       "    </tr>\n",
       "    <tr>\n",
       "      <th>BRCA</th>\n",
       "      <td>False</td>\n",
       "      <td>False</td>\n",
       "      <td>False</td>\n",
       "      <td>False</td>\n",
       "      <td>False</td>\n",
       "    </tr>\n",
       "    <tr>\n",
       "      <th>CESC</th>\n",
       "      <td>False</td>\n",
       "      <td>False</td>\n",
       "      <td>False</td>\n",
       "      <td>False</td>\n",
       "      <td>False</td>\n",
       "    </tr>\n",
       "    <tr>\n",
       "      <th>CHOL</th>\n",
       "      <td>False</td>\n",
       "      <td>False</td>\n",
       "      <td>False</td>\n",
       "      <td>False</td>\n",
       "      <td>False</td>\n",
       "    </tr>\n",
       "  </tbody>\n",
       "</table>\n",
       "</div>"
      ],
      "text/plain": [
       "             5S_rRNA   A1BG   A1CF    A2M  A2ML1\n",
       "cancer_type                                     \n",
       "ACC            False  False  False  False  False\n",
       "BLCA           False  False  False  False  False\n",
       "BRCA           False  False  False  False  False\n",
       "CESC           False  False  False  False  False\n",
       "CHOL           False  False  False  False  False"
      ]
     },
     "execution_count": 5,
     "metadata": {},
     "output_type": "execute_result"
    }
   ],
   "source": [
    "SUM_THRESHOLD = 10\n",
    "PROP_THRESHOLD = 0.1\n",
    "\n",
    "sum_df = (sum_df > SUM_THRESHOLD)\n",
    "ratio_df = (ratio_df > PROP_THRESHOLD)\n",
    "valid_df = sum_df & ratio_df\n",
    "\n",
    "print(sum_df.sum().sum())\n",
    "print(ratio_df.sum().sum())\n",
    "valid_df.iloc[:5, :5]"
   ]
  },
  {
   "cell_type": "code",
   "execution_count": 6,
   "metadata": {},
   "outputs": [
    {
     "name": "stdout",
     "output_type": "stream",
     "text": [
      "2687\n",
      "TTN       22\n",
      "TP53      22\n",
      "MUC16     17\n",
      "FLG       12\n",
      "RYR2      12\n",
      "CSMD3     11\n",
      "SYNE1     11\n",
      "LRP1B     11\n",
      "PIK3CA    11\n",
      "SPTA1     10\n",
      "dtype: int64\n"
     ]
    }
   ],
   "source": [
    "print(valid_df.sum().sum())\n",
    "print(valid_df.sum().sort_values(ascending=False).head(10))"
   ]
  },
  {
   "cell_type": "code",
   "execution_count": 7,
   "metadata": {},
   "outputs": [
    {
     "name": "stdout",
     "output_type": "stream",
     "text": [
      "ABCA12      3\n",
      "ABCA13      8\n",
      "ADAMTS12    3\n",
      "ADAMTS16    3\n",
      "ADAMTS20    4\n",
      "AFF2        3\n",
      "AHNAK       6\n",
      "AHNAK2      7\n",
      "AKAP9       3\n",
      "ALMS1       3\n",
      "dtype: int64\n"
     ]
    }
   ],
   "source": [
    "NUM_CANCERS = 3\n",
    "\n",
    "valid_genes = valid_df.sum()[valid_df.sum() >= NUM_CANCERS]\n",
    "print(valid_genes.head(10))"
   ]
  },
  {
   "cell_type": "code",
   "execution_count": 8,
   "metadata": {},
   "outputs": [
    {
     "name": "stdout",
     "output_type": "stream",
     "text": [
      "ATRX     3\n",
      "AHNAK    6\n",
      "NF1      5\n",
      "TENM2    4\n",
      "SDK1     4\n",
      "dtype: int64\n"
     ]
    }
   ],
   "source": [
    "# sample randomly from valid genes and write to dataframe\n",
    "sampled_genes = valid_genes.sample(n=50, random_state=cfg.default_seed)\n",
    "print(sampled_genes.head())"
   ]
  },
  {
   "cell_type": "code",
   "execution_count": 9,
   "metadata": {},
   "outputs": [
    {
     "name": "stdout",
     "output_type": "stream",
     "text": [
      "[('TP53', 'TSG'), ('TTN', 'neither'), ('MUC16', 'neither'), ('PIK3CA', 'Oncogene'), ('CSMD3', 'neither')]\n"
     ]
    }
   ],
   "source": [
    "# get oncogene/TSG status from other gene lists\n",
    "top50_df = du.load_top_50()\n",
    "vogelstein_df = du.load_vogelstein()\n",
    "gene_to_class_map = dict(zip(top50_df.gene, top50_df.classification))\n",
    "for gene in vogelstein_df.gene:\n",
    "    if gene not in gene_to_class_map:\n",
    "        gene_to_class_map[gene] = vogelstein_df.loc[vogelstein_df.gene == gene, 'classification'].values[0]\n",
    "        \n",
    "print(list(gene_to_class_map.items())[:5])"
   ]
  },
  {
   "cell_type": "code",
   "execution_count": 10,
   "metadata": {},
   "outputs": [
    {
     "data": {
      "text/html": [
       "<div>\n",
       "<style scoped>\n",
       "    .dataframe tbody tr th:only-of-type {\n",
       "        vertical-align: middle;\n",
       "    }\n",
       "\n",
       "    .dataframe tbody tr th {\n",
       "        vertical-align: top;\n",
       "    }\n",
       "\n",
       "    .dataframe thead th {\n",
       "        text-align: right;\n",
       "    }\n",
       "</style>\n",
       "<table border=\"1\" class=\"dataframe\">\n",
       "  <thead>\n",
       "    <tr style=\"text-align: right;\">\n",
       "      <th></th>\n",
       "      <th>classification</th>\n",
       "    </tr>\n",
       "    <tr>\n",
       "      <th>gene</th>\n",
       "      <th></th>\n",
       "    </tr>\n",
       "  </thead>\n",
       "  <tbody>\n",
       "    <tr>\n",
       "      <th>ATRX</th>\n",
       "      <td>TSG</td>\n",
       "    </tr>\n",
       "    <tr>\n",
       "      <th>AHNAK</th>\n",
       "      <td>neither</td>\n",
       "    </tr>\n",
       "    <tr>\n",
       "      <th>NF1</th>\n",
       "      <td>TSG</td>\n",
       "    </tr>\n",
       "    <tr>\n",
       "      <th>TENM2</th>\n",
       "      <td>neither</td>\n",
       "    </tr>\n",
       "    <tr>\n",
       "      <th>SDK1</th>\n",
       "      <td>neither</td>\n",
       "    </tr>\n",
       "  </tbody>\n",
       "</table>\n",
       "</div>"
      ],
      "text/plain": [
       "      classification\n",
       "gene                \n",
       "ATRX             TSG\n",
       "AHNAK        neither\n",
       "NF1              TSG\n",
       "TENM2        neither\n",
       "SDK1         neither"
      ]
     },
     "execution_count": 10,
     "metadata": {},
     "output_type": "execute_result"
    }
   ],
   "source": [
    "def get_class(gene):\n",
    "    # if genes aren't in other gene lists, mark as 'neither'\n",
    "    # we could do this in a more sophisticated way in the future, if we want\n",
    "    try:\n",
    "        return gene_to_class_map[gene]\n",
    "    except KeyError:\n",
    "        return 'neither'\n",
    "    \n",
    "classes = [get_class(gene) for gene in sampled_genes.index.values]\n",
    "random_df = pd.DataFrame({\n",
    "    'gene': sampled_genes.index.values,\n",
    "    'classification': classes\n",
    "}).set_index('gene')\n",
    "\n",
    "random_df.head()"
   ]
  },
  {
   "cell_type": "code",
   "execution_count": 11,
   "metadata": {},
   "outputs": [],
   "source": [
    "random_df.to_csv(cfg.random_genes, sep='\\t')"
   ]
  }
 ],
 "metadata": {
  "kernelspec": {
   "display_name": "Python [conda env:mpmp]",
   "language": "python",
   "name": "conda-env-mpmp-py"
  },
  "language_info": {
   "codemirror_mode": {
    "name": "ipython",
    "version": 3
   },
   "file_extension": ".py",
   "mimetype": "text/x-python",
   "name": "python",
   "nbconvert_exporter": "python",
   "pygments_lexer": "ipython3",
   "version": "3.7.9"
  }
 },
 "nbformat": 4,
 "nbformat_minor": 4
}
