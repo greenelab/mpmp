{
 "cells": [
  {
   "cell_type": "markdown",
   "metadata": {},
   "source": [
    "## Preprocess TCGA mutation data\n",
    "\n",
    "All this does is save the sample info for TCGA somatic mutation data, which is necessary to use mutation information as a predictor (e.g. in survival/prognosis prediction experiments).\n",
    "\n",
    "This data was already preprocessed in http://github.com/greenelab/pancancer and is loaded directly from that repo, so no further preprocessing is necessary."
   ]
  },
  {
   "cell_type": "code",
   "execution_count": 1,
   "metadata": {},
   "outputs": [],
   "source": [
    "import os\n",
    "\n",
    "import pandas as pd\n",
    "\n",
    "import mpmp.config as cfg\n",
    "import mpmp.utilities.data_utilities as du\n",
    "import mpmp.utilities.tcga_utilities as tu"
   ]
  },
  {
   "cell_type": "markdown",
   "metadata": {},
   "source": [
    "### Read TCGA Barcode Curation Information\n",
    "\n",
    "Extract information from TCGA barcodes - `cancer-type` and `sample-type`. See https://github.com/cognoma/cancer-data for more details"
   ]
  },
  {
   "cell_type": "code",
   "execution_count": 2,
   "metadata": {},
   "outputs": [
    {
     "data": {
      "text/html": [
       "<div>\n",
       "<style scoped>\n",
       "    .dataframe tbody tr th:only-of-type {\n",
       "        vertical-align: middle;\n",
       "    }\n",
       "\n",
       "    .dataframe tbody tr th {\n",
       "        vertical-align: top;\n",
       "    }\n",
       "\n",
       "    .dataframe thead th {\n",
       "        text-align: right;\n",
       "    }\n",
       "</style>\n",
       "<table border=\"1\" class=\"dataframe\">\n",
       "  <thead>\n",
       "    <tr style=\"text-align: right;\">\n",
       "      <th></th>\n",
       "      <th>TSS Code</th>\n",
       "      <th>Source Site</th>\n",
       "      <th>Study Name</th>\n",
       "      <th>BCR</th>\n",
       "      <th>acronym</th>\n",
       "    </tr>\n",
       "  </thead>\n",
       "  <tbody>\n",
       "    <tr>\n",
       "      <th>0</th>\n",
       "      <td>01</td>\n",
       "      <td>International Genomics Consortium</td>\n",
       "      <td>ovarian serous cystadenocarcinoma</td>\n",
       "      <td>IGC</td>\n",
       "      <td>OV</td>\n",
       "    </tr>\n",
       "    <tr>\n",
       "      <th>1</th>\n",
       "      <td>02</td>\n",
       "      <td>MD Anderson Cancer Center</td>\n",
       "      <td>glioblastoma multiforme</td>\n",
       "      <td>IGC</td>\n",
       "      <td>GBM</td>\n",
       "    </tr>\n",
       "  </tbody>\n",
       "</table>\n",
       "</div>"
      ],
      "text/plain": [
       "  TSS Code                        Source Site  \\\n",
       "0       01  International Genomics Consortium   \n",
       "1       02          MD Anderson Cancer Center   \n",
       "\n",
       "                          Study Name  BCR acronym  \n",
       "0  ovarian serous cystadenocarcinoma  IGC      OV  \n",
       "1            glioblastoma multiforme  IGC     GBM  "
      ]
     },
     "execution_count": 2,
     "metadata": {},
     "output_type": "execute_result"
    }
   ],
   "source": [
    "(cancer_types_df,\n",
    " cancertype_codes_dict,\n",
    " sample_types_df,\n",
    " sampletype_codes_dict) = tu.get_tcga_barcode_info()\n",
    "cancer_types_df.head(2)"
   ]
  },
  {
   "cell_type": "code",
   "execution_count": 3,
   "metadata": {},
   "outputs": [
    {
     "data": {
      "text/html": [
       "<div>\n",
       "<style scoped>\n",
       "    .dataframe tbody tr th:only-of-type {\n",
       "        vertical-align: middle;\n",
       "    }\n",
       "\n",
       "    .dataframe tbody tr th {\n",
       "        vertical-align: top;\n",
       "    }\n",
       "\n",
       "    .dataframe thead th {\n",
       "        text-align: right;\n",
       "    }\n",
       "</style>\n",
       "<table border=\"1\" class=\"dataframe\">\n",
       "  <thead>\n",
       "    <tr style=\"text-align: right;\">\n",
       "      <th></th>\n",
       "      <th>Code</th>\n",
       "      <th>Definition</th>\n",
       "      <th>Short Letter Code</th>\n",
       "    </tr>\n",
       "  </thead>\n",
       "  <tbody>\n",
       "    <tr>\n",
       "      <th>0</th>\n",
       "      <td>01</td>\n",
       "      <td>Primary Solid Tumor</td>\n",
       "      <td>TP</td>\n",
       "    </tr>\n",
       "    <tr>\n",
       "      <th>1</th>\n",
       "      <td>02</td>\n",
       "      <td>Recurrent Solid Tumor</td>\n",
       "      <td>TR</td>\n",
       "    </tr>\n",
       "  </tbody>\n",
       "</table>\n",
       "</div>"
      ],
      "text/plain": [
       "  Code             Definition Short Letter Code\n",
       "0   01    Primary Solid Tumor                TP\n",
       "1   02  Recurrent Solid Tumor                TR"
      ]
     },
     "execution_count": 3,
     "metadata": {},
     "output_type": "execute_result"
    }
   ],
   "source": [
    "sample_types_df.head(2)"
   ]
  },
  {
   "cell_type": "markdown",
   "metadata": {},
   "source": [
    "### Load and process somatic mutation data"
   ]
  },
  {
   "cell_type": "code",
   "execution_count": 4,
   "metadata": {},
   "outputs": [
    {
     "name": "stderr",
     "output_type": "stream",
     "text": [
      "Loading pan-cancer data from cached pickle file...\n"
     ]
    },
    {
     "name": "stdout",
     "output_type": "stream",
     "text": [
      "0\n"
     ]
    },
    {
     "data": {
      "text/html": [
       "<div>\n",
       "<style scoped>\n",
       "    .dataframe tbody tr th:only-of-type {\n",
       "        vertical-align: middle;\n",
       "    }\n",
       "\n",
       "    .dataframe tbody tr th {\n",
       "        vertical-align: top;\n",
       "    }\n",
       "\n",
       "    .dataframe thead th {\n",
       "        text-align: right;\n",
       "    }\n",
       "</style>\n",
       "<table border=\"1\" class=\"dataframe\">\n",
       "  <thead>\n",
       "    <tr style=\"text-align: right;\">\n",
       "      <th></th>\n",
       "      <th>PATIENT_BARCODE</th>\n",
       "      <th>DISEASE</th>\n",
       "      <th>SUBTYPE</th>\n",
       "    </tr>\n",
       "    <tr>\n",
       "      <th>sample_id</th>\n",
       "      <th></th>\n",
       "      <th></th>\n",
       "      <th></th>\n",
       "    </tr>\n",
       "  </thead>\n",
       "  <tbody>\n",
       "    <tr>\n",
       "      <th>TCGA-OR-A5J1-01</th>\n",
       "      <td>TCGA-OR-A5J1</td>\n",
       "      <td>ACC</td>\n",
       "      <td>Not_Applicable</td>\n",
       "    </tr>\n",
       "    <tr>\n",
       "      <th>TCGA-OR-A5J2-01</th>\n",
       "      <td>TCGA-OR-A5J2</td>\n",
       "      <td>ACC</td>\n",
       "      <td>Not_Applicable</td>\n",
       "    </tr>\n",
       "    <tr>\n",
       "      <th>TCGA-OR-A5J3-01</th>\n",
       "      <td>TCGA-OR-A5J3</td>\n",
       "      <td>ACC</td>\n",
       "      <td>Not_Applicable</td>\n",
       "    </tr>\n",
       "    <tr>\n",
       "      <th>TCGA-OR-A5J5-01</th>\n",
       "      <td>TCGA-OR-A5J5</td>\n",
       "      <td>ACC</td>\n",
       "      <td>Not_Applicable</td>\n",
       "    </tr>\n",
       "    <tr>\n",
       "      <th>TCGA-OR-A5J6-01</th>\n",
       "      <td>TCGA-OR-A5J6</td>\n",
       "      <td>ACC</td>\n",
       "      <td>Not_Applicable</td>\n",
       "    </tr>\n",
       "  </tbody>\n",
       "</table>\n",
       "</div>"
      ],
      "text/plain": [
       "                PATIENT_BARCODE DISEASE         SUBTYPE\n",
       "sample_id                                              \n",
       "TCGA-OR-A5J1-01    TCGA-OR-A5J1     ACC  Not_Applicable\n",
       "TCGA-OR-A5J2-01    TCGA-OR-A5J2     ACC  Not_Applicable\n",
       "TCGA-OR-A5J3-01    TCGA-OR-A5J3     ACC  Not_Applicable\n",
       "TCGA-OR-A5J5-01    TCGA-OR-A5J5     ACC  Not_Applicable\n",
       "TCGA-OR-A5J6-01    TCGA-OR-A5J6     ACC  Not_Applicable"
      ]
     },
     "execution_count": 4,
     "metadata": {},
     "output_type": "execute_result"
    }
   ],
   "source": [
    "pancan_data = du.load_pancancer_data(verbose=True)\n",
    "sample_freeze_df = pancan_data[0]\n",
    "\n",
    "print(sample_freeze_df.duplicated(['SAMPLE_BARCODE']).sum())\n",
    "assert (\n",
    "    sample_freeze_df.duplicated(['SAMPLE_BARCODE']).sum() == 0\n",
    ")\n",
    "\n",
    "sample_freeze_df.set_index('SAMPLE_BARCODE', inplace=True)\n",
    "sample_freeze_df.index.rename('sample_id', inplace=True)\n",
    "sample_freeze_df.head()"
   ]
  },
  {
   "cell_type": "markdown",
   "metadata": {},
   "source": [
    "### Process TCGA cancer type and sample type info from barcodes\n",
    "\n",
    "See https://gdc.cancer.gov/resources-tcga-users/tcga-code-tables/tissue-source-site-codes for more details."
   ]
  },
  {
   "cell_type": "code",
   "execution_count": 5,
   "metadata": {},
   "outputs": [
    {
     "name": "stdout",
     "output_type": "stream",
     "text": [
      "(9074, 4)\n"
     ]
    },
    {
     "data": {
      "text/html": [
       "<div>\n",
       "<style scoped>\n",
       "    .dataframe tbody tr th:only-of-type {\n",
       "        vertical-align: middle;\n",
       "    }\n",
       "\n",
       "    .dataframe tbody tr th {\n",
       "        vertical-align: top;\n",
       "    }\n",
       "\n",
       "    .dataframe thead th {\n",
       "        text-align: right;\n",
       "    }\n",
       "</style>\n",
       "<table border=\"1\" class=\"dataframe\">\n",
       "  <thead>\n",
       "    <tr style=\"text-align: right;\">\n",
       "      <th></th>\n",
       "      <th>sample_id</th>\n",
       "      <th>sample_type</th>\n",
       "      <th>cancer_type</th>\n",
       "      <th>id_for_stratification</th>\n",
       "    </tr>\n",
       "  </thead>\n",
       "  <tbody>\n",
       "    <tr>\n",
       "      <th>0</th>\n",
       "      <td>TCGA-OR-A5J1-01</td>\n",
       "      <td>Primary Solid Tumor</td>\n",
       "      <td>ACC</td>\n",
       "      <td>ACCPrimary Solid Tumor</td>\n",
       "    </tr>\n",
       "    <tr>\n",
       "      <th>1</th>\n",
       "      <td>TCGA-OR-A5J2-01</td>\n",
       "      <td>Primary Solid Tumor</td>\n",
       "      <td>ACC</td>\n",
       "      <td>ACCPrimary Solid Tumor</td>\n",
       "    </tr>\n",
       "    <tr>\n",
       "      <th>2</th>\n",
       "      <td>TCGA-OR-A5J3-01</td>\n",
       "      <td>Primary Solid Tumor</td>\n",
       "      <td>ACC</td>\n",
       "      <td>ACCPrimary Solid Tumor</td>\n",
       "    </tr>\n",
       "    <tr>\n",
       "      <th>3</th>\n",
       "      <td>TCGA-OR-A5J5-01</td>\n",
       "      <td>Primary Solid Tumor</td>\n",
       "      <td>ACC</td>\n",
       "      <td>ACCPrimary Solid Tumor</td>\n",
       "    </tr>\n",
       "    <tr>\n",
       "      <th>4</th>\n",
       "      <td>TCGA-OR-A5J6-01</td>\n",
       "      <td>Primary Solid Tumor</td>\n",
       "      <td>ACC</td>\n",
       "      <td>ACCPrimary Solid Tumor</td>\n",
       "    </tr>\n",
       "  </tbody>\n",
       "</table>\n",
       "</div>"
      ],
      "text/plain": [
       "         sample_id          sample_type cancer_type   id_for_stratification\n",
       "0  TCGA-OR-A5J1-01  Primary Solid Tumor         ACC  ACCPrimary Solid Tumor\n",
       "1  TCGA-OR-A5J2-01  Primary Solid Tumor         ACC  ACCPrimary Solid Tumor\n",
       "2  TCGA-OR-A5J3-01  Primary Solid Tumor         ACC  ACCPrimary Solid Tumor\n",
       "3  TCGA-OR-A5J5-01  Primary Solid Tumor         ACC  ACCPrimary Solid Tumor\n",
       "4  TCGA-OR-A5J6-01  Primary Solid Tumor         ACC  ACCPrimary Solid Tumor"
      ]
     },
     "execution_count": 5,
     "metadata": {},
     "output_type": "execute_result"
    }
   ],
   "source": [
    "# get sample info and save to file\n",
    "\n",
    "tcga_id = tu.get_and_save_sample_info(sample_freeze_df,\n",
    "                                      sampletype_codes_dict,\n",
    "                                      cancertype_codes_dict,\n",
    "                                      training_data='mutation')\n",
    "\n",
    "print(tcga_id.shape)\n",
    "tcga_id.head()"
   ]
  },
  {
   "cell_type": "code",
   "execution_count": 6,
   "metadata": {},
   "outputs": [
    {
     "data": {
      "text/html": [
       "<div>\n",
       "<style scoped>\n",
       "    .dataframe tbody tr th:only-of-type {\n",
       "        vertical-align: middle;\n",
       "    }\n",
       "\n",
       "    .dataframe tbody tr th {\n",
       "        vertical-align: top;\n",
       "    }\n",
       "\n",
       "    .dataframe thead th {\n",
       "        text-align: right;\n",
       "    }\n",
       "</style>\n",
       "<table border=\"1\" class=\"dataframe\">\n",
       "  <thead>\n",
       "    <tr style=\"text-align: right;\">\n",
       "      <th></th>\n",
       "      <th>cancertype</th>\n",
       "      <th>n =</th>\n",
       "    </tr>\n",
       "  </thead>\n",
       "  <tbody>\n",
       "    <tr>\n",
       "      <th>0</th>\n",
       "      <td>BRCA</td>\n",
       "      <td>981</td>\n",
       "    </tr>\n",
       "    <tr>\n",
       "      <th>1</th>\n",
       "      <td>LGG</td>\n",
       "      <td>507</td>\n",
       "    </tr>\n",
       "    <tr>\n",
       "      <th>2</th>\n",
       "      <td>UCEC</td>\n",
       "      <td>507</td>\n",
       "    </tr>\n",
       "    <tr>\n",
       "      <th>3</th>\n",
       "      <td>LUAD</td>\n",
       "      <td>502</td>\n",
       "    </tr>\n",
       "    <tr>\n",
       "      <th>4</th>\n",
       "      <td>HNSC</td>\n",
       "      <td>487</td>\n",
       "    </tr>\n",
       "  </tbody>\n",
       "</table>\n",
       "</div>"
      ],
      "text/plain": [
       "  cancertype  n =\n",
       "0       BRCA  981\n",
       "1        LGG  507\n",
       "2       UCEC  507\n",
       "3       LUAD  502\n",
       "4       HNSC  487"
      ]
     },
     "execution_count": 6,
     "metadata": {},
     "output_type": "execute_result"
    }
   ],
   "source": [
    "# get cancer type counts and save to file\n",
    "cancertype_count_df = (\n",
    "    pd.DataFrame(tcga_id.cancer_type.value_counts())\n",
    "    .reset_index()\n",
    "    .rename({'index': 'cancertype', 'cancer_type': 'n ='}, axis='columns')\n",
    ")\n",
    "\n",
    "file = os.path.join(cfg.sample_info_dir, 'tcga_mutation_sample_counts.tsv')\n",
    "cancertype_count_df.to_csv(file, sep='\\t', index=False)\n",
    "\n",
    "cancertype_count_df.head()"
   ]
  }
 ],
 "metadata": {
  "kernelspec": {
   "display_name": "Python [conda env:mpmp]",
   "language": "python",
   "name": "conda-env-mpmp-py"
  },
  "language_info": {
   "codemirror_mode": {
    "name": "ipython",
    "version": 3
   },
   "file_extension": ".py",
   "mimetype": "text/x-python",
   "name": "python",
   "nbconvert_exporter": "python",
   "pygments_lexer": "ipython3",
   "version": "3.7.9"
  }
 },
 "nbformat": 4,
 "nbformat_minor": 4
}
