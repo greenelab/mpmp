{
 "cells": [
  {
   "cell_type": "markdown",
   "metadata": {},
   "source": [
    "## Preprocess pan-cancer RPPA data\n",
    "\n",
    "Load the downloaded data and curate sample IDs."
   ]
  },
  {
   "cell_type": "code",
   "execution_count": 11,
   "metadata": {},
   "outputs": [],
   "source": [
    "import os\n",
    "\n",
    "import numpy as np\n",
    "import pandas as pd\n",
    "import matplotlib.pyplot as plt\n",
    "import seaborn as sns\n",
    "\n",
    "import mpmp.config as cfg\n",
    "import mpmp.utilities.tcga_utilities as tu"
   ]
  },
  {
   "cell_type": "markdown",
   "metadata": {},
   "source": [
    "### Read TCGA Barcode Curation Information\n",
    "\n",
    "Extract information from TCGA barcodes - `cancer-type` and `sample-type`. See https://github.com/cognoma/cancer-data for more details"
   ]
  },
  {
   "cell_type": "code",
   "execution_count": 2,
   "metadata": {},
   "outputs": [
    {
     "data": {
      "text/html": [
       "<div>\n",
       "<style scoped>\n",
       "    .dataframe tbody tr th:only-of-type {\n",
       "        vertical-align: middle;\n",
       "    }\n",
       "\n",
       "    .dataframe tbody tr th {\n",
       "        vertical-align: top;\n",
       "    }\n",
       "\n",
       "    .dataframe thead th {\n",
       "        text-align: right;\n",
       "    }\n",
       "</style>\n",
       "<table border=\"1\" class=\"dataframe\">\n",
       "  <thead>\n",
       "    <tr style=\"text-align: right;\">\n",
       "      <th></th>\n",
       "      <th>TSS Code</th>\n",
       "      <th>Source Site</th>\n",
       "      <th>Study Name</th>\n",
       "      <th>BCR</th>\n",
       "      <th>acronym</th>\n",
       "    </tr>\n",
       "  </thead>\n",
       "  <tbody>\n",
       "    <tr>\n",
       "      <th>0</th>\n",
       "      <td>01</td>\n",
       "      <td>International Genomics Consortium</td>\n",
       "      <td>ovarian serous cystadenocarcinoma</td>\n",
       "      <td>IGC</td>\n",
       "      <td>OV</td>\n",
       "    </tr>\n",
       "    <tr>\n",
       "      <th>1</th>\n",
       "      <td>02</td>\n",
       "      <td>MD Anderson Cancer Center</td>\n",
       "      <td>glioblastoma multiforme</td>\n",
       "      <td>IGC</td>\n",
       "      <td>GBM</td>\n",
       "    </tr>\n",
       "  </tbody>\n",
       "</table>\n",
       "</div>"
      ],
      "text/plain": [
       "  TSS Code                        Source Site  \\\n",
       "0       01  International Genomics Consortium   \n",
       "1       02          MD Anderson Cancer Center   \n",
       "\n",
       "                          Study Name  BCR acronym  \n",
       "0  ovarian serous cystadenocarcinoma  IGC      OV  \n",
       "1            glioblastoma multiforme  IGC     GBM  "
      ]
     },
     "execution_count": 2,
     "metadata": {},
     "output_type": "execute_result"
    }
   ],
   "source": [
    "# commit from https://github.com/cognoma/cancer-data/\n",
    "sample_commit = 'da832c5edc1ca4d3f665b038d15b19fced724f4c'\n",
    "url = 'https://raw.githubusercontent.com/cognoma/cancer-data/{}/mapping/tcga_cancertype_codes.csv'.format(sample_commit)\n",
    "cancer_types_df = pd.read_csv(url,\n",
    "                              dtype='str',\n",
    "                              keep_default_na=False)\n",
    "\n",
    "cancertype_codes_dict = dict(zip(cancer_types_df['TSS Code'],\n",
    "                                 cancer_types_df.acronym))\n",
    "cancer_types_df.head(2)"
   ]
  },
  {
   "cell_type": "code",
   "execution_count": 3,
   "metadata": {},
   "outputs": [
    {
     "data": {
      "text/html": [
       "<div>\n",
       "<style scoped>\n",
       "    .dataframe tbody tr th:only-of-type {\n",
       "        vertical-align: middle;\n",
       "    }\n",
       "\n",
       "    .dataframe tbody tr th {\n",
       "        vertical-align: top;\n",
       "    }\n",
       "\n",
       "    .dataframe thead th {\n",
       "        text-align: right;\n",
       "    }\n",
       "</style>\n",
       "<table border=\"1\" class=\"dataframe\">\n",
       "  <thead>\n",
       "    <tr style=\"text-align: right;\">\n",
       "      <th></th>\n",
       "      <th>Code</th>\n",
       "      <th>Definition</th>\n",
       "      <th>Short Letter Code</th>\n",
       "    </tr>\n",
       "  </thead>\n",
       "  <tbody>\n",
       "    <tr>\n",
       "      <th>0</th>\n",
       "      <td>01</td>\n",
       "      <td>Primary Solid Tumor</td>\n",
       "      <td>TP</td>\n",
       "    </tr>\n",
       "    <tr>\n",
       "      <th>1</th>\n",
       "      <td>02</td>\n",
       "      <td>Recurrent Solid Tumor</td>\n",
       "      <td>TR</td>\n",
       "    </tr>\n",
       "  </tbody>\n",
       "</table>\n",
       "</div>"
      ],
      "text/plain": [
       "  Code             Definition Short Letter Code\n",
       "0   01    Primary Solid Tumor                TP\n",
       "1   02  Recurrent Solid Tumor                TR"
      ]
     },
     "execution_count": 3,
     "metadata": {},
     "output_type": "execute_result"
    }
   ],
   "source": [
    "url = 'https://raw.githubusercontent.com/cognoma/cancer-data/{}/mapping/tcga_sampletype_codes.csv'.format(sample_commit)\n",
    "sample_types_df = pd.read_csv(url, dtype='str')\n",
    "\n",
    "sampletype_codes_dict = dict(zip(sample_types_df.Code,\n",
    "                                 sample_types_df.Definition))\n",
    "sample_types_df.head(2)"
   ]
  },
  {
   "cell_type": "markdown",
   "metadata": {},
   "source": [
    "### Load and process RPPA data"
   ]
  },
  {
   "cell_type": "code",
   "execution_count": 4,
   "metadata": {},
   "outputs": [
    {
     "data": {
      "text/html": [
       "<div>\n",
       "<style scoped>\n",
       "    .dataframe tbody tr th:only-of-type {\n",
       "        vertical-align: middle;\n",
       "    }\n",
       "\n",
       "    .dataframe tbody tr th {\n",
       "        vertical-align: top;\n",
       "    }\n",
       "\n",
       "    .dataframe thead th {\n",
       "        text-align: right;\n",
       "    }\n",
       "</style>\n",
       "<table border=\"1\" class=\"dataframe\">\n",
       "  <thead>\n",
       "    <tr style=\"text-align: right;\">\n",
       "      <th></th>\n",
       "      <th>id</th>\n",
       "      <th>filename</th>\n",
       "      <th>md5</th>\n",
       "      <th>size</th>\n",
       "    </tr>\n",
       "    <tr>\n",
       "      <th>name</th>\n",
       "      <th></th>\n",
       "      <th></th>\n",
       "      <th></th>\n",
       "      <th></th>\n",
       "    </tr>\n",
       "  </thead>\n",
       "  <tbody>\n",
       "    <tr>\n",
       "      <th>mirna_sample</th>\n",
       "      <td>55d9bf6f-0712-4315-b588-e6f8e295018e</td>\n",
       "      <td>PanCanAtlas_miRNA_sample_information_list.txt</td>\n",
       "      <td>02bb56712be34bcd58c50d90387aebde</td>\n",
       "      <td>553408</td>\n",
       "    </tr>\n",
       "    <tr>\n",
       "      <th>methylation_27k</th>\n",
       "      <td>d82e2c44-89eb-43d9-b6d3-712732bf6a53</td>\n",
       "      <td>jhu-usc.edu_PANCAN_merged_HumanMethylation27_H...</td>\n",
       "      <td>5cec086f0b002d17befef76a3241e73b</td>\n",
       "      <td>5022150019</td>\n",
       "    </tr>\n",
       "    <tr>\n",
       "      <th>methylation_450k</th>\n",
       "      <td>99b0c493-9e94-4d99-af9f-151e46bab989</td>\n",
       "      <td>jhu-usc.edu_PANCAN_HumanMethylation450.betaVal...</td>\n",
       "      <td>a92f50490cf4eca98b0d19e10927de9d</td>\n",
       "      <td>41541692788</td>\n",
       "    </tr>\n",
       "    <tr>\n",
       "      <th>rppa</th>\n",
       "      <td>fcbb373e-28d4-4818-92f3-601ede3da5e1</td>\n",
       "      <td>TCGA-RPPA-pancan-clean.txt</td>\n",
       "      <td>e2b914c7ecd369589275d546d9555b05</td>\n",
       "      <td>18901234</td>\n",
       "    </tr>\n",
       "    <tr>\n",
       "      <th>rna_seq</th>\n",
       "      <td>3586c0da-64d0-4b74-a449-5ff4d9136611</td>\n",
       "      <td>EBPlusPlusAdjustPANCAN_IlluminaHiSeq_RNASeqV2....</td>\n",
       "      <td>02e72c33071307ff6570621480d3c90b</td>\n",
       "      <td>1882540959</td>\n",
       "    </tr>\n",
       "  </tbody>\n",
       "</table>\n",
       "</div>"
      ],
      "text/plain": [
       "                                                    id  \\\n",
       "name                                                     \n",
       "mirna_sample      55d9bf6f-0712-4315-b588-e6f8e295018e   \n",
       "methylation_27k   d82e2c44-89eb-43d9-b6d3-712732bf6a53   \n",
       "methylation_450k  99b0c493-9e94-4d99-af9f-151e46bab989   \n",
       "rppa              fcbb373e-28d4-4818-92f3-601ede3da5e1   \n",
       "rna_seq           3586c0da-64d0-4b74-a449-5ff4d9136611   \n",
       "\n",
       "                                                           filename  \\\n",
       "name                                                                  \n",
       "mirna_sample          PanCanAtlas_miRNA_sample_information_list.txt   \n",
       "methylation_27k   jhu-usc.edu_PANCAN_merged_HumanMethylation27_H...   \n",
       "methylation_450k  jhu-usc.edu_PANCAN_HumanMethylation450.betaVal...   \n",
       "rppa                                     TCGA-RPPA-pancan-clean.txt   \n",
       "rna_seq           EBPlusPlusAdjustPANCAN_IlluminaHiSeq_RNASeqV2....   \n",
       "\n",
       "                                               md5         size  \n",
       "name                                                             \n",
       "mirna_sample      02bb56712be34bcd58c50d90387aebde       553408  \n",
       "methylation_27k   5cec086f0b002d17befef76a3241e73b   5022150019  \n",
       "methylation_450k  a92f50490cf4eca98b0d19e10927de9d  41541692788  \n",
       "rppa              e2b914c7ecd369589275d546d9555b05     18901234  \n",
       "rna_seq           02e72c33071307ff6570621480d3c90b   1882540959  "
      ]
     },
     "execution_count": 4,
     "metadata": {},
     "output_type": "execute_result"
    }
   ],
   "source": [
    "# first load manifest file, this tells us the filenames of the raw data files\n",
    "manifest_df = pd.read_csv(os.path.join(cfg.data_dir, 'manifest.tsv'),\n",
    "                          sep='\\t', index_col=0)\n",
    "manifest_df.head(5)"
   ]
  },
  {
   "cell_type": "code",
   "execution_count": 5,
   "metadata": {},
   "outputs": [
    {
     "name": "stdout",
     "output_type": "stream",
     "text": [
      "(7790, 199)\n"
     ]
    },
    {
     "data": {
      "text/html": [
       "<div>\n",
       "<style scoped>\n",
       "    .dataframe tbody tr th:only-of-type {\n",
       "        vertical-align: middle;\n",
       "    }\n",
       "\n",
       "    .dataframe tbody tr th {\n",
       "        vertical-align: top;\n",
       "    }\n",
       "\n",
       "    .dataframe thead th {\n",
       "        text-align: right;\n",
       "    }\n",
       "</style>\n",
       "<table border=\"1\" class=\"dataframe\">\n",
       "  <thead>\n",
       "    <tr style=\"text-align: right;\">\n",
       "      <th></th>\n",
       "      <th>TumorType</th>\n",
       "      <th>X1433EPSILON</th>\n",
       "      <th>X4EBP1</th>\n",
       "      <th>X4EBP1_pS65</th>\n",
       "      <th>X4EBP1_pT37T46</th>\n",
       "    </tr>\n",
       "    <tr>\n",
       "      <th>sample_id</th>\n",
       "      <th></th>\n",
       "      <th></th>\n",
       "      <th></th>\n",
       "      <th></th>\n",
       "      <th></th>\n",
       "    </tr>\n",
       "  </thead>\n",
       "  <tbody>\n",
       "    <tr>\n",
       "      <th>TCGA-OR-A5J2-01A-21-A39K-20</th>\n",
       "      <td>ACC</td>\n",
       "      <td>-0.494327</td>\n",
       "      <td>0.592339</td>\n",
       "      <td>0.104604</td>\n",
       "      <td>-0.134915</td>\n",
       "    </tr>\n",
       "    <tr>\n",
       "      <th>TCGA-PA-A5YG-01A-21-A39K-20</th>\n",
       "      <td>ACC</td>\n",
       "      <td>-0.535367</td>\n",
       "      <td>0.182801</td>\n",
       "      <td>-0.105769</td>\n",
       "      <td>-0.040087</td>\n",
       "    </tr>\n",
       "    <tr>\n",
       "      <th>TCGA-OR-A5JV-01A-21-A39K-20</th>\n",
       "      <td>ACC</td>\n",
       "      <td>-0.109010</td>\n",
       "      <td>0.417659</td>\n",
       "      <td>0.024750</td>\n",
       "      <td>-0.720552</td>\n",
       "    </tr>\n",
       "    <tr>\n",
       "      <th>TCGA-OR-A5JT-01A-21-A39K-20</th>\n",
       "      <td>ACC</td>\n",
       "      <td>-0.412523</td>\n",
       "      <td>0.258615</td>\n",
       "      <td>0.005974</td>\n",
       "      <td>0.563042</td>\n",
       "    </tr>\n",
       "    <tr>\n",
       "      <th>TCGA-OR-A5JR-01A-21-A39K-20</th>\n",
       "      <td>ACC</td>\n",
       "      <td>-0.288187</td>\n",
       "      <td>-0.112085</td>\n",
       "      <td>0.019447</td>\n",
       "      <td>-0.002671</td>\n",
       "    </tr>\n",
       "  </tbody>\n",
       "</table>\n",
       "</div>"
      ],
      "text/plain": [
       "                            TumorType  X1433EPSILON    X4EBP1  X4EBP1_pS65  \\\n",
       "sample_id                                                                    \n",
       "TCGA-OR-A5J2-01A-21-A39K-20       ACC     -0.494327  0.592339     0.104604   \n",
       "TCGA-PA-A5YG-01A-21-A39K-20       ACC     -0.535367  0.182801    -0.105769   \n",
       "TCGA-OR-A5JV-01A-21-A39K-20       ACC     -0.109010  0.417659     0.024750   \n",
       "TCGA-OR-A5JT-01A-21-A39K-20       ACC     -0.412523  0.258615     0.005974   \n",
       "TCGA-OR-A5JR-01A-21-A39K-20       ACC     -0.288187 -0.112085     0.019447   \n",
       "\n",
       "                             X4EBP1_pT37T46  \n",
       "sample_id                                    \n",
       "TCGA-OR-A5J2-01A-21-A39K-20       -0.134915  \n",
       "TCGA-PA-A5YG-01A-21-A39K-20       -0.040087  \n",
       "TCGA-OR-A5JV-01A-21-A39K-20       -0.720552  \n",
       "TCGA-OR-A5JT-01A-21-A39K-20        0.563042  \n",
       "TCGA-OR-A5JR-01A-21-A39K-20       -0.002671  "
      ]
     },
     "execution_count": 5,
     "metadata": {},
     "output_type": "execute_result"
    }
   ],
   "source": [
    "tcga_rppa_df = (\n",
    "    pd.read_csv(os.path.join(cfg.raw_data_dir, manifest_df.loc['rppa'].filename),\n",
    "                index_col=0, sep='\\t')\n",
    ")\n",
    "\n",
    "tcga_rppa_df.index.rename('sample_id', inplace=True)\n",
    "\n",
    "print(tcga_rppa_df.shape)\n",
    "tcga_rppa_df.iloc[:5, :5]"
   ]
  },
  {
   "cell_type": "code",
   "execution_count": 6,
   "metadata": {},
   "outputs": [
    {
     "name": "stdout",
     "output_type": "stream",
     "text": [
      "(7790, 199)\n"
     ]
    }
   ],
   "source": [
    "# update sample IDs to remove multiple samples measured on the same tumor\n",
    "# and to map with the clinical information\n",
    "tcga_rppa_df.index = tcga_rppa_df.index.str.slice(start=0, stop=15)\n",
    "tcga_rppa_df = tcga_rppa_df.loc[~tcga_rppa_df.index.duplicated(), :]\n",
    "print(tcga_rppa_df.shape)"
   ]
  },
  {
   "cell_type": "markdown",
   "metadata": {},
   "source": [
    "### Filtering/imputation/NA removal"
   ]
  },
  {
   "cell_type": "code",
   "execution_count": 7,
   "metadata": {},
   "outputs": [
    {
     "name": "stdout",
     "output_type": "stream",
     "text": [
      "(199,)\n",
      "CASPASE9        7350\n",
      "CASPASE3        7350\n",
      "JAB1            6347\n",
      "PARP1           6347\n",
      "TTF1            4937\n",
      "ALPHACATENIN    4937\n",
      "ADAR1           4937\n",
      "ARID1A          3855\n",
      "BRCA2           1003\n",
      "EGFR_pY1068        0\n",
      "dtype: int64\n"
     ]
    },
    {
     "data": {
      "text/plain": [
       "<AxesSubplot:ylabel='Count'>"
      ]
     },
     "execution_count": 7,
     "metadata": {},
     "output_type": "execute_result"
    },
    {
     "data": {
      "image/png": "[encoded data removed]",
      "text/plain": [
       "<Figure size 432x288 with 1 Axes>"
      ]
     },
     "metadata": {},
     "output_type": "display_data"
    }
   ],
   "source": [
    "# how many missing values does each probe (column) have?\n",
    "probe_na = tcga_rppa_df.isna().sum()\n",
    "print(probe_na.shape)\n",
    "print(probe_na.sort_values(ascending=False).head(10))\n",
    "sns.set()\n",
    "sns.histplot(probe_na)"
   ]
  },
  {
   "cell_type": "code",
   "execution_count": 8,
   "metadata": {},
   "outputs": [
    {
     "name": "stdout",
     "output_type": "stream",
     "text": [
      "(7790,)\n",
      "sample_id\n",
      "TCGA-CC-A3MA-01    8\n",
      "TCGA-R8-A6YH-01    8\n",
      "TCGA-HT-A74J-01    8\n",
      "TCGA-KT-A74X-01    8\n",
      "TCGA-TQ-A8XE-01    8\n",
      "TCGA-P5-A77X-01    8\n",
      "TCGA-P5-A781-01    8\n",
      "TCGA-P5-A77W-01    8\n",
      "TCGA-P5-A780-01    8\n",
      "TCGA-TQ-A7RW-01    8\n",
      "dtype: int64\n"
     ]
    },
    {
     "data": {
      "text/plain": [
       "<AxesSubplot:ylabel='Count'>"
      ]
     },
     "execution_count": 8,
     "metadata": {},
     "output_type": "execute_result"
    },
    {
     "data": {
      "image/png": "[encoded data removed]",
      "text/plain": [
       "<Figure size 432x288 with 1 Axes>"
      ]
     },
     "metadata": {},
     "output_type": "display_data"
    }
   ],
   "source": [
    "# how many missing values does each sample have?\n",
    "sample_na = tcga_rppa_df.transpose().isna().sum()\n",
    "print(sample_na.shape)\n",
    "print(sample_na.sort_values(ascending=False).head(10))\n",
    "sns.set()\n",
    "sns.histplot(sample_na)"
   ]
  },
  {
   "cell_type": "code",
   "execution_count": 9,
   "metadata": {},
   "outputs": [
    {
     "name": "stdout",
     "output_type": "stream",
     "text": [
      "(7790, 199)\n",
      "(7790, 190)\n",
      "Duplicates: 0\n"
     ]
    }
   ],
   "source": [
    "# for now, just drop all columns with NAs, since there's only a few\n",
    "print(tcga_rppa_df.shape)\n",
    "tcga_rppa_df.dropna(axis='columns', inplace=True)\n",
    "print(tcga_rppa_df.shape)\n",
    "\n",
    "# check for duplicate samples\n",
    "print('Duplicates:', np.count_nonzero(tcga_rppa_df.index.duplicated()))"
   ]
  },
  {
   "cell_type": "markdown",
   "metadata": {},
   "source": [
    "### Process TCGA cancer type and sample type info from barcodes\n",
    "\n",
    "See https://gdc.cancer.gov/resources-tcga-users/tcga-code-tables/tissue-source-site-codes for more details."
   ]
  },
  {
   "cell_type": "code",
   "execution_count": 12,
   "metadata": {},
   "outputs": [
    {
     "name": "stdout",
     "output_type": "stream",
     "text": [
      "(7790, 4)\n"
     ]
    },
    {
     "data": {
      "text/html": [
       "<div>\n",
       "<style scoped>\n",
       "    .dataframe tbody tr th:only-of-type {\n",
       "        vertical-align: middle;\n",
       "    }\n",
       "\n",
       "    .dataframe tbody tr th {\n",
       "        vertical-align: top;\n",
       "    }\n",
       "\n",
       "    .dataframe thead th {\n",
       "        text-align: right;\n",
       "    }\n",
       "</style>\n",
       "<table border=\"1\" class=\"dataframe\">\n",
       "  <thead>\n",
       "    <tr style=\"text-align: right;\">\n",
       "      <th></th>\n",
       "      <th>sample_id</th>\n",
       "      <th>sample_type</th>\n",
       "      <th>cancer_type</th>\n",
       "      <th>id_for_stratification</th>\n",
       "    </tr>\n",
       "  </thead>\n",
       "  <tbody>\n",
       "    <tr>\n",
       "      <th>0</th>\n",
       "      <td>TCGA-OR-A5J2-01</td>\n",
       "      <td>Primary Solid Tumor</td>\n",
       "      <td>ACC</td>\n",
       "      <td>ACCPrimary Solid Tumor</td>\n",
       "    </tr>\n",
       "    <tr>\n",
       "      <th>1</th>\n",
       "      <td>TCGA-PA-A5YG-01</td>\n",
       "      <td>Primary Solid Tumor</td>\n",
       "      <td>ACC</td>\n",
       "      <td>ACCPrimary Solid Tumor</td>\n",
       "    </tr>\n",
       "    <tr>\n",
       "      <th>2</th>\n",
       "      <td>TCGA-OR-A5JV-01</td>\n",
       "      <td>Primary Solid Tumor</td>\n",
       "      <td>ACC</td>\n",
       "      <td>ACCPrimary Solid Tumor</td>\n",
       "    </tr>\n",
       "    <tr>\n",
       "      <th>3</th>\n",
       "      <td>TCGA-OR-A5JT-01</td>\n",
       "      <td>Primary Solid Tumor</td>\n",
       "      <td>ACC</td>\n",
       "      <td>ACCPrimary Solid Tumor</td>\n",
       "    </tr>\n",
       "    <tr>\n",
       "      <th>4</th>\n",
       "      <td>TCGA-OR-A5JR-01</td>\n",
       "      <td>Primary Solid Tumor</td>\n",
       "      <td>ACC</td>\n",
       "      <td>ACCPrimary Solid Tumor</td>\n",
       "    </tr>\n",
       "  </tbody>\n",
       "</table>\n",
       "</div>"
      ],
      "text/plain": [
       "         sample_id          sample_type cancer_type   id_for_stratification\n",
       "0  TCGA-OR-A5J2-01  Primary Solid Tumor         ACC  ACCPrimary Solid Tumor\n",
       "1  TCGA-PA-A5YG-01  Primary Solid Tumor         ACC  ACCPrimary Solid Tumor\n",
       "2  TCGA-OR-A5JV-01  Primary Solid Tumor         ACC  ACCPrimary Solid Tumor\n",
       "3  TCGA-OR-A5JT-01  Primary Solid Tumor         ACC  ACCPrimary Solid Tumor\n",
       "4  TCGA-OR-A5JR-01  Primary Solid Tumor         ACC  ACCPrimary Solid Tumor"
      ]
     },
     "execution_count": 12,
     "metadata": {},
     "output_type": "execute_result"
    }
   ],
   "source": [
    "# get sample info and save to file\n",
    "\n",
    "tcga_id = tu.get_and_save_sample_info(tcga_rppa_df,\n",
    "                                      sampletype_codes_dict,\n",
    "                                      cancertype_codes_dict,\n",
    "                                      training_data='rppa')\n",
    "\n",
    "print(tcga_id.shape)\n",
    "tcga_id.head()"
   ]
  },
  {
   "cell_type": "code",
   "execution_count": 13,
   "metadata": {},
   "outputs": [],
   "source": [
    "# get cancer type counts and save to file\n",
    "cancertype_count_df = (\n",
    "    pd.DataFrame(tcga_id.cancer_type.value_counts())\n",
    "    .reset_index()\n",
    "    .rename({'index': 'cancertype', 'cancer_type': 'n ='}, axis='columns')\n",
    ")\n",
    "\n",
    "file = os.path.join(cfg.sample_info_dir, 'tcga_me_27k_sample_counts.tsv')\n",
    "cancertype_count_df.to_csv(file, sep='\\t', index=False)\n",
    "\n",
    "cancertype_count_df.head()"
   ]
  },
  {
   "cell_type": "code",
   "execution_count": 18,
   "metadata": {},
   "outputs": [],
   "source": [
    "# compare cancer types from sample ID to cancer types provided with data matrix\n",
    "type_df = (tcga_rppa_df\n",
    "    .merge(tcga_id, left_index=True, right_on='sample_id')\n",
    "    .set_index('sample_id')\n",
    "    .drop(columns=['sample_type', 'id_for_stratification'])\n",
    ")\n",
    "neq_df = type_df[type_df.TumorType != type_df.cancer_type]\n",
    "print(neq_df.shape)\n",
    "print(neq_df.TumorType.unique())\n",
    "print(neq_df.cancer_type.unique())\n",
    "neq_df.head()"
   ]
  },
  {
   "cell_type": "markdown",
   "metadata": {},
   "source": [
    "Looks like \"CORE\" is short for \"COAD/READ\", so all the cancer types match. So, we can just drop the TumorType column and use the sample info saved in the data directory."
   ]
  },
  {
   "cell_type": "code",
   "execution_count": 18,
   "metadata": {},
   "outputs": [],
   "source": [
    "rppa_file = os.path.join(cfg.data_dir, 'rppa_preprocessed.tsv')\n",
    "(tcga_rppa_df\n",
    "    .drop(columns=['TumorType'])\n",
    "    .to_csv(rppa_file, sep='\\t', float_format='%.3g')\n",
    ")"
   ]
  }
 ],
 "metadata": {
  "kernelspec": {
   "display_name": "Python [conda env:mpmp]",
   "language": "python",
   "name": "conda-env-mpmp-py"
  },
  "language_info": {
   "codemirror_mode": {
    "name": "ipython",
    "version": 3
   },
   "file_extension": ".py",
   "mimetype": "text/x-python",
   "name": "python",
   "nbconvert_exporter": "python",
   "pygments_lexer": "ipython3",
   "version": "3.7.9"
  }
 },
 "nbformat": 4,
 "nbformat_minor": 4
}
