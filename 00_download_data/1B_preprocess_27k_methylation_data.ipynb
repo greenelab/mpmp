{
 "cells": [
  {
   "cell_type": "markdown",
   "metadata": {},
   "source": [
    "## Preprocess pan-cancer methylation data (27k probes)"
   ]
  },
  {
   "cell_type": "markdown",
   "metadata": {},
   "source": [
    "Load the downloaded data and curate sample IDs."
   ]
  },
  {
   "cell_type": "code",
   "execution_count": 1,
   "metadata": {},
   "outputs": [],
   "source": [
    "import os\n",
    "\n",
    "import numpy as np\n",
    "import pandas as pd\n",
    "import matplotlib.pyplot as plt\n",
    "import seaborn as sns\n",
    "\n",
    "import mpmp.config as cfg"
   ]
  },
  {
   "cell_type": "markdown",
   "metadata": {},
   "source": [
    "### Load and process methylation data"
   ]
  },
  {
   "cell_type": "code",
   "execution_count": 2,
   "metadata": {},
   "outputs": [
    {
     "data": {
      "text/html": [
       "<div>\n",
       "<style scoped>\n",
       "    .dataframe tbody tr th:only-of-type {\n",
       "        vertical-align: middle;\n",
       "    }\n",
       "\n",
       "    .dataframe tbody tr th {\n",
       "        vertical-align: top;\n",
       "    }\n",
       "\n",
       "    .dataframe thead th {\n",
       "        text-align: right;\n",
       "    }\n",
       "</style>\n",
       "<table border=\"1\" class=\"dataframe\">\n",
       "  <thead>\n",
       "    <tr style=\"text-align: right;\">\n",
       "      <th></th>\n",
       "      <th>id</th>\n",
       "      <th>filename</th>\n",
       "      <th>md5</th>\n",
       "      <th>size</th>\n",
       "    </tr>\n",
       "    <tr>\n",
       "      <th>name</th>\n",
       "      <th></th>\n",
       "      <th></th>\n",
       "      <th></th>\n",
       "      <th></th>\n",
       "    </tr>\n",
       "  </thead>\n",
       "  <tbody>\n",
       "    <tr>\n",
       "      <th>mirna_sample</th>\n",
       "      <td>55d9bf6f-0712-4315-b588-e6f8e295018e</td>\n",
       "      <td>PanCanAtlas_miRNA_sample_information_list.txt</td>\n",
       "      <td>02bb56712be34bcd58c50d90387aebde</td>\n",
       "      <td>553408</td>\n",
       "    </tr>\n",
       "    <tr>\n",
       "      <th>methylation_27k</th>\n",
       "      <td>d82e2c44-89eb-43d9-b6d3-712732bf6a53</td>\n",
       "      <td>jhu-usc.edu_PANCAN_merged_HumanMethylation27_H...</td>\n",
       "      <td>5cec086f0b002d17befef76a3241e73b</td>\n",
       "      <td>5022150019</td>\n",
       "    </tr>\n",
       "  </tbody>\n",
       "</table>\n",
       "</div>"
      ],
      "text/plain": [
       "                                                   id  \\\n",
       "name                                                    \n",
       "mirna_sample     55d9bf6f-0712-4315-b588-e6f8e295018e   \n",
       "methylation_27k  d82e2c44-89eb-43d9-b6d3-712732bf6a53   \n",
       "\n",
       "                                                          filename  \\\n",
       "name                                                                 \n",
       "mirna_sample         PanCanAtlas_miRNA_sample_information_list.txt   \n",
       "methylation_27k  jhu-usc.edu_PANCAN_merged_HumanMethylation27_H...   \n",
       "\n",
       "                                              md5        size  \n",
       "name                                                           \n",
       "mirna_sample     02bb56712be34bcd58c50d90387aebde      553408  \n",
       "methylation_27k  5cec086f0b002d17befef76a3241e73b  5022150019  "
      ]
     },
     "execution_count": 2,
     "metadata": {},
     "output_type": "execute_result"
    }
   ],
   "source": [
    "# first load manifest file, this tells us the filenames of the raw data files\n",
    "manifest_df = pd.read_csv(os.path.join(cfg.data_dir, 'manifest.tsv'),\n",
    "                          sep='\\t', index_col=0)\n",
    "manifest_df.head(2)"
   ]
  },
  {
   "cell_type": "code",
   "execution_count": 3,
   "metadata": {},
   "outputs": [
    {
     "name": "stderr",
     "output_type": "stream",
     "text": [
      "/home/jake/anaconda3/envs/mpmp/lib/python3.7/site-packages/ipykernel_launcher.py:6: ParserWarning: Both a converter and dtype were specified for column Composite Element REF - only the converter will be used\n",
      "  \n"
     ]
    },
    {
     "name": "stdout",
     "output_type": "stream",
     "text": [
      "(12039, 22601)\n"
     ]
    },
    {
     "data": {
      "text/html": [
       "<div>\n",
       "<style scoped>\n",
       "    .dataframe tbody tr th:only-of-type {\n",
       "        vertical-align: middle;\n",
       "    }\n",
       "\n",
       "    .dataframe tbody tr th {\n",
       "        vertical-align: top;\n",
       "    }\n",
       "\n",
       "    .dataframe thead th {\n",
       "        text-align: right;\n",
       "    }\n",
       "</style>\n",
       "<table border=\"1\" class=\"dataframe\">\n",
       "  <thead>\n",
       "    <tr style=\"text-align: right;\">\n",
       "      <th>Composite Element REF</th>\n",
       "      <th>cg00000292</th>\n",
       "      <th>cg00003994</th>\n",
       "      <th>cg00005847</th>\n",
       "      <th>cg00007981</th>\n",
       "      <th>cg00008493</th>\n",
       "    </tr>\n",
       "  </thead>\n",
       "  <tbody>\n",
       "    <tr>\n",
       "      <th>TCGA-02-0001-01C-01D-0186-05</th>\n",
       "      <td>0.846378</td>\n",
       "      <td>0.066406</td>\n",
       "      <td>0.330927</td>\n",
       "      <td>0.026121</td>\n",
       "      <td>0.925941</td>\n",
       "    </tr>\n",
       "    <tr>\n",
       "      <th>TCGA-02-0003-01A-01D-0186-05</th>\n",
       "      <td>0.732044</td>\n",
       "      <td>0.131451</td>\n",
       "      <td>0.839389</td>\n",
       "      <td>0.039102</td>\n",
       "      <td>0.934192</td>\n",
       "    </tr>\n",
       "    <tr>\n",
       "      <th>TCGA-02-0006-01B-01D-0186-05</th>\n",
       "      <td>0.678917</td>\n",
       "      <td>0.089675</td>\n",
       "      <td>0.469196</td>\n",
       "      <td>0.021105</td>\n",
       "      <td>0.924509</td>\n",
       "    </tr>\n",
       "    <tr>\n",
       "      <th>TCGA-02-0007-01A-01D-0186-05</th>\n",
       "      <td>0.846951</td>\n",
       "      <td>0.040882</td>\n",
       "      <td>0.355053</td>\n",
       "      <td>0.039487</td>\n",
       "      <td>0.930292</td>\n",
       "    </tr>\n",
       "    <tr>\n",
       "      <th>TCGA-02-0009-01A-01D-0186-05</th>\n",
       "      <td>0.855192</td>\n",
       "      <td>0.066100</td>\n",
       "      <td>0.605179</td>\n",
       "      <td>0.025252</td>\n",
       "      <td>0.926921</td>\n",
       "    </tr>\n",
       "  </tbody>\n",
       "</table>\n",
       "</div>"
      ],
      "text/plain": [
       "Composite Element REF         cg00000292  cg00003994  cg00005847  cg00007981  \\\n",
       "TCGA-02-0001-01C-01D-0186-05    0.846378    0.066406    0.330927    0.026121   \n",
       "TCGA-02-0003-01A-01D-0186-05    0.732044    0.131451    0.839389    0.039102   \n",
       "TCGA-02-0006-01B-01D-0186-05    0.678917    0.089675    0.469196    0.021105   \n",
       "TCGA-02-0007-01A-01D-0186-05    0.846951    0.040882    0.355053    0.039487   \n",
       "TCGA-02-0009-01A-01D-0186-05    0.855192    0.066100    0.605179    0.025252   \n",
       "\n",
       "Composite Element REF         cg00008493  \n",
       "TCGA-02-0001-01C-01D-0186-05    0.925941  \n",
       "TCGA-02-0003-01A-01D-0186-05    0.934192  \n",
       "TCGA-02-0006-01B-01D-0186-05    0.924509  \n",
       "TCGA-02-0007-01A-01D-0186-05    0.930292  \n",
       "TCGA-02-0009-01A-01D-0186-05    0.926921  "
      ]
     },
     "execution_count": 3,
     "metadata": {},
     "output_type": "execute_result"
    }
   ],
   "source": [
    "tcga_methylation_df = (\n",
    "    pd.read_csv(os.path.join(cfg.raw_data_dir, manifest_df.loc['methylation_27k'].filename),\n",
    "                index_col=0,\n",
    "                sep='\\t',\n",
    "                dtype='float64',\n",
    "                converters={0: str})\n",
    "      .transpose()\n",
    ")\n",
    "\n",
    "print(tcga_methylation_df.shape)\n",
    "tcga_methylation_df.iloc[:5, :5]"
   ]
  },
  {
   "cell_type": "code",
   "execution_count": 4,
   "metadata": {},
   "outputs": [
    {
     "name": "stdout",
     "output_type": "stream",
     "text": [
      "(22601,)\n"
     ]
    },
    {
     "data": {
      "text/plain": [
       "Composite Element REF\n",
       "cg20401549    4185\n",
       "cg17901463    2941\n",
       "cg02549424    2918\n",
       "cg08797194    2372\n",
       "cg27400772    2211\n",
       "dtype: int64"
      ]
     },
     "execution_count": 4,
     "metadata": {},
     "output_type": "execute_result"
    }
   ],
   "source": [
    "# how many missing values does each probe (column) have?\n",
    "\n",
    "# TODO could move analyses to a separate script (so preprocessing is more \n",
    "# straightforward/less cluttered)\n",
    "probe_na = tcga_methylation_df.isna().sum()\n",
    "print(probe_na.shape)\n",
    "probe_na.sort_values(ascending=False).head()"
   ]
  },
  {
   "cell_type": "code",
   "execution_count": 5,
   "metadata": {},
   "outputs": [
    {
     "name": "stdout",
     "output_type": "stream",
     "text": [
      "(12039,)\n"
     ]
    },
    {
     "data": {
      "text/plain": [
       "TCGA-C8-A134-01A-11D-A112-05    1906\n",
       "TCGA-37-3789-01A-01D-0979-05    1393\n",
       "TCGA-23-1027-01A-02D-0432-05    1361\n",
       "TCGA-CJ-4887-11A-01D-1303-05    1353\n",
       "TCGA-17-Z012-01A-01D-0752-05    1304\n",
       "dtype: int64"
      ]
     },
     "execution_count": 5,
     "metadata": {},
     "output_type": "execute_result"
    }
   ],
   "source": [
    "# how many missing values does each probe (column) have?\n",
    "sample_na = tcga_methylation_df.transpose().isna().sum()\n",
    "print(sample_na.shape)\n",
    "sample_na.sort_values(ascending=False).head()"
   ]
  },
  {
   "cell_type": "code",
   "execution_count": 6,
   "metadata": {},
   "outputs": [
    {
     "data": {
      "text/plain": [
       "Text(0.5, 1.0, 'Methylation NA count per probe, <20 NA values')"
      ]
     },
     "execution_count": 6,
     "metadata": {},
     "output_type": "execute_result"
    },
    {
     "data": {
      "image/png": "[encoded data removed]",
      "text/plain": [
       "<Figure size 1080x360 with 2 Axes>"
      ]
     },
     "metadata": {},
     "output_type": "display_data"
    }
   ],
   "source": [
    "# how many probes (columns) have missing values?\n",
    "\n",
    "sns.set({'figure.figsize': (15, 5)})\n",
    "fig, axarr = plt.subplots(1, 2)\n",
    "\n",
    "# plot distribution of all NA sample probes, with log scale y axis\n",
    "probe_na.plot.hist(bins=20, ax=axarr[0])\n",
    "axarr[0].set_yscale('log')\n",
    "axarr[0].set_xlabel('Number of NA samples')\n",
    "axarr[0].set_ylabel('Probe count')\n",
    "axarr[0].set_title('Methylation NA count per probe, all values')\n",
    "\n",
    "# hard to see distribution of few NA sample probes, so filter and plot\n",
    "# without log scale\n",
    "#\n",
    "# this plot answers the question: how many additional features/predictors\n",
    "# would we gain by imputing values for probes with only very few NAs?\n",
    "probe_na_low = probe_na[probe_na.values < 10]\n",
    "probe_na_low.plot.hist(bins=len(probe_na_low.unique()), ax=axarr[1])\n",
    "axarr[1].set_xlabel('Number of NA samples')\n",
    "axarr[1].set_xticks(range(10))\n",
    "axarr[1].set_ylabel('Probe count')\n",
    "axarr[1].set_title('Methylation NA count per probe, <20 NA values')"
   ]
  },
  {
   "cell_type": "code",
   "execution_count": 7,
   "metadata": {},
   "outputs": [
    {
     "data": {
      "text/plain": [
       "Text(0.5, 1.0, 'Methylation NA count per sample, >500 NA values')"
      ]
     },
     "execution_count": 7,
     "metadata": {},
     "output_type": "execute_result"
    },
    {
     "data": {
      "image/png": "[encoded data removed]",
      "text/plain": [
       "<Figure size 1080x360 with 2 Axes>"
      ]
     },
     "metadata": {},
     "output_type": "display_data"
    }
   ],
   "source": [
    "# as an alternate approach to imputation, we could filter out \"bad\" samples,\n",
    "# or samples with many NA probes\n",
    "#\n",
    "# we'll start by asking: how many samples (rows) have missing values?\n",
    "\n",
    "sns.set({'figure.figsize': (15, 5)})\n",
    "fig, axarr = plt.subplots(1, 2)\n",
    "\n",
    "# plot distribution of all NA probe samples, with log scale y axis\n",
    "sample_na.plot.hist(bins=20, ax=axarr[0])\n",
    "axarr[0].set_yscale('log')\n",
    "axarr[0].set_xlabel('Number of NA probes')\n",
    "axarr[0].set_ylabel('Sample count')\n",
    "axarr[0].set_title('Methylation NA count per sample, all values')\n",
    "\n",
    "# let's look in more detail at the \"bad\" samples, defined as samples with NA\n",
    "# counts over some min threshold\n",
    "sample_na_high = sample_na[sample_na.values > 500]\n",
    "sample_na_high.plot.hist(bins=20, ax=axarr[1])\n",
    "axarr[1].set_xlabel('Number of NA probes')\n",
    "axarr[1].set_ylabel('Sample count')\n",
    "axarr[1].set_title('Methylation NA count per sample, >500 NA values')"
   ]
  },
  {
   "cell_type": "code",
   "execution_count": 8,
   "metadata": {},
   "outputs": [],
   "source": [
    "# now, the question we want to answer is: if we remove \"bad\" samples,\n",
    "# how many more valid probes do we get?\n",
    "#\n",
    "# to explore this, we'll remove samples in descending order of their\n",
    "# NA count, and see how many additional probes (predictors) this filtering\n",
    "# gives us\n",
    "def filter_bad_samples(methylation_df, bad_samples):\n",
    "    return (\n",
    "        methylation_df.copy()\n",
    "                      .loc[~methylation_df.index.isin(bad_samples)]\n",
    "                      .dropna(axis='columns')\n",
    "    )\n",
    "\n",
    "def count_probes_for_range(sample_counts):\n",
    "    probe_sample_count = []\n",
    "    sample_sorted = sample_na.sort_values(ascending=False)\n",
    "    for filter_count in sample_counts:\n",
    "        bad_samples = sample_sorted.iloc[:filter_count].index.values\n",
    "        filtered_df = filter_bad_samples(tcga_methylation_df, bad_samples)\n",
    "        probe_sample_count.append((filter_count, len(filtered_df.columns)))\n",
    "    return list(zip(*probe_sample_count))\n",
    "\n",
    "probe_counts_small = count_probes_for_range(range(20))\n",
    "probe_counts_large = count_probes_for_range(range(0, 510, 10))"
   ]
  },
  {
   "cell_type": "code",
   "execution_count": 9,
   "metadata": {},
   "outputs": [
    {
     "data": {
      "image/png": "[encoded data removed]",
      "text/plain": [
       "<Figure size 864x432 with 2 Axes>"
      ]
     },
     "metadata": {},
     "output_type": "display_data"
    }
   ],
   "source": [
    "sns.set({'figure.figsize': (12, 6)})\n",
    "fig, axarr = plt.subplots(2, 1)\n",
    "sns.lineplot(x=probe_counts_small[0], y=probe_counts_small[1], ax=axarr[0])\n",
    "axarr[0].set_xticks(probe_counts_small[0])\n",
    "axarr[0].set_xlabel('Number of samples removed')\n",
    "axarr[0].set_ylabel('Number of valid probes')\n",
    "axarr[0].set_title('Samples removed vs. valid probes, small range')\n",
    "sns.lineplot(x=probe_counts_large[0], y=probe_counts_large[1], ax=axarr[1])\n",
    "axarr[0].set_xlabel('Number of samples removed')\n",
    "axarr[0].set_ylabel('Number of valid probes')\n",
    "axarr[1].set_title('Samples removed vs. valid probes, large range')\n",
    "plt.tight_layout()"
   ]
  },
  {
   "cell_type": "raw",
   "metadata": {},
   "source": [
    "# remove probes with missing values, and transpose to be a\n",
    "# samples x probes matrix\n",
    "tcga_methylation_df = (tcga_methylation_df\n",
    "    .dropna(axis='columns')\n",
    "    .sort_index(axis='rows')\n",
    "    .sort_index(axis='columns')\n",
    ")\n",
    "\n",
    "tcga_methylation_df.index.rename('sample_id', inplace=True)\n",
    "print(tcga_methylation_df.shape)"
   ]
  },
  {
   "cell_type": "raw",
   "metadata": {},
   "source": [
    "# update sample IDs to remove multiple samples measured on the same tumor\n",
    "# and to map with the clinical information\n",
    "tcga_methylation_df.index = tcga_methylation_df.index.str.slice(start=0, stop=15)\n",
    "tcga_methylation_df = tcga_methylation_df.loc[~tcga_methylation_df.index.duplicated(), :]"
   ]
  },
  {
   "cell_type": "raw",
   "metadata": {},
   "source": [
    "print(tcga_methylation_df.shape)\n",
    "tcga_methylation_df.iloc[:5, :5]"
   ]
  },
  {
   "cell_type": "raw",
   "metadata": {},
   "source": [
    "tcga_methylation_df.to_csv(cfg.methylation_data, sep='\\t', compression='gzip', float_format='%.3g')"
   ]
  },
  {
   "cell_type": "code",
   "execution_count": 10,
   "metadata": {},
   "outputs": [
    {
     "name": "stdout",
     "output_type": "stream",
     "text": [
      "(12039, 22601)\n",
      "(12029, 22601)\n",
      "(12029, 20040)\n",
      "(11975, 20040)\n",
      "/home/jake/research/mpmp/data/methylation_preprocessed/methylation_processed_n10_i5.tsv.gz\n"
     ]
    }
   ],
   "source": [
    "# remove 10 samples, then impute for probes with 1 or 2 NA values\n",
    "n_filter = 10\n",
    "n_impute = 5\n",
    "\n",
    "samples_sorted = sample_na.sort_values(ascending=False)\n",
    "output_dir = os.path.join(cfg.data_dir, 'methylation_preprocessed')\n",
    "os.makedirs(output_dir, exist_ok=True)\n",
    "\n",
    "def filter_na_samples(methylation_df, bad_samples):\n",
    "    # don't drop NA columns, we'll do that after imputation\n",
    "    return (\n",
    "        methylation_df.copy()\n",
    "                      .loc[~methylation_df.index.isin(bad_samples)]\n",
    "    )\n",
    "\n",
    "def impute_leq(methylation_df, n_na):\n",
    "    if n_na == 0:\n",
    "        return methylation_df\n",
    "    else:\n",
    "        return methylation_df.fillna(methylation_df.mean(), limit=n_na)\n",
    "\n",
    "# filter, impute, drop NA columns\n",
    "print(tcga_methylation_df.shape)\n",
    "samples_for_count = samples_sorted.iloc[:n_filter].index.values\n",
    "tcga_methylation_df = filter_na_samples(tcga_methylation_df,\n",
    "                                        samples_for_count)\n",
    "print(tcga_methylation_df.shape)\n",
    "tcga_methylation_df = (\n",
    "    impute_leq(tcga_methylation_df, n_impute).dropna(axis='columns')\n",
    ")\n",
    "print(tcga_methylation_df.shape)\n",
    "\n",
    "# update sample IDs to remove multiple samples measured on the same tumor\n",
    "# and to map with the clinical information\n",
    "tcga_methylation_df.index = tcga_methylation_df.index.str.slice(start=0, stop=15)\n",
    "tcga_methylation_df = tcga_methylation_df.loc[~tcga_methylation_df.index.duplicated(), :]\n",
    "\n",
    "print(tcga_methylation_df.shape)\n",
    "filtered_file = os.path.join(output_dir,\n",
    "                             'methylation_processed_n{}_i{}.tsv.gz'.format(n_filter, n_impute))\n",
    "print(filtered_file)\n",
    "tcga_methylation_df.to_csv(filtered_file, sep='\\t', float_format='%.3g')"
   ]
  },
  {
   "cell_type": "code",
   "execution_count": 12,
   "metadata": {},
   "outputs": [
    {
     "name": "stdout",
     "output_type": "stream",
     "text": [
      "(11975, 100)\n",
      "(11975, 1000)\n",
      "(11975, 5000)\n"
     ]
    }
   ],
   "source": [
    "from sklearn.decomposition import PCA\n",
    "n_pcs_list = [100, 1000, 5000]\n",
    "for n_pcs in n_pcs_list:\n",
    "    pca = PCA(n_components=n_pcs)\n",
    "    me_pca = pca.fit_transform(tcga_methylation_df)\n",
    "    print(me_pca.shape)\n",
    "    me_pca = pd.DataFrame(me_pca, index=tcga_methylation_df.index)\n",
    "    me_pca.to_csv(os.path.join(cfg.data_dir,\n",
    "                               'me_27k_f{}_i{}_pc{}.tsv.gz'.format(\n",
    "                                   n_filter, n_impute, n_pcs)),\n",
    "                  sep='\\t',\n",
    "                  float_format='%.3g')"
   ]
  }
 ],
 "metadata": {
  "kernelspec": {
   "display_name": "Python [conda env:mpmp]",
   "language": "python",
   "name": "conda-env-mpmp-py"
  },
  "language_info": {
   "codemirror_mode": {
    "name": "ipython",
    "version": 3
   },
   "file_extension": ".py",
   "mimetype": "text/x-python",
   "name": "python",
   "nbconvert_exporter": "python",
   "pygments_lexer": "ipython3",
   "version": "3.7.9"
  }
 },
 "nbformat": 4,
 "nbformat_minor": 4
}
