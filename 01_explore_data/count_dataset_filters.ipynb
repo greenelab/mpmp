{
 "cells": [
  {
   "cell_type": "markdown",
   "metadata": {},
   "source": [
    "## Count number of valid genes after applying cancer type filters\n",
    "\n",
    "In [the preprocessing code for our classifiers](https://github.com/greenelab/mpmp/blob/5d5fa0823b00fc3080d3a9db69d8d6704f554549/mpmp/utilities/tcga_utilities.py#L84), we originally filtered out cancer types that don't contain at least 5% of samples mutated and at least 10 total samples mutated, for a given target gene.\n",
    "\n",
    "Here, we want to try a different approach (TODO: describe)"
   ]
  },
  {
   "cell_type": "code",
   "execution_count": 1,
   "metadata": {},
   "outputs": [],
   "source": [
    "import sys\n",
    "from pathlib import Path\n",
    "\n",
    "import numpy as np\n",
    "import pandas as pd\n",
    "\n",
    "import mpmp.config as cfg\n",
    "from mpmp.data_models.tcga_data_model import TCGADataModel\n",
    "import mpmp.utilities.data_utilities as du\n",
    "\n",
    "%load_ext autoreload\n",
    "%autoreload 2"
   ]
  },
  {
   "cell_type": "code",
   "execution_count": 2,
   "metadata": {},
   "outputs": [],
   "source": [
    "# load sample info and mutation data, this takes some time\n",
    "tcga_data = TCGADataModel(seed=cfg.default_seed, verbose=False)\n",
    "pancancer_data = du.load_pancancer_data()"
   ]
  },
  {
   "cell_type": "code",
   "execution_count": 3,
   "metadata": {},
   "outputs": [
    {
     "data": {
      "text/html": [
       "<div>\n",
       "<style scoped>\n",
       "    .dataframe tbody tr th:only-of-type {\n",
       "        vertical-align: middle;\n",
       "    }\n",
       "\n",
       "    .dataframe tbody tr th {\n",
       "        vertical-align: top;\n",
       "    }\n",
       "\n",
       "    .dataframe thead th {\n",
       "        text-align: right;\n",
       "    }\n",
       "</style>\n",
       "<table border=\"1\" class=\"dataframe\">\n",
       "  <thead>\n",
       "    <tr style=\"text-align: right;\">\n",
       "      <th></th>\n",
       "      <th>gene</th>\n",
       "      <th>classification</th>\n",
       "    </tr>\n",
       "  </thead>\n",
       "  <tbody>\n",
       "    <tr>\n",
       "      <th>0</th>\n",
       "      <td>ABI1</td>\n",
       "      <td>TSG</td>\n",
       "    </tr>\n",
       "    <tr>\n",
       "      <th>1</th>\n",
       "      <td>ABL1</td>\n",
       "      <td>Oncogene</td>\n",
       "    </tr>\n",
       "    <tr>\n",
       "      <th>2</th>\n",
       "      <td>ABL2</td>\n",
       "      <td>Oncogene</td>\n",
       "    </tr>\n",
       "    <tr>\n",
       "      <th>3</th>\n",
       "      <td>ACKR3</td>\n",
       "      <td>Oncogene</td>\n",
       "    </tr>\n",
       "    <tr>\n",
       "      <th>4</th>\n",
       "      <td>ACVR1</td>\n",
       "      <td>Oncogene</td>\n",
       "    </tr>\n",
       "  </tbody>\n",
       "</table>\n",
       "</div>"
      ],
      "text/plain": [
       "    gene classification\n",
       "0   ABI1            TSG\n",
       "1   ABL1       Oncogene\n",
       "2   ABL2       Oncogene\n",
       "3  ACKR3       Oncogene\n",
       "4  ACVR1       Oncogene"
      ]
     },
     "execution_count": 3,
     "metadata": {},
     "output_type": "execute_result"
    }
   ],
   "source": [
    "# load merged gene set info\n",
    "genes_df = du.load_merged()\n",
    "genes_df.head()"
   ]
  },
  {
   "cell_type": "code",
   "execution_count": 7,
   "metadata": {},
   "outputs": [
    {
     "data": {
      "text/plain": [
       "[3290, 0.37829136483845, False]"
      ]
     },
     "execution_count": 7,
     "metadata": {},
     "output_type": "execute_result"
    }
   ],
   "source": [
    "def gene_mutation_count(gene,\n",
    "                        data_model,\n",
    "                        classification='neither',\n",
    "                        filter_cancer_types=False):\n",
    "    \"\"\"Count mutations for a given gene.\"\"\"\n",
    "    try:\n",
    "        tcga_data.process_data_for_gene(\n",
    "            gene,\n",
    "            classification,\n",
    "            './gene_mutation_counts',\n",
    "            filter_cancer_types=filter_cancer_types\n",
    "        )\n",
    "        count_df = pd.read_csv(\n",
    "            './gene_mutation_counts/{}_filtered.tsv'.format(gene),\n",
    "            sep='\\t'\n",
    "        )\n",
    "        return count_df.loc[0].values.tolist()\n",
    "    except KeyError:\n",
    "        return (0, 0, False)\n",
    "        \n",
    "gene_mutation_count('TP53', tcga_data, 'TSG')"
   ]
  },
  {
   "cell_type": "code",
   "execution_count": 14,
   "metadata": {},
   "outputs": [
    {
     "name": "stdout",
     "output_type": "stream",
     "text": [
      "(511, 3)\n"
     ]
    },
    {
     "data": {
      "text/html": [
       "<div>\n",
       "<style scoped>\n",
       "    .dataframe tbody tr th:only-of-type {\n",
       "        vertical-align: middle;\n",
       "    }\n",
       "\n",
       "    .dataframe tbody tr th {\n",
       "        vertical-align: top;\n",
       "    }\n",
       "\n",
       "    .dataframe thead th {\n",
       "        text-align: right;\n",
       "    }\n",
       "</style>\n",
       "<table border=\"1\" class=\"dataframe\">\n",
       "  <thead>\n",
       "    <tr style=\"text-align: right;\">\n",
       "      <th></th>\n",
       "      <th>count</th>\n",
       "      <th>prop</th>\n",
       "      <th>filter_gene</th>\n",
       "    </tr>\n",
       "  </thead>\n",
       "  <tbody>\n",
       "    <tr>\n",
       "      <th>0</th>\n",
       "      <td>43</td>\n",
       "      <td>0.004944</td>\n",
       "      <td>True</td>\n",
       "    </tr>\n",
       "    <tr>\n",
       "      <th>1</th>\n",
       "      <td>130</td>\n",
       "      <td>0.014948</td>\n",
       "      <td>True</td>\n",
       "    </tr>\n",
       "    <tr>\n",
       "      <th>2</th>\n",
       "      <td>290</td>\n",
       "      <td>0.033345</td>\n",
       "      <td>True</td>\n",
       "    </tr>\n",
       "    <tr>\n",
       "      <th>3</th>\n",
       "      <td>49</td>\n",
       "      <td>0.005634</td>\n",
       "      <td>True</td>\n",
       "    </tr>\n",
       "    <tr>\n",
       "      <th>4</th>\n",
       "      <td>85</td>\n",
       "      <td>0.009773</td>\n",
       "      <td>True</td>\n",
       "    </tr>\n",
       "  </tbody>\n",
       "</table>\n",
       "</div>"
      ],
      "text/plain": [
       "   count      prop  filter_gene\n",
       "0     43  0.004944         True\n",
       "1    130  0.014948         True\n",
       "2    290  0.033345         True\n",
       "3     49  0.005634         True\n",
       "4     85  0.009773         True"
      ]
     },
     "execution_count": 14,
     "metadata": {},
     "output_type": "execute_result"
    }
   ],
   "source": [
    "gene_counts_df = []\n",
    "\n",
    "for g_id, g_series in genes_df.iterrows():\n",
    "    gene_info = gene_mutation_count(\n",
    "        g_series.gene,\n",
    "        tcga_data,\n",
    "        g_series.classification\n",
    "    )\n",
    "    gene_counts_df.append(gene_info)\n",
    "    \n",
    "gene_counts_df = pd.DataFrame(\n",
    "    gene_counts_df,\n",
    "    columns=['count', 'prop', 'filter_gene']\n",
    ")\n",
    "print(gene_counts_df.shape)\n",
    "gene_counts_df.head()"
   ]
  },
  {
   "cell_type": "code",
   "execution_count": 23,
   "metadata": {},
   "outputs": [
    {
     "name": "stdout",
     "output_type": "stream",
     "text": [
      "Number of genes passing filters: 344 / 511\n"
     ]
    },
    {
     "data": {
      "image/png": "[encoded data removed]",
      "text/plain": [
       "<Figure size 576x432 with 1 Axes>"
      ]
     },
     "metadata": {},
     "output_type": "display_data"
    }
   ],
   "source": [
    "import seaborn as sns\n",
    "import matplotlib.pyplot as plt\n",
    "\n",
    "sns.set({'figure.figsize': (8, 6)})\n",
    "\n",
    "sns.scatterplot(data=gene_counts_df, x='count', y='prop')\n",
    "plt.xlabel('Number of mutated samples')\n",
    "plt.ylabel('Proportion of mutated samples')\n",
    "plt.title('Number of genes passing whole-dataset filters')\n",
    "\n",
    "count_thresh = 100\n",
    "prop_thresh = 0.01\n",
    "plt.gca().axhline(y=prop_thresh, linestyle='--')\n",
    "plt.gca().axvline(x=count_thresh, linestyle='--')\n",
    "\n",
    "thresh_genes = gene_counts_df[(gene_counts_df['count'] > count_thresh) &\n",
    "                              (gene_counts_df.prop > prop_thresh)]\n",
    "print('Number of genes passing filters: {} / {}'.format(\n",
    "    thresh_genes.shape[0], gene_counts_df.shape[0]))"
   ]
  }
 ],
 "metadata": {
  "kernelspec": {
   "display_name": "Python [conda env:mpmp]",
   "language": "python",
   "name": "conda-env-mpmp-py"
  },
  "language_info": {
   "codemirror_mode": {
    "name": "ipython",
    "version": 3
   },
   "file_extension": ".py",
   "mimetype": "text/x-python",
   "name": "python",
   "nbconvert_exporter": "python",
   "pygments_lexer": "ipython3",
   "version": "3.7.12"
  }
 },
 "nbformat": 4,
 "nbformat_minor": 4
}
