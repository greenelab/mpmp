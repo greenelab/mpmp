{
 "cells": [
  {
   "cell_type": "code",
   "execution_count": 1,
   "metadata": {},
   "outputs": [],
   "source": [
    "import sys\n",
    "from pathlib import Path\n",
    "\n",
    "import numpy as np\n",
    "import pandas as pd\n",
    "\n",
    "import mpmp.config as cfg\n",
    "from mpmp.data_models.tcga_data_model import TCGADataModel\n",
    "import mpmp.utilities.data_utilities as du"
   ]
  },
  {
   "cell_type": "code",
   "execution_count": 2,
   "metadata": {},
   "outputs": [],
   "source": [
    "# load some data we need, this takes a bit\n",
    "tcga_data = TCGADataModel(seed=cfg.default_seed, verbose=False)\n",
    "pancancer_data = du.load_pancancer_data()"
   ]
  },
  {
   "cell_type": "code",
   "execution_count": 3,
   "metadata": {},
   "outputs": [],
   "source": [
    "def gene_sample_count(gene, data_model, classification='neither'):\n",
    "    try:\n",
    "        tcga_data.process_data_for_gene(gene,\n",
    "                                        classification,\n",
    "                                        None)\n",
    "        sample_count = tcga_data.X_df.shape[0]\n",
    "        cancer_types = (tcga_data.sample_info_df\n",
    "          .loc[tcga_data.X_df.index, 'cancer_type']\n",
    "          .unique()\n",
    "        )\n",
    "    except KeyError:\n",
    "        sample_count = np.nan\n",
    "        cancer_types = []\n",
    "        \n",
    "    return (gene, sample_count, cancer_types)"
   ]
  },
  {
   "cell_type": "code",
   "execution_count": 4,
   "metadata": {},
   "outputs": [
    {
     "name": "stdout",
     "output_type": "stream",
     "text": [
      "(511, 2)\n"
     ]
    },
    {
     "data": {
      "text/html": [
       "<div>\n",
       "<style scoped>\n",
       "    .dataframe tbody tr th:only-of-type {\n",
       "        vertical-align: middle;\n",
       "    }\n",
       "\n",
       "    .dataframe tbody tr th {\n",
       "        vertical-align: top;\n",
       "    }\n",
       "\n",
       "    .dataframe thead th {\n",
       "        text-align: right;\n",
       "    }\n",
       "</style>\n",
       "<table border=\"1\" class=\"dataframe\">\n",
       "  <thead>\n",
       "    <tr style=\"text-align: right;\">\n",
       "      <th></th>\n",
       "      <th>sample_count</th>\n",
       "      <th>cancer_types</th>\n",
       "    </tr>\n",
       "  </thead>\n",
       "  <tbody>\n",
       "    <tr>\n",
       "      <th>ABI1</th>\n",
       "      <td>0.0</td>\n",
       "      <td>[]</td>\n",
       "    </tr>\n",
       "    <tr>\n",
       "      <th>ABL1</th>\n",
       "      <td>0.0</td>\n",
       "      <td>[]</td>\n",
       "    </tr>\n",
       "    <tr>\n",
       "      <th>ABL2</th>\n",
       "      <td>1433.0</td>\n",
       "      <td>['LUAD' 'LUSC' 'BLCA' 'BRCA' 'LIHC']</td>\n",
       "    </tr>\n",
       "    <tr>\n",
       "      <th>ACKR3</th>\n",
       "      <td>0.0</td>\n",
       "      <td>[]</td>\n",
       "    </tr>\n",
       "    <tr>\n",
       "      <th>ACVR1</th>\n",
       "      <td>0.0</td>\n",
       "      <td>[]</td>\n",
       "    </tr>\n",
       "  </tbody>\n",
       "</table>\n",
       "</div>"
      ],
      "text/plain": [
       "       sample_count                          cancer_types\n",
       "ABI1            0.0                                    []\n",
       "ABL1            0.0                                    []\n",
       "ABL2         1433.0  ['LUAD' 'LUSC' 'BLCA' 'BRCA' 'LIHC']\n",
       "ACKR3           0.0                                    []\n",
       "ACVR1           0.0                                    []"
      ]
     },
     "execution_count": 4,
     "metadata": {},
     "output_type": "execute_result"
    }
   ],
   "source": [
    "# cache partial results and load them\n",
    "output_file = Path('./gene_sample_count.tsv')\n",
    "if output_file.is_file():\n",
    "    output_df = pd.read_csv(output_file, sep='\\t', index_col=0)\n",
    "else:\n",
    "    output_df = pd.DataFrame()\n",
    "    \n",
    "print(output_df.shape)\n",
    "output_df.head()"
   ]
  },
  {
   "cell_type": "code",
   "execution_count": 5,
   "metadata": {},
   "outputs": [
    {
     "name": "stdout",
     "output_type": "stream",
     "text": [
      "('TP53', 3804, array(['LUAD', 'OV', 'LUSC', 'PRAD', 'BLCA', 'ESCA', 'PAAD', 'SARC',\n",
      "       'BRCA', 'COAD', 'STAD', 'SKCM', 'UCEC', 'CESC', 'READ', 'HNSC',\n",
      "       'LIHC', 'LGG', 'KICH', 'UCS'], dtype=object))\n"
     ]
    }
   ],
   "source": [
    "print(gene_sample_count('TP53', tcga_data, classification='TSG'))"
   ]
  },
  {
   "cell_type": "code",
   "execution_count": 6,
   "metadata": {},
   "outputs": [
    {
     "data": {
      "text/html": [
       "<div>\n",
       "<style scoped>\n",
       "    .dataframe tbody tr th:only-of-type {\n",
       "        vertical-align: middle;\n",
       "    }\n",
       "\n",
       "    .dataframe tbody tr th {\n",
       "        vertical-align: top;\n",
       "    }\n",
       "\n",
       "    .dataframe thead th {\n",
       "        text-align: right;\n",
       "    }\n",
       "</style>\n",
       "<table border=\"1\" class=\"dataframe\">\n",
       "  <thead>\n",
       "    <tr style=\"text-align: right;\">\n",
       "      <th></th>\n",
       "      <th>gene</th>\n",
       "      <th>classification</th>\n",
       "    </tr>\n",
       "  </thead>\n",
       "  <tbody>\n",
       "    <tr>\n",
       "      <th>0</th>\n",
       "      <td>ABI1</td>\n",
       "      <td>TSG</td>\n",
       "    </tr>\n",
       "    <tr>\n",
       "      <th>1</th>\n",
       "      <td>ABL1</td>\n",
       "      <td>Oncogene</td>\n",
       "    </tr>\n",
       "    <tr>\n",
       "      <th>2</th>\n",
       "      <td>ABL2</td>\n",
       "      <td>Oncogene</td>\n",
       "    </tr>\n",
       "    <tr>\n",
       "      <th>3</th>\n",
       "      <td>ACKR3</td>\n",
       "      <td>Oncogene</td>\n",
       "    </tr>\n",
       "    <tr>\n",
       "      <th>4</th>\n",
       "      <td>ACVR1</td>\n",
       "      <td>Oncogene</td>\n",
       "    </tr>\n",
       "  </tbody>\n",
       "</table>\n",
       "</div>"
      ],
      "text/plain": [
       "    gene classification\n",
       "0   ABI1            TSG\n",
       "1   ABL1       Oncogene\n",
       "2   ABL2       Oncogene\n",
       "3  ACKR3       Oncogene\n",
       "4  ACVR1       Oncogene"
      ]
     },
     "execution_count": 6,
     "metadata": {},
     "output_type": "execute_result"
    }
   ],
   "source": [
    "gene_df = du.load_merged()\n",
    "gene_df.head()"
   ]
  },
  {
   "cell_type": "code",
   "execution_count": 7,
   "metadata": {},
   "outputs": [],
   "source": [
    "save_every = 50\n",
    "\n",
    "for gene_ix, gene_series in gene_df.iterrows():\n",
    "    \n",
    "    # if gene has already been processed, skip it\n",
    "    if gene_series.gene in output_df.index:\n",
    "        continue\n",
    "        \n",
    "    # load sample count for gene\n",
    "    gene, sample_count, cancer_types = gene_sample_count(\n",
    "        gene_series.gene,\n",
    "        tcga_data,\n",
    "        gene_series.classification)\n",
    "    \n",
    "    # add to output dataframe\n",
    "    output_df = pd.concat((\n",
    "        output_df,\n",
    "        pd.DataFrame([[sample_count, cancer_types]],\n",
    "                     index=[gene],\n",
    "                     columns=['sample_count', 'cancer_types'])\n",
    "    ))\n",
    "    \n",
    "    # save results every save_every genes, and at the end of all genes\n",
    "    # this allows us to restart if this runs for a while and gets interrupted\n",
    "    progress_ix = gene_ix + 1\n",
    "    if ((progress_ix % save_every == 0) or (progress_ix == gene_df.shape[0])) and (gene_ix != 0):\n",
    "        print('processed: {} / {}'.format(gene_ix+1, gene_df.shape[0]),\n",
    "              file=sys.stderr)\n",
    "        output_df.to_csv(output_file, sep='\\t')"
   ]
  },
  {
   "cell_type": "code",
   "execution_count": 8,
   "metadata": {},
   "outputs": [
    {
     "name": "stdout",
     "output_type": "stream",
     "text": [
      "(511, 2)\n"
     ]
    },
    {
     "data": {
      "text/html": [
       "<div>\n",
       "<style scoped>\n",
       "    .dataframe tbody tr th:only-of-type {\n",
       "        vertical-align: middle;\n",
       "    }\n",
       "\n",
       "    .dataframe tbody tr th {\n",
       "        vertical-align: top;\n",
       "    }\n",
       "\n",
       "    .dataframe thead th {\n",
       "        text-align: right;\n",
       "    }\n",
       "</style>\n",
       "<table border=\"1\" class=\"dataframe\">\n",
       "  <thead>\n",
       "    <tr style=\"text-align: right;\">\n",
       "      <th></th>\n",
       "      <th>sample_count</th>\n",
       "      <th>cancer_types</th>\n",
       "    </tr>\n",
       "  </thead>\n",
       "  <tbody>\n",
       "    <tr>\n",
       "      <th>ABI1</th>\n",
       "      <td>0.0</td>\n",
       "      <td>[]</td>\n",
       "    </tr>\n",
       "    <tr>\n",
       "      <th>ABL1</th>\n",
       "      <td>0.0</td>\n",
       "      <td>[]</td>\n",
       "    </tr>\n",
       "    <tr>\n",
       "      <th>ABL2</th>\n",
       "      <td>1433.0</td>\n",
       "      <td>['LUAD' 'LUSC' 'BLCA' 'BRCA' 'LIHC']</td>\n",
       "    </tr>\n",
       "    <tr>\n",
       "      <th>ACKR3</th>\n",
       "      <td>0.0</td>\n",
       "      <td>[]</td>\n",
       "    </tr>\n",
       "    <tr>\n",
       "      <th>ACVR1</th>\n",
       "      <td>0.0</td>\n",
       "      <td>[]</td>\n",
       "    </tr>\n",
       "  </tbody>\n",
       "</table>\n",
       "</div>"
      ],
      "text/plain": [
       "       sample_count                          cancer_types\n",
       "ABI1            0.0                                    []\n",
       "ABL1            0.0                                    []\n",
       "ABL2         1433.0  ['LUAD' 'LUSC' 'BLCA' 'BRCA' 'LIHC']\n",
       "ACKR3           0.0                                    []\n",
       "ACVR1           0.0                                    []"
      ]
     },
     "execution_count": 8,
     "metadata": {},
     "output_type": "execute_result"
    }
   ],
   "source": [
    "print(output_df.shape)\n",
    "output_df.head()"
   ]
  }
 ],
 "metadata": {
  "kernelspec": {
   "display_name": "Python [conda env:mpmp]",
   "language": "python",
   "name": "conda-env-mpmp-py"
  },
  "language_info": {
   "codemirror_mode": {
    "name": "ipython",
    "version": 3
   },
   "file_extension": ".py",
   "mimetype": "text/x-python",
   "name": "python",
   "nbconvert_exporter": "python",
   "pygments_lexer": "ipython3",
   "version": "3.7.9"
  }
 },
 "nbformat": 4,
 "nbformat_minor": 4
}
