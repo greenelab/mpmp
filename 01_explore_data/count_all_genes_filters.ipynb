{
 "cells": [
  {
   "cell_type": "code",
   "execution_count": 1,
   "metadata": {},
   "outputs": [],
   "source": [
    "import sys\n",
    "from pathlib import Path\n",
    "\n",
    "import numpy as np\n",
    "import pandas as pd\n",
    "\n",
    "import mpmp.config as cfg\n",
    "from mpmp.data_models.tcga_data_model import TCGADataModel\n",
    "import mpmp.utilities.data_utilities as du"
   ]
  },
  {
   "cell_type": "code",
   "execution_count": 2,
   "metadata": {},
   "outputs": [
    {
     "name": "stderr",
     "output_type": "stream",
     "text": [
      "Loading pan-cancer data from cached pickle file...\n",
      "Loading expression data...\n",
      "Loading sample info...\n"
     ]
    }
   ],
   "source": [
    "tcga_data = TCGADataModel(seed=cfg.default_seed, verbose=True)"
   ]
  },
  {
   "cell_type": "code",
   "execution_count": 8,
   "metadata": {},
   "outputs": [],
   "source": [
    "def gene_sample_count(gene, data_model, classification='neither'):\n",
    "    print(gene, file=sys.stderr)\n",
    "    try:\n",
    "        tcga_data.process_data_for_gene(gene,\n",
    "                                        classification,\n",
    "                                        None)\n",
    "        sample_count = tcga_data.X_df.shape[0]\n",
    "    except KeyError:\n",
    "        sample_count = np.nan\n",
    "        \n",
    "    # TODO: get cancer types?\n",
    "    return (gene, sample_count)"
   ]
  },
  {
   "cell_type": "code",
   "execution_count": 5,
   "metadata": {},
   "outputs": [],
   "source": [
    "# cache partial results and load them\n",
    "output_file = Path('./gene_sample_count.tsv')\n",
    "if output_file.is_file():\n",
    "    output_df = pd.read_csv(output_file, sep='\\t', index_col=0)\n",
    "else:\n",
    "    output_df = pd.DataFrame()\n",
    "    \n",
    "print(output_df.shape)\n",
    "output_df.head()"
   ]
  },
  {
   "cell_type": "code",
   "execution_count": 9,
   "metadata": {},
   "outputs": [
    {
     "name": "stderr",
     "output_type": "stream",
     "text": [
      "TP53\n"
     ]
    },
    {
     "name": "stdout",
     "output_type": "stream",
     "text": [
      "Loading sample IDs for mutation data\n",
      "Loading sample IDs for expression data\n",
      "Loading sample IDs for me_27k data\n",
      "Loading sample IDs for me_27k_bmiq data\n",
      "Loading sample IDs for me_450k data\n",
      "Loading sample IDs for rppa data\n",
      "Loading sample IDs for mirna data\n",
      "Loading sample IDs for mut_sigs data\n",
      "Taking intersection of sample IDs...done\n",
      "('TP53', 3804)\n"
     ]
    }
   ],
   "source": [
    "print(gene_sample_count('TP53', tcga_data, classification='TSG'))"
   ]
  },
  {
   "cell_type": "code",
   "execution_count": 6,
   "metadata": {},
   "outputs": [
    {
     "data": {
      "text/html": [
       "<div>\n",
       "<style scoped>\n",
       "    .dataframe tbody tr th:only-of-type {\n",
       "        vertical-align: middle;\n",
       "    }\n",
       "\n",
       "    .dataframe tbody tr th {\n",
       "        vertical-align: top;\n",
       "    }\n",
       "\n",
       "    .dataframe thead th {\n",
       "        text-align: right;\n",
       "    }\n",
       "</style>\n",
       "<table border=\"1\" class=\"dataframe\">\n",
       "  <thead>\n",
       "    <tr style=\"text-align: right;\">\n",
       "      <th></th>\n",
       "      <th>gene</th>\n",
       "      <th>Gene Name</th>\n",
       "      <th># Mutated Tumor Samples**</th>\n",
       "      <th>Ocogene score*</th>\n",
       "      <th>Tumor Suppressor Gene score*</th>\n",
       "      <th>classification</th>\n",
       "      <th>Core pathway</th>\n",
       "      <th>Process</th>\n",
       "    </tr>\n",
       "  </thead>\n",
       "  <tbody>\n",
       "    <tr>\n",
       "      <th>0</th>\n",
       "      <td>ABL1</td>\n",
       "      <td>c-abl oncogene 1, receptor tyrosine kinase</td>\n",
       "      <td>851</td>\n",
       "      <td>0.926904</td>\n",
       "      <td>0.003046</td>\n",
       "      <td>Oncogene</td>\n",
       "      <td>Cell Cycle/Apoptosis</td>\n",
       "      <td>Cell Survival</td>\n",
       "    </tr>\n",
       "    <tr>\n",
       "      <th>1</th>\n",
       "      <td>ACVR1B</td>\n",
       "      <td>activin A receptor, type IB</td>\n",
       "      <td>17</td>\n",
       "      <td>0.000000</td>\n",
       "      <td>0.423077</td>\n",
       "      <td>TSG</td>\n",
       "      <td>TGF-b</td>\n",
       "      <td>Cell Survival</td>\n",
       "    </tr>\n",
       "    <tr>\n",
       "      <th>2</th>\n",
       "      <td>AKT1</td>\n",
       "      <td>v-akt murine thymoma viral oncogene homolog 1</td>\n",
       "      <td>155</td>\n",
       "      <td>0.929487</td>\n",
       "      <td>0.006410</td>\n",
       "      <td>Oncogene</td>\n",
       "      <td>PI3K</td>\n",
       "      <td>Cell Survival</td>\n",
       "    </tr>\n",
       "    <tr>\n",
       "      <th>3</th>\n",
       "      <td>ALK</td>\n",
       "      <td>anaplastic lymphoma receptor tyrosine kinase</td>\n",
       "      <td>189</td>\n",
       "      <td>0.720000</td>\n",
       "      <td>0.010000</td>\n",
       "      <td>Oncogene</td>\n",
       "      <td>PI3K; RAS</td>\n",
       "      <td>Cell Survival</td>\n",
       "    </tr>\n",
       "    <tr>\n",
       "      <th>4</th>\n",
       "      <td>APC</td>\n",
       "      <td>adenomatous polyposis coli</td>\n",
       "      <td>2561</td>\n",
       "      <td>0.024553</td>\n",
       "      <td>0.917222</td>\n",
       "      <td>TSG</td>\n",
       "      <td>APC</td>\n",
       "      <td>Cell Fate</td>\n",
       "    </tr>\n",
       "  </tbody>\n",
       "</table>\n",
       "</div>"
      ],
      "text/plain": [
       "     gene                                      Gene Name  \\\n",
       "0    ABL1     c-abl oncogene 1, receptor tyrosine kinase   \n",
       "1  ACVR1B                    activin A receptor, type IB   \n",
       "2    AKT1  v-akt murine thymoma viral oncogene homolog 1   \n",
       "3     ALK   anaplastic lymphoma receptor tyrosine kinase   \n",
       "4     APC                     adenomatous polyposis coli   \n",
       "\n",
       "   # Mutated Tumor Samples**  Ocogene score*   Tumor Suppressor Gene score*   \\\n",
       "0                        851         0.926904                       0.003046   \n",
       "1                         17         0.000000                       0.423077   \n",
       "2                        155         0.929487                       0.006410   \n",
       "3                        189         0.720000                       0.010000   \n",
       "4                       2561         0.024553                       0.917222   \n",
       "\n",
       "  classification          Core pathway        Process  \n",
       "0       Oncogene  Cell Cycle/Apoptosis  Cell Survival  \n",
       "1            TSG                TGF-b   Cell Survival  \n",
       "2       Oncogene                  PI3K  Cell Survival  \n",
       "3       Oncogene             PI3K; RAS  Cell Survival  \n",
       "4            TSG                   APC      Cell Fate  "
      ]
     },
     "execution_count": 6,
     "metadata": {},
     "output_type": "execute_result"
    }
   ],
   "source": [
    "vogelstein_df = du.load_vogelstein()\n",
    "vogelstein_df.head()"
   ]
  },
  {
   "cell_type": "code",
   "execution_count": null,
   "metadata": {},
   "outputs": [],
   "source": [
    "save_every = 50\n",
    "\n",
    "for gene_ix, gene_series in vogelstein_df.iterrows():\n",
    "    if (gene_ix % save_every == 0) and (gene_ix != 0):\n",
    "        output_df.to_csv(output_file, sep='\\t')\n",
    "    \n",
    "        "
   ]
  }
 ],
 "metadata": {
  "kernelspec": {
   "display_name": "Python [conda env:mpmp]",
   "language": "python",
   "name": "conda-env-mpmp-py"
  },
  "language_info": {
   "codemirror_mode": {
    "name": "ipython",
    "version": 3
   },
   "file_extension": ".py",
   "mimetype": "text/x-python",
   "name": "python",
   "nbconvert_exporter": "python",
   "pygments_lexer": "ipython3",
   "version": "3.7.9"
  }
 },
 "nbformat": 4,
 "nbformat_minor": 4
}
