{
 "cells": [
  {
   "cell_type": "code",
   "execution_count": 1,
   "metadata": {},
   "outputs": [],
   "source": [
    "import sys\n",
    "import warnings\n",
    "from pathlib import Path\n",
    "\n",
    "import numpy as np\n",
    "import pandas as pd\n",
    "\n",
    "from mpmp.data_models.tcga_data_model import TCGADataModel\n",
    "import mpmp.prediction.cross_validation as cv\n",
    "import mpmp.utilities.data_utilities as du"
   ]
  },
  {
   "cell_type": "code",
   "execution_count": 2,
   "metadata": {},
   "outputs": [],
   "source": [
    "# want to calculate these numbers de novo\n",
    "def calculate_gene_count(overlap_data_types, seeds, num_folds):\n",
    "    gene_seed_list = []\n",
    "    sample_info_df = du.load_sample_info('expression')\n",
    "    for seed in seeds:\n",
    "        tcga_data = TCGADataModel(seed=seed,\n",
    "                                  overlap_data_types=overlap_data_types)\n",
    "        genes_df = tcga_data.load_gene_set('vogelstein')\n",
    "        for gene_ix, gene_series in genes_df.iterrows():\n",
    "            \n",
    "            try:\n",
    "                tcga_data.process_data_for_gene(gene_series.gene,\n",
    "                                                gene_series.classification,\n",
    "                                                None)\n",
    "            except KeyError: continue\n",
    "            \n",
    "            # check if any valid cancer types, if not break\n",
    "            if tcga_data.X_df.shape[0] == 0:\n",
    "                gene_seed_list.append((gene_series.gene, seed, False, 'no_valid_cancer_types'))\n",
    "                continue\n",
    "                \n",
    "            # subset features to speed up CV\n",
    "            tcga_data.X_df = tcga_data.X_df.iloc[:, :50]\n",
    "                \n",
    "            # if valid cancer types, look at CV folds and make sure each\n",
    "            # has 0 and 1 labels\n",
    "            gene_seed_valid = True\n",
    "            reason = 'N/A'\n",
    "            print(gene_series.gene, file=sys.stderr)\n",
    "            for fold_no in range(num_folds):\n",
    "                with warnings.catch_warnings():\n",
    "                    warnings.filterwarnings('ignore',\n",
    "                                            message='The least populated class in y')\n",
    "                    X_train, X_test, _ = cv.split_stratified(\n",
    "                        tcga_data.X_df,\n",
    "                        sample_info_df,\n",
    "                        num_folds=num_folds,\n",
    "                        fold_no=fold_no,\n",
    "                        seed=seed\n",
    "                    )\n",
    "                y_train = tcga_data.y_df.reindex(X_train.index)\n",
    "                y_test = tcga_data.y_df.reindex(X_test.index)\n",
    "                \n",
    "                # count 0/1 labels in y_train and y_test\n",
    "                y_train_ones = np.count_nonzero(y_train.status)\n",
    "                y_train_zeroes = len(y_train.status) - y_train_ones\n",
    "                y_test_ones = np.count_nonzero(y_test.status)\n",
    "                y_test_zeroes = len(y_test.status) - y_test_ones\n",
    "                print(fold_no, y_train_ones, y_train_zeroes, y_test_ones, y_test_zeroes,\n",
    "                      file=sys.stderr)\n",
    "                \n",
    "                if ((y_train_ones == 0) or (y_train_zeroes == 0)):\n",
    "                    gene_seed_valid = False\n",
    "                    reason = 'one_train_class'\n",
    "                    break\n",
    "                elif ((y_test_ones == 0) or (y_test_zeroes == 0)):\n",
    "                    gene_seed_valid = False\n",
    "                    reason = 'one_test_class'\n",
    "                    break\n",
    "                    \n",
    "            gene_seed_list.append((gene_series.gene, seed, gene_seed_valid, reason))\n",
    "                \n",
    "    return gene_seed_list"
   ]
  },
  {
   "cell_type": "code",
   "execution_count": 3,
   "metadata": {},
   "outputs": [
    {
     "name": "stderr",
     "output_type": "stream",
     "text": [
      "File gene_counts/gene_count_expression.tsv exists\n",
      "File gene_counts/gene_count_methylation.tsv exists\n",
      "File gene_counts/gene_count_all.tsv exists\n"
     ]
    }
   ],
   "source": [
    "training_data_types = {\n",
    "    'expression': ['expression'],\n",
    "    'methylation': ['expression', 'me_27k', 'me_450k'],\n",
    "    'all': ['expression', 'me_27k', 'me_450k', 'rppa', 'mirna', 'mut_sigs']\n",
    "}\n",
    "seeds = [42, 1]\n",
    "num_folds = 3\n",
    "\n",
    "gene_counts_dir = Path('./', 'gene_counts')\n",
    "gene_counts_dir.mkdir(exist_ok=True)\n",
    "\n",
    "for dataset, overlap_data_types in training_data_types.items():\n",
    "    gene_count_file = gene_counts_dir / 'gene_count_{}.tsv'.format(dataset)\n",
    "    if gene_count_file.is_file():\n",
    "        print('File {} exists'.format(gene_count_file), file=sys.stderr)\n",
    "    else:\n",
    "        print('File {} does not exist, calculating'.format(\n",
    "            gene_count_file), file=sys.stderr)\n",
    "        lst = calculate_gene_count(overlap_data_types, seeds, num_folds)\n",
    "        with open (gene_count_file, 'w') as f:\n",
    "            for t in lst:\n",
    "                f.write('\\t'.join([str(v) for v in t]))\n",
    "                f.write('\\n')"
   ]
  },
  {
   "cell_type": "code",
   "execution_count": 4,
   "metadata": {},
   "outputs": [
    {
     "name": "stdout",
     "output_type": "stream",
     "text": [
      "expression: 105 valid / 124 total\n",
      "methylation: 99 valid / 124 total\n",
      "all: 93 valid / 124 total\n"
     ]
    }
   ],
   "source": [
    "# now load gene count files and count valid genes\n",
    "for dataset in training_data_types.keys():\n",
    "    gene_counts_df = pd.read_csv(\n",
    "        gene_counts_dir / 'gene_count_{}.tsv'.format(dataset),\n",
    "        names=['gene', 'seed', 'is_valid', 'reason'], \n",
    "        sep='\\t'\n",
    "    )\n",
    "    valid_genes = gene_counts_df.groupby('gene').all().is_valid\n",
    "    print('{}:'.format(dataset),\n",
    "          '{} valid /'.format(np.count_nonzero(valid_genes)),\n",
    "          '{} total'.format(len(valid_genes)))\n"
   ]
  }
 ],
 "metadata": {
  "kernelspec": {
   "display_name": "Python [conda env:mpmp]",
   "language": "python",
   "name": "conda-env-mpmp-py"
  },
  "language_info": {
   "codemirror_mode": {
    "name": "ipython",
    "version": 3
   },
   "file_extension": ".py",
   "mimetype": "text/x-python",
   "name": "python",
   "nbconvert_exporter": "python",
   "pygments_lexer": "ipython3",
   "version": "3.7.9"
  }
 },
 "nbformat": 4,
 "nbformat_minor": 4
}
