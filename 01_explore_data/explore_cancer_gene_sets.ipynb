{
 "cells": [
  {
   "cell_type": "markdown",
   "metadata": {},
   "source": [
    "## Explore cancer gene sets\n",
    "\n",
    "We want to download the set of cancer-associated genes from the [COSMIC Cancer Gene Census](https://cancer.sanger.ac.uk/cosmic/census), in order to use these genes in our experiments as a comparison/complement to the Vogelstein et al. gene set.\n",
    "\n",
    "TODO: document in more detail"
   ]
  },
  {
   "cell_type": "code",
   "execution_count": 1,
   "metadata": {},
   "outputs": [],
   "source": [
    "import sys\n",
    "from pathlib import Path\n",
    "\n",
    "import pandas as pd\n",
    "\n",
    "import mpmp.config as cfg\n",
    "import mpmp.utilities.data_utilities as du\n",
    "\n",
    "%load_ext autoreload\n",
    "%autoreload 2"
   ]
  },
  {
   "cell_type": "code",
   "execution_count": 2,
   "metadata": {},
   "outputs": [
    {
     "data": {
      "text/html": [
       "<div>\n",
       "<style scoped>\n",
       "    .dataframe tbody tr th:only-of-type {\n",
       "        vertical-align: middle;\n",
       "    }\n",
       "\n",
       "    .dataframe tbody tr th {\n",
       "        vertical-align: top;\n",
       "    }\n",
       "\n",
       "    .dataframe thead th {\n",
       "        text-align: right;\n",
       "    }\n",
       "</style>\n",
       "<table border=\"1\" class=\"dataframe\">\n",
       "  <thead>\n",
       "    <tr style=\"text-align: right;\">\n",
       "      <th></th>\n",
       "      <th>gene</th>\n",
       "      <th>Gene Name</th>\n",
       "      <th># Mutated Tumor Samples**</th>\n",
       "      <th>Ocogene score*</th>\n",
       "      <th>Tumor Suppressor Gene score*</th>\n",
       "      <th>classification</th>\n",
       "      <th>Core pathway</th>\n",
       "      <th>Process</th>\n",
       "    </tr>\n",
       "  </thead>\n",
       "  <tbody>\n",
       "    <tr>\n",
       "      <th>0</th>\n",
       "      <td>ABL1</td>\n",
       "      <td>c-abl oncogene 1, receptor tyrosine kinase</td>\n",
       "      <td>851</td>\n",
       "      <td>0.926904</td>\n",
       "      <td>0.003046</td>\n",
       "      <td>Oncogene</td>\n",
       "      <td>Cell Cycle/Apoptosis</td>\n",
       "      <td>Cell Survival</td>\n",
       "    </tr>\n",
       "    <tr>\n",
       "      <th>1</th>\n",
       "      <td>ACVR1B</td>\n",
       "      <td>activin A receptor, type IB</td>\n",
       "      <td>17</td>\n",
       "      <td>0.000000</td>\n",
       "      <td>0.423077</td>\n",
       "      <td>TSG</td>\n",
       "      <td>TGF-b</td>\n",
       "      <td>Cell Survival</td>\n",
       "    </tr>\n",
       "    <tr>\n",
       "      <th>2</th>\n",
       "      <td>AKT1</td>\n",
       "      <td>v-akt murine thymoma viral oncogene homolog 1</td>\n",
       "      <td>155</td>\n",
       "      <td>0.929487</td>\n",
       "      <td>0.006410</td>\n",
       "      <td>Oncogene</td>\n",
       "      <td>PI3K</td>\n",
       "      <td>Cell Survival</td>\n",
       "    </tr>\n",
       "    <tr>\n",
       "      <th>3</th>\n",
       "      <td>ALK</td>\n",
       "      <td>anaplastic lymphoma receptor tyrosine kinase</td>\n",
       "      <td>189</td>\n",
       "      <td>0.720000</td>\n",
       "      <td>0.010000</td>\n",
       "      <td>Oncogene</td>\n",
       "      <td>PI3K; RAS</td>\n",
       "      <td>Cell Survival</td>\n",
       "    </tr>\n",
       "    <tr>\n",
       "      <th>4</th>\n",
       "      <td>APC</td>\n",
       "      <td>adenomatous polyposis coli</td>\n",
       "      <td>2561</td>\n",
       "      <td>0.024553</td>\n",
       "      <td>0.917222</td>\n",
       "      <td>TSG</td>\n",
       "      <td>APC</td>\n",
       "      <td>Cell Fate</td>\n",
       "    </tr>\n",
       "  </tbody>\n",
       "</table>\n",
       "</div>"
      ],
      "text/plain": [
       "     gene                                      Gene Name  \\\n",
       "0    ABL1     c-abl oncogene 1, receptor tyrosine kinase   \n",
       "1  ACVR1B                    activin A receptor, type IB   \n",
       "2    AKT1  v-akt murine thymoma viral oncogene homolog 1   \n",
       "3     ALK   anaplastic lymphoma receptor tyrosine kinase   \n",
       "4     APC                     adenomatous polyposis coli   \n",
       "\n",
       "   # Mutated Tumor Samples**  Ocogene score*   Tumor Suppressor Gene score*   \\\n",
       "0                        851         0.926904                       0.003046   \n",
       "1                         17         0.000000                       0.423077   \n",
       "2                        155         0.929487                       0.006410   \n",
       "3                        189         0.720000                       0.010000   \n",
       "4                       2561         0.024553                       0.917222   \n",
       "\n",
       "  classification          Core pathway        Process  \n",
       "0       Oncogene  Cell Cycle/Apoptosis  Cell Survival  \n",
       "1            TSG                TGF-b   Cell Survival  \n",
       "2       Oncogene                  PI3K  Cell Survival  \n",
       "3       Oncogene             PI3K; RAS  Cell Survival  \n",
       "4            TSG                   APC      Cell Fate  "
      ]
     },
     "execution_count": 2,
     "metadata": {},
     "output_type": "execute_result"
    }
   ],
   "source": [
    "# load datasets\n",
    "vogelstein_df = du.load_vogelstein()\n",
    "vogelstein_df.head()"
   ]
  },
  {
   "cell_type": "code",
   "execution_count": 3,
   "metadata": {},
   "outputs": [
    {
     "data": {
      "text/html": [
       "<div>\n",
       "<style scoped>\n",
       "    .dataframe tbody tr th:only-of-type {\n",
       "        vertical-align: middle;\n",
       "    }\n",
       "\n",
       "    .dataframe tbody tr th {\n",
       "        vertical-align: top;\n",
       "    }\n",
       "\n",
       "    .dataframe thead th {\n",
       "        text-align: right;\n",
       "    }\n",
       "</style>\n",
       "<table border=\"1\" class=\"dataframe\">\n",
       "  <thead>\n",
       "    <tr style=\"text-align: right;\">\n",
       "      <th></th>\n",
       "      <th>gene</th>\n",
       "      <th>classification</th>\n",
       "    </tr>\n",
       "  </thead>\n",
       "  <tbody>\n",
       "    <tr>\n",
       "      <th>0</th>\n",
       "      <td>ABI1</td>\n",
       "      <td>TSG</td>\n",
       "    </tr>\n",
       "    <tr>\n",
       "      <th>1</th>\n",
       "      <td>ABL1</td>\n",
       "      <td>Oncogene</td>\n",
       "    </tr>\n",
       "    <tr>\n",
       "      <th>2</th>\n",
       "      <td>ABL2</td>\n",
       "      <td>Oncogene</td>\n",
       "    </tr>\n",
       "    <tr>\n",
       "      <th>3</th>\n",
       "      <td>ACKR3</td>\n",
       "      <td>Oncogene</td>\n",
       "    </tr>\n",
       "    <tr>\n",
       "      <th>4</th>\n",
       "      <td>ACVR1</td>\n",
       "      <td>Oncogene</td>\n",
       "    </tr>\n",
       "  </tbody>\n",
       "</table>\n",
       "</div>"
      ],
      "text/plain": [
       "    gene classification\n",
       "0   ABI1            TSG\n",
       "1   ABL1       Oncogene\n",
       "2   ABL2       Oncogene\n",
       "3  ACKR3       Oncogene\n",
       "4  ACVR1       Oncogene"
      ]
     },
     "execution_count": 3,
     "metadata": {},
     "output_type": "execute_result"
    }
   ],
   "source": [
    "cosmic_df = du.load_cosmic()\n",
    "cosmic_df.head()"
   ]
  },
  {
   "cell_type": "code",
   "execution_count": 4,
   "metadata": {},
   "outputs": [
    {
     "name": "stderr",
     "output_type": "stream",
     "text": [
      "/home/jake/anaconda3/envs/mpmp/lib/python3.7/site-packages/openpyxl/worksheet/_reader.py:312: UserWarning: Unknown extension is not supported and will be removed\n",
      "  warn(msg)\n"
     ]
    },
    {
     "data": {
      "text/html": [
       "<div>\n",
       "<style scoped>\n",
       "    .dataframe tbody tr th:only-of-type {\n",
       "        vertical-align: middle;\n",
       "    }\n",
       "\n",
       "    .dataframe tbody tr th {\n",
       "        vertical-align: top;\n",
       "    }\n",
       "\n",
       "    .dataframe thead th {\n",
       "        text-align: right;\n",
       "    }\n",
       "</style>\n",
       "<table border=\"1\" class=\"dataframe\">\n",
       "  <thead>\n",
       "    <tr style=\"text-align: right;\">\n",
       "      <th></th>\n",
       "      <th>Gene</th>\n",
       "      <th>Cancer</th>\n",
       "      <th>classification</th>\n",
       "      <th>Decision</th>\n",
       "      <th>Tissue Frequency</th>\n",
       "      <th>Pancan Frequency</th>\n",
       "      <th>Consensus Score</th>\n",
       "      <th>Correlation adusted score</th>\n",
       "      <th>Novel</th>\n",
       "      <th>Rescue Notes</th>\n",
       "      <th>Note about previous publication</th>\n",
       "    </tr>\n",
       "    <tr>\n",
       "      <th>KEY</th>\n",
       "      <th></th>\n",
       "      <th></th>\n",
       "      <th></th>\n",
       "      <th></th>\n",
       "      <th></th>\n",
       "      <th></th>\n",
       "      <th></th>\n",
       "      <th></th>\n",
       "      <th></th>\n",
       "      <th></th>\n",
       "      <th></th>\n",
       "    </tr>\n",
       "  </thead>\n",
       "  <tbody>\n",
       "    <tr>\n",
       "      <th>ACVR1B_PANCAN</th>\n",
       "      <td>ACVR1B</td>\n",
       "      <td>PANCAN</td>\n",
       "      <td>possible tsg</td>\n",
       "      <td>official</td>\n",
       "      <td>NaN</td>\n",
       "      <td>0.010904</td>\n",
       "      <td>1.0</td>\n",
       "      <td>0.000000</td>\n",
       "      <td>0.0</td>\n",
       "      <td>NaN</td>\n",
       "      <td>Found in 24132290</td>\n",
       "    </tr>\n",
       "    <tr>\n",
       "      <th>ACVR2A_PANCAN</th>\n",
       "      <td>ACVR2A</td>\n",
       "      <td>PANCAN</td>\n",
       "      <td>possible tsg</td>\n",
       "      <td>official</td>\n",
       "      <td>NaN</td>\n",
       "      <td>0.013988</td>\n",
       "      <td>2.0</td>\n",
       "      <td>2.000000</td>\n",
       "      <td>0.0</td>\n",
       "      <td>NaN</td>\n",
       "      <td>Found in 24132290</td>\n",
       "    </tr>\n",
       "    <tr>\n",
       "      <th>AJUBA_PANCAN</th>\n",
       "      <td>AJUBA</td>\n",
       "      <td>PANCAN</td>\n",
       "      <td>tsg</td>\n",
       "      <td>official</td>\n",
       "      <td>NaN</td>\n",
       "      <td>0.009032</td>\n",
       "      <td>2.0</td>\n",
       "      <td>1.484499</td>\n",
       "      <td>0.0</td>\n",
       "      <td>NaN</td>\n",
       "      <td>Found in 24132290</td>\n",
       "    </tr>\n",
       "    <tr>\n",
       "      <th>AKT1_PANCAN</th>\n",
       "      <td>AKT1</td>\n",
       "      <td>PANCAN</td>\n",
       "      <td>oncogene</td>\n",
       "      <td>official</td>\n",
       "      <td>NaN</td>\n",
       "      <td>0.010133</td>\n",
       "      <td>2.5</td>\n",
       "      <td>2.500000</td>\n",
       "      <td>0.0</td>\n",
       "      <td>NaN</td>\n",
       "      <td>Found in 24132290</td>\n",
       "    </tr>\n",
       "    <tr>\n",
       "      <th>AMER1_PANCAN</th>\n",
       "      <td>AMER1</td>\n",
       "      <td>PANCAN</td>\n",
       "      <td>possible tsg</td>\n",
       "      <td>official</td>\n",
       "      <td>NaN</td>\n",
       "      <td>0.027426</td>\n",
       "      <td>2.0</td>\n",
       "      <td>2.000000</td>\n",
       "      <td>0.0</td>\n",
       "      <td>NaN</td>\n",
       "      <td>0</td>\n",
       "    </tr>\n",
       "  </tbody>\n",
       "</table>\n",
       "</div>"
      ],
      "text/plain": [
       "                 Gene  Cancer classification  Decision  Tissue Frequency  \\\n",
       "KEY                                                                        \n",
       "ACVR1B_PANCAN  ACVR1B  PANCAN   possible tsg  official               NaN   \n",
       "ACVR2A_PANCAN  ACVR2A  PANCAN   possible tsg  official               NaN   \n",
       "AJUBA_PANCAN    AJUBA  PANCAN            tsg  official               NaN   \n",
       "AKT1_PANCAN      AKT1  PANCAN       oncogene  official               NaN   \n",
       "AMER1_PANCAN    AMER1  PANCAN   possible tsg  official               NaN   \n",
       "\n",
       "               Pancan Frequency  Consensus Score  Correlation adusted score  \\\n",
       "KEY                                                                           \n",
       "ACVR1B_PANCAN          0.010904              1.0                   0.000000   \n",
       "ACVR2A_PANCAN          0.013988              2.0                   2.000000   \n",
       "AJUBA_PANCAN           0.009032              2.0                   1.484499   \n",
       "AKT1_PANCAN            0.010133              2.5                   2.500000   \n",
       "AMER1_PANCAN           0.027426              2.0                   2.000000   \n",
       "\n",
       "               Novel Rescue Notes Note about previous publication  \n",
       "KEY                                                                \n",
       "ACVR1B_PANCAN    0.0          NaN               Found in 24132290  \n",
       "ACVR2A_PANCAN    0.0          NaN               Found in 24132290  \n",
       "AJUBA_PANCAN     0.0          NaN               Found in 24132290  \n",
       "AKT1_PANCAN      0.0          NaN               Found in 24132290  \n",
       "AMER1_PANCAN     0.0          NaN                               0  "
      ]
     },
     "execution_count": 4,
     "metadata": {},
     "output_type": "execute_result"
    }
   ],
   "source": [
    "# load Bailey et al. data from excel file\n",
    "# this is the same as the code in 00_download_data/2_download_cancer_gene_set.ipynb\n",
    "class_df = pd.read_excel(\n",
    "    cfg.bailey_raw_file,\n",
    "    engine='openpyxl', sheet_name='Table S1', index_col='KEY', header=3\n",
    ")\n",
    "class_df.drop(\n",
    "    class_df.columns[class_df.columns.str.contains('Unnamed')],\n",
    "    axis=1, inplace=True\n",
    ")\n",
    "class_df.rename(columns={'Tumor suppressor or oncogene prediction (by 20/20+)':\n",
    "                         'classification'},\n",
    "                inplace=True)\n",
    "\n",
    "bailey_df = (\n",
    "    class_df[((class_df.Cancer == 'PANCAN') &\n",
    "             (~class_df.classification.isna()))]\n",
    ").copy()\n",
    "\n",
    "bailey_df.head()"
   ]
  },
  {
   "cell_type": "markdown",
   "metadata": {},
   "source": [
    "### Overlap between COSMIC/Bailey/Vogelstein\n",
    "\n",
    "Is COSMIC a strict subset of the Bailey and Vogelstein cancer driver datasets? Or are there genes in the latter two that are not in COSMIC?"
   ]
  },
  {
   "cell_type": "code",
   "execution_count": 5,
   "metadata": {},
   "outputs": [],
   "source": [
    "vogelstein_genes = set(vogelstein_df.gene.values)\n",
    "cosmic_genes = set(cosmic_df.gene.values)\n",
    "bailey_genes = set(bailey_df.Gene.values)"
   ]
  },
  {
   "cell_type": "code",
   "execution_count": 6,
   "metadata": {},
   "outputs": [
    {
     "data": {
      "text/plain": [
       "Text(0.5, 1.0, 'Overlap between cancer gene sets')"
      ]
     },
     "execution_count": 6,
     "metadata": {},
     "output_type": "execute_result"
    },
    {
     "data": {
      "image/png": "[encoded data removed]",
      "text/plain": [
       "<Figure size 576x576 with 1 Axes>"
      ]
     },
     "metadata": {},
     "output_type": "display_data"
    }
   ],
   "source": [
    "from venn import venn\n",
    "import seaborn as sns\n",
    "import matplotlib.pyplot as plt\n",
    "\n",
    "sns.set_style('white')\n",
    "\n",
    "label_map = {\n",
    "    'cosmic': cosmic_genes,\n",
    "    'bailey': bailey_genes,\n",
    "    'vogelstein': vogelstein_genes\n",
    "}\n",
    "venn(label_map)\n",
    "plt.title('Overlap between cancer gene sets', size=13)"
   ]
  },
  {
   "cell_type": "markdown",
   "metadata": {},
   "source": [
    "### Enrichment analysis of gene sets\n",
    "\n",
    "Here, we want to do a GO molecular function enrichment analysis of the gene sets we're using. In particular, we want to compare enriched functions for the Vogelstein et al. and merged cancer gene sets, since the classification results we see for these gene sets are so different.\n",
    "\n",
    "The code below mostly follows the `goatools` tutorial here: https://github.com/tanghaibao/goatools/blob/main/notebooks/goea_nbt3102.ipynb"
   ]
  },
  {
   "cell_type": "code",
   "execution_count": 7,
   "metadata": {},
   "outputs": [
    {
     "name": "stdout",
     "output_type": "stream",
     "text": [
      "Ontology data file already exists\n"
     ]
    }
   ],
   "source": [
    "# download ontology data\n",
    "cfg.go_data_dir.mkdir(exist_ok=True)\n",
    "obo_file = cfg.go_data_dir / 'go-basic.obo'\n",
    "\n",
    "if not obo_file.exists():\n",
    "    from goatools.base import download_go_basic_obo\n",
    "    obo_fname = download_go_basic_obo()\n",
    "    Path(obo_fname).replace(obo_file)\n",
    "else:\n",
    "    print('Ontology data file already exists')"
   ]
  },
  {
   "cell_type": "code",
   "execution_count": 8,
   "metadata": {},
   "outputs": [
    {
     "name": "stdout",
     "output_type": "stream",
     "text": [
      "Associations data file already exists\n"
     ]
    }
   ],
   "source": [
    "# download gene-GO associations\n",
    "gene2go_file = cfg.go_data_dir / 'gene2go.gz'\n",
    "\n",
    "if not gene2go_file.exists():\n",
    "    from goatools.base import download_ncbi_associations\n",
    "    gene2go_fname = download_ncbi_associations()\n",
    "    Path(gene2go_fname).replace(gene2go_file)\n",
    "else:\n",
    "    print('Associations data file already exists')"
   ]
  },
  {
   "cell_type": "code",
   "execution_count": 9,
   "metadata": {},
   "outputs": [
    {
     "name": "stdout",
     "output_type": "stream",
     "text": [
      "/home/jake/research/mpmp/01_explore_data/go_data/go-basic.obo: fmt(1.2) rel(2022-01-13) 47,158 Terms\n"
     ]
    }
   ],
   "source": [
    "# load ontology structure\n",
    "from goatools.obo_parser import GODag\n",
    "\n",
    "obodag = GODag(str(obo_file))"
   ]
  },
  {
   "cell_type": "code",
   "execution_count": 10,
   "metadata": {},
   "outputs": [
    {
     "name": "stdout",
     "output_type": "stream",
     "text": [
      "HMS:0:00:03.221896 336,551 annotations, 20,706 genes, 18,724 GOs, 1 taxids READ: /home/jake/research/mpmp/01_explore_data/go_data/gene2go.gz \n",
      "MF 18,238 annotated human genes\n",
      "CC 19,480 annotated human genes\n",
      "BP 18,590 annotated human genes\n"
     ]
    }
   ],
   "source": [
    "from goatools.anno.genetogo_reader import Gene2GoReader\n",
    "\n",
    "# Read NCBI's gene2go. Store annotations in a list of namedtuples\n",
    "objanno = Gene2GoReader(str(gene2go_file), taxids=[9606])\n",
    "\n",
    "# Get namespace2association where:\n",
    "#    namespace is:\n",
    "#        BP: biological_process               \n",
    "#        MF: molecular_function\n",
    "#        CC: cellular_component\n",
    "#    assocation is a dict:\n",
    "#        key: NCBI GeneID\n",
    "#        value: A set of GO IDs associated with that gene\n",
    "ns2assoc = objanno.get_ns2assc()\n",
    "\n",
    "for nspc, id2gos in ns2assoc.items():\n",
    "    print(\"{NS} {N:,} annotated human genes\".format(NS=nspc, N=len(id2gos)))"
   ]
  },
  {
   "cell_type": "code",
   "execution_count": 11,
   "metadata": {},
   "outputs": [
    {
     "name": "stdout",
     "output_type": "stream",
     "text": [
      "      19,708 lines READ:  /home/jake/research/mpmp/01_explore_data/go_data/gene_result.txt\n",
      "      19,684 geneids WROTE: genes_ncbi_9606_proteincoding.py\n"
     ]
    }
   ],
   "source": [
    "# convert NCBI Gene query results for human genes to Python module\n",
    "# see: https://github.com/tanghaibao/goatools/blob/main/notebooks/background_genes_ncbi.ipynb\n",
    "from goatools.cli.ncbi_gene_results_to_python import ncbi_tsv_to_py\n",
    "\n",
    "ncbi_tsv = str(cfg.go_data_dir / 'gene_result.txt')\n",
    "output_py = 'genes_ncbi_9606_proteincoding.py'\n",
    "ncbi_tsv_to_py(ncbi_tsv, output_py)"
   ]
  },
  {
   "cell_type": "code",
   "execution_count": 12,
   "metadata": {},
   "outputs": [
    {
     "name": "stdout",
     "output_type": "stream",
     "text": [
      "19684\n",
      "(1, ntncbi(tax_id=9606, Org_name='Homo sapiens', GeneID=1, CurrentID=0, Status='live', Symbol='A1BG', Aliases=['A1B', 'ABG', 'GAB', 'HYST2477'], description='alpha-1-B glycoprotein', other_designations='alpha-1B-glycoprotein|HEL-S-163pA|epididymis secretory sperm binding protein Li 163pA', map_location='19q13.43', chromosome='19', genomic_nucleotide_accession_version='NC_000019.10', start_position_on_the_genomic_accession=58345183, end_position_on_the_genomic_accession=58353492, orientation='minus', exon_count=8, OMIM=[138670], no_hdr0=''))\n"
     ]
    }
   ],
   "source": [
    "# load human background gene set\n",
    "from genes_ncbi_9606_proteincoding import GENEID2NT as GeneID2nt\n",
    "\n",
    "print(len(GeneID2nt))\n",
    "print(list(GeneID2nt.items())[0])"
   ]
  },
  {
   "cell_type": "code",
   "execution_count": 13,
   "metadata": {},
   "outputs": [
    {
     "name": "stdout",
     "output_type": "stream",
     "text": [
      "\n",
      "Load BP Ontology Enrichment Analysis ...\n",
      " 86% 16,894 of 19,684 population items found in association\n",
      "\n",
      "Load CC Ontology Enrichment Analysis ...\n",
      " 92% 18,016 of 19,684 population items found in association\n",
      "\n",
      "Load MF Ontology Enrichment Analysis ...\n",
      " 89% 17,492 of 19,684 population items found in association\n"
     ]
    }
   ],
   "source": [
    "# initialize GO enrichment analysis object\n",
    "from goatools.goea.go_enrichment_ns import GOEnrichmentStudyNS\n",
    "\n",
    "goea = GOEnrichmentStudyNS(\n",
    "    GeneID2nt.keys(), # list of human protein-coding genes\n",
    "    ns2assoc, # gene/GO term associations\n",
    "    obodag, # ontology structure\n",
    "    propagate_counts=False,\n",
    "    alpha=0.05,\n",
    "    methods=['fdr_bh']\n",
    ")"
   ]
  },
  {
   "cell_type": "code",
   "execution_count": 14,
   "metadata": {},
   "outputs": [],
   "source": [
    "# we need to convert gene symbols to entrez IDs\n",
    "from mpmp.utilities.tcga_utilities import get_symbol_map\n",
    "\n",
    "symbol_to_entrez, old_to_new_entrez = get_symbol_map()\n",
    "\n",
    "def gene_names_to_ids(gene_names):\n",
    "    gene_ids = []\n",
    "    for gene in gene_names:\n",
    "        try:\n",
    "            gene_id = symbol_to_entrez[gene]\n",
    "            if gene_id in old_to_new_entrez.keys():\n",
    "                gene_id = old_to_new_entrez[gene_id]\n",
    "            gene_ids.append(gene_id)\n",
    "        except KeyError:\n",
    "            print('Gene {} not in ID map'.format(gene), file=sys.stderr)\n",
    "            continue\n",
    "    return gene_ids"
   ]
  },
  {
   "cell_type": "code",
   "execution_count": 15,
   "metadata": {},
   "outputs": [
    {
     "name": "stdout",
     "output_type": "stream",
     "text": [
      "125\n"
     ]
    },
    {
     "data": {
      "text/plain": [
       "[25, 91, 207, 238, 324]"
      ]
     },
     "execution_count": 15,
     "metadata": {},
     "output_type": "execute_result"
    }
   ],
   "source": [
    "# get entrez IDs for Vogelstein genes        \n",
    "vogelstein_ids = gene_names_to_ids(vogelstein_df.gene.unique())\n",
    "print(len(vogelstein_ids))\n",
    "vogelstein_ids[:5]"
   ]
  },
  {
   "cell_type": "code",
   "execution_count": 16,
   "metadata": {},
   "outputs": [
    {
     "name": "stdout",
     "output_type": "stream",
     "text": [
      "\n",
      "Runing BP Ontology Analysis: current study set of 125 IDs.\n",
      " 99%    124 of    125 study items found in association\n",
      "100%    125 of    125 study items found in population(19684)\n",
      "Calculating 12,343 uncorrected p-values using fisher_scipy_stats\n",
      "  12,343 terms are associated with 16,894 of 19,684 population items\n",
      "   2,220 terms are associated with    124 of    125 study items\n",
      "  METHOD fdr_bh:\n",
      "     365 GO terms found significant (< 0.05=alpha) (365 enriched +   0 purified): statsmodels fdr_bh\n",
      "     122 study items associated with significant GO IDs (enriched)\n",
      "       0 study items associated with significant GO IDs (purified)\n",
      "\n",
      "Runing CC Ontology Analysis: current study set of 125 IDs.\n",
      "100%    125 of    125 study items found in association\n",
      "100%    125 of    125 study items found in population(19684)\n",
      "Calculating 1,797 uncorrected p-values using fisher_scipy_stats\n",
      "   1,797 terms are associated with 18,016 of 19,684 population items\n",
      "     262 terms are associated with    125 of    125 study items\n",
      "  METHOD fdr_bh:\n",
      "      44 GO terms found significant (< 0.05=alpha) ( 43 enriched +   1 purified): statsmodels fdr_bh\n",
      "     125 study items associated with significant GO IDs (enriched)\n",
      "       9 study items associated with significant GO IDs (purified)\n",
      "\n",
      "Runing MF Ontology Analysis: current study set of 125 IDs.\n",
      "100%    125 of    125 study items found in association\n",
      "100%    125 of    125 study items found in population(19684)\n",
      "Calculating 4,424 uncorrected p-values using fisher_scipy_stats\n",
      "   4,424 terms are associated with 17,492 of 19,684 population items\n",
      "     382 terms are associated with    125 of    125 study items\n",
      "  METHOD fdr_bh:\n",
      "      73 GO terms found significant (< 0.05=alpha) ( 73 enriched +   0 purified): statsmodels fdr_bh\n",
      "     124 study items associated with significant GO IDs (enriched)\n",
      "       0 study items associated with significant GO IDs (purified)\n"
     ]
    }
   ],
   "source": [
    "# run GO enrichment analysis for Vogelstein genes\n",
    "vogelstein_results = goea.run_study(vogelstein_ids)\n",
    "vogelstein_sig_results = [r for r in vogelstein_results if r.p_fdr_bh < 0.05]"
   ]
  },
  {
   "cell_type": "code",
   "execution_count": 17,
   "metadata": {},
   "outputs": [
    {
     "name": "stdout",
     "output_type": "stream",
     "text": [
      "    482 items WROTE: /home/jake/research/mpmp/01_explore_data/go_output/vogelstein_enrichment.tsv\n"
     ]
    }
   ],
   "source": [
    "# save to output directory\n",
    "cfg.go_output_dir.mkdir(exist_ok=True)\n",
    "output_file = cfg.go_output_dir / 'vogelstein_enrichment.tsv'\n",
    "goea.wr_tsv(str(output_file), vogelstein_sig_results)"
   ]
  },
  {
   "cell_type": "code",
   "execution_count": 18,
   "metadata": {},
   "outputs": [
    {
     "name": "stdout",
     "output_type": "stream",
     "text": [
      "511\n",
      "386\n"
     ]
    }
   ],
   "source": [
    "# get non-Vogelstein gene set\n",
    "all_genes = set.union(*list(label_map.values()))\n",
    "non_vogelstein_genes = all_genes - label_map['vogelstein']\n",
    "print(len(all_genes))\n",
    "print(len(non_vogelstein_genes))"
   ]
  },
  {
   "cell_type": "code",
   "execution_count": 19,
   "metadata": {},
   "outputs": [
    {
     "name": "stdout",
     "output_type": "stream",
     "text": [
      "383\n"
     ]
    },
    {
     "name": "stderr",
     "output_type": "stream",
     "text": [
      "Gene TENT5C not in ID map\n",
      "Gene MRTFA not in ID map\n",
      "Gene RQCD1 not in ID map\n"
     ]
    },
    {
     "data": {
      "text/plain": [
       "[6938, 898, 26524, 23598, 3092]"
      ]
     },
     "execution_count": 19,
     "metadata": {},
     "output_type": "execute_result"
    }
   ],
   "source": [
    "# get entrez IDs for non-Vogelstein genes        \n",
    "non_vogelstein_ids = gene_names_to_ids(non_vogelstein_genes)\n",
    "print(len(non_vogelstein_ids))\n",
    "non_vogelstein_ids[:5]"
   ]
  },
  {
   "cell_type": "code",
   "execution_count": 20,
   "metadata": {},
   "outputs": [
    {
     "name": "stdout",
     "output_type": "stream",
     "text": [
      "\n",
      "Runing BP Ontology Analysis: current study set of 383 IDs.\n",
      " 99%    381 of    383 study items found in association\n",
      "100%    383 of    383 study items found in population(19684)\n",
      "Calculating 12,343 uncorrected p-values using fisher_scipy_stats\n",
      "  12,343 terms are associated with 16,894 of 19,684 population items\n",
      "   2,823 terms are associated with    381 of    383 study items\n",
      "  METHOD fdr_bh:\n",
      "     197 GO terms found significant (< 0.05=alpha) (196 enriched +   1 purified): statsmodels fdr_bh\n",
      "     348 study items associated with significant GO IDs (enriched)\n",
      "       0 study items associated with significant GO IDs (purified)\n",
      "\n",
      "Runing CC Ontology Analysis: current study set of 383 IDs.\n",
      "100%    383 of    383 study items found in association\n",
      "100%    383 of    383 study items found in population(19684)\n",
      "Calculating 1,797 uncorrected p-values using fisher_scipy_stats\n",
      "   1,797 terms are associated with 18,016 of 19,684 population items\n",
      "     430 terms are associated with    383 of    383 study items\n",
      "  METHOD fdr_bh:\n",
      "      36 GO terms found significant (< 0.05=alpha) ( 34 enriched +   2 purified): statsmodels fdr_bh\n",
      "     364 study items associated with significant GO IDs (enriched)\n",
      "      32 study items associated with significant GO IDs (purified)\n",
      "\n",
      "Runing MF Ontology Analysis: current study set of 383 IDs.\n",
      "100%    383 of    383 study items found in association\n",
      "100%    383 of    383 study items found in population(19684)\n",
      "Calculating 4,424 uncorrected p-values using fisher_scipy_stats\n",
      "   4,424 terms are associated with 17,492 of 19,684 population items\n",
      "     565 terms are associated with    383 of    383 study items\n",
      "  METHOD fdr_bh:\n",
      "      90 GO terms found significant (< 0.05=alpha) ( 88 enriched +   2 purified): statsmodels fdr_bh\n",
      "     380 study items associated with significant GO IDs (enriched)\n",
      "       2 study items associated with significant GO IDs (purified)\n"
     ]
    }
   ],
   "source": [
    "# run GO enrichment analysis for non-Vogelstein genes\n",
    "non_vogelstein_results = goea.run_study(non_vogelstein_ids)\n",
    "non_vogelstein_sig_results = [r for r in non_vogelstein_results if r.p_fdr_bh < 0.05]"
   ]
  },
  {
   "cell_type": "code",
   "execution_count": 21,
   "metadata": {},
   "outputs": [
    {
     "name": "stdout",
     "output_type": "stream",
     "text": [
      "    323 items WROTE: /home/jake/research/mpmp/01_explore_data/go_output/non_vogelstein_enrichment.tsv\n"
     ]
    }
   ],
   "source": [
    "output_file = cfg.go_output_dir / 'non_vogelstein_enrichment.tsv'\n",
    "goea.wr_tsv(str(output_file), non_vogelstein_sig_results)"
   ]
  }
 ],
 "metadata": {
  "kernelspec": {
   "display_name": "Python [conda env:mpmp]",
   "language": "python",
   "name": "conda-env-mpmp-py"
  },
  "language_info": {
   "codemirror_mode": {
    "name": "ipython",
    "version": 3
   },
   "file_extension": ".py",
   "mimetype": "text/x-python",
   "name": "python",
   "nbconvert_exporter": "python",
   "pygments_lexer": "ipython3",
   "version": "3.7.9"
  }
 },
 "nbformat": 4,
 "nbformat_minor": 4
}
