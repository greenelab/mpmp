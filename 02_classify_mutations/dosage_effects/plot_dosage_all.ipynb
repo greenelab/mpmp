{
 "cells": [
  {
   "cell_type": "code",
   "execution_count": 1,
   "metadata": {},
   "outputs": [],
   "source": [
    "from pathlib import Path\n",
    "\n",
    "import numpy as np\n",
    "import pandas as pd\n",
    "import matplotlib.pyplot as plt\n",
    "import seaborn as sns\n",
    "\n",
    "import mpmp.config as cfg\n",
    "import mpmp.utilities.analysis_utilities as au\n",
    "import mpmp.utilities.plot_utilities as plu\n",
    "\n",
    "%load_ext autoreload\n",
    "%autoreload 2"
   ]
  },
  {
   "cell_type": "code",
   "execution_count": 2,
   "metadata": {},
   "outputs": [],
   "source": [
    "# set results directory\n",
    "drop_results_dir = Path(cfg.results_dirs['mutation'],\n",
    "                        'dosage_effects',\n",
    "                        'drop_target',\n",
    "                        'gene')\n",
    "\n",
    "control_results_dir = Path(cfg.results_dirs['mutation'],\n",
    "                           'shuffle_cancer_type',\n",
    "                           'expression_vogelstein',\n",
    "                           'gene')"
   ]
  },
  {
   "cell_type": "code",
   "execution_count": 3,
   "metadata": {},
   "outputs": [
    {
     "name": "stdout",
     "output_type": "stream",
     "text": [
      "(4032, 8)\n"
     ]
    },
    {
     "data": {
      "text/html": [
       "<div>\n",
       "<style scoped>\n",
       "    .dataframe tbody tr th:only-of-type {\n",
       "        vertical-align: middle;\n",
       "    }\n",
       "\n",
       "    .dataframe tbody tr th {\n",
       "        vertical-align: top;\n",
       "    }\n",
       "\n",
       "    .dataframe thead th {\n",
       "        text-align: right;\n",
       "    }\n",
       "</style>\n",
       "<table border=\"1\" class=\"dataframe\">\n",
       "  <thead>\n",
       "    <tr style=\"text-align: right;\">\n",
       "      <th></th>\n",
       "      <th>auroc</th>\n",
       "      <th>aupr</th>\n",
       "      <th>identifier</th>\n",
       "      <th>signal</th>\n",
       "      <th>seed</th>\n",
       "      <th>data_type</th>\n",
       "      <th>fold</th>\n",
       "      <th>training_data</th>\n",
       "    </tr>\n",
       "  </thead>\n",
       "  <tbody>\n",
       "    <tr>\n",
       "      <th>0</th>\n",
       "      <td>0.99984</td>\n",
       "      <td>0.99847</td>\n",
       "      <td>MAP3K1</td>\n",
       "      <td>signal</td>\n",
       "      <td>42</td>\n",
       "      <td>train</td>\n",
       "      <td>0</td>\n",
       "      <td>drop_target</td>\n",
       "    </tr>\n",
       "    <tr>\n",
       "      <th>1</th>\n",
       "      <td>0.75289</td>\n",
       "      <td>0.44210</td>\n",
       "      <td>MAP3K1</td>\n",
       "      <td>signal</td>\n",
       "      <td>42</td>\n",
       "      <td>test</td>\n",
       "      <td>0</td>\n",
       "      <td>drop_target</td>\n",
       "    </tr>\n",
       "    <tr>\n",
       "      <th>2</th>\n",
       "      <td>0.67790</td>\n",
       "      <td>0.30396</td>\n",
       "      <td>MAP3K1</td>\n",
       "      <td>signal</td>\n",
       "      <td>42</td>\n",
       "      <td>cv</td>\n",
       "      <td>0</td>\n",
       "      <td>drop_target</td>\n",
       "    </tr>\n",
       "    <tr>\n",
       "      <th>3</th>\n",
       "      <td>0.99944</td>\n",
       "      <td>0.99409</td>\n",
       "      <td>MAP3K1</td>\n",
       "      <td>signal</td>\n",
       "      <td>42</td>\n",
       "      <td>train</td>\n",
       "      <td>1</td>\n",
       "      <td>drop_target</td>\n",
       "    </tr>\n",
       "    <tr>\n",
       "      <th>4</th>\n",
       "      <td>0.66980</td>\n",
       "      <td>0.42028</td>\n",
       "      <td>MAP3K1</td>\n",
       "      <td>signal</td>\n",
       "      <td>42</td>\n",
       "      <td>test</td>\n",
       "      <td>1</td>\n",
       "      <td>drop_target</td>\n",
       "    </tr>\n",
       "  </tbody>\n",
       "</table>\n",
       "</div>"
      ],
      "text/plain": [
       "     auroc     aupr identifier  signal  seed data_type  fold training_data\n",
       "0  0.99984  0.99847     MAP3K1  signal    42     train     0   drop_target\n",
       "1  0.75289  0.44210     MAP3K1  signal    42      test     0   drop_target\n",
       "2  0.67790  0.30396     MAP3K1  signal    42        cv     0   drop_target\n",
       "3  0.99944  0.99409     MAP3K1  signal    42     train     1   drop_target\n",
       "4  0.66980  0.42028     MAP3K1  signal    42      test     1   drop_target"
      ]
     },
     "execution_count": 3,
     "metadata": {},
     "output_type": "execute_result"
    }
   ],
   "source": [
    "drop_results_df = au.load_stratified_prediction_results(drop_results_dir, 'gene')\n",
    "drop_results_df['experiment'] = 'drop_target'\n",
    "drop_results_df = (drop_results_df\n",
    "    .drop(columns='training_data')\n",
    "    .rename(columns={'experiment': 'training_data'})\n",
    ")\n",
    "\n",
    "print(drop_results_df.shape)\n",
    "drop_results_df.head()"
   ]
  },
  {
   "cell_type": "code",
   "execution_count": 4,
   "metadata": {},
   "outputs": [],
   "source": [
    "control_results_df = au.load_stratified_prediction_results(control_results_dir, 'gene')\n",
    "control_results_df['experiment'] = 'control'\n",
    "control_results_df = (control_results_df\n",
    "    .drop(columns='training_data')\n",
    "    .rename(columns={'experiment': 'training_data'})\n",
    ")\n",
    "\n",
    "print(control_results_df.shape)\n",
    "control_results_df.head()"
   ]
  },
  {
   "cell_type": "code",
   "execution_count": 12,
   "metadata": {},
   "outputs": [
    {
     "name": "stdout",
     "output_type": "stream",
     "text": [
      "(84, 6)\n"
     ]
    },
    {
     "data": {
      "text/html": [
       "<div>\n",
       "<style scoped>\n",
       "    .dataframe tbody tr th:only-of-type {\n",
       "        vertical-align: middle;\n",
       "    }\n",
       "\n",
       "    .dataframe tbody tr th {\n",
       "        vertical-align: top;\n",
       "    }\n",
       "\n",
       "    .dataframe thead th {\n",
       "        text-align: right;\n",
       "    }\n",
       "</style>\n",
       "<table border=\"1\" class=\"dataframe\">\n",
       "  <thead>\n",
       "    <tr style=\"text-align: right;\">\n",
       "      <th></th>\n",
       "      <th>identifier</th>\n",
       "      <th>delta_mean</th>\n",
       "      <th>p_value</th>\n",
       "      <th>corr_pval</th>\n",
       "      <th>reject_null</th>\n",
       "      <th>nlog10_p</th>\n",
       "    </tr>\n",
       "  </thead>\n",
       "  <tbody>\n",
       "    <tr>\n",
       "      <th>36</th>\n",
       "      <td>ERBB2</td>\n",
       "      <td>-0.022204</td>\n",
       "      <td>0.003756</td>\n",
       "      <td>0.105179</td>\n",
       "      <td>False</td>\n",
       "      <td>0.978073</td>\n",
       "    </tr>\n",
       "    <tr>\n",
       "      <th>16</th>\n",
       "      <td>CDKN2A</td>\n",
       "      <td>-0.014236</td>\n",
       "      <td>0.002916</td>\n",
       "      <td>0.105179</td>\n",
       "      <td>False</td>\n",
       "      <td>0.978073</td>\n",
       "    </tr>\n",
       "    <tr>\n",
       "      <th>54</th>\n",
       "      <td>SMAD4</td>\n",
       "      <td>-0.068752</td>\n",
       "      <td>0.003189</td>\n",
       "      <td>0.105179</td>\n",
       "      <td>False</td>\n",
       "      <td>0.978073</td>\n",
       "    </tr>\n",
       "    <tr>\n",
       "      <th>0</th>\n",
       "      <td>EGFR</td>\n",
       "      <td>-0.035507</td>\n",
       "      <td>0.007246</td>\n",
       "      <td>0.152160</td>\n",
       "      <td>False</td>\n",
       "      <td>0.817698</td>\n",
       "    </tr>\n",
       "    <tr>\n",
       "      <th>27</th>\n",
       "      <td>PTEN</td>\n",
       "      <td>-0.033502</td>\n",
       "      <td>0.015411</td>\n",
       "      <td>0.215754</td>\n",
       "      <td>False</td>\n",
       "      <td>0.666042</td>\n",
       "    </tr>\n",
       "  </tbody>\n",
       "</table>\n",
       "</div>"
      ],
      "text/plain": [
       "   identifier  delta_mean   p_value  corr_pval  reject_null  nlog10_p\n",
       "36      ERBB2   -0.022204  0.003756   0.105179        False  0.978073\n",
       "16     CDKN2A   -0.014236  0.002916   0.105179        False  0.978073\n",
       "54      SMAD4   -0.068752  0.003189   0.105179        False  0.978073\n",
       "0        EGFR   -0.035507  0.007246   0.152160        False  0.817698\n",
       "27       PTEN   -0.033502  0.015411   0.215754        False  0.666042"
      ]
     },
     "execution_count": 12,
     "metadata": {},
     "output_type": "execute_result"
    }
   ],
   "source": [
    "compare_results_df = au.compare_results(control_results_df,\n",
    "                                        condition_2_df=drop_results_df,\n",
    "                                        identifier='identifier',\n",
    "                                        metric='aupr',\n",
    "                                        correction=True,\n",
    "                                        correction_method='fdr_bh',\n",
    "                                        correction_alpha=0.05,\n",
    "                                        verbose=True)\n",
    "compare_results_df['nlog10_p'] = -np.log10(compare_results_df.corr_pval)\n",
    "print(compare_results_df.shape)\n",
    "compare_results_df.sort_values(by='corr_pval').head()"
   ]
  },
  {
   "cell_type": "code",
   "execution_count": 28,
   "metadata": {},
   "outputs": [
    {
     "data": {
      "text/plain": [
       "<matplotlib.legend.Legend at 0x7fd05a110a90>"
      ]
     },
     "execution_count": 28,
     "metadata": {},
     "output_type": "execute_result"
    },
    {
     "data": {
      "image/png": "[encoded data removed]",
      "text/plain": [
       "<Figure size 576x432 with 1 Axes>"
      ]
     },
     "metadata": {},
     "output_type": "display_data"
    }
   ],
   "source": [
    "sns.set({'figure.figsize': (8, 6)})\n",
    "sns.set_style('whitegrid')\n",
    "\n",
    "ax = plt.gca()\n",
    "\n",
    "plt.xlim(-0.8, 0.8)\n",
    "plt.ylim(0, 8)\n",
    "\n",
    "# add vertical line at 0\n",
    "ax.axvline(x=0, linestyle='--', linewidth=1.25, color='black')\n",
    "\n",
    "for alpha in [0.05, 0.01, 0.001]:\n",
    "    # add horizontal line at statistical significance threshold\n",
    "    l = ax.axhline(y=-np.log10(alpha), linestyle='--', linewidth=1.25)\n",
    "\n",
    "    # label horizontal line with significance threshold\n",
    "    # (matplotlib makes this fairly difficult, sadly)\n",
    "    ax.text(0.6, -np.log10(alpha)+0.01,\n",
    "            r'$\\mathbf{{\\alpha = {}}}$'.format(alpha),\n",
    "            va='center', ha='center', color=l.get_color(),\n",
    "            backgroundcolor=ax.get_facecolor())\n",
    "\n",
    "sns.scatterplot(data=compare_results_df,\n",
    "                x='delta_mean',\n",
    "                y='nlog10_p',\n",
    "                hue='reject_null')\n",
    "\n",
    "plt.xlabel('AUPR(control) - AUPR(drop target)', size=13)\n",
    "plt.ylabel(r'$-\\log_{10}($adjusted $p$-value$)$', size=13)\n",
    "plt.legend(title=r'Reject $H_0$', loc='upper left',\n",
    "           fontsize=13, title_fontsize=13)"
   ]
  }
 ],
 "metadata": {
  "kernelspec": {
   "display_name": "Python [conda env:mpmp]",
   "language": "python",
   "name": "conda-env-mpmp-py"
  },
  "language_info": {
   "codemirror_mode": {
    "name": "ipython",
    "version": 3
   },
   "file_extension": ".py",
   "mimetype": "text/x-python",
   "name": "python",
   "nbconvert_exporter": "python",
   "pygments_lexer": "ipython3",
   "version": "3.7.9"
  }
 },
 "nbformat": 4,
 "nbformat_minor": 4
}
