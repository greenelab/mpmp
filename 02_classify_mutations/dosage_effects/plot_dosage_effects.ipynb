{
 "cells": [
  {
   "cell_type": "markdown",
   "metadata": {},
   "source": [
    "## Plot results of gene dosage experiments\n",
    "\n",
    "Here, we're interested in exploring how much our predictions with gene expression data change when we do either of the following:\n",
    "\n",
    "* Remove the target gene (gene whose mutations we are predicting) from the feature set (\"drop target\" experiments)\n",
    "* Use only the expression of the target gene + non-gene covariates for prediction (\"only target\" experiments)\n",
    "\n",
    "From these two experiments combined, we should be able to get a sense of how predictive changes to the dosage of the mutated gene are, and how redundant those changes are compared to other genes in the gene set.\n",
    "\n",
    "We'll do this for the 15 best-predicted genes in our gene set."
   ]
  },
  {
   "cell_type": "code",
   "execution_count": 1,
   "metadata": {},
   "outputs": [],
   "source": [
    "from pathlib import Path\n",
    "\n",
    "import numpy as np\n",
    "import pandas as pd\n",
    "import matplotlib.pyplot as plt\n",
    "import seaborn as sns\n",
    "\n",
    "import mpmp.config as cfg\n",
    "import mpmp.utilities.analysis_utilities as au\n",
    "import mpmp.utilities.plot_utilities as plu\n",
    "\n",
    "%load_ext autoreload\n",
    "%autoreload 2"
   ]
  },
  {
   "cell_type": "code",
   "execution_count": 2,
   "metadata": {},
   "outputs": [],
   "source": [
    "# set results directory\n",
    "results_dir = Path(cfg.results_dirs['mutation'], 'dosage_effects')"
   ]
  },
  {
   "cell_type": "code",
   "execution_count": 3,
   "metadata": {},
   "outputs": [
    {
     "name": "stdout",
     "output_type": "stream",
     "text": [
      "(2160, 9)\n"
     ]
    },
    {
     "data": {
      "text/html": [
       "<div>\n",
       "<style scoped>\n",
       "    .dataframe tbody tr th:only-of-type {\n",
       "        vertical-align: middle;\n",
       "    }\n",
       "\n",
       "    .dataframe tbody tr th {\n",
       "        vertical-align: top;\n",
       "    }\n",
       "\n",
       "    .dataframe thead th {\n",
       "        text-align: right;\n",
       "    }\n",
       "</style>\n",
       "<table border=\"1\" class=\"dataframe\">\n",
       "  <thead>\n",
       "    <tr style=\"text-align: right;\">\n",
       "      <th></th>\n",
       "      <th>auroc</th>\n",
       "      <th>aupr</th>\n",
       "      <th>identifier</th>\n",
       "      <th>training_data</th>\n",
       "      <th>signal</th>\n",
       "      <th>seed</th>\n",
       "      <th>data_type</th>\n",
       "      <th>fold</th>\n",
       "      <th>experiment</th>\n",
       "    </tr>\n",
       "  </thead>\n",
       "  <tbody>\n",
       "    <tr>\n",
       "      <th>0</th>\n",
       "      <td>0.75778</td>\n",
       "      <td>0.74085</td>\n",
       "      <td>TP53</td>\n",
       "      <td>expression</td>\n",
       "      <td>shuffled</td>\n",
       "      <td>42</td>\n",
       "      <td>train</td>\n",
       "      <td>0</td>\n",
       "      <td>Drop target</td>\n",
       "    </tr>\n",
       "    <tr>\n",
       "      <th>1</th>\n",
       "      <td>0.73380</td>\n",
       "      <td>0.71366</td>\n",
       "      <td>TP53</td>\n",
       "      <td>expression</td>\n",
       "      <td>shuffled</td>\n",
       "      <td>42</td>\n",
       "      <td>test</td>\n",
       "      <td>0</td>\n",
       "      <td>Drop target</td>\n",
       "    </tr>\n",
       "    <tr>\n",
       "      <th>2</th>\n",
       "      <td>0.61896</td>\n",
       "      <td>0.58021</td>\n",
       "      <td>TP53</td>\n",
       "      <td>expression</td>\n",
       "      <td>shuffled</td>\n",
       "      <td>42</td>\n",
       "      <td>cv</td>\n",
       "      <td>0</td>\n",
       "      <td>Drop target</td>\n",
       "    </tr>\n",
       "    <tr>\n",
       "      <th>3</th>\n",
       "      <td>0.74560</td>\n",
       "      <td>0.72257</td>\n",
       "      <td>TP53</td>\n",
       "      <td>expression</td>\n",
       "      <td>shuffled</td>\n",
       "      <td>42</td>\n",
       "      <td>train</td>\n",
       "      <td>1</td>\n",
       "      <td>Drop target</td>\n",
       "    </tr>\n",
       "    <tr>\n",
       "      <th>4</th>\n",
       "      <td>0.71528</td>\n",
       "      <td>0.68853</td>\n",
       "      <td>TP53</td>\n",
       "      <td>expression</td>\n",
       "      <td>shuffled</td>\n",
       "      <td>42</td>\n",
       "      <td>test</td>\n",
       "      <td>1</td>\n",
       "      <td>Drop target</td>\n",
       "    </tr>\n",
       "  </tbody>\n",
       "</table>\n",
       "</div>"
      ],
      "text/plain": [
       "     auroc     aupr identifier training_data    signal  seed data_type  fold  \\\n",
       "0  0.75778  0.74085       TP53    expression  shuffled    42     train     0   \n",
       "1  0.73380  0.71366       TP53    expression  shuffled    42      test     0   \n",
       "2  0.61896  0.58021       TP53    expression  shuffled    42        cv     0   \n",
       "3  0.74560  0.72257       TP53    expression  shuffled    42     train     1   \n",
       "4  0.71528  0.68853       TP53    expression  shuffled    42      test     1   \n",
       "\n",
       "    experiment  \n",
       "0  Drop target  \n",
       "1  Drop target  \n",
       "2  Drop target  \n",
       "3  Drop target  \n",
       "4  Drop target  "
      ]
     },
     "execution_count": 3,
     "metadata": {},
     "output_type": "execute_result"
    }
   ],
   "source": [
    "# process all component experiments, explained above in bullet points\n",
    "# control (all genes), drop_target (all genes except target), only_target\n",
    "results_df = []\n",
    "for subdir in results_dir.iterdir():\n",
    "    experiment = subdir.stem\n",
    "    gene_dir = Path(subdir, 'gene')\n",
    "    model_results_df = au.load_stratified_prediction_results(gene_dir, 'gene')\n",
    "    model_results_df['experiment'] = (\n",
    "        experiment.replace('_', ' ').capitalize()\n",
    "    )\n",
    "    results_df.append(model_results_df)\n",
    "    \n",
    "results_df = pd.concat(results_df)\n",
    "print(results_df.shape)\n",
    "results_df.head()"
   ]
  },
  {
   "cell_type": "markdown",
   "metadata": {},
   "source": [
    "### Plot raw AUPR, with no correction for shuffled baseline"
   ]
  },
  {
   "cell_type": "code",
   "execution_count": 4,
   "metadata": {},
   "outputs": [
    {
     "data": {
      "text/plain": [
       "<AxesSubplot:xlabel='identifier', ylabel='aupr'>"
      ]
     },
     "execution_count": 4,
     "metadata": {},
     "output_type": "execute_result"
    },
    {
     "data": {
      "image/png": "[encoded data removed]",
      "text/plain": [
       "<Figure size 936x432 with 1 Axes>"
      ]
     },
     "metadata": {},
     "output_type": "display_data"
    }
   ],
   "source": [
    "sns.set({'figure.figsize': (13, 6)})\n",
    "sns.set_style('whitegrid')\n",
    "sns.set_palette('Set2')\n",
    "\n",
    "plot_df = results_df[((results_df.signal == 'signal') &\n",
    "                      (results_df.data_type == 'test'))]\n",
    "hue_order = [\n",
    "    'Control',\n",
    "    'Drop target',\n",
    "    'Only target'\n",
    "]\n",
    "sns.boxplot(data=plot_df, x='identifier', y='aupr', hue='experiment',\n",
    "            hue_order=hue_order)"
   ]
  },
  {
   "cell_type": "markdown",
   "metadata": {},
   "source": [
    "### Correct for shuffled baseline + plot signal AUPR - shuffled AUPR"
   ]
  },
  {
   "cell_type": "code",
   "execution_count": 5,
   "metadata": {},
   "outputs": [
    {
     "data": {
      "text/html": [
       "<div>\n",
       "<style scoped>\n",
       "    .dataframe tbody tr th:only-of-type {\n",
       "        vertical-align: middle;\n",
       "    }\n",
       "\n",
       "    .dataframe tbody tr th {\n",
       "        vertical-align: top;\n",
       "    }\n",
       "\n",
       "    .dataframe thead th {\n",
       "        text-align: right;\n",
       "    }\n",
       "</style>\n",
       "<table border=\"1\" class=\"dataframe\">\n",
       "  <thead>\n",
       "    <tr style=\"text-align: right;\">\n",
       "      <th></th>\n",
       "      <th>gene</th>\n",
       "      <th>seed</th>\n",
       "      <th>fold</th>\n",
       "      <th>delta_aupr</th>\n",
       "      <th>experiment</th>\n",
       "    </tr>\n",
       "  </thead>\n",
       "  <tbody>\n",
       "    <tr>\n",
       "      <th>0</th>\n",
       "      <td>BRAF</td>\n",
       "      <td>1</td>\n",
       "      <td>0</td>\n",
       "      <td>0.34253</td>\n",
       "      <td>Drop target</td>\n",
       "    </tr>\n",
       "    <tr>\n",
       "      <th>1</th>\n",
       "      <td>BRAF</td>\n",
       "      <td>1</td>\n",
       "      <td>1</td>\n",
       "      <td>0.27114</td>\n",
       "      <td>Drop target</td>\n",
       "    </tr>\n",
       "    <tr>\n",
       "      <th>2</th>\n",
       "      <td>BRAF</td>\n",
       "      <td>1</td>\n",
       "      <td>2</td>\n",
       "      <td>0.27199</td>\n",
       "      <td>Drop target</td>\n",
       "    </tr>\n",
       "    <tr>\n",
       "      <th>3</th>\n",
       "      <td>BRAF</td>\n",
       "      <td>1</td>\n",
       "      <td>3</td>\n",
       "      <td>0.36277</td>\n",
       "      <td>Drop target</td>\n",
       "    </tr>\n",
       "    <tr>\n",
       "      <th>4</th>\n",
       "      <td>BRAF</td>\n",
       "      <td>42</td>\n",
       "      <td>0</td>\n",
       "      <td>0.29706</td>\n",
       "      <td>Drop target</td>\n",
       "    </tr>\n",
       "  </tbody>\n",
       "</table>\n",
       "</div>"
      ],
      "text/plain": [
       "   gene  seed  fold  delta_aupr   experiment\n",
       "0  BRAF     1     0     0.34253  Drop target\n",
       "1  BRAF     1     1     0.27114  Drop target\n",
       "2  BRAF     1     2     0.27199  Drop target\n",
       "3  BRAF     1     3     0.36277  Drop target\n",
       "4  BRAF    42     0     0.29706  Drop target"
      ]
     },
     "execution_count": 5,
     "metadata": {},
     "output_type": "execute_result"
    }
   ],
   "source": [
    "# now correct for shuffled baseline\n",
    "results_df = (results_df\n",
    "    .drop(columns='training_data')\n",
    "    .rename(columns={'experiment': 'training_data'})\n",
    ")\n",
    "all_results_df = au.compare_all_data_types(results_df,\n",
    "                                           0.05,\n",
    "                                           filter_genes=False,\n",
    "                                           compare_ind=True)\n",
    "all_results_df = all_results_df.rename(columns={'training_data': 'experiment'})\n",
    "all_results_df.head()"
   ]
  },
  {
   "cell_type": "code",
   "execution_count": 6,
   "metadata": {},
   "outputs": [
    {
     "data": {
      "text/plain": [
       "<AxesSubplot:xlabel='gene', ylabel='delta_aupr'>"
      ]
     },
     "execution_count": 6,
     "metadata": {},
     "output_type": "execute_result"
    },
    {
     "data": {
      "image/png": "[encoded data removed]",
      "text/plain": [
       "<Figure size 936x432 with 1 Axes>"
      ]
     },
     "metadata": {},
     "output_type": "display_data"
    }
   ],
   "source": [
    "sns.set({'figure.figsize': (13, 6)})\n",
    "sns.set_style('whitegrid')\n",
    "sns.set_palette('Set2')\n",
    "\n",
    "sns.boxplot(data=all_results_df, x='gene', y='delta_aupr', hue='experiment',\n",
    "            hue_order=hue_order)"
   ]
  },
  {
   "cell_type": "code",
   "execution_count": 7,
   "metadata": {},
   "outputs": [
    {
     "data": {
      "text/html": [
       "<div>\n",
       "<style scoped>\n",
       "    .dataframe tbody tr th:only-of-type {\n",
       "        vertical-align: middle;\n",
       "    }\n",
       "\n",
       "    .dataframe tbody tr th {\n",
       "        vertical-align: top;\n",
       "    }\n",
       "\n",
       "    .dataframe thead th {\n",
       "        text-align: right;\n",
       "    }\n",
       "</style>\n",
       "<table border=\"1\" class=\"dataframe\">\n",
       "  <thead>\n",
       "    <tr style=\"text-align: right;\">\n",
       "      <th></th>\n",
       "      <th></th>\n",
       "      <th>experiment</th>\n",
       "      <th>Control</th>\n",
       "      <th>Drop target</th>\n",
       "      <th>Only target</th>\n",
       "    </tr>\n",
       "    <tr>\n",
       "      <th>gene</th>\n",
       "      <th>seed</th>\n",
       "      <th>fold</th>\n",
       "      <th></th>\n",
       "      <th></th>\n",
       "      <th></th>\n",
       "    </tr>\n",
       "  </thead>\n",
       "  <tbody>\n",
       "    <tr>\n",
       "      <th rowspan=\"8\" valign=\"top\">BRAF</th>\n",
       "      <th rowspan=\"4\" valign=\"top\">1</th>\n",
       "      <th>0</th>\n",
       "      <td>0.34253</td>\n",
       "      <td>0.34253</td>\n",
       "      <td>0.07584</td>\n",
       "    </tr>\n",
       "    <tr>\n",
       "      <th>1</th>\n",
       "      <td>0.27114</td>\n",
       "      <td>0.27114</td>\n",
       "      <td>0.09841</td>\n",
       "    </tr>\n",
       "    <tr>\n",
       "      <th>2</th>\n",
       "      <td>0.27199</td>\n",
       "      <td>0.27199</td>\n",
       "      <td>0.03799</td>\n",
       "    </tr>\n",
       "    <tr>\n",
       "      <th>3</th>\n",
       "      <td>0.36277</td>\n",
       "      <td>0.36277</td>\n",
       "      <td>0.00689</td>\n",
       "    </tr>\n",
       "    <tr>\n",
       "      <th rowspan=\"4\" valign=\"top\">42</th>\n",
       "      <th>0</th>\n",
       "      <td>0.29706</td>\n",
       "      <td>0.29706</td>\n",
       "      <td>0.04475</td>\n",
       "    </tr>\n",
       "    <tr>\n",
       "      <th>1</th>\n",
       "      <td>0.31314</td>\n",
       "      <td>0.31314</td>\n",
       "      <td>0.03953</td>\n",
       "    </tr>\n",
       "    <tr>\n",
       "      <th>2</th>\n",
       "      <td>0.28605</td>\n",
       "      <td>0.28605</td>\n",
       "      <td>0.03614</td>\n",
       "    </tr>\n",
       "    <tr>\n",
       "      <th>3</th>\n",
       "      <td>0.36008</td>\n",
       "      <td>0.36008</td>\n",
       "      <td>0.14200</td>\n",
       "    </tr>\n",
       "    <tr>\n",
       "      <th rowspan=\"2\" valign=\"top\">CDKN2A</th>\n",
       "      <th rowspan=\"2\" valign=\"top\">1</th>\n",
       "      <th>0</th>\n",
       "      <td>0.26595</td>\n",
       "      <td>0.25414</td>\n",
       "      <td>0.05857</td>\n",
       "    </tr>\n",
       "    <tr>\n",
       "      <th>1</th>\n",
       "      <td>0.27578</td>\n",
       "      <td>0.26027</td>\n",
       "      <td>0.15374</td>\n",
       "    </tr>\n",
       "  </tbody>\n",
       "</table>\n",
       "</div>"
      ],
      "text/plain": [
       "experiment        Control  Drop target  Only target\n",
       "gene   seed fold                                   \n",
       "BRAF   1    0     0.34253      0.34253      0.07584\n",
       "            1     0.27114      0.27114      0.09841\n",
       "            2     0.27199      0.27199      0.03799\n",
       "            3     0.36277      0.36277      0.00689\n",
       "       42   0     0.29706      0.29706      0.04475\n",
       "            1     0.31314      0.31314      0.03953\n",
       "            2     0.28605      0.28605      0.03614\n",
       "            3     0.36008      0.36008      0.14200\n",
       "CDKN2A 1    0     0.26595      0.25414      0.05857\n",
       "            1     0.27578      0.26027      0.15374"
      ]
     },
     "execution_count": 7,
     "metadata": {},
     "output_type": "execute_result"
    }
   ],
   "source": [
    "pivot_df = all_results_df.pivot(index=['gene', 'seed', 'fold'],\n",
    "                                columns='experiment',\n",
    "                                values='delta_aupr')\n",
    "pivot_df.head(10)"
   ]
  },
  {
   "cell_type": "code",
   "execution_count": 8,
   "metadata": {},
   "outputs": [
    {
     "data": {
      "text/html": [
       "<div>\n",
       "<style scoped>\n",
       "    .dataframe tbody tr th:only-of-type {\n",
       "        vertical-align: middle;\n",
       "    }\n",
       "\n",
       "    .dataframe tbody tr th {\n",
       "        vertical-align: top;\n",
       "    }\n",
       "\n",
       "    .dataframe thead th {\n",
       "        text-align: right;\n",
       "    }\n",
       "</style>\n",
       "<table border=\"1\" class=\"dataframe\">\n",
       "  <thead>\n",
       "    <tr style=\"text-align: right;\">\n",
       "      <th></th>\n",
       "      <th>gene</th>\n",
       "      <th>seed</th>\n",
       "      <th>fold</th>\n",
       "      <th>experiment</th>\n",
       "      <th>delta_aupr</th>\n",
       "    </tr>\n",
       "  </thead>\n",
       "  <tbody>\n",
       "    <tr>\n",
       "      <th>0</th>\n",
       "      <td>BRAF</td>\n",
       "      <td>1</td>\n",
       "      <td>0</td>\n",
       "      <td>Control - drop target</td>\n",
       "      <td>0.0</td>\n",
       "    </tr>\n",
       "    <tr>\n",
       "      <th>1</th>\n",
       "      <td>BRAF</td>\n",
       "      <td>1</td>\n",
       "      <td>1</td>\n",
       "      <td>Control - drop target</td>\n",
       "      <td>0.0</td>\n",
       "    </tr>\n",
       "    <tr>\n",
       "      <th>2</th>\n",
       "      <td>BRAF</td>\n",
       "      <td>1</td>\n",
       "      <td>2</td>\n",
       "      <td>Control - drop target</td>\n",
       "      <td>0.0</td>\n",
       "    </tr>\n",
       "    <tr>\n",
       "      <th>3</th>\n",
       "      <td>BRAF</td>\n",
       "      <td>1</td>\n",
       "      <td>3</td>\n",
       "      <td>Control - drop target</td>\n",
       "      <td>0.0</td>\n",
       "    </tr>\n",
       "    <tr>\n",
       "      <th>4</th>\n",
       "      <td>BRAF</td>\n",
       "      <td>42</td>\n",
       "      <td>0</td>\n",
       "      <td>Control - drop target</td>\n",
       "      <td>0.0</td>\n",
       "    </tr>\n",
       "  </tbody>\n",
       "</table>\n",
       "</div>"
      ],
      "text/plain": [
       "   gene  seed  fold             experiment  delta_aupr\n",
       "0  BRAF     1     0  Control - drop target         0.0\n",
       "1  BRAF     1     1  Control - drop target         0.0\n",
       "2  BRAF     1     2  Control - drop target         0.0\n",
       "3  BRAF     1     3  Control - drop target         0.0\n",
       "4  BRAF    42     0  Control - drop target         0.0"
      ]
     },
     "execution_count": 8,
     "metadata": {},
     "output_type": "execute_result"
    }
   ],
   "source": [
    "pivot_df['Control - drop target'] = pivot_df.Control - pivot_df['Drop target']\n",
    "pivot_df['Control - only target'] = pivot_df.Control - pivot_df['Only target']\n",
    "\n",
    "pivot_df = (pivot_df\n",
    "  .drop(columns='Control')\n",
    "  .reset_index()\n",
    "  .melt(id_vars=['gene', 'seed', 'fold'],\n",
    "        value_vars=['Control - drop target', 'Control - only target'],\n",
    "        value_name='delta_aupr')\n",
    ")\n",
    "\n",
    "pivot_df.head()"
   ]
  },
  {
   "cell_type": "code",
   "execution_count": 9,
   "metadata": {},
   "outputs": [
    {
     "data": {
      "text/plain": [
       "<AxesSubplot:xlabel='gene', ylabel='delta_aupr'>"
      ]
     },
     "execution_count": 9,
     "metadata": {},
     "output_type": "execute_result"
    },
    {
     "data": {
      "image/png": "[encoded data removed]",
      "text/plain": [
       "<Figure size 936x432 with 1 Axes>"
      ]
     },
     "metadata": {},
     "output_type": "display_data"
    }
   ],
   "source": [
    "sns.set({'figure.figsize': (13, 6)})\n",
    "sns.set_style('whitegrid')\n",
    "sns.set_palette('Set2')\n",
    "\n",
    "hue_order = [\n",
    "    'Control - drop target',\n",
    "    'Control - only target'\n",
    "]\n",
    "sns.barplot(data=pivot_df, x='gene', y='delta_aupr', hue='experiment',\n",
    "            hue_order=hue_order)"
   ]
  },
  {
   "cell_type": "markdown",
   "metadata": {},
   "source": [
    "In the above plot, we would expect the following:\n",
    "\n",
    "* Dosage of target gene provides lots of non-redundant info: (control - drop target) large, (control - only target) small\n",
    "* Dosage of target gene provides little non-redundant info: (control - drop target) small, (control - only target) large\n",
    "\n",
    "In most cases we seem to see the latter, suggesting that expression of the target gene alone doesn't provide that much information, and that the information it does provide is highly redundant.\n",
    "\n",
    "For EGFR and ERBB2, we see that (control - drop target) is slightly larger and (control - only target) is slightly smaller, suggesting that the expression of these genes provides more non-redundant information about their mutation status than the others. Both of these genes are [receptor tyrosine kinases, or RTKs](https://en.wikipedia.org/wiki/Receptor_tyrosine_kinase) - not sure why these would behave differently than the other genes we looked at, though."
   ]
  }
 ],
 "metadata": {
  "kernelspec": {
   "display_name": "Python [conda env:mpmp]",
   "language": "python",
   "name": "conda-env-mpmp-py"
  },
  "language_info": {
   "codemirror_mode": {
    "name": "ipython",
    "version": 3
   },
   "file_extension": ".py",
   "mimetype": "text/x-python",
   "name": "python",
   "nbconvert_exporter": "python",
   "pygments_lexer": "ipython3",
   "version": "3.7.9"
  }
 },
 "nbformat": 4,
 "nbformat_minor": 4
}
