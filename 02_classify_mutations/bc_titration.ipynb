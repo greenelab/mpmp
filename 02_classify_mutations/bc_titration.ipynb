{
 "cells": [
  {
   "cell_type": "markdown",
   "metadata": {},
   "source": [
    "## Batch correction titration experiments"
   ]
  },
  {
   "cell_type": "code",
   "execution_count": 2,
   "metadata": {},
   "outputs": [
    {
     "name": "stdout",
     "output_type": "stream",
     "text": [
      "The autoreload extension is already loaded. To reload it, use:\n",
      "  %reload_ext autoreload\n"
     ]
    }
   ],
   "source": [
    "from pathlib import Path\n",
    "import glob\n",
    "\n",
    "import numpy as np\n",
    "import pandas as pd\n",
    "import matplotlib.pyplot as plt\n",
    "import seaborn as sns\n",
    "\n",
    "import mpmp.config as cfg\n",
    "import mpmp.utilities.analysis_utilities as au\n",
    "\n",
    "%load_ext autoreload\n",
    "%autoreload 2"
   ]
  },
  {
   "cell_type": "code",
   "execution_count": 47,
   "metadata": {},
   "outputs": [],
   "source": [
    "# set results directory\n",
    "base_results_dir = Path(cfg.results_dirs['mutation'],\n",
    "                        'bc_titration')\n",
    "\n",
    "# which gene to plot\n",
    "# plot_genes = ['TP53', 'KRAS', 'EGFR', 'IDH1', 'SETD2', 'PIK3CA']\n",
    "plot_genes = ['EGFR']\n",
    "\n",
    "# how many features to plot, 1000 or 5000\n",
    "# plot_feats = 1000\n",
    "plot_feats = 1000"
   ]
  },
  {
   "cell_type": "code",
   "execution_count": 48,
   "metadata": {},
   "outputs": [],
   "source": [
    "def load_single_model(results_file):\n",
    "    results_filename = Path(results_file).stem\n",
    "    if results_filename[0] == '.':\n",
    "        return pd.DataFrame()\n",
    "    if ('classify' not in results_filename or \n",
    "        'metrics' not in results_filename):\n",
    "        return pd.DataFrame()\n",
    "    titration_ratio = float(results_filename.split('_')[5].replace('t', ''))\n",
    "    results_df = pd.read_csv(results_file, sep='\\t')\n",
    "    results_df['titration_ratio'] = titration_ratio\n",
    "    return results_df\n",
    "    \n",
    "def load_all_models(base_results_dir, genes, num_feats):\n",
    "    models = ['linear_bc', 'nonlinear_bc']\n",
    "    results_df = pd.DataFrame()\n",
    "    for gene in genes:\n",
    "        for model in models:\n",
    "            results_dir = Path(base_results_dir,\n",
    "                               '{}_{}'.format(model, num_feats),\n",
    "                               'gene',\n",
    "                               gene)\n",
    "            for fname in glob.glob(\n",
    "                str(results_dir /'*_classify_*metrics*')\n",
    "            ):\n",
    "                try:\n",
    "                    model_results_df = load_single_model(fname)\n",
    "                    model_results_df['model'] = model\n",
    "                    model_results_df['num_feats'] = num_feats\n",
    "                except FileNotFoundError:\n",
    "                    model_results_df = pd.DataFrame()\n",
    "                results_df = pd.concat((results_df, model_results_df))\n",
    "    return results_df"
   ]
  },
  {
   "cell_type": "code",
   "execution_count": 49,
   "metadata": {},
   "outputs": [
    {
     "name": "stdout",
     "output_type": "stream",
     "text": [
      "(480, 11)\n"
     ]
    },
    {
     "data": {
      "text/html": [
       "<div>\n",
       "<style scoped>\n",
       "    .dataframe tbody tr th:only-of-type {\n",
       "        vertical-align: middle;\n",
       "    }\n",
       "\n",
       "    .dataframe tbody tr th {\n",
       "        vertical-align: top;\n",
       "    }\n",
       "\n",
       "    .dataframe thead th {\n",
       "        text-align: right;\n",
       "    }\n",
       "</style>\n",
       "<table border=\"1\" class=\"dataframe\">\n",
       "  <thead>\n",
       "    <tr style=\"text-align: right;\">\n",
       "      <th></th>\n",
       "      <th>auroc</th>\n",
       "      <th>aupr</th>\n",
       "      <th>identifier</th>\n",
       "      <th>training_data</th>\n",
       "      <th>signal</th>\n",
       "      <th>seed</th>\n",
       "      <th>data_type</th>\n",
       "      <th>fold</th>\n",
       "      <th>titration_ratio</th>\n",
       "      <th>model</th>\n",
       "      <th>num_feats</th>\n",
       "    </tr>\n",
       "  </thead>\n",
       "  <tbody>\n",
       "    <tr>\n",
       "      <th>0</th>\n",
       "      <td>0.58701</td>\n",
       "      <td>0.22765</td>\n",
       "      <td>EGFR</td>\n",
       "      <td>expression</td>\n",
       "      <td>shuffled</td>\n",
       "      <td>1</td>\n",
       "      <td>train</td>\n",
       "      <td>0</td>\n",
       "      <td>0.75</td>\n",
       "      <td>linear_bc</td>\n",
       "      <td>1000</td>\n",
       "    </tr>\n",
       "    <tr>\n",
       "      <th>1</th>\n",
       "      <td>0.54183</td>\n",
       "      <td>0.18780</td>\n",
       "      <td>EGFR</td>\n",
       "      <td>expression</td>\n",
       "      <td>shuffled</td>\n",
       "      <td>1</td>\n",
       "      <td>test</td>\n",
       "      <td>0</td>\n",
       "      <td>0.75</td>\n",
       "      <td>linear_bc</td>\n",
       "      <td>1000</td>\n",
       "    </tr>\n",
       "    <tr>\n",
       "      <th>2</th>\n",
       "      <td>0.49751</td>\n",
       "      <td>0.11870</td>\n",
       "      <td>EGFR</td>\n",
       "      <td>expression</td>\n",
       "      <td>shuffled</td>\n",
       "      <td>1</td>\n",
       "      <td>cv</td>\n",
       "      <td>0</td>\n",
       "      <td>0.75</td>\n",
       "      <td>linear_bc</td>\n",
       "      <td>1000</td>\n",
       "    </tr>\n",
       "    <tr>\n",
       "      <th>3</th>\n",
       "      <td>0.78705</td>\n",
       "      <td>0.29252</td>\n",
       "      <td>EGFR</td>\n",
       "      <td>expression</td>\n",
       "      <td>shuffled</td>\n",
       "      <td>1</td>\n",
       "      <td>train</td>\n",
       "      <td>1</td>\n",
       "      <td>0.75</td>\n",
       "      <td>linear_bc</td>\n",
       "      <td>1000</td>\n",
       "    </tr>\n",
       "    <tr>\n",
       "      <th>4</th>\n",
       "      <td>0.55056</td>\n",
       "      <td>0.16697</td>\n",
       "      <td>EGFR</td>\n",
       "      <td>expression</td>\n",
       "      <td>shuffled</td>\n",
       "      <td>1</td>\n",
       "      <td>test</td>\n",
       "      <td>1</td>\n",
       "      <td>0.75</td>\n",
       "      <td>linear_bc</td>\n",
       "      <td>1000</td>\n",
       "    </tr>\n",
       "  </tbody>\n",
       "</table>\n",
       "</div>"
      ],
      "text/plain": [
       "     auroc     aupr identifier training_data    signal  seed data_type  fold  \\\n",
       "0  0.58701  0.22765       EGFR    expression  shuffled     1     train     0   \n",
       "1  0.54183  0.18780       EGFR    expression  shuffled     1      test     0   \n",
       "2  0.49751  0.11870       EGFR    expression  shuffled     1        cv     0   \n",
       "3  0.78705  0.29252       EGFR    expression  shuffled     1     train     1   \n",
       "4  0.55056  0.16697       EGFR    expression  shuffled     1      test     1   \n",
       "\n",
       "   titration_ratio      model  num_feats  \n",
       "0             0.75  linear_bc       1000  \n",
       "1             0.75  linear_bc       1000  \n",
       "2             0.75  linear_bc       1000  \n",
       "3             0.75  linear_bc       1000  \n",
       "4             0.75  linear_bc       1000  "
      ]
     },
     "execution_count": 49,
     "metadata": {},
     "output_type": "execute_result"
    }
   ],
   "source": [
    "results_df = load_all_models(base_results_dir, plot_genes, plot_feats)\n",
    "print(results_df.shape)\n",
    "results_df.head()"
   ]
  },
  {
   "cell_type": "code",
   "execution_count": 50,
   "metadata": {},
   "outputs": [
    {
     "data": {
      "image/png": "[encoded data removed]",
      "text/plain": [
       "<Figure size 1152x360 with 1 Axes>"
      ]
     },
     "metadata": {},
     "output_type": "display_data"
    }
   ],
   "source": [
    "gene = 'EGFR'\n",
    "plot_df = results_df[\n",
    "    (results_df.identifier == gene) &\n",
    "    (results_df.signal == 'signal') &\n",
    "    (results_df.data_type == 'test')\n",
    "]\n",
    "\n",
    "with sns.plotting_context('notebook', font_scale=1.3):\n",
    "    sns.set({'figure.figsize': (16, 5)})\n",
    "    sns.set_style('darkgrid')\n",
    "    sns.pointplot(data=plot_df, x='titration_ratio', y='aupr', hue='model')\n",
    "    plt.xlabel('Proportion of features batch corrected')\n",
    "    plt.ylim(-0.1, 1.1)\n",
    "    plt.ylabel('AUPR')\n",
    "    plt.title('Performance for varying proportion of batch corrected features, {}'.format(gene))"
   ]
  },
  {
   "cell_type": "code",
   "execution_count": null,
   "metadata": {},
   "outputs": [],
   "source": []
  }
 ],
 "metadata": {
  "kernelspec": {
   "display_name": "Python [conda env:mpmp]",
   "language": "python",
   "name": "conda-env-mpmp-py"
  },
  "language_info": {
   "codemirror_mode": {
    "name": "ipython",
    "version": 3
   },
   "file_extension": ".py",
   "mimetype": "text/x-python",
   "name": "python",
   "nbconvert_exporter": "python",
   "pygments_lexer": "ipython3",
   "version": "3.7.9"
  }
 },
 "nbformat": 4,
 "nbformat_minor": 4
}
