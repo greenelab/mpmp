{
 "cells": [
  {
   "cell_type": "code",
   "execution_count": 1,
   "metadata": {},
   "outputs": [],
   "source": [
    "from pathlib import Path\n",
    "\n",
    "import numpy as np\n",
    "import pandas as pd\n",
    "import matplotlib.pyplot as plt\n",
    "import seaborn as sns\n",
    "\n",
    "import mpmp.config as cfg\n",
    "import mpmp.utilities.analysis_utilities as au\n",
    "import mpmp.utilities.plot_utilities as plu\n",
    "\n",
    "%load_ext autoreload\n",
    "%autoreload 2"
   ]
  },
  {
   "cell_type": "code",
   "execution_count": 2,
   "metadata": {},
   "outputs": [],
   "source": [
    "# set results directory\n",
    "results_dir = Path(cfg.results_dirs['mutation'], 'compare_nonlinear').resolve()"
   ]
  },
  {
   "cell_type": "code",
   "execution_count": 4,
   "metadata": {},
   "outputs": [
    {
     "name": "stdout",
     "output_type": "stream",
     "text": [
      "(1716, 11)\n"
     ]
    },
    {
     "data": {
      "text/html": [
       "<div>\n",
       "<style scoped>\n",
       "    .dataframe tbody tr th:only-of-type {\n",
       "        vertical-align: middle;\n",
       "    }\n",
       "\n",
       "    .dataframe tbody tr th {\n",
       "        vertical-align: top;\n",
       "    }\n",
       "\n",
       "    .dataframe thead th {\n",
       "        text-align: right;\n",
       "    }\n",
       "</style>\n",
       "<table border=\"1\" class=\"dataframe\">\n",
       "  <thead>\n",
       "    <tr style=\"text-align: right;\">\n",
       "      <th></th>\n",
       "      <th>auroc</th>\n",
       "      <th>aupr</th>\n",
       "      <th>identifier</th>\n",
       "      <th>training_data</th>\n",
       "      <th>signal</th>\n",
       "      <th>seed</th>\n",
       "      <th>data_type</th>\n",
       "      <th>fold</th>\n",
       "      <th>experiment</th>\n",
       "      <th>n_feats</th>\n",
       "      <th>model_desc</th>\n",
       "    </tr>\n",
       "  </thead>\n",
       "  <tbody>\n",
       "    <tr>\n",
       "      <th>0</th>\n",
       "      <td>0.97487</td>\n",
       "      <td>0.97501</td>\n",
       "      <td>TP53</td>\n",
       "      <td>expression</td>\n",
       "      <td>shuffled</td>\n",
       "      <td>42</td>\n",
       "      <td>train</td>\n",
       "      <td>0</td>\n",
       "      <td>gene</td>\n",
       "      <td>1000</td>\n",
       "      <td>nonlinear, random</td>\n",
       "    </tr>\n",
       "    <tr>\n",
       "      <th>1</th>\n",
       "      <td>0.73961</td>\n",
       "      <td>0.72853</td>\n",
       "      <td>TP53</td>\n",
       "      <td>expression</td>\n",
       "      <td>shuffled</td>\n",
       "      <td>42</td>\n",
       "      <td>test</td>\n",
       "      <td>0</td>\n",
       "      <td>gene</td>\n",
       "      <td>1000</td>\n",
       "      <td>nonlinear, random</td>\n",
       "    </tr>\n",
       "    <tr>\n",
       "      <th>2</th>\n",
       "      <td>0.63911</td>\n",
       "      <td>0.59316</td>\n",
       "      <td>TP53</td>\n",
       "      <td>expression</td>\n",
       "      <td>shuffled</td>\n",
       "      <td>42</td>\n",
       "      <td>cv</td>\n",
       "      <td>0</td>\n",
       "      <td>gene</td>\n",
       "      <td>1000</td>\n",
       "      <td>nonlinear, random</td>\n",
       "    </tr>\n",
       "    <tr>\n",
       "      <th>3</th>\n",
       "      <td>0.82093</td>\n",
       "      <td>0.80891</td>\n",
       "      <td>TP53</td>\n",
       "      <td>expression</td>\n",
       "      <td>shuffled</td>\n",
       "      <td>42</td>\n",
       "      <td>train</td>\n",
       "      <td>1</td>\n",
       "      <td>gene</td>\n",
       "      <td>1000</td>\n",
       "      <td>nonlinear, random</td>\n",
       "    </tr>\n",
       "    <tr>\n",
       "      <th>4</th>\n",
       "      <td>0.73851</td>\n",
       "      <td>0.71966</td>\n",
       "      <td>TP53</td>\n",
       "      <td>expression</td>\n",
       "      <td>shuffled</td>\n",
       "      <td>42</td>\n",
       "      <td>test</td>\n",
       "      <td>1</td>\n",
       "      <td>gene</td>\n",
       "      <td>1000</td>\n",
       "      <td>nonlinear, random</td>\n",
       "    </tr>\n",
       "  </tbody>\n",
       "</table>\n",
       "</div>"
      ],
      "text/plain": [
       "     auroc     aupr identifier training_data    signal  seed data_type  fold  \\\n",
       "0  0.97487  0.97501       TP53    expression  shuffled    42     train     0   \n",
       "1  0.73961  0.72853       TP53    expression  shuffled    42      test     0   \n",
       "2  0.63911  0.59316       TP53    expression  shuffled    42        cv     0   \n",
       "3  0.82093  0.80891       TP53    expression  shuffled    42     train     1   \n",
       "4  0.73851  0.71966       TP53    expression  shuffled    42      test     1   \n",
       "\n",
       "  experiment n_feats         model_desc  \n",
       "0       gene    1000  nonlinear, random  \n",
       "1       gene    1000  nonlinear, random  \n",
       "2       gene    1000  nonlinear, random  \n",
       "3       gene    1000  nonlinear, random  \n",
       "4       gene    1000  nonlinear, random  "
      ]
     },
     "execution_count": 4,
     "metadata": {},
     "output_type": "execute_result"
    }
   ],
   "source": [
    "results_df = []\n",
    "for subdir in results_dir.iterdir():\n",
    "    model_info = subdir.stem.split('_')\n",
    "    n_feats = model_info[-1]\n",
    "    model_desc = '_'.join(model_info[:-1])\n",
    "    gene_dir = Path(subdir, 'gene')\n",
    "    model_results_df = au.load_stratified_prediction_results(gene_dir, 'gene')\n",
    "    model_results_df['n_feats'] = n_feats\n",
    "    if '_f_test' in model_desc:\n",
    "        model_results_df['model_desc'] = model_desc.replace(\n",
    "            '_f_test', ', f-test'\n",
    "        )\n",
    "    elif '_random' in model_desc:\n",
    "        model_results_df['model_desc'] = model_desc.replace(\n",
    "            '_random', ', random'\n",
    "        )\n",
    "    else:\n",
    "        model_results_df['model_desc'] = model_desc + (\n",
    "            ', MAD'\n",
    "        )\n",
    "    results_df.append(model_results_df)\n",
    "    \n",
    "results_df = pd.concat(results_df)\n",
    "print(results_df.shape)\n",
    "results_df.head()"
   ]
  },
  {
   "cell_type": "code",
   "execution_count": 6,
   "metadata": {},
   "outputs": [
    {
     "data": {
      "text/plain": [
       "<AxesSubplot:xlabel='identifier', ylabel='aupr'>"
      ]
     },
     "execution_count": 6,
     "metadata": {},
     "output_type": "execute_result"
    },
    {
     "data": {
      "image/png": "[encoded data removed]",
      "text/plain": [
       "<Figure size 936x432 with 1 Axes>"
      ]
     },
     "metadata": {},
     "output_type": "display_data"
    }
   ],
   "source": [
    "sns.set({'figure.figsize': (13, 6)})\n",
    "sns.set_style('whitegrid')\n",
    "sns.set_palette('Set2')\n",
    "\n",
    "plot_df = results_df[((results_df.signal == 'signal') &\n",
    "                      (results_df.data_type == 'test'))]\n",
    "hue_order = [\n",
    "    'linear, MAD',\n",
    "    'nonlinear, MAD',\n",
    "    'linear, f-test',\n",
    "    'nonlinear, f-test',\n",
    "    'linear, random',\n",
    "    'nonlinear, random'\n",
    "]\n",
    "sns.boxplot(data=plot_df, x='identifier', y='aupr', hue='model_desc',\n",
    "            hue_order=hue_order)"
   ]
  }
 ],
 "metadata": {
  "kernelspec": {
   "display_name": "Python [conda env:mpmp]",
   "language": "python",
   "name": "conda-env-mpmp-py"
  },
  "language_info": {
   "codemirror_mode": {
    "name": "ipython",
    "version": 3
   },
   "file_extension": ".py",
   "mimetype": "text/x-python",
   "name": "python",
   "nbconvert_exporter": "python",
   "pygments_lexer": "ipython3",
   "version": "3.7.9"
  }
 },
 "nbformat": 4,
 "nbformat_minor": 4
}
